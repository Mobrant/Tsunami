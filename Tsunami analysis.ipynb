{
 "cells": [
  {
   "cell_type": "markdown",
   "id": "1d5bc66c",
   "metadata": {},
   "source": [
    "# Tsunami data analysis"
   ]
  },
  {
   "cell_type": "markdown",
   "id": "382bc0d8",
   "metadata": {},
   "source": [
    "**In this notebook ill present a detailed analysis of NOAA Tsunami dataset and use Plotly package for dynamic visualizations. \n",
    "You can put the mouse on the plot figure's to gain information about the data.  \n",
    "<br>**"
   ]
  },
  {
   "cell_type": "code",
   "execution_count": 169,
   "id": "68bc121e",
   "metadata": {
    "ExecuteTime": {
     "end_time": "2023-11-07T15:04:18.752722900Z",
     "start_time": "2023-11-07T15:04:18.271983700Z"
    }
   },
   "outputs": [],
   "source": [
    "import numpy as np\n",
    "import pandas as pd\n",
    "import matplotlib.pyplot as plt\n",
    "plt.style.use('seaborn-white')\n",
    "import plotly.express as px\n",
    "import re\n",
    "import plotly.graph_objects as go\n",
    "import seaborn as sns\n",
    "\n",
    "from plotly.subplots import make_subplots\n"
   ]
  },
  {
   "cell_type": "code",
   "execution_count": 170,
   "id": "a98d7eb3",
   "metadata": {
    "scrolled": false,
    "ExecuteTime": {
     "end_time": "2023-11-07T15:04:18.873661Z",
     "start_time": "2023-11-07T15:04:18.293599600Z"
    }
   },
   "outputs": [
    {
     "data": {
      "text/plain": "   Sr.no  Year    Mo    Dy    Hr    Mn  Sec  TsunamiNanEventNanValidity  \\\n0      1  1900   1.0  10.0   NaN   NaN  NaN                           1   \n1      2  1900   8.0  11.0   4.0  40.0  NaN                           4   \n2      3  1900   9.0  10.0  21.0  30.0  NaN                           4   \n3      4  1900   9.0  17.0  21.0  45.0  NaN                           3   \n4      5  1900  10.0   7.0  21.0   4.0  NaN                           3   \n\n   TsunamiNanCauseNanCode  EarthquakeNanMagnitude  ...  TotalNanMissing  \\\n0                       1                     NaN  ...              NaN   \n1                       3                     NaN  ...              NaN   \n2                       1                     6.8  ...              NaN   \n3                       1                     7.1  ...              NaN   \n4                       1                     6.9  ...              NaN   \n\n   TotalNanMissingNanDescription  TotalNanInjuries  \\\n0                            NaN               NaN   \n1                            NaN               NaN   \n2                            NaN               NaN   \n3                            NaN               NaN   \n4                            NaN               NaN   \n\n  TotalNanInjuriesNanDescription TotalNanDamageNan($Mil)  \\\n0                            NaN                     NaN   \n1                            NaN                     NaN   \n2                            NaN                     NaN   \n3                            NaN                     NaN   \n4                            NaN                     NaN   \n\n   TotalNanDamageNanDescription  TotalNanHousesNanDestroyed  \\\n0                           NaN                         NaN   \n1                           1.0                         NaN   \n2                           1.0                         NaN   \n3                           NaN                         NaN   \n4                           1.0                         1.0   \n\n   TotalNanHousesNanDestroyedNanDescription  TotalNanHousesNanDamaged  \\\n0                                       NaN                       NaN   \n1                                       NaN                       NaN   \n2                                       NaN                       NaN   \n3                                       NaN                       NaN   \n4                                       1.0                       NaN   \n\n   TotalNanHousesNanDamagedNanDescription  \n0                                     NaN  \n1                                     NaN  \n2                                     1.0  \n3                                     NaN  \n4                                     NaN  \n\n[5 rows x 46 columns]",
      "text/html": "<div>\n<style scoped>\n    .dataframe tbody tr th:only-of-type {\n        vertical-align: middle;\n    }\n\n    .dataframe tbody tr th {\n        vertical-align: top;\n    }\n\n    .dataframe thead th {\n        text-align: right;\n    }\n</style>\n<table border=\"1\" class=\"dataframe\">\n  <thead>\n    <tr style=\"text-align: right;\">\n      <th></th>\n      <th>Sr.no</th>\n      <th>Year</th>\n      <th>Mo</th>\n      <th>Dy</th>\n      <th>Hr</th>\n      <th>Mn</th>\n      <th>Sec</th>\n      <th>TsunamiNanEventNanValidity</th>\n      <th>TsunamiNanCauseNanCode</th>\n      <th>EarthquakeNanMagnitude</th>\n      <th>...</th>\n      <th>TotalNanMissing</th>\n      <th>TotalNanMissingNanDescription</th>\n      <th>TotalNanInjuries</th>\n      <th>TotalNanInjuriesNanDescription</th>\n      <th>TotalNanDamageNan($Mil)</th>\n      <th>TotalNanDamageNanDescription</th>\n      <th>TotalNanHousesNanDestroyed</th>\n      <th>TotalNanHousesNanDestroyedNanDescription</th>\n      <th>TotalNanHousesNanDamaged</th>\n      <th>TotalNanHousesNanDamagedNanDescription</th>\n    </tr>\n  </thead>\n  <tbody>\n    <tr>\n      <th>0</th>\n      <td>1</td>\n      <td>1900</td>\n      <td>1.0</td>\n      <td>10.0</td>\n      <td>NaN</td>\n      <td>NaN</td>\n      <td>NaN</td>\n      <td>1</td>\n      <td>1</td>\n      <td>NaN</td>\n      <td>...</td>\n      <td>NaN</td>\n      <td>NaN</td>\n      <td>NaN</td>\n      <td>NaN</td>\n      <td>NaN</td>\n      <td>NaN</td>\n      <td>NaN</td>\n      <td>NaN</td>\n      <td>NaN</td>\n      <td>NaN</td>\n    </tr>\n    <tr>\n      <th>1</th>\n      <td>2</td>\n      <td>1900</td>\n      <td>8.0</td>\n      <td>11.0</td>\n      <td>4.0</td>\n      <td>40.0</td>\n      <td>NaN</td>\n      <td>4</td>\n      <td>3</td>\n      <td>NaN</td>\n      <td>...</td>\n      <td>NaN</td>\n      <td>NaN</td>\n      <td>NaN</td>\n      <td>NaN</td>\n      <td>NaN</td>\n      <td>1.0</td>\n      <td>NaN</td>\n      <td>NaN</td>\n      <td>NaN</td>\n      <td>NaN</td>\n    </tr>\n    <tr>\n      <th>2</th>\n      <td>3</td>\n      <td>1900</td>\n      <td>9.0</td>\n      <td>10.0</td>\n      <td>21.0</td>\n      <td>30.0</td>\n      <td>NaN</td>\n      <td>4</td>\n      <td>1</td>\n      <td>6.8</td>\n      <td>...</td>\n      <td>NaN</td>\n      <td>NaN</td>\n      <td>NaN</td>\n      <td>NaN</td>\n      <td>NaN</td>\n      <td>1.0</td>\n      <td>NaN</td>\n      <td>NaN</td>\n      <td>NaN</td>\n      <td>1.0</td>\n    </tr>\n    <tr>\n      <th>3</th>\n      <td>4</td>\n      <td>1900</td>\n      <td>9.0</td>\n      <td>17.0</td>\n      <td>21.0</td>\n      <td>45.0</td>\n      <td>NaN</td>\n      <td>3</td>\n      <td>1</td>\n      <td>7.1</td>\n      <td>...</td>\n      <td>NaN</td>\n      <td>NaN</td>\n      <td>NaN</td>\n      <td>NaN</td>\n      <td>NaN</td>\n      <td>NaN</td>\n      <td>NaN</td>\n      <td>NaN</td>\n      <td>NaN</td>\n      <td>NaN</td>\n    </tr>\n    <tr>\n      <th>4</th>\n      <td>5</td>\n      <td>1900</td>\n      <td>10.0</td>\n      <td>7.0</td>\n      <td>21.0</td>\n      <td>4.0</td>\n      <td>NaN</td>\n      <td>3</td>\n      <td>1</td>\n      <td>6.9</td>\n      <td>...</td>\n      <td>NaN</td>\n      <td>NaN</td>\n      <td>NaN</td>\n      <td>NaN</td>\n      <td>NaN</td>\n      <td>1.0</td>\n      <td>1.0</td>\n      <td>1.0</td>\n      <td>NaN</td>\n      <td>NaN</td>\n    </tr>\n  </tbody>\n</table>\n<p>5 rows × 46 columns</p>\n</div>"
     },
     "execution_count": 170,
     "metadata": {},
     "output_type": "execute_result"
    }
   ],
   "source": [
    "df = pd.read_csv('./data/tsunamis.csv')\n",
    "df.head()"
   ]
  },
  {
   "cell_type": "code",
   "execution_count": 171,
   "id": "d46f3054",
   "metadata": {
    "scrolled": true,
    "ExecuteTime": {
     "end_time": "2023-11-07T15:04:18.928954300Z",
     "start_time": "2023-11-07T15:04:18.350958300Z"
    }
   },
   "outputs": [
    {
     "name": "stdout",
     "output_type": "stream",
     "text": [
      "<class 'pandas.core.frame.DataFrame'>\n",
      "RangeIndex: 1443 entries, 0 to 1442\n",
      "Data columns (total 46 columns):\n",
      " #   Column                                    Non-Null Count  Dtype  \n",
      "---  ------                                    --------------  -----  \n",
      " 0   Sr.no                                     1443 non-null   int64  \n",
      " 1   Year                                      1443 non-null   int64  \n",
      " 2   Mo                                        1431 non-null   float64\n",
      " 3   Dy                                        1409 non-null   float64\n",
      " 4   Hr                                        1132 non-null   float64\n",
      " 5   Mn                                        1119 non-null   float64\n",
      " 6   Sec                                       964 non-null    float64\n",
      " 7   TsunamiNanEventNanValidity                1443 non-null   int64  \n",
      " 8   TsunamiNanCauseNanCode                    1443 non-null   int64  \n",
      " 9   EarthquakeNanMagnitude                    1057 non-null   float64\n",
      " 10  Vol                                       92 non-null     float64\n",
      " 11  MoreNanInfo                               0 non-null      float64\n",
      " 12  Deposits                                  1443 non-null   int64  \n",
      " 13  Country                                   1443 non-null   object \n",
      " 14  LocationNanName                           1443 non-null   object \n",
      " 15  Latitude                                  1349 non-null   float64\n",
      " 16  Longitude                                 1349 non-null   float64\n",
      " 17  MaximumNanWaterNanHeightNan(m)            972 non-null    float64\n",
      " 18  NumberNanofNanRunups                      1443 non-null   int64  \n",
      " 19  TsunamiNanMagnitudeNan(Abe)               1 non-null      float64\n",
      " 20  TsunamiNanMagnitudeNan(Iida)              446 non-null    float64\n",
      " 21  TsunamiNanIntensity                       510 non-null    float64\n",
      " 22  Deaths                                    163 non-null    float64\n",
      " 23  DeathNanDescription                       173 non-null    float64\n",
      " 24  Missing                                   4 non-null      float64\n",
      " 25  MissingNanDescription                     5 non-null      float64\n",
      " 26  Injuries                                  61 non-null     float64\n",
      " 27  InjuriesNanDescription                    72 non-null     float64\n",
      " 28  DamageNan($Mil)                           47 non-null     float64\n",
      " 29  DamageNanDescription                      320 non-null    float64\n",
      " 30  HousesNanDestroyed                        57 non-null     float64\n",
      " 31  HousesNanDestroyedNanDescription          131 non-null    float64\n",
      " 32  HousesNanDamaged                          14 non-null     float64\n",
      " 33  HousesNanDamagedNanDescription            40 non-null     float64\n",
      " 34  TotalNanDeaths                            411 non-null    float64\n",
      " 35  TotalNanDeathNanDescription               434 non-null    float64\n",
      " 36  TotalNanMissing                           9 non-null      float64\n",
      " 37  TotalNanMissingNanDescription             10 non-null     float64\n",
      " 38  TotalNanInjuries                          279 non-null    float64\n",
      " 39  TotalNanInjuriesNanDescription            318 non-null    float64\n",
      " 40  TotalNanDamageNan($Mil)                   153 non-null    float64\n",
      " 41  TotalNanDamageNanDescription              692 non-null    float64\n",
      " 42  TotalNanHousesNanDestroyed                166 non-null    float64\n",
      " 43  TotalNanHousesNanDestroyedNanDescription  345 non-null    float64\n",
      " 44  TotalNanHousesNanDamaged                  85 non-null     float64\n",
      " 45  TotalNanHousesNanDamagedNanDescription    180 non-null    float64\n",
      "dtypes: float64(38), int64(6), object(2)\n",
      "memory usage: 518.7+ KB\n"
     ]
    }
   ],
   "source": [
    "df.info()"
   ]
  },
  {
   "cell_type": "markdown",
   "id": "b2227510",
   "metadata": {},
   "source": [
    "<br>**Lets Replace all Nan substring in columns name with _ and space in Country column**  \n",
    "<br>"
   ]
  },
  {
   "cell_type": "code",
   "execution_count": 172,
   "id": "7ec9f9a7",
   "metadata": {
    "ExecuteTime": {
     "end_time": "2023-11-07T15:04:18.929955Z",
     "start_time": "2023-11-07T15:04:18.676743900Z"
    }
   },
   "outputs": [],
   "source": [
    "pattern = re.compile(r'Nan')\n",
    "res = [pattern.sub('_', sub) for sub in df.columns]\n",
    "res2 = [pattern.sub(' ', sub) for sub in df.Country]\n",
    "df.columns=res\n",
    "df.Country=res2"
   ]
  },
  {
   "cell_type": "markdown",
   "id": "881eb3b0",
   "metadata": {},
   "source": [
    "<br>**There are many interesting columns in this dataset, for this project i choose the following columns:**  \n",
    "<br>"
   ]
  },
  {
   "cell_type": "code",
   "execution_count": 173,
   "id": "e7967b3a",
   "metadata": {
    "ExecuteTime": {
     "end_time": "2023-11-07T15:04:18.929955Z",
     "start_time": "2023-11-07T15:04:18.691613300Z"
    }
   },
   "outputs": [
    {
     "data": {
      "text/plain": "Index(['Sr.no', 'Year', 'Mo', 'Dy', 'Hr', 'Mn', 'Sec',\n       'Tsunami_Event_Validity', 'Tsunami_Cause_Code', 'Earthquake_Magnitude',\n       'Vol', 'More_Info', 'Deposits', 'Country', 'Location_Name', 'Latitude',\n       'Longitude', 'Maximum_Water_Height_(m)', 'Number_of_Runups',\n       'Tsunami_Magnitude_(Abe)', 'Tsunami_Magnitude_(Iida)',\n       'Tsunami_Intensity', 'Deaths', 'Death_Description', 'Missing',\n       'Missing_Description', 'Injuries', 'Injuries_Description',\n       'Damage_($Mil)', 'Damage_Description', 'Houses_Destroyed',\n       'Houses_Destroyed_Description', 'Houses_Damaged',\n       'Houses_Damaged_Description', 'Total_Deaths', 'Total_Death_Description',\n       'Total_Missing', 'Total_Missing_Description', 'Total_Injuries',\n       'Total_Injuries_Description', 'Total_Damage_($Mil)',\n       'Total_Damage_Description', 'Total_Houses_Destroyed',\n       'Total_Houses_Destroyed_Description', 'Total_Houses_Damaged',\n       'Total_Houses_Damaged_Description'],\n      dtype='object')"
     },
     "execution_count": 173,
     "metadata": {},
     "output_type": "execute_result"
    }
   ],
   "source": [
    "df.columns"
   ]
  },
  {
   "cell_type": "code",
   "execution_count": 174,
   "id": "c17bfe4f",
   "metadata": {
    "ExecuteTime": {
     "end_time": "2023-11-07T15:04:18.929955Z",
     "start_time": "2023-11-07T15:04:18.706619900Z"
    }
   },
   "outputs": [],
   "source": [
    "df=df[['Sr.no','Year','Mo','Dy','Tsunami_Cause_Code','Tsunami_Event_Validity','Earthquake_Magnitude','Country','Latitude','Longitude','Deaths']]"
   ]
  },
  {
   "cell_type": "markdown",
   "id": "d631c46b",
   "metadata": {},
   "source": [
    "The meaning of Tsunami cause code :<br>\n",
    "1 Earthquake<br>\n",
    "2 Questionable Earthquake<br>\n",
    "3 Earthquake and Landslide<br>\n",
    "4 Volcano and Earthquake<br>\n",
    "5 Volcano, Earthquake, and Landslide<br>\n",
    "6 Volcano<br>\n",
    "7 Volcano and Landslide<br>\n",
    "8 Landslide<br>\n",
    "9 Meteorological<br>\n",
    "10 Explosion<br>"
   ]
  },
  {
   "cell_type": "code",
   "execution_count": 175,
   "id": "f3b2b670",
   "metadata": {
    "ExecuteTime": {
     "end_time": "2023-11-07T15:04:18.929955Z",
     "start_time": "2023-11-07T15:04:18.718216600Z"
    }
   },
   "outputs": [],
   "source": [
    "data=[[1,'Earthquake'],[2,'Questionable Earthquake'],[3,'Earthquake and Landslide'],[4,'Volcano and Earthquake']\n",
    "     ,[5,'Volcano, Earthquake, and Landslide'],[6,'Volcano'],[7,'Volcano and Landslide'],[8,'Landslide'],\n",
    "      [9,'Meteorological'],[10,'Explosion']]\n",
    "df_for_merge = pd.DataFrame(data, columns=['Tsunami_Cause_Code','Cause']) \n",
    "df=df.merge(df_for_merge,how='inner',on='Tsunami_Cause_Code')"
   ]
  },
  {
   "cell_type": "code",
   "execution_count": 176,
   "id": "2c72d9e7",
   "metadata": {
    "ExecuteTime": {
     "end_time": "2023-11-07T15:04:18.963504500Z",
     "start_time": "2023-11-07T15:04:18.735648Z"
    }
   },
   "outputs": [],
   "source": [
    "# code_to_cause_map = {1: \"e\", 2: \"qe\"}\n",
    "\n",
    "# df['Cause'] = df.apply(lambda row: code_to_cause_map[row['Tsunami_Cause_Code']], axis=1)"
   ]
  },
  {
   "cell_type": "code",
   "execution_count": 177,
   "id": "13ccf790",
   "metadata": {
    "scrolled": true,
    "ExecuteTime": {
     "end_time": "2023-11-07T15:04:19.045896Z",
     "start_time": "2023-11-07T15:04:18.758736700Z"
    }
   },
   "outputs": [
    {
     "data": {
      "text/plain": "             Sr.no         Year           Mo           Dy  Tsunami_Cause_Code  \\\ncount  1369.000000  1369.000000  1363.000000  1351.000000         1369.000000   \nmean    737.638422  1964.653762     6.597212    15.613620            2.306793   \nstd     414.700582    37.135124     3.461756     8.619457            2.595141   \nmin       1.000000  1900.000000     1.000000     1.000000            1.000000   \n25%     387.000000  1931.000000     4.000000     8.000000            1.000000   \n50%     745.000000  1966.000000     7.000000    16.000000            1.000000   \n75%    1097.000000  1998.000000    10.000000    23.000000            1.000000   \nmax    1443.000000  2023.000000    12.000000    31.000000           10.000000   \n\n       Tsunami_Event_Validity  Earthquake_Magnitude     Latitude    Longitude  \\\ncount             1369.000000           1053.000000  1293.000000  1293.000000   \nmean                 2.906501              7.018898    14.278903    42.539183   \nstd                  1.447935              0.768296    28.856351   113.912522   \nmin                 -1.000000              3.700000   -63.000000  -179.971000   \n25%                  2.000000              6.600000    -8.337000   -71.417000   \n50%                  4.000000              7.100000    16.029000   101.000000   \n75%                  4.000000              7.600000    38.650000   142.214000   \nmax                  4.000000              9.500000    78.370000   179.984000   \n\n              Deaths  \ncount     158.000000  \nmean     1893.930380  \nstd     18185.777671  \nmin         1.000000  \n25%         2.000000  \n50%        10.000000  \n75%       127.000000  \nmax    227899.000000  ",
      "text/html": "<div>\n<style scoped>\n    .dataframe tbody tr th:only-of-type {\n        vertical-align: middle;\n    }\n\n    .dataframe tbody tr th {\n        vertical-align: top;\n    }\n\n    .dataframe thead th {\n        text-align: right;\n    }\n</style>\n<table border=\"1\" class=\"dataframe\">\n  <thead>\n    <tr style=\"text-align: right;\">\n      <th></th>\n      <th>Sr.no</th>\n      <th>Year</th>\n      <th>Mo</th>\n      <th>Dy</th>\n      <th>Tsunami_Cause_Code</th>\n      <th>Tsunami_Event_Validity</th>\n      <th>Earthquake_Magnitude</th>\n      <th>Latitude</th>\n      <th>Longitude</th>\n      <th>Deaths</th>\n    </tr>\n  </thead>\n  <tbody>\n    <tr>\n      <th>count</th>\n      <td>1369.000000</td>\n      <td>1369.000000</td>\n      <td>1363.000000</td>\n      <td>1351.000000</td>\n      <td>1369.000000</td>\n      <td>1369.000000</td>\n      <td>1053.000000</td>\n      <td>1293.000000</td>\n      <td>1293.000000</td>\n      <td>158.000000</td>\n    </tr>\n    <tr>\n      <th>mean</th>\n      <td>737.638422</td>\n      <td>1964.653762</td>\n      <td>6.597212</td>\n      <td>15.613620</td>\n      <td>2.306793</td>\n      <td>2.906501</td>\n      <td>7.018898</td>\n      <td>14.278903</td>\n      <td>42.539183</td>\n      <td>1893.930380</td>\n    </tr>\n    <tr>\n      <th>std</th>\n      <td>414.700582</td>\n      <td>37.135124</td>\n      <td>3.461756</td>\n      <td>8.619457</td>\n      <td>2.595141</td>\n      <td>1.447935</td>\n      <td>0.768296</td>\n      <td>28.856351</td>\n      <td>113.912522</td>\n      <td>18185.777671</td>\n    </tr>\n    <tr>\n      <th>min</th>\n      <td>1.000000</td>\n      <td>1900.000000</td>\n      <td>1.000000</td>\n      <td>1.000000</td>\n      <td>1.000000</td>\n      <td>-1.000000</td>\n      <td>3.700000</td>\n      <td>-63.000000</td>\n      <td>-179.971000</td>\n      <td>1.000000</td>\n    </tr>\n    <tr>\n      <th>25%</th>\n      <td>387.000000</td>\n      <td>1931.000000</td>\n      <td>4.000000</td>\n      <td>8.000000</td>\n      <td>1.000000</td>\n      <td>2.000000</td>\n      <td>6.600000</td>\n      <td>-8.337000</td>\n      <td>-71.417000</td>\n      <td>2.000000</td>\n    </tr>\n    <tr>\n      <th>50%</th>\n      <td>745.000000</td>\n      <td>1966.000000</td>\n      <td>7.000000</td>\n      <td>16.000000</td>\n      <td>1.000000</td>\n      <td>4.000000</td>\n      <td>7.100000</td>\n      <td>16.029000</td>\n      <td>101.000000</td>\n      <td>10.000000</td>\n    </tr>\n    <tr>\n      <th>75%</th>\n      <td>1097.000000</td>\n      <td>1998.000000</td>\n      <td>10.000000</td>\n      <td>23.000000</td>\n      <td>1.000000</td>\n      <td>4.000000</td>\n      <td>7.600000</td>\n      <td>38.650000</td>\n      <td>142.214000</td>\n      <td>127.000000</td>\n    </tr>\n    <tr>\n      <th>max</th>\n      <td>1443.000000</td>\n      <td>2023.000000</td>\n      <td>12.000000</td>\n      <td>31.000000</td>\n      <td>10.000000</td>\n      <td>4.000000</td>\n      <td>9.500000</td>\n      <td>78.370000</td>\n      <td>179.984000</td>\n      <td>227899.000000</td>\n    </tr>\n  </tbody>\n</table>\n</div>"
     },
     "execution_count": 177,
     "metadata": {},
     "output_type": "execute_result"
    }
   ],
   "source": [
    "df.describe()"
   ]
  },
  {
   "cell_type": "code",
   "execution_count": 178,
   "id": "c2d66b8a",
   "metadata": {
    "ExecuteTime": {
     "end_time": "2023-11-07T15:04:19.058043500Z",
     "start_time": "2023-11-07T15:04:18.789137600Z"
    }
   },
   "outputs": [],
   "source": [
    "# df.columns"
   ]
  },
  {
   "cell_type": "code",
   "execution_count": 179,
   "id": "8bb5a80e",
   "metadata": {
    "scrolled": false,
    "ExecuteTime": {
     "end_time": "2023-11-07T15:04:19.059072800Z",
     "start_time": "2023-11-07T15:04:18.808561100Z"
    }
   },
   "outputs": [
    {
     "data": {
      "text/plain": "Sr.no                        0\nYear                         0\nMo                           6\nDy                          18\nTsunami_Cause_Code           0\nTsunami_Event_Validity       0\nEarthquake_Magnitude       316\nCountry                      0\nLatitude                    76\nLongitude                   76\nDeaths                    1211\nCause                        0\ndtype: int64"
     },
     "execution_count": 179,
     "metadata": {},
     "output_type": "execute_result"
    }
   ],
   "source": [
    "df.isna().sum()"
   ]
  },
  {
   "cell_type": "code",
   "execution_count": 180,
   "id": "641ab313",
   "metadata": {
    "ExecuteTime": {
     "end_time": "2023-11-07T15:04:19.060121200Z",
     "start_time": "2023-11-07T15:04:18.826697800Z"
    }
   },
   "outputs": [
    {
     "data": {
      "text/plain": "1.0       29\n2.0       12\n5.0        8\n3.0        8\n4.0        7\n          ..\n81.0       1\n23.0       1\n110.0      1\n155.0      1\n1239.0     1\nName: Deaths, Length: 73, dtype: int64"
     },
     "execution_count": 180,
     "metadata": {},
     "output_type": "execute_result"
    }
   ],
   "source": [
    "df['Deaths'].value_counts(ascending=False)"
   ]
  },
  {
   "cell_type": "code",
   "execution_count": 181,
   "id": "e6ebddf1",
   "metadata": {
    "scrolled": true,
    "ExecuteTime": {
     "end_time": "2023-11-07T15:04:19.060121200Z",
     "start_time": "2023-11-07T15:04:18.838961700Z"
    }
   },
   "outputs": [
    {
     "data": {
      "text/plain": "Earthquake                            1043\nLandslide                               94\nEarthquake and Landslide                70\nMeteorological                          70\nVolcano                                 67\nVolcano and Landslide                   10\nQuestionable Earthquake                  8\nVolcano and Earthquake                   5\nExplosion                                1\nVolcano, Earthquake, and Landslide       1\nName: Cause, dtype: int64"
     },
     "execution_count": 181,
     "metadata": {},
     "output_type": "execute_result"
    }
   ],
   "source": [
    "df['Cause'].value_counts(ascending=False)"
   ]
  },
  {
   "cell_type": "markdown",
   "id": "6d821b94",
   "metadata": {},
   "source": [
    "<br>**A significant portion of the missing values exists within the \"Death\" and \"Earthquake_Magnitude\" columns.<br> It appears that in the case of the \"Death\" column, these missing values may arise either from a death count of 0 or from historical tsunamis where data precision is lacking.<br> As for the \"Earthquake_Magnitude\" column, it's worth noting that not all tsunamis are triggered by earthquakes, which could explain the presence of missing data in this particular column.**  \n",
    "<br>"
   ]
  },
  {
   "cell_type": "code",
   "execution_count": 182,
   "id": "06021dff",
   "metadata": {
    "ExecuteTime": {
     "end_time": "2023-11-07T15:04:19.060121200Z",
     "start_time": "2023-11-07T15:04:18.853359700Z"
    }
   },
   "outputs": [],
   "source": [
    "df['Deaths']=df['Deaths'].fillna(0)"
   ]
  },
  {
   "cell_type": "code",
   "execution_count": 183,
   "id": "bebef527",
   "metadata": {
    "scrolled": false,
    "ExecuteTime": {
     "end_time": "2023-11-07T15:04:19.391744500Z",
     "start_time": "2023-11-07T15:04:18.869773700Z"
    }
   },
   "outputs": [
    {
     "data": {
      "text/plain": "<Figure size 1440x576 with 1 Axes>",
      "image/png": "[encoded data removed]"
     },
     "metadata": {},
     "output_type": "display_data"
    }
   ],
   "source": [
    "#df_cnt_year=df.groupby(['Year'])['Sr.no'].count().reset_index()\n",
    "#fig = px.bar(df_cnt_year, x=\"Year\", y=\"Sr.no\",template='plotly_white', labels={\n",
    "#                     \"Sr.no\": \"Count\"},\n",
    "#             title=\"<b>Number of Tsunamis in Different Years\")\n",
    "#fig.show()\n",
    "\n",
    "df_cnt_year = df.groupby(['Year'])['Sr.no'].count().reset_index()\n",
    "plt.figure(figsize=(20,8))\n",
    "plt.bar(df_cnt_year['Year'], df_cnt_year['Sr.no'])\n",
    "plt.xlabel('Year')\n",
    "plt.ylabel('Count')\n",
    "plt.title('Number of Tsunamis in Different Years')\n",
    "plt.show()"
   ]
  },
  {
   "cell_type": "markdown",
   "id": "61930ce7",
   "metadata": {},
   "source": [
    "**<br>It's evident that There is a noticeable increase in the frequency of tsunami occurrences every 5 to 10 years.  \n",
    "<br>**"
   ]
  },
  {
   "cell_type": "code",
   "execution_count": 184,
   "id": "6086c499",
   "metadata": {
    "ExecuteTime": {
     "end_time": "2023-11-07T15:04:19.439096700Z",
     "start_time": "2023-11-07T15:04:19.120404700Z"
    }
   },
   "outputs": [
    {
     "data": {
      "text/plain": "<Figure size 1440x576 with 1 Axes>",
      "image/png": "[encoded data removed]"
     },
     "metadata": {},
     "output_type": "display_data"
    }
   ],
   "source": [
    "df_cnt_mo=df.groupby(['Mo'])['Sr.no'].count().reset_index()\n",
    "plt.figure(figsize=(20,8))\n",
    "plt.plot(df_cnt_mo['Mo'], df_cnt_mo['Sr.no'])\n",
    "plt.xlabel('Month')\n",
    "plt.ylabel('Count')\n",
    "plt.title('Number of Tsunamis in Different Months')\n",
    "plt.show()"
   ]
  },
  {
   "cell_type": "markdown",
   "id": "262bcf69",
   "metadata": {},
   "source": [
    "**<br>Based on the graph presented, it appears that there is a minor variation in frequency by month, but the differences observed are not particularly significant.**  \n",
    "<br>"
   ]
  },
  {
   "cell_type": "code",
   "execution_count": 185,
   "id": "4ae0b58e",
   "metadata": {
    "ExecuteTime": {
     "end_time": "2023-11-07T15:04:19.439096700Z",
     "start_time": "2023-11-07T15:04:19.252737100Z"
    }
   },
   "outputs": [
    {
     "data": {
      "text/plain": "     Year    Deaths\n61   1961       0.0\n85   1985       0.0\n24   1924       0.0\n25   1925       0.0\n84   1984       0.0\n..    ...       ...\n118  2018    4778.0\n76   1976    6800.0\n52   1952   10034.0\n111  2011   18428.0\n104  2004  227899.0\n\n[124 rows x 2 columns]",
      "text/html": "<div>\n<style scoped>\n    .dataframe tbody tr th:only-of-type {\n        vertical-align: middle;\n    }\n\n    .dataframe tbody tr th {\n        vertical-align: top;\n    }\n\n    .dataframe thead th {\n        text-align: right;\n    }\n</style>\n<table border=\"1\" class=\"dataframe\">\n  <thead>\n    <tr style=\"text-align: right;\">\n      <th></th>\n      <th>Year</th>\n      <th>Deaths</th>\n    </tr>\n  </thead>\n  <tbody>\n    <tr>\n      <th>61</th>\n      <td>1961</td>\n      <td>0.0</td>\n    </tr>\n    <tr>\n      <th>85</th>\n      <td>1985</td>\n      <td>0.0</td>\n    </tr>\n    <tr>\n      <th>24</th>\n      <td>1924</td>\n      <td>0.0</td>\n    </tr>\n    <tr>\n      <th>25</th>\n      <td>1925</td>\n      <td>0.0</td>\n    </tr>\n    <tr>\n      <th>84</th>\n      <td>1984</td>\n      <td>0.0</td>\n    </tr>\n    <tr>\n      <th>...</th>\n      <td>...</td>\n      <td>...</td>\n    </tr>\n    <tr>\n      <th>118</th>\n      <td>2018</td>\n      <td>4778.0</td>\n    </tr>\n    <tr>\n      <th>76</th>\n      <td>1976</td>\n      <td>6800.0</td>\n    </tr>\n    <tr>\n      <th>52</th>\n      <td>1952</td>\n      <td>10034.0</td>\n    </tr>\n    <tr>\n      <th>111</th>\n      <td>2011</td>\n      <td>18428.0</td>\n    </tr>\n    <tr>\n      <th>104</th>\n      <td>2004</td>\n      <td>227899.0</td>\n    </tr>\n  </tbody>\n</table>\n<p>124 rows × 2 columns</p>\n</div>"
     },
     "execution_count": 185,
     "metadata": {},
     "output_type": "execute_result"
    }
   ],
   "source": [
    "df_Deaths_year=df.groupby(['Year'])['Deaths'].sum().reset_index()\n",
    "df_Deaths_year.sort_values(by=['Deaths'])"
   ]
  },
  {
   "cell_type": "markdown",
   "id": "453ec13b",
   "metadata": {},
   "source": [
    "In 2004, there was an unusually high number of fatalities due to the tsunami in Indonesia. Let's create a graph without that particular data point."
   ]
  },
  {
   "cell_type": "code",
   "execution_count": 186,
   "id": "22d23a16",
   "metadata": {
    "ExecuteTime": {
     "end_time": "2023-11-07T15:04:19.440542300Z",
     "start_time": "2023-11-07T15:04:19.266481Z"
    }
   },
   "outputs": [
    {
     "data": {
      "text/plain": "     Year   Deaths\n61   1961      0.0\n86   1986      0.0\n24   1924      0.0\n25   1925      0.0\n85   1985      0.0\n..    ...      ...\n46   1946   3395.0\n118  2018   4778.0\n76   1976   6800.0\n52   1952  10034.0\n111  2011  18428.0\n\n[124 rows x 2 columns]",
      "text/html": "<div>\n<style scoped>\n    .dataframe tbody tr th:only-of-type {\n        vertical-align: middle;\n    }\n\n    .dataframe tbody tr th {\n        vertical-align: top;\n    }\n\n    .dataframe thead th {\n        text-align: right;\n    }\n</style>\n<table border=\"1\" class=\"dataframe\">\n  <thead>\n    <tr style=\"text-align: right;\">\n      <th></th>\n      <th>Year</th>\n      <th>Deaths</th>\n    </tr>\n  </thead>\n  <tbody>\n    <tr>\n      <th>61</th>\n      <td>1961</td>\n      <td>0.0</td>\n    </tr>\n    <tr>\n      <th>86</th>\n      <td>1986</td>\n      <td>0.0</td>\n    </tr>\n    <tr>\n      <th>24</th>\n      <td>1924</td>\n      <td>0.0</td>\n    </tr>\n    <tr>\n      <th>25</th>\n      <td>1925</td>\n      <td>0.0</td>\n    </tr>\n    <tr>\n      <th>85</th>\n      <td>1985</td>\n      <td>0.0</td>\n    </tr>\n    <tr>\n      <th>...</th>\n      <td>...</td>\n      <td>...</td>\n    </tr>\n    <tr>\n      <th>46</th>\n      <td>1946</td>\n      <td>3395.0</td>\n    </tr>\n    <tr>\n      <th>118</th>\n      <td>2018</td>\n      <td>4778.0</td>\n    </tr>\n    <tr>\n      <th>76</th>\n      <td>1976</td>\n      <td>6800.0</td>\n    </tr>\n    <tr>\n      <th>52</th>\n      <td>1952</td>\n      <td>10034.0</td>\n    </tr>\n    <tr>\n      <th>111</th>\n      <td>2011</td>\n      <td>18428.0</td>\n    </tr>\n  </tbody>\n</table>\n<p>124 rows × 2 columns</p>\n</div>"
     },
     "execution_count": 186,
     "metadata": {},
     "output_type": "execute_result"
    }
   ],
   "source": [
    "df_Deaths_year=df.loc[(df['Deaths']<200000)].groupby(['Year'])['Deaths'].sum().reset_index()\n",
    "df_Deaths_year.sort_values(by=['Deaths'])\n",
    "\n",
    "#do log scale with -inf as 0"
   ]
  },
  {
   "cell_type": "code",
   "execution_count": 187,
   "id": "1dfd1e5c",
   "metadata": {
    "ExecuteTime": {
     "end_time": "2023-11-07T15:04:19.657310400Z",
     "start_time": "2023-11-07T15:04:19.298186Z"
    }
   },
   "outputs": [
    {
     "data": {
      "text/plain": "<Figure size 1440x576 with 1 Axes>",
      "image/png": "[encoded data removed]"
     },
     "metadata": {},
     "output_type": "display_data"
    }
   ],
   "source": [
    "plt.figure(figsize=(20,8))\n",
    "plt.plot(df_Deaths_year['Year'], df_Deaths_year['Deaths'])\n",
    "plt.xlabel('Year')\n",
    "plt.ylabel('Deaths')\n",
    "plt.title('Deaths Count in Different Years')\n",
    "plt.show()"
   ]
  },
  {
   "cell_type": "markdown",
   "id": "f143ea2a",
   "metadata": {},
   "source": [
    "<br>**From the plot above, it's apparent that fatal tsunamis occur at intervals of several years.**  \n",
    "<br>"
   ]
  },
  {
   "cell_type": "code",
   "execution_count": 188,
   "id": "74c8be41",
   "metadata": {
    "scrolled": true,
    "ExecuteTime": {
     "end_time": "2023-11-07T15:04:19.658330400Z",
     "start_time": "2023-11-07T15:04:19.454674100Z"
    }
   },
   "outputs": [
    {
     "data": {
      "text/plain": "      Year    Deaths      Country\n821   2004  227899.0    INDONESIA\n890   2011   18428.0        JAPAN\n395   1952   10000.0       RUSSIA\n600   1976    6800.0  PHILIPPINES\n1111  2018    4340.0    INDONESIA\n261   1933    3022.0        JAPAN\n449   1960    2226.0        CHILE\n57    1907    2188.0    INDONESIA\n171   1923    2144.0        JAPAN\n1049  1908    2000.0        ITALY",
      "text/html": "<div>\n<style scoped>\n    .dataframe tbody tr th:only-of-type {\n        vertical-align: middle;\n    }\n\n    .dataframe tbody tr th {\n        vertical-align: top;\n    }\n\n    .dataframe thead th {\n        text-align: right;\n    }\n</style>\n<table border=\"1\" class=\"dataframe\">\n  <thead>\n    <tr style=\"text-align: right;\">\n      <th></th>\n      <th>Year</th>\n      <th>Deaths</th>\n      <th>Country</th>\n    </tr>\n  </thead>\n  <tbody>\n    <tr>\n      <th>821</th>\n      <td>2004</td>\n      <td>227899.0</td>\n      <td>INDONESIA</td>\n    </tr>\n    <tr>\n      <th>890</th>\n      <td>2011</td>\n      <td>18428.0</td>\n      <td>JAPAN</td>\n    </tr>\n    <tr>\n      <th>395</th>\n      <td>1952</td>\n      <td>10000.0</td>\n      <td>RUSSIA</td>\n    </tr>\n    <tr>\n      <th>600</th>\n      <td>1976</td>\n      <td>6800.0</td>\n      <td>PHILIPPINES</td>\n    </tr>\n    <tr>\n      <th>1111</th>\n      <td>2018</td>\n      <td>4340.0</td>\n      <td>INDONESIA</td>\n    </tr>\n    <tr>\n      <th>261</th>\n      <td>1933</td>\n      <td>3022.0</td>\n      <td>JAPAN</td>\n    </tr>\n    <tr>\n      <th>449</th>\n      <td>1960</td>\n      <td>2226.0</td>\n      <td>CHILE</td>\n    </tr>\n    <tr>\n      <th>57</th>\n      <td>1907</td>\n      <td>2188.0</td>\n      <td>INDONESIA</td>\n    </tr>\n    <tr>\n      <th>171</th>\n      <td>1923</td>\n      <td>2144.0</td>\n      <td>JAPAN</td>\n    </tr>\n    <tr>\n      <th>1049</th>\n      <td>1908</td>\n      <td>2000.0</td>\n      <td>ITALY</td>\n    </tr>\n  </tbody>\n</table>\n</div>"
     },
     "execution_count": 188,
     "metadata": {},
     "output_type": "execute_result"
    }
   ],
   "source": [
    "df.sort_values(['Deaths'],ascending = False)[['Year','Deaths','Country']].head(10)"
   ]
  },
  {
   "cell_type": "code",
   "execution_count": 189,
   "id": "a79eaeca",
   "metadata": {
    "scrolled": true,
    "ExecuteTime": {
     "end_time": "2023-11-07T15:04:19.658330400Z",
     "start_time": "2023-11-07T15:04:19.469902500Z"
    }
   },
   "outputs": [],
   "source": [
    "\n",
    "def cat_Deaths(Deaths):\n",
    "    if Deaths < 100:\n",
    "        return 'Less than 100'\n",
    "    elif Deaths >= 100 and Deaths < 500:\n",
    "        return 'Between 500 and 100'\n",
    "    elif Deaths >= 500 and Deaths < 1000:\n",
    "        return 'Between 1000 and 500'\n",
    "    else:\n",
    "        return 'Over 1000'\n",
    "\n",
    "# Apply the function to the Age column using the apply() function\n",
    "df['Deaths_grp'] = df['Deaths'].apply(cat_Deaths)"
   ]
  },
  {
   "cell_type": "code",
   "execution_count": 190,
   "id": "556ce940",
   "metadata": {
    "scrolled": true,
    "ExecuteTime": {
     "end_time": "2023-11-07T15:04:19.935312800Z",
     "start_time": "2023-11-07T15:04:19.486508500Z"
    }
   },
   "outputs": [
    {
     "data": {
      "text/plain": "<Figure size 1440x576 with 1 Axes>",
      "image/png": "[encoded data removed]"
     },
     "metadata": {},
     "output_type": "display_data"
    }
   ],
   "source": [
    "data_cnt_Country=df.groupby(['Country','Deaths_grp'])['Sr.no'].count().sort_values(ascending=False).reset_index()\n",
    "data_cnt_Country=data_cnt_Country.loc[data_cnt_Country['Country'].isin(df.groupby(['Country'])['Sr.no'].count().reset_index().nlargest(20,'Sr.no')['Country'])]\n",
    "\n",
    "color_mapping = {\n",
    "    'Over 1000': 'red',\n",
    "    'Between 1000 and 500': 'orange',\n",
    "    'Between 500 and 100': 'green',\n",
    "    'Less than 100': 'blue'\n",
    "}\n",
    "\n",
    "\n",
    "# Reorder the 'Deaths_grp' values so that 'blue' is at the bottom\n",
    "data_cnt_Country['Deaths_grp'] = pd.Categorical(data_cnt_Country['Deaths_grp'], categories=color_mapping.keys(), ordered=True)\n",
    "\n",
    "fig, ax = plt.subplots(figsize=(20, 8))\n",
    "bars = ax.bar(data_cnt_Country['Country'], data_cnt_Country['Sr.no'], color=[color_mapping[group] for group in data_cnt_Country['Deaths_grp']])\n",
    "\n",
    "plt.xlabel('Country')\n",
    "plt.ylabel('Count')\n",
    "plt.title('Number of Tsunamis By Country')\n",
    "plt.xticks(rotation=90)\n",
    "\n",
    "# Reorder the legend labels\n",
    "legend_labels = data_cnt_Country['Deaths_grp'].cat.categories[::-1]\n",
    "\n",
    "# Create a legend for the color encoding\n",
    "handles = [plt.Rectangle((0, 0), 1, 1, color=color_mapping[group]) for group in np.flip(legend_labels)\n",
    "           ]\n",
    "ax.legend(handles, legend_labels, title=\"Number of Deaths\")\n",
    "plt.show()\n",
    "\n"
   ]
  },
  {
   "cell_type": "markdown",
   "id": "90d3e62a",
   "metadata": {},
   "source": [
    "<br>**It's evident that the majority of tsunamis resulted in fewer than 100 fatalities.   \n",
    "Notably, Japan, USA, Indonesia, Chile and Russia experienced the highest number of tsunami events.**    \n",
    "<br>  "
   ]
  },
  {
   "cell_type": "code",
   "execution_count": null,
   "id": "826214a0",
   "metadata": {
    "scrolled": true,
    "ExecuteTime": {
     "start_time": "2023-11-07T15:04:19.780189300Z"
    }
   },
   "outputs": [],
   "source": [
    "df[df.Deaths<100]['Deaths'].value_counts(ascending=False)"
   ]
  },
  {
   "cell_type": "markdown",
   "id": "1a499405",
   "metadata": {},
   "source": [
    "<br>**The majority of tsunamis in the category of less than 100 deaths resulted in no fatalities. Let's now examine the tsunamis that caused at least one death.**  \n",
    "<br>"
   ]
  },
  {
   "cell_type": "code",
   "execution_count": null,
   "id": "2fc94cb7",
   "metadata": {
    "scrolled": false,
    "ExecuteTime": {
     "start_time": "2023-11-07T15:04:19.782850300Z"
    }
   },
   "outputs": [],
   "source": [
    "data_cnt_Country=df[df.Deaths>0].groupby(['Country','Deaths_grp'])['Sr.no'].count().sort_values(ascending=False).reset_index()\n",
    "data_cnt_Country=data_cnt_Country.loc[data_cnt_Country['Country'].isin(df.groupby(['Country'])['Sr.no'].count().reset_index().nlargest(20,'Sr.no')['Country'])]\n",
    "fig=px.bar(data_cnt_Country,x=\"Country\",y='Sr.no',color='Deaths_grp',template='plotly_white'\n",
    "          ,labels={\"Sr.no\": \"Count\",\"Deaths_grp\":\"Number of Deaths\"},title=\"<b>Number of Tsunamis That Caused Death By Country\")\n",
    "fig.update_layout(xaxis={'categoryorder':'total descending'})\n",
    "fig.show()\n",
    "\n",
    "#sort legned"
   ]
  },
  {
   "cell_type": "markdown",
   "id": "5a16e58b",
   "metadata": {},
   "source": [
    "**<br>The top five countries with tsunamis causing at least one fatality are Indonesia, the USA, Japan, the Philippines, and Chile. Notably, the USA has not experienced any tsunamis resulting in more than 500 fatalities, but it has the highest number of tsunamis causing fewer than 100 deaths. Both Japan and Indonesia have encountered five fatal tsunami incidents, each of which led to over 1,000 deaths.**      \n",
    "\n",
    "**Additionally, Italy is noteworthy, having encountered three tsunami incidents, with two of them resulting in over 1,000 fatalities.**  \n",
    "<br>"
   ]
  },
  {
   "cell_type": "markdown",
   "id": "f472802d",
   "metadata": {},
   "source": [
    "### Tsunami Cause"
   ]
  },
  {
   "cell_type": "code",
   "execution_count": 204,
   "id": "ced2ed80",
   "metadata": {
    "scrolled": false,
    "ExecuteTime": {
     "end_time": "2023-11-07T15:13:52.222420900Z",
     "start_time": "2023-11-07T15:13:52.019845200Z"
    }
   },
   "outputs": [
    {
     "data": {
      "text/plain": "<Figure size 1440x720 with 1 Axes>",
      "image/png": "[encoded data removed]"
     },
     "metadata": {},
     "output_type": "display_data"
    }
   ],
   "source": [
    "data_cnt_cause=df.groupby(['Cause'])['Sr.no'].count().sort_values(ascending=False).reset_index()\n",
    "fig, ax = plt.subplots(figsize=(20, 10))\n",
    "ax.pie(data_cnt_cause['Sr.no'], labels=data_cnt_cause['Cause'], autopct='%1.1f%%', startangle=90)\n",
    "\n",
    "# Set the title\n",
    "\n",
    "# Create the pie chart with labels\n",
    "wedges, texts, autotexts = ax.pie(data_cnt_cause['Sr.no'], labels=data_cnt_cause['Cause'], autopct='%1.1f%%', startangle=90, labeldistance=1.1)\n",
    "\n",
    "# Change label colors to black\n",
    "\n",
    "# Set the title\n",
    "ax.set_title(\"Tsunami Cause Count\")\n",
    "\n",
    "# Add a legend\n",
    "ax.legend(data_cnt_cause['Cause'], title=\"Cause\", loc=\"upper right\")\n",
    "\n",
    "plt.axis('equal')  # Equal aspect ratio ensures that the pie chart is drawn as a circle.\n",
    "\n",
    "plt.show()"
   ]
  },
  {
   "cell_type": "markdown",
   "id": "9eaccc35",
   "metadata": {},
   "source": [
    "<br>**The majority of tsunamis are triggered by factors such as earthquakes, landslides, meteorological events, and volcanoes, with earthquakes being the most common cause.**   \n",
    "<br>"
   ]
  },
  {
   "cell_type": "code",
   "execution_count": 213,
   "outputs": [
    {
     "data": {
      "text/plain": "<AxesSubplot:xlabel='Cause', ylabel='Sr.no'>"
     },
     "execution_count": 213,
     "metadata": {},
     "output_type": "execute_result"
    },
    {
     "data": {
      "text/plain": "<Figure size 1440x720 with 1 Axes>",
      "image/png": "[encoded data removed]"
     },
     "metadata": {},
     "output_type": "display_data"
    }
   ],
   "source": [
    "filtered_df = df[(df['Deaths'] > 0) & (df['Cause'].isin(['Earthquake', 'Landslide', 'Earthquake and Landslide', 'Meteorological', 'Volcano']))]\n",
    "sns.set(rc={'figure.figsize':(20,10)})\n",
    "sns.boxplot(data=filtered_df, x=\"Cause\", y=\"Sr.no\", color=\".8\", linewidth=.75)"
   ],
   "metadata": {
    "collapsed": false,
    "ExecuteTime": {
     "end_time": "2023-11-07T15:25:56.496178200Z",
     "start_time": "2023-11-07T15:25:56.342438600Z"
    }
   },
   "id": "d490132c4e02e0a9"
  },
  {
   "cell_type": "code",
   "execution_count": 208,
   "outputs": [
    {
     "data": {
      "text/plain": "                                Cause  Sr.no\n0                          Earthquake   1043\n1                           Landslide     94\n2            Earthquake and Landslide     70\n3                      Meteorological     70\n4                             Volcano     67\n5               Volcano and Landslide     10\n6             Questionable Earthquake      8\n7              Volcano and Earthquake      5\n8                           Explosion      1\n9  Volcano, Earthquake, and Landslide      1",
      "text/html": "<div>\n<style scoped>\n    .dataframe tbody tr th:only-of-type {\n        vertical-align: middle;\n    }\n\n    .dataframe tbody tr th {\n        vertical-align: top;\n    }\n\n    .dataframe thead th {\n        text-align: right;\n    }\n</style>\n<table border=\"1\" class=\"dataframe\">\n  <thead>\n    <tr style=\"text-align: right;\">\n      <th></th>\n      <th>Cause</th>\n      <th>Sr.no</th>\n    </tr>\n  </thead>\n  <tbody>\n    <tr>\n      <th>0</th>\n      <td>Earthquake</td>\n      <td>1043</td>\n    </tr>\n    <tr>\n      <th>1</th>\n      <td>Landslide</td>\n      <td>94</td>\n    </tr>\n    <tr>\n      <th>2</th>\n      <td>Earthquake and Landslide</td>\n      <td>70</td>\n    </tr>\n    <tr>\n      <th>3</th>\n      <td>Meteorological</td>\n      <td>70</td>\n    </tr>\n    <tr>\n      <th>4</th>\n      <td>Volcano</td>\n      <td>67</td>\n    </tr>\n    <tr>\n      <th>5</th>\n      <td>Volcano and Landslide</td>\n      <td>10</td>\n    </tr>\n    <tr>\n      <th>6</th>\n      <td>Questionable Earthquake</td>\n      <td>8</td>\n    </tr>\n    <tr>\n      <th>7</th>\n      <td>Volcano and Earthquake</td>\n      <td>5</td>\n    </tr>\n    <tr>\n      <th>8</th>\n      <td>Explosion</td>\n      <td>1</td>\n    </tr>\n    <tr>\n      <th>9</th>\n      <td>Volcano, Earthquake, and Landslide</td>\n      <td>1</td>\n    </tr>\n  </tbody>\n</table>\n</div>"
     },
     "execution_count": 208,
     "metadata": {},
     "output_type": "execute_result"
    }
   ],
   "source": [
    "data_cnt_cause"
   ],
   "metadata": {
    "collapsed": false,
    "ExecuteTime": {
     "end_time": "2023-11-07T15:23:49.890166900Z",
     "start_time": "2023-11-07T15:23:49.793662400Z"
    }
   },
   "id": "b611564e0a472e04"
  },
  {
   "cell_type": "markdown",
   "id": "eb2aeed0",
   "metadata": {},
   "source": [
    "<br>**In addition to being the most common cause, earthquakes also tend to generate the most dangerous tsunamis. Landslides are another significant trigger of powerful tsunamis. Meanwhile, tsunamis resulting from volcanoes and meteorological events have historically caused the least number of fatalities.**  \n",
    "<br>"
   ]
  },
  {
   "cell_type": "code",
   "execution_count": 214,
   "id": "efc57a94",
   "metadata": {
    "ExecuteTime": {
     "end_time": "2023-11-07T15:26:10.040730900Z",
     "start_time": "2023-11-07T15:26:09.991030100Z"
    }
   },
   "outputs": [
    {
     "data": {
      "application/vnd.plotly.v1+json": {
       "data": [
        {
         "hovertemplate": "Earthquake_Magnitude=%{x}<br>Deaths=%{y}<extra></extra>",
         "legendgroup": "",
         "marker": {
          "color": "#636efa",
          "symbol": "circle"
         },
         "mode": "markers",
         "name": "",
         "orientation": "v",
         "showlegend": false,
         "x": [
          6.9,
          7.0,
          7.0,
          8.8,
          8.2,
          8.3,
          8.3,
          8.2,
          8.5,
          8.4,
          7.2,
          7.9,
          6.3,
          6.9,
          7.3,
          6.5,
          7.8,
          8.1,
          7.7,
          8.4,
          7.6,
          6.1,
          7.9,
          7.5,
          7.4,
          8.1,
          7.9,
          7.5,
          8.3,
          7.8,
          7.2,
          7.6,
          8.1,
          9.0,
          7.1,
          7.7,
          8.6,
          7.6,
          9.5,
          6.8,
          7.5,
          7.6,
          5.5,
          8.2,
          7.3,
          7.8,
          7.0,
          7.9,
          7.6,
          8.0,
          8.3,
          6.9,
          7.9,
          8.1,
          7.8,
          7.2,
          7.6,
          6.6,
          7.6,
          7.6,
          7.7,
          7.8,
          6.8,
          7.1,
          8.0,
          7.9,
          8.2,
          7.5,
          7.6,
          7.5,
          7.6,
          8.4,
          8.3,
          9.1,
          8.6,
          6.7,
          7.7,
          8.1,
          8.0,
          8.1,
          8.8,
          7.8,
          9.1,
          7.7,
          7.9,
          8.3,
          7.0,
          7.2,
          null,
          7.2,
          7.0,
          7.1,
          7.2,
          5.2,
          8.0,
          8.6,
          6.4,
          7.8,
          9.2,
          6.1,
          7.3,
          7.7,
          7.8,
          6.9,
          7.0,
          6.2,
          7.0,
          7.5,
          null,
          null,
          null,
          null,
          null,
          null,
          6.0,
          null,
          null,
          null,
          null,
          null,
          null,
          null,
          null,
          null,
          null,
          5.7,
          null,
          null,
          null,
          null,
          null,
          null,
          null,
          null,
          null,
          null,
          null,
          null,
          null,
          null,
          null,
          null,
          null,
          null,
          null,
          null,
          null,
          null,
          null,
          null,
          null,
          null,
          null,
          null,
          null,
          null,
          null,
          null
         ],
         "xaxis": "x",
         "y": [
          5.0,
          185.0,
          57.0,
          1000.0,
          2188.0,
          2.0,
          6.0,
          23.0,
          200.0,
          3.0,
          18.0,
          2144.0,
          50.0,
          10.0,
          4.0,
          27.0,
          50.0,
          4.0,
          75.0,
          3022.0,
          17.0,
          1.0,
          12.0,
          10.0,
          2.0,
          1223.0,
          1790.0,
          75.0,
          1362.0,
          2.0,
          16.0,
          1.0,
          33.0,
          10000.0,
          1.0,
          3.0,
          2.0,
          4.0,
          2226.0,
          66.0,
          26.0,
          71.0,
          13.0,
          52.0,
          1.0,
          200.0,
          600.0,
          1.0,
          1.0,
          6800.0,
          189.0,
          1.0,
          100.0,
          600.0,
          100.0,
          2.0,
          1.0,
          2.0,
          3.0,
          170.0,
          208.0,
          238.0,
          1.0,
          81.0,
          1.0,
          9.0,
          110.0,
          12.0,
          155.0,
          5.0,
          54.0,
          26.0,
          2.0,
          227899.0,
          10.0,
          4.0,
          802.0,
          50.0,
          3.0,
          192.0,
          156.0,
          431.0,
          18428.0,
          1.0,
          10.0,
          8.0,
          1.0,
          1.0,
          5.0,
          5.0,
          2000.0,
          140.0,
          28.0,
          1.0,
          300.0,
          168.0,
          5.0,
          5.0,
          124.0,
          1.0,
          3.0,
          2.0,
          1169.0,
          11.0,
          1636.0,
          8.0,
          7.0,
          4340.0,
          1.0,
          128.0,
          27.0,
          437.0,
          50.0,
          1.0,
          2.0,
          9.0,
          355.0,
          3.0,
          2.0,
          6.0,
          300.0,
          3.0,
          43.0,
          1.0,
          1.0,
          1.0,
          10.0,
          4.0,
          5.0,
          7.0,
          3.0,
          7.0,
          1.0,
          4.0,
          9.0,
          1.0,
          5.0,
          1.0,
          61.0,
          15.0,
          26.0,
          1.0,
          20.0,
          41.0,
          73.0,
          1.0,
          2.0,
          2000.0,
          1.0,
          600.0,
          1239.0,
          9.0,
          1.0,
          8.0,
          1.0,
          2.0,
          4.0,
          1.0
         ],
         "yaxis": "y",
         "type": "scatter"
        },
        {
         "hovertemplate": "<b>OLS trendline</b><br>log10(Deaths) = 0.694863 * Earthquake_Magnitude + -3.80325<br>R<sup>2</sup>=0.206833<br><br>Earthquake_Magnitude=%{x}<br>Deaths=%{y} <b>(trend)</b><extra></extra>",
         "legendgroup": "",
         "line": {
          "color": "black"
         },
         "marker": {
          "color": "#636efa",
          "symbol": "circle"
         },
         "mode": "lines",
         "name": "",
         "showlegend": false,
         "x": [
          5.2,
          5.5,
          5.7,
          6.0,
          6.1,
          6.1,
          6.2,
          6.3,
          6.4,
          6.5,
          6.6,
          6.7,
          6.8,
          6.8,
          6.9,
          6.9,
          6.9,
          6.9,
          7.0,
          7.0,
          7.0,
          7.0,
          7.0,
          7.0,
          7.0,
          7.1,
          7.1,
          7.1,
          7.2,
          7.2,
          7.2,
          7.2,
          7.2,
          7.2,
          7.3,
          7.3,
          7.3,
          7.4,
          7.5,
          7.5,
          7.5,
          7.5,
          7.5,
          7.5,
          7.6,
          7.6,
          7.6,
          7.6,
          7.6,
          7.6,
          7.6,
          7.6,
          7.6,
          7.6,
          7.7,
          7.7,
          7.7,
          7.7,
          7.7,
          7.7,
          7.8,
          7.8,
          7.8,
          7.8,
          7.8,
          7.8,
          7.8,
          7.8,
          7.9,
          7.9,
          7.9,
          7.9,
          7.9,
          7.9,
          7.9,
          8.0,
          8.0,
          8.0,
          8.0,
          8.1,
          8.1,
          8.1,
          8.1,
          8.1,
          8.1,
          8.2,
          8.2,
          8.2,
          8.2,
          8.3,
          8.3,
          8.3,
          8.3,
          8.3,
          8.3,
          8.4,
          8.4,
          8.4,
          8.5,
          8.6,
          8.6,
          8.6,
          8.8,
          8.8,
          9.0,
          9.1,
          9.1,
          9.2,
          9.5
         ],
         "xaxis": "x",
         "y": [
          0.6457041254669884,
          1.0434998085960028,
          1.4370269582398232,
          2.3223289068906787,
          2.7252729079111493,
          2.7252729079111493,
          3.1981311521194145,
          3.7530343608766072,
          4.4042180398343325,
          5.168387677077245,
          6.065147306278409,
          7.117502429240942,
          8.352450199817984,
          8.352450199817984,
          9.801672009809158,
          9.801672009809158,
          9.801672009809158,
          9.801672009809158,
          11.502346244455298,
          11.502346244455298,
          11.502346244455298,
          11.502346244455298,
          11.502346244455298,
          11.502346244455298,
          11.502346244455298,
          13.498102057988639,
          13.498102057988639,
          13.498102057988639,
          15.840138637428545,
          15.840138637428545,
          15.840138637428545,
          15.840138637428545,
          15.840138637428545,
          15.840138637428545,
          18.5885386682537,
          18.5885386682537,
          18.5885386682537,
          21.813809697643926,
          25.598692937475874,
          25.598692937475874,
          25.598692937475874,
          25.598692937475874,
          25.598692937475874,
          25.598692937475874,
          30.040285910166155,
          30.040285910166155,
          30.040285910166155,
          30.040285910166155,
          30.040285910166155,
          30.040285910166155,
          30.040285910166155,
          30.040285910166155,
          30.040285910166155,
          30.040285910166155,
          35.252533391789214,
          35.252533391789214,
          35.252533391789214,
          35.252533391789214,
          35.252533391789214,
          35.252533391789214,
          41.3691505552098,
          41.3691505552098,
          41.3691505552098,
          41.3691505552098,
          41.3691505552098,
          41.3691505552098,
          41.3691505552098,
          41.3691505552098,
          48.54705330364233,
          48.54705330364233,
          48.54705330364233,
          48.54705330364233,
          48.54705330364233,
          48.54705330364233,
          48.54705330364233,
          56.97038379652868,
          56.97038379652868,
          56.97038379652868,
          56.97038379652868,
          66.85523443871452,
          66.85523443871452,
          66.85523443871452,
          66.85523443871452,
          66.85523443871452,
          66.85523443871452,
          78.45519152229814,
          78.45519152229814,
          78.45519152229814,
          78.45519152229814,
          92.0678407379293,
          92.0678407379293,
          92.0678407379293,
          92.0678407379293,
          92.0678407379293,
          92.0678407379293,
          108.04240144816339,
          108.04240144816339,
          108.04240144816339,
          126.7886855727802,
          148.7876109176075,
          148.7876109176075,
          148.7876109176075,
          204.89875147018697,
          204.89875147018697,
          282.17065987631264,
          331.1296916154381,
          331.1296916154381,
          388.583535642571,
          627.976234120115
         ],
         "yaxis": "y",
         "type": "scatter"
        }
       ],
       "layout": {
        "template": {
         "data": {
          "barpolar": [
           {
            "marker": {
             "line": {
              "color": "white",
              "width": 0.5
             },
             "pattern": {
              "fillmode": "overlay",
              "size": 10,
              "solidity": 0.2
             }
            },
            "type": "barpolar"
           }
          ],
          "bar": [
           {
            "error_x": {
             "color": "#2a3f5f"
            },
            "error_y": {
             "color": "#2a3f5f"
            },
            "marker": {
             "line": {
              "color": "white",
              "width": 0.5
             },
             "pattern": {
              "fillmode": "overlay",
              "size": 10,
              "solidity": 0.2
             }
            },
            "type": "bar"
           }
          ],
          "carpet": [
           {
            "aaxis": {
             "endlinecolor": "#2a3f5f",
             "gridcolor": "#C8D4E3",
             "linecolor": "#C8D4E3",
             "minorgridcolor": "#C8D4E3",
             "startlinecolor": "#2a3f5f"
            },
            "baxis": {
             "endlinecolor": "#2a3f5f",
             "gridcolor": "#C8D4E3",
             "linecolor": "#C8D4E3",
             "minorgridcolor": "#C8D4E3",
             "startlinecolor": "#2a3f5f"
            },
            "type": "carpet"
           }
          ],
          "choropleth": [
           {
            "colorbar": {
             "outlinewidth": 0,
             "ticks": ""
            },
            "type": "choropleth"
           }
          ],
          "contourcarpet": [
           {
            "colorbar": {
             "outlinewidth": 0,
             "ticks": ""
            },
            "type": "contourcarpet"
           }
          ],
          "contour": [
           {
            "colorbar": {
             "outlinewidth": 0,
             "ticks": ""
            },
            "colorscale": [
             [
              0.0,
              "#0d0887"
             ],
             [
              0.1111111111111111,
              "#46039f"
             ],
             [
              0.2222222222222222,
              "#7201a8"
             ],
             [
              0.3333333333333333,
              "#9c179e"
             ],
             [
              0.4444444444444444,
              "#bd3786"
             ],
             [
              0.5555555555555556,
              "#d8576b"
             ],
             [
              0.6666666666666666,
              "#ed7953"
             ],
             [
              0.7777777777777778,
              "#fb9f3a"
             ],
             [
              0.8888888888888888,
              "#fdca26"
             ],
             [
              1.0,
              "#f0f921"
             ]
            ],
            "type": "contour"
           }
          ],
          "heatmapgl": [
           {
            "colorbar": {
             "outlinewidth": 0,
             "ticks": ""
            },
            "colorscale": [
             [
              0.0,
              "#0d0887"
             ],
             [
              0.1111111111111111,
              "#46039f"
             ],
             [
              0.2222222222222222,
              "#7201a8"
             ],
             [
              0.3333333333333333,
              "#9c179e"
             ],
             [
              0.4444444444444444,
              "#bd3786"
             ],
             [
              0.5555555555555556,
              "#d8576b"
             ],
             [
              0.6666666666666666,
              "#ed7953"
             ],
             [
              0.7777777777777778,
              "#fb9f3a"
             ],
             [
              0.8888888888888888,
              "#fdca26"
             ],
             [
              1.0,
              "#f0f921"
             ]
            ],
            "type": "heatmapgl"
           }
          ],
          "heatmap": [
           {
            "colorbar": {
             "outlinewidth": 0,
             "ticks": ""
            },
            "colorscale": [
             [
              0.0,
              "#0d0887"
             ],
             [
              0.1111111111111111,
              "#46039f"
             ],
             [
              0.2222222222222222,
              "#7201a8"
             ],
             [
              0.3333333333333333,
              "#9c179e"
             ],
             [
              0.4444444444444444,
              "#bd3786"
             ],
             [
              0.5555555555555556,
              "#d8576b"
             ],
             [
              0.6666666666666666,
              "#ed7953"
             ],
             [
              0.7777777777777778,
              "#fb9f3a"
             ],
             [
              0.8888888888888888,
              "#fdca26"
             ],
             [
              1.0,
              "#f0f921"
             ]
            ],
            "type": "heatmap"
           }
          ],
          "histogram2dcontour": [
           {
            "colorbar": {
             "outlinewidth": 0,
             "ticks": ""
            },
            "colorscale": [
             [
              0.0,
              "#0d0887"
             ],
             [
              0.1111111111111111,
              "#46039f"
             ],
             [
              0.2222222222222222,
              "#7201a8"
             ],
             [
              0.3333333333333333,
              "#9c179e"
             ],
             [
              0.4444444444444444,
              "#bd3786"
             ],
             [
              0.5555555555555556,
              "#d8576b"
             ],
             [
              0.6666666666666666,
              "#ed7953"
             ],
             [
              0.7777777777777778,
              "#fb9f3a"
             ],
             [
              0.8888888888888888,
              "#fdca26"
             ],
             [
              1.0,
              "#f0f921"
             ]
            ],
            "type": "histogram2dcontour"
           }
          ],
          "histogram2d": [
           {
            "colorbar": {
             "outlinewidth": 0,
             "ticks": ""
            },
            "colorscale": [
             [
              0.0,
              "#0d0887"
             ],
             [
              0.1111111111111111,
              "#46039f"
             ],
             [
              0.2222222222222222,
              "#7201a8"
             ],
             [
              0.3333333333333333,
              "#9c179e"
             ],
             [
              0.4444444444444444,
              "#bd3786"
             ],
             [
              0.5555555555555556,
              "#d8576b"
             ],
             [
              0.6666666666666666,
              "#ed7953"
             ],
             [
              0.7777777777777778,
              "#fb9f3a"
             ],
             [
              0.8888888888888888,
              "#fdca26"
             ],
             [
              1.0,
              "#f0f921"
             ]
            ],
            "type": "histogram2d"
           }
          ],
          "histogram": [
           {
            "marker": {
             "pattern": {
              "fillmode": "overlay",
              "size": 10,
              "solidity": 0.2
             }
            },
            "type": "histogram"
           }
          ],
          "mesh3d": [
           {
            "colorbar": {
             "outlinewidth": 0,
             "ticks": ""
            },
            "type": "mesh3d"
           }
          ],
          "parcoords": [
           {
            "line": {
             "colorbar": {
              "outlinewidth": 0,
              "ticks": ""
             }
            },
            "type": "parcoords"
           }
          ],
          "pie": [
           {
            "automargin": true,
            "type": "pie"
           }
          ],
          "scatter3d": [
           {
            "line": {
             "colorbar": {
              "outlinewidth": 0,
              "ticks": ""
             }
            },
            "marker": {
             "colorbar": {
              "outlinewidth": 0,
              "ticks": ""
             }
            },
            "type": "scatter3d"
           }
          ],
          "scattercarpet": [
           {
            "marker": {
             "colorbar": {
              "outlinewidth": 0,
              "ticks": ""
             }
            },
            "type": "scattercarpet"
           }
          ],
          "scattergeo": [
           {
            "marker": {
             "colorbar": {
              "outlinewidth": 0,
              "ticks": ""
             }
            },
            "type": "scattergeo"
           }
          ],
          "scattergl": [
           {
            "marker": {
             "colorbar": {
              "outlinewidth": 0,
              "ticks": ""
             }
            },
            "type": "scattergl"
           }
          ],
          "scattermapbox": [
           {
            "marker": {
             "colorbar": {
              "outlinewidth": 0,
              "ticks": ""
             }
            },
            "type": "scattermapbox"
           }
          ],
          "scatterpolargl": [
           {
            "marker": {
             "colorbar": {
              "outlinewidth": 0,
              "ticks": ""
             }
            },
            "type": "scatterpolargl"
           }
          ],
          "scatterpolar": [
           {
            "marker": {
             "colorbar": {
              "outlinewidth": 0,
              "ticks": ""
             }
            },
            "type": "scatterpolar"
           }
          ],
          "scatter": [
           {
            "fillpattern": {
             "fillmode": "overlay",
             "size": 10,
             "solidity": 0.2
            },
            "type": "scatter"
           }
          ],
          "scatterternary": [
           {
            "marker": {
             "colorbar": {
              "outlinewidth": 0,
              "ticks": ""
             }
            },
            "type": "scatterternary"
           }
          ],
          "surface": [
           {
            "colorbar": {
             "outlinewidth": 0,
             "ticks": ""
            },
            "colorscale": [
             [
              0.0,
              "#0d0887"
             ],
             [
              0.1111111111111111,
              "#46039f"
             ],
             [
              0.2222222222222222,
              "#7201a8"
             ],
             [
              0.3333333333333333,
              "#9c179e"
             ],
             [
              0.4444444444444444,
              "#bd3786"
             ],
             [
              0.5555555555555556,
              "#d8576b"
             ],
             [
              0.6666666666666666,
              "#ed7953"
             ],
             [
              0.7777777777777778,
              "#fb9f3a"
             ],
             [
              0.8888888888888888,
              "#fdca26"
             ],
             [
              1.0,
              "#f0f921"
             ]
            ],
            "type": "surface"
           }
          ],
          "table": [
           {
            "cells": {
             "fill": {
              "color": "#EBF0F8"
             },
             "line": {
              "color": "white"
             }
            },
            "header": {
             "fill": {
              "color": "#C8D4E3"
             },
             "line": {
              "color": "white"
             }
            },
            "type": "table"
           }
          ]
         },
         "layout": {
          "annotationdefaults": {
           "arrowcolor": "#2a3f5f",
           "arrowhead": 0,
           "arrowwidth": 1
          },
          "autotypenumbers": "strict",
          "coloraxis": {
           "colorbar": {
            "outlinewidth": 0,
            "ticks": ""
           }
          },
          "colorscale": {
           "diverging": [
            [
             0,
             "#8e0152"
            ],
            [
             0.1,
             "#c51b7d"
            ],
            [
             0.2,
             "#de77ae"
            ],
            [
             0.3,
             "#f1b6da"
            ],
            [
             0.4,
             "#fde0ef"
            ],
            [
             0.5,
             "#f7f7f7"
            ],
            [
             0.6,
             "#e6f5d0"
            ],
            [
             0.7,
             "#b8e186"
            ],
            [
             0.8,
             "#7fbc41"
            ],
            [
             0.9,
             "#4d9221"
            ],
            [
             1,
             "#276419"
            ]
           ],
           "sequential": [
            [
             0.0,
             "#0d0887"
            ],
            [
             0.1111111111111111,
             "#46039f"
            ],
            [
             0.2222222222222222,
             "#7201a8"
            ],
            [
             0.3333333333333333,
             "#9c179e"
            ],
            [
             0.4444444444444444,
             "#bd3786"
            ],
            [
             0.5555555555555556,
             "#d8576b"
            ],
            [
             0.6666666666666666,
             "#ed7953"
            ],
            [
             0.7777777777777778,
             "#fb9f3a"
            ],
            [
             0.8888888888888888,
             "#fdca26"
            ],
            [
             1.0,
             "#f0f921"
            ]
           ],
           "sequentialminus": [
            [
             0.0,
             "#0d0887"
            ],
            [
             0.1111111111111111,
             "#46039f"
            ],
            [
             0.2222222222222222,
             "#7201a8"
            ],
            [
             0.3333333333333333,
             "#9c179e"
            ],
            [
             0.4444444444444444,
             "#bd3786"
            ],
            [
             0.5555555555555556,
             "#d8576b"
            ],
            [
             0.6666666666666666,
             "#ed7953"
            ],
            [
             0.7777777777777778,
             "#fb9f3a"
            ],
            [
             0.8888888888888888,
             "#fdca26"
            ],
            [
             1.0,
             "#f0f921"
            ]
           ]
          },
          "colorway": [
           "#636efa",
           "#EF553B",
           "#00cc96",
           "#ab63fa",
           "#FFA15A",
           "#19d3f3",
           "#FF6692",
           "#B6E880",
           "#FF97FF",
           "#FECB52"
          ],
          "font": {
           "color": "#2a3f5f"
          },
          "geo": {
           "bgcolor": "white",
           "lakecolor": "white",
           "landcolor": "white",
           "showlakes": true,
           "showland": true,
           "subunitcolor": "#C8D4E3"
          },
          "hoverlabel": {
           "align": "left"
          },
          "hovermode": "closest",
          "mapbox": {
           "style": "light"
          },
          "paper_bgcolor": "white",
          "plot_bgcolor": "white",
          "polar": {
           "angularaxis": {
            "gridcolor": "#EBF0F8",
            "linecolor": "#EBF0F8",
            "ticks": ""
           },
           "bgcolor": "white",
           "radialaxis": {
            "gridcolor": "#EBF0F8",
            "linecolor": "#EBF0F8",
            "ticks": ""
           }
          },
          "scene": {
           "xaxis": {
            "backgroundcolor": "white",
            "gridcolor": "#DFE8F3",
            "gridwidth": 2,
            "linecolor": "#EBF0F8",
            "showbackground": true,
            "ticks": "",
            "zerolinecolor": "#EBF0F8"
           },
           "yaxis": {
            "backgroundcolor": "white",
            "gridcolor": "#DFE8F3",
            "gridwidth": 2,
            "linecolor": "#EBF0F8",
            "showbackground": true,
            "ticks": "",
            "zerolinecolor": "#EBF0F8"
           },
           "zaxis": {
            "backgroundcolor": "white",
            "gridcolor": "#DFE8F3",
            "gridwidth": 2,
            "linecolor": "#EBF0F8",
            "showbackground": true,
            "ticks": "",
            "zerolinecolor": "#EBF0F8"
           }
          },
          "shapedefaults": {
           "line": {
            "color": "#2a3f5f"
           }
          },
          "ternary": {
           "aaxis": {
            "gridcolor": "#DFE8F3",
            "linecolor": "#A2B1C6",
            "ticks": ""
           },
           "baxis": {
            "gridcolor": "#DFE8F3",
            "linecolor": "#A2B1C6",
            "ticks": ""
           },
           "bgcolor": "white",
           "caxis": {
            "gridcolor": "#DFE8F3",
            "linecolor": "#A2B1C6",
            "ticks": ""
           }
          },
          "title": {
           "x": 0.05
          },
          "xaxis": {
           "automargin": true,
           "gridcolor": "#EBF0F8",
           "linecolor": "#EBF0F8",
           "ticks": "",
           "title": {
            "standoff": 15
           },
           "zerolinecolor": "#EBF0F8",
           "zerolinewidth": 2
          },
          "yaxis": {
           "automargin": true,
           "gridcolor": "#EBF0F8",
           "linecolor": "#EBF0F8",
           "ticks": "",
           "title": {
            "standoff": 15
           },
           "zerolinecolor": "#EBF0F8",
           "zerolinewidth": 2
          }
         }
        },
        "xaxis": {
         "anchor": "y",
         "domain": [
          0.0,
          1.0
         ],
         "title": {
          "text": "Earthquake_Magnitude"
         }
        },
        "yaxis": {
         "anchor": "x",
         "domain": [
          0.0,
          1.0
         ],
         "title": {
          "text": "Deaths"
         },
         "type": "log"
        },
        "legend": {
         "tracegroupgap": 0
        },
        "margin": {
         "t": 60
        }
       },
       "config": {
        "plotlyServerURL": "https://plot.ly"
       }
      },
      "text/html": "<div>                            <div id=\"7bf1ee1e-5d1f-4b54-be34-23fb166fa467\" class=\"plotly-graph-div\" style=\"height:525px; width:100%;\"></div>            <script type=\"text/javascript\">                require([\"plotly\"], function(Plotly) {                    window.PLOTLYENV=window.PLOTLYENV || {};                                    if (document.getElementById(\"7bf1ee1e-5d1f-4b54-be34-23fb166fa467\")) {                    Plotly.newPlot(                        \"7bf1ee1e-5d1f-4b54-be34-23fb166fa467\",                        [{\"hovertemplate\":\"Earthquake_Magnitude=%{x}\\u003cbr\\u003eDeaths=%{y}\\u003cextra\\u003e\\u003c\\u002fextra\\u003e\",\"legendgroup\":\"\",\"marker\":{\"color\":\"#636efa\",\"symbol\":\"circle\"},\"mode\":\"markers\",\"name\":\"\",\"orientation\":\"v\",\"showlegend\":false,\"x\":[6.9,7.0,7.0,8.8,8.2,8.3,8.3,8.2,8.5,8.4,7.2,7.9,6.3,6.9,7.3,6.5,7.8,8.1,7.7,8.4,7.6,6.1,7.9,7.5,7.4,8.1,7.9,7.5,8.3,7.8,7.2,7.6,8.1,9.0,7.1,7.7,8.6,7.6,9.5,6.8,7.5,7.6,5.5,8.2,7.3,7.8,7.0,7.9,7.6,8.0,8.3,6.9,7.9,8.1,7.8,7.2,7.6,6.6,7.6,7.6,7.7,7.8,6.8,7.1,8.0,7.9,8.2,7.5,7.6,7.5,7.6,8.4,8.3,9.1,8.6,6.7,7.7,8.1,8.0,8.1,8.8,7.8,9.1,7.7,7.9,8.3,7.0,7.2,null,7.2,7.0,7.1,7.2,5.2,8.0,8.6,6.4,7.8,9.2,6.1,7.3,7.7,7.8,6.9,7.0,6.2,7.0,7.5,null,null,null,null,null,null,6.0,null,null,null,null,null,null,null,null,null,null,5.7,null,null,null,null,null,null,null,null,null,null,null,null,null,null,null,null,null,null,null,null,null,null,null,null,null,null,null,null,null,null,null,null],\"xaxis\":\"x\",\"y\":[5.0,185.0,57.0,1000.0,2188.0,2.0,6.0,23.0,200.0,3.0,18.0,2144.0,50.0,10.0,4.0,27.0,50.0,4.0,75.0,3022.0,17.0,1.0,12.0,10.0,2.0,1223.0,1790.0,75.0,1362.0,2.0,16.0,1.0,33.0,10000.0,1.0,3.0,2.0,4.0,2226.0,66.0,26.0,71.0,13.0,52.0,1.0,200.0,600.0,1.0,1.0,6800.0,189.0,1.0,100.0,600.0,100.0,2.0,1.0,2.0,3.0,170.0,208.0,238.0,1.0,81.0,1.0,9.0,110.0,12.0,155.0,5.0,54.0,26.0,2.0,227899.0,10.0,4.0,802.0,50.0,3.0,192.0,156.0,431.0,18428.0,1.0,10.0,8.0,1.0,1.0,5.0,5.0,2000.0,140.0,28.0,1.0,300.0,168.0,5.0,5.0,124.0,1.0,3.0,2.0,1169.0,11.0,1636.0,8.0,7.0,4340.0,1.0,128.0,27.0,437.0,50.0,1.0,2.0,9.0,355.0,3.0,2.0,6.0,300.0,3.0,43.0,1.0,1.0,1.0,10.0,4.0,5.0,7.0,3.0,7.0,1.0,4.0,9.0,1.0,5.0,1.0,61.0,15.0,26.0,1.0,20.0,41.0,73.0,1.0,2.0,2000.0,1.0,600.0,1239.0,9.0,1.0,8.0,1.0,2.0,4.0,1.0],\"yaxis\":\"y\",\"type\":\"scatter\"},{\"hovertemplate\":\"\\u003cb\\u003eOLS trendline\\u003c\\u002fb\\u003e\\u003cbr\\u003elog10(Deaths) = 0.694863 * Earthquake_Magnitude + -3.80325\\u003cbr\\u003eR\\u003csup\\u003e2\\u003c\\u002fsup\\u003e=0.206833\\u003cbr\\u003e\\u003cbr\\u003eEarthquake_Magnitude=%{x}\\u003cbr\\u003eDeaths=%{y} \\u003cb\\u003e(trend)\\u003c\\u002fb\\u003e\\u003cextra\\u003e\\u003c\\u002fextra\\u003e\",\"legendgroup\":\"\",\"line\":{\"color\":\"black\"},\"marker\":{\"color\":\"#636efa\",\"symbol\":\"circle\"},\"mode\":\"lines\",\"name\":\"\",\"showlegend\":false,\"x\":[5.2,5.5,5.7,6.0,6.1,6.1,6.2,6.3,6.4,6.5,6.6,6.7,6.8,6.8,6.9,6.9,6.9,6.9,7.0,7.0,7.0,7.0,7.0,7.0,7.0,7.1,7.1,7.1,7.2,7.2,7.2,7.2,7.2,7.2,7.3,7.3,7.3,7.4,7.5,7.5,7.5,7.5,7.5,7.5,7.6,7.6,7.6,7.6,7.6,7.6,7.6,7.6,7.6,7.6,7.7,7.7,7.7,7.7,7.7,7.7,7.8,7.8,7.8,7.8,7.8,7.8,7.8,7.8,7.9,7.9,7.9,7.9,7.9,7.9,7.9,8.0,8.0,8.0,8.0,8.1,8.1,8.1,8.1,8.1,8.1,8.2,8.2,8.2,8.2,8.3,8.3,8.3,8.3,8.3,8.3,8.4,8.4,8.4,8.5,8.6,8.6,8.6,8.8,8.8,9.0,9.1,9.1,9.2,9.5],\"xaxis\":\"x\",\"y\":[0.6457041254669884,1.0434998085960028,1.4370269582398232,2.3223289068906787,2.7252729079111493,2.7252729079111493,3.1981311521194145,3.7530343608766072,4.4042180398343325,5.168387677077245,6.065147306278409,7.117502429240942,8.352450199817984,8.352450199817984,9.801672009809158,9.801672009809158,9.801672009809158,9.801672009809158,11.502346244455298,11.502346244455298,11.502346244455298,11.502346244455298,11.502346244455298,11.502346244455298,11.502346244455298,13.498102057988639,13.498102057988639,13.498102057988639,15.840138637428545,15.840138637428545,15.840138637428545,15.840138637428545,15.840138637428545,15.840138637428545,18.5885386682537,18.5885386682537,18.5885386682537,21.813809697643926,25.598692937475874,25.598692937475874,25.598692937475874,25.598692937475874,25.598692937475874,25.598692937475874,30.040285910166155,30.040285910166155,30.040285910166155,30.040285910166155,30.040285910166155,30.040285910166155,30.040285910166155,30.040285910166155,30.040285910166155,30.040285910166155,35.252533391789214,35.252533391789214,35.252533391789214,35.252533391789214,35.252533391789214,35.252533391789214,41.3691505552098,41.3691505552098,41.3691505552098,41.3691505552098,41.3691505552098,41.3691505552098,41.3691505552098,41.3691505552098,48.54705330364233,48.54705330364233,48.54705330364233,48.54705330364233,48.54705330364233,48.54705330364233,48.54705330364233,56.97038379652868,56.97038379652868,56.97038379652868,56.97038379652868,66.85523443871452,66.85523443871452,66.85523443871452,66.85523443871452,66.85523443871452,66.85523443871452,78.45519152229814,78.45519152229814,78.45519152229814,78.45519152229814,92.0678407379293,92.0678407379293,92.0678407379293,92.0678407379293,92.0678407379293,92.0678407379293,108.04240144816339,108.04240144816339,108.04240144816339,126.7886855727802,148.7876109176075,148.7876109176075,148.7876109176075,204.89875147018697,204.89875147018697,282.17065987631264,331.1296916154381,331.1296916154381,388.583535642571,627.976234120115],\"yaxis\":\"y\",\"type\":\"scatter\"}],                        {\"template\":{\"data\":{\"barpolar\":[{\"marker\":{\"line\":{\"color\":\"white\",\"width\":0.5},\"pattern\":{\"fillmode\":\"overlay\",\"size\":10,\"solidity\":0.2}},\"type\":\"barpolar\"}],\"bar\":[{\"error_x\":{\"color\":\"#2a3f5f\"},\"error_y\":{\"color\":\"#2a3f5f\"},\"marker\":{\"line\":{\"color\":\"white\",\"width\":0.5},\"pattern\":{\"fillmode\":\"overlay\",\"size\":10,\"solidity\":0.2}},\"type\":\"bar\"}],\"carpet\":[{\"aaxis\":{\"endlinecolor\":\"#2a3f5f\",\"gridcolor\":\"#C8D4E3\",\"linecolor\":\"#C8D4E3\",\"minorgridcolor\":\"#C8D4E3\",\"startlinecolor\":\"#2a3f5f\"},\"baxis\":{\"endlinecolor\":\"#2a3f5f\",\"gridcolor\":\"#C8D4E3\",\"linecolor\":\"#C8D4E3\",\"minorgridcolor\":\"#C8D4E3\",\"startlinecolor\":\"#2a3f5f\"},\"type\":\"carpet\"}],\"choropleth\":[{\"colorbar\":{\"outlinewidth\":0,\"ticks\":\"\"},\"type\":\"choropleth\"}],\"contourcarpet\":[{\"colorbar\":{\"outlinewidth\":0,\"ticks\":\"\"},\"type\":\"contourcarpet\"}],\"contour\":[{\"colorbar\":{\"outlinewidth\":0,\"ticks\":\"\"},\"colorscale\":[[0.0,\"#0d0887\"],[0.1111111111111111,\"#46039f\"],[0.2222222222222222,\"#7201a8\"],[0.3333333333333333,\"#9c179e\"],[0.4444444444444444,\"#bd3786\"],[0.5555555555555556,\"#d8576b\"],[0.6666666666666666,\"#ed7953\"],[0.7777777777777778,\"#fb9f3a\"],[0.8888888888888888,\"#fdca26\"],[1.0,\"#f0f921\"]],\"type\":\"contour\"}],\"heatmapgl\":[{\"colorbar\":{\"outlinewidth\":0,\"ticks\":\"\"},\"colorscale\":[[0.0,\"#0d0887\"],[0.1111111111111111,\"#46039f\"],[0.2222222222222222,\"#7201a8\"],[0.3333333333333333,\"#9c179e\"],[0.4444444444444444,\"#bd3786\"],[0.5555555555555556,\"#d8576b\"],[0.6666666666666666,\"#ed7953\"],[0.7777777777777778,\"#fb9f3a\"],[0.8888888888888888,\"#fdca26\"],[1.0,\"#f0f921\"]],\"type\":\"heatmapgl\"}],\"heatmap\":[{\"colorbar\":{\"outlinewidth\":0,\"ticks\":\"\"},\"colorscale\":[[0.0,\"#0d0887\"],[0.1111111111111111,\"#46039f\"],[0.2222222222222222,\"#7201a8\"],[0.3333333333333333,\"#9c179e\"],[0.4444444444444444,\"#bd3786\"],[0.5555555555555556,\"#d8576b\"],[0.6666666666666666,\"#ed7953\"],[0.7777777777777778,\"#fb9f3a\"],[0.8888888888888888,\"#fdca26\"],[1.0,\"#f0f921\"]],\"type\":\"heatmap\"}],\"histogram2dcontour\":[{\"colorbar\":{\"outlinewidth\":0,\"ticks\":\"\"},\"colorscale\":[[0.0,\"#0d0887\"],[0.1111111111111111,\"#46039f\"],[0.2222222222222222,\"#7201a8\"],[0.3333333333333333,\"#9c179e\"],[0.4444444444444444,\"#bd3786\"],[0.5555555555555556,\"#d8576b\"],[0.6666666666666666,\"#ed7953\"],[0.7777777777777778,\"#fb9f3a\"],[0.8888888888888888,\"#fdca26\"],[1.0,\"#f0f921\"]],\"type\":\"histogram2dcontour\"}],\"histogram2d\":[{\"colorbar\":{\"outlinewidth\":0,\"ticks\":\"\"},\"colorscale\":[[0.0,\"#0d0887\"],[0.1111111111111111,\"#46039f\"],[0.2222222222222222,\"#7201a8\"],[0.3333333333333333,\"#9c179e\"],[0.4444444444444444,\"#bd3786\"],[0.5555555555555556,\"#d8576b\"],[0.6666666666666666,\"#ed7953\"],[0.7777777777777778,\"#fb9f3a\"],[0.8888888888888888,\"#fdca26\"],[1.0,\"#f0f921\"]],\"type\":\"histogram2d\"}],\"histogram\":[{\"marker\":{\"pattern\":{\"fillmode\":\"overlay\",\"size\":10,\"solidity\":0.2}},\"type\":\"histogram\"}],\"mesh3d\":[{\"colorbar\":{\"outlinewidth\":0,\"ticks\":\"\"},\"type\":\"mesh3d\"}],\"parcoords\":[{\"line\":{\"colorbar\":{\"outlinewidth\":0,\"ticks\":\"\"}},\"type\":\"parcoords\"}],\"pie\":[{\"automargin\":true,\"type\":\"pie\"}],\"scatter3d\":[{\"line\":{\"colorbar\":{\"outlinewidth\":0,\"ticks\":\"\"}},\"marker\":{\"colorbar\":{\"outlinewidth\":0,\"ticks\":\"\"}},\"type\":\"scatter3d\"}],\"scattercarpet\":[{\"marker\":{\"colorbar\":{\"outlinewidth\":0,\"ticks\":\"\"}},\"type\":\"scattercarpet\"}],\"scattergeo\":[{\"marker\":{\"colorbar\":{\"outlinewidth\":0,\"ticks\":\"\"}},\"type\":\"scattergeo\"}],\"scattergl\":[{\"marker\":{\"colorbar\":{\"outlinewidth\":0,\"ticks\":\"\"}},\"type\":\"scattergl\"}],\"scattermapbox\":[{\"marker\":{\"colorbar\":{\"outlinewidth\":0,\"ticks\":\"\"}},\"type\":\"scattermapbox\"}],\"scatterpolargl\":[{\"marker\":{\"colorbar\":{\"outlinewidth\":0,\"ticks\":\"\"}},\"type\":\"scatterpolargl\"}],\"scatterpolar\":[{\"marker\":{\"colorbar\":{\"outlinewidth\":0,\"ticks\":\"\"}},\"type\":\"scatterpolar\"}],\"scatter\":[{\"fillpattern\":{\"fillmode\":\"overlay\",\"size\":10,\"solidity\":0.2},\"type\":\"scatter\"}],\"scatterternary\":[{\"marker\":{\"colorbar\":{\"outlinewidth\":0,\"ticks\":\"\"}},\"type\":\"scatterternary\"}],\"surface\":[{\"colorbar\":{\"outlinewidth\":0,\"ticks\":\"\"},\"colorscale\":[[0.0,\"#0d0887\"],[0.1111111111111111,\"#46039f\"],[0.2222222222222222,\"#7201a8\"],[0.3333333333333333,\"#9c179e\"],[0.4444444444444444,\"#bd3786\"],[0.5555555555555556,\"#d8576b\"],[0.6666666666666666,\"#ed7953\"],[0.7777777777777778,\"#fb9f3a\"],[0.8888888888888888,\"#fdca26\"],[1.0,\"#f0f921\"]],\"type\":\"surface\"}],\"table\":[{\"cells\":{\"fill\":{\"color\":\"#EBF0F8\"},\"line\":{\"color\":\"white\"}},\"header\":{\"fill\":{\"color\":\"#C8D4E3\"},\"line\":{\"color\":\"white\"}},\"type\":\"table\"}]},\"layout\":{\"annotationdefaults\":{\"arrowcolor\":\"#2a3f5f\",\"arrowhead\":0,\"arrowwidth\":1},\"autotypenumbers\":\"strict\",\"coloraxis\":{\"colorbar\":{\"outlinewidth\":0,\"ticks\":\"\"}},\"colorscale\":{\"diverging\":[[0,\"#8e0152\"],[0.1,\"#c51b7d\"],[0.2,\"#de77ae\"],[0.3,\"#f1b6da\"],[0.4,\"#fde0ef\"],[0.5,\"#f7f7f7\"],[0.6,\"#e6f5d0\"],[0.7,\"#b8e186\"],[0.8,\"#7fbc41\"],[0.9,\"#4d9221\"],[1,\"#276419\"]],\"sequential\":[[0.0,\"#0d0887\"],[0.1111111111111111,\"#46039f\"],[0.2222222222222222,\"#7201a8\"],[0.3333333333333333,\"#9c179e\"],[0.4444444444444444,\"#bd3786\"],[0.5555555555555556,\"#d8576b\"],[0.6666666666666666,\"#ed7953\"],[0.7777777777777778,\"#fb9f3a\"],[0.8888888888888888,\"#fdca26\"],[1.0,\"#f0f921\"]],\"sequentialminus\":[[0.0,\"#0d0887\"],[0.1111111111111111,\"#46039f\"],[0.2222222222222222,\"#7201a8\"],[0.3333333333333333,\"#9c179e\"],[0.4444444444444444,\"#bd3786\"],[0.5555555555555556,\"#d8576b\"],[0.6666666666666666,\"#ed7953\"],[0.7777777777777778,\"#fb9f3a\"],[0.8888888888888888,\"#fdca26\"],[1.0,\"#f0f921\"]]},\"colorway\":[\"#636efa\",\"#EF553B\",\"#00cc96\",\"#ab63fa\",\"#FFA15A\",\"#19d3f3\",\"#FF6692\",\"#B6E880\",\"#FF97FF\",\"#FECB52\"],\"font\":{\"color\":\"#2a3f5f\"},\"geo\":{\"bgcolor\":\"white\",\"lakecolor\":\"white\",\"landcolor\":\"white\",\"showlakes\":true,\"showland\":true,\"subunitcolor\":\"#C8D4E3\"},\"hoverlabel\":{\"align\":\"left\"},\"hovermode\":\"closest\",\"mapbox\":{\"style\":\"light\"},\"paper_bgcolor\":\"white\",\"plot_bgcolor\":\"white\",\"polar\":{\"angularaxis\":{\"gridcolor\":\"#EBF0F8\",\"linecolor\":\"#EBF0F8\",\"ticks\":\"\"},\"bgcolor\":\"white\",\"radialaxis\":{\"gridcolor\":\"#EBF0F8\",\"linecolor\":\"#EBF0F8\",\"ticks\":\"\"}},\"scene\":{\"xaxis\":{\"backgroundcolor\":\"white\",\"gridcolor\":\"#DFE8F3\",\"gridwidth\":2,\"linecolor\":\"#EBF0F8\",\"showbackground\":true,\"ticks\":\"\",\"zerolinecolor\":\"#EBF0F8\"},\"yaxis\":{\"backgroundcolor\":\"white\",\"gridcolor\":\"#DFE8F3\",\"gridwidth\":2,\"linecolor\":\"#EBF0F8\",\"showbackground\":true,\"ticks\":\"\",\"zerolinecolor\":\"#EBF0F8\"},\"zaxis\":{\"backgroundcolor\":\"white\",\"gridcolor\":\"#DFE8F3\",\"gridwidth\":2,\"linecolor\":\"#EBF0F8\",\"showbackground\":true,\"ticks\":\"\",\"zerolinecolor\":\"#EBF0F8\"}},\"shapedefaults\":{\"line\":{\"color\":\"#2a3f5f\"}},\"ternary\":{\"aaxis\":{\"gridcolor\":\"#DFE8F3\",\"linecolor\":\"#A2B1C6\",\"ticks\":\"\"},\"baxis\":{\"gridcolor\":\"#DFE8F3\",\"linecolor\":\"#A2B1C6\",\"ticks\":\"\"},\"bgcolor\":\"white\",\"caxis\":{\"gridcolor\":\"#DFE8F3\",\"linecolor\":\"#A2B1C6\",\"ticks\":\"\"}},\"title\":{\"x\":0.05},\"xaxis\":{\"automargin\":true,\"gridcolor\":\"#EBF0F8\",\"linecolor\":\"#EBF0F8\",\"ticks\":\"\",\"title\":{\"standoff\":15},\"zerolinecolor\":\"#EBF0F8\",\"zerolinewidth\":2},\"yaxis\":{\"automargin\":true,\"gridcolor\":\"#EBF0F8\",\"linecolor\":\"#EBF0F8\",\"ticks\":\"\",\"title\":{\"standoff\":15},\"zerolinecolor\":\"#EBF0F8\",\"zerolinewidth\":2}}},\"xaxis\":{\"anchor\":\"y\",\"domain\":[0.0,1.0],\"title\":{\"text\":\"Earthquake_Magnitude\"}},\"yaxis\":{\"anchor\":\"x\",\"domain\":[0.0,1.0],\"title\":{\"text\":\"Deaths\"},\"type\":\"log\"},\"legend\":{\"tracegroupgap\":0},\"margin\":{\"t\":60}},                        {\"responsive\": true}                    ).then(function(){\n                            \nvar gd = document.getElementById('7bf1ee1e-5d1f-4b54-be34-23fb166fa467');\nvar x = new MutationObserver(function (mutations, observer) {{\n        var display = window.getComputedStyle(gd).display;\n        if (!display || display === 'none') {{\n            console.log([gd, 'removed!']);\n            Plotly.purge(gd);\n            observer.disconnect();\n        }}\n}});\n\n// Listen for the removal of the full notebook cells\nvar notebookContainer = gd.closest('#notebook-container');\nif (notebookContainer) {{\n    x.observe(notebookContainer, {childList: true});\n}}\n\n// Listen for the clearing of the current output cell\nvar outputEl = gd.closest('.output');\nif (outputEl) {{\n    x.observe(outputEl, {childList: true});\n}}\n\n                        })                };                });            </script>        </div>"
     },
     "metadata": {},
     "output_type": "display_data"
    }
   ],
   "source": [
    "fig = px.scatter(df[df.Deaths>0], x=\"Earthquake_Magnitude\", y=\"Deaths\",log_y=True, trendline=\"ols\",\n",
    "               trendline_options=dict(log_y=True),trendline_color_override=\"black\",template='plotly_white')\n",
    "fig.show()"
   ]
  },
  {
   "cell_type": "code",
   "execution_count": 230,
   "outputs": [
    {
     "name": "stderr",
     "output_type": "stream",
     "text": [
      "C:\\Users\\10mos\\anaconda3\\lib\\site-packages\\pandas\\core\\arraylike.py:364: RuntimeWarning:\n",
      "\n",
      "divide by zero encountered in log\n",
      "\n"
     ]
    },
    {
     "data": {
      "text/plain": "<AxesSubplot:xlabel='Earthquake_Magnitude', ylabel='Deaths_scaled'>"
     },
     "execution_count": 230,
     "metadata": {},
     "output_type": "execute_result"
    },
    {
     "data": {
      "text/plain": "<Figure size 1440x720 with 1 Axes>",
      "image/png": "[encoded data removed]"
     },
     "metadata": {},
     "output_type": "display_data"
    }
   ],
   "source": [
    "df['Deaths_scaled']=np.log(df['Deaths'])\n",
    "sns.regplot(data=df[df.Deaths>0], x=\"Earthquake_Magnitude\", y=\"Deaths_scaled\")\n"
   ],
   "metadata": {
    "collapsed": false,
    "ExecuteTime": {
     "end_time": "2023-11-07T15:51:39.531637500Z",
     "start_time": "2023-11-07T15:51:39.326718100Z"
    }
   },
   "id": "dac2768c69a14f36"
  },
  {
   "cell_type": "code",
   "execution_count": 227,
   "outputs": [
    {
     "data": {
      "text/plain": "0            NaN\n1       1.916923\n2       1.960095\n3       1.931521\n4       2.041220\n          ...   \n1364    1.808289\n1365    1.931521\n1366         NaN\n1367         NaN\n1368         NaN\nName: Earthquake_Magnitude, Length: 1369, dtype: float64"
     },
     "execution_count": 227,
     "metadata": {},
     "output_type": "execute_result"
    }
   ],
   "source": [
    "np.log(df['Earthquake_Magnitude'])"
   ],
   "metadata": {
    "collapsed": false,
    "ExecuteTime": {
     "end_time": "2023-11-07T15:49:24.802952200Z",
     "start_time": "2023-11-07T15:49:24.760887800Z"
    }
   },
   "id": "48cfddc8cadb4d55"
  },
  {
   "cell_type": "markdown",
   "id": "2abca1a9",
   "metadata": {},
   "source": [
    "<br>**From the plot above, it's evident that there is a positive correlation between the magnitude of the earthquake and the number of deaths caused by the tsunami.**  \n",
    "<br>"
   ]
  },
  {
   "cell_type": "code",
   "execution_count": null,
   "id": "f31943f8",
   "metadata": {
    "ExecuteTime": {
     "start_time": "2023-11-07T15:04:19.789684Z"
    }
   },
   "outputs": [],
   "source": [
    "def cat_Deaths_size(Deaths):\n",
    "    if Deaths < 100:\n",
    "        return 0.5\n",
    "    elif Deaths >= 100 and Deaths < 500:\n",
    "        return 1.5\n",
    "    elif Deaths >= 500 and Deaths < 1000:\n",
    "        return 3.5\n",
    "    else:\n",
    "        return 6\n",
    "\n",
    "# Apply the function to the Age column using the apply() function\n",
    "df['Deaths_grp_size'] = df['Deaths'].apply(cat_Deaths_size)\n",
    "\n",
    "\n",
    "fig = px.scatter_mapbox(\n",
    "                        df[(df.Tsunami_Event_Validity<4) & (df.Tsunami_Event_Validity!=-1)],\n",
    "                        lat='Latitude',\n",
    "                        lon='Longitude',\n",
    "                        hover_name='Country',\n",
    "                        color='Deaths_grp',\n",
    "                        size='Deaths_grp_size',\n",
    "                        labels={\"Deaths_grp\": \"Number of Deaths\"},\n",
    "                        hover_data = {'Latitude':False,'Longitude':False,'Deaths_grp_size':False},\n",
    "                        #color_continuous_scale = px.colors.diverging.Geyser,\n",
    "                        center=dict(lat=0, lon=210), zoom=0.5,\n",
    "                        )\n",
    "\n",
    "fig.update_layout(\n",
    "                  mapbox_style=\"carto-positron\",\n",
    "                  width=1000, \n",
    "                  height=500,\n",
    "                  title_text=\"<b>World Tsunami's locations\",\n",
    "                  title_x=0.5\n",
    "                 )\n",
    "\n",
    "\n",
    "\n",
    "fig.show()"
   ]
  },
  {
   "cell_type": "markdown",
   "id": "f51dac42",
   "metadata": {},
   "source": [
    "* The majority of tsunamis occured around Pacific Ocean and Mediterranean Sea.  \n",
    "* The most fatal tsunamis occured at the east and southeast of asia.    \n",
    "* Interestingly, a significant number of tsunamis were recorded in the western part of North America, although most of them did not result in any fatalities."
   ]
  }
 ],
 "metadata": {
  "kernelspec": {
   "display_name": "Python 3 (ipykernel)",
   "language": "python",
   "name": "python3"
  },
  "language_info": {
   "codemirror_mode": {
    "name": "ipython",
    "version": 3
   },
   "file_extension": ".py",
   "mimetype": "text/x-python",
   "name": "python",
   "nbconvert_exporter": "python",
   "pygments_lexer": "ipython3",
   "version": "3.9.7"
  }
 },
 "nbformat": 4,
 "nbformat_minor": 5
}
