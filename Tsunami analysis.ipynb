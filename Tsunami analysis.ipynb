{
 "cells": [
  {
   "cell_type": "markdown",
   "id": "1d5bc66c",
   "metadata": {},
   "source": [
    "# Tsunami data analysis"
   ]
  },
  {
   "cell_type": "markdown",
   "id": "382bc0d8",
   "metadata": {},
   "source": [
    "**In this notebook ill present a detailed analysis of NOAA Tsunami dataset and use Plotly package for dynamic visualizations. \n",
    "You can put the mouse on the plot figure's to gain information about the data.  \n",
    "<br>**"
   ]
  },
  {
   "cell_type": "code",
   "execution_count": 38,
   "id": "68bc121e",
   "metadata": {
    "ExecuteTime": {
     "end_time": "2023-10-29T14:43:31.378968500Z",
     "start_time": "2023-10-29T14:43:31.062675100Z"
    }
   },
   "outputs": [],
   "source": [
    "import numpy as np\n",
    "import pandas as pd\n",
    "import matplotlib.pyplot as plt\n",
    "plt.style.use('seaborn-white')\n",
    "import plotly.express as px\n",
    "import re\n",
    "import plotly.graph_objects as go\n",
    "import seaborn as sns\n",
    "\n",
    "from plotly.subplots import make_subplots\n"
   ]
  },
  {
   "cell_type": "code",
   "execution_count": 37,
   "id": "a98d7eb3",
   "metadata": {
    "scrolled": false,
    "ExecuteTime": {
     "end_time": "2023-10-29T14:24:25.704717800Z",
     "start_time": "2023-10-29T14:24:25.657545200Z"
    }
   },
   "outputs": [
    {
     "data": {
      "text/plain": "   Sr.no  Year    Mo    Dy    Hr    Mn  Sec  TsunamiNanEventNanValidity  \\\n0      1  1900   1.0  10.0   NaN   NaN  NaN                           1   \n1      2  1900   8.0  11.0   4.0  40.0  NaN                           4   \n2      3  1900   9.0  10.0  21.0  30.0  NaN                           4   \n3      4  1900   9.0  17.0  21.0  45.0  NaN                           3   \n4      5  1900  10.0   7.0  21.0   4.0  NaN                           3   \n\n   TsunamiNanCauseNanCode  EarthquakeNanMagnitude  ...  TotalNanMissing  \\\n0                       1                     NaN  ...              NaN   \n1                       3                     NaN  ...              NaN   \n2                       1                     6.8  ...              NaN   \n3                       1                     7.1  ...              NaN   \n4                       1                     6.9  ...              NaN   \n\n   TotalNanMissingNanDescription  TotalNanInjuries  \\\n0                            NaN               NaN   \n1                            NaN               NaN   \n2                            NaN               NaN   \n3                            NaN               NaN   \n4                            NaN               NaN   \n\n  TotalNanInjuriesNanDescription TotalNanDamageNan($Mil)  \\\n0                            NaN                     NaN   \n1                            NaN                     NaN   \n2                            NaN                     NaN   \n3                            NaN                     NaN   \n4                            NaN                     NaN   \n\n   TotalNanDamageNanDescription  TotalNanHousesNanDestroyed  \\\n0                           NaN                         NaN   \n1                           1.0                         NaN   \n2                           1.0                         NaN   \n3                           NaN                         NaN   \n4                           1.0                         1.0   \n\n   TotalNanHousesNanDestroyedNanDescription  TotalNanHousesNanDamaged  \\\n0                                       NaN                       NaN   \n1                                       NaN                       NaN   \n2                                       NaN                       NaN   \n3                                       NaN                       NaN   \n4                                       1.0                       NaN   \n\n   TotalNanHousesNanDamagedNanDescription  \n0                                     NaN  \n1                                     NaN  \n2                                     1.0  \n3                                     NaN  \n4                                     NaN  \n\n[5 rows x 46 columns]",
      "text/html": "<div>\n<style scoped>\n    .dataframe tbody tr th:only-of-type {\n        vertical-align: middle;\n    }\n\n    .dataframe tbody tr th {\n        vertical-align: top;\n    }\n\n    .dataframe thead th {\n        text-align: right;\n    }\n</style>\n<table border=\"1\" class=\"dataframe\">\n  <thead>\n    <tr style=\"text-align: right;\">\n      <th></th>\n      <th>Sr.no</th>\n      <th>Year</th>\n      <th>Mo</th>\n      <th>Dy</th>\n      <th>Hr</th>\n      <th>Mn</th>\n      <th>Sec</th>\n      <th>TsunamiNanEventNanValidity</th>\n      <th>TsunamiNanCauseNanCode</th>\n      <th>EarthquakeNanMagnitude</th>\n      <th>...</th>\n      <th>TotalNanMissing</th>\n      <th>TotalNanMissingNanDescription</th>\n      <th>TotalNanInjuries</th>\n      <th>TotalNanInjuriesNanDescription</th>\n      <th>TotalNanDamageNan($Mil)</th>\n      <th>TotalNanDamageNanDescription</th>\n      <th>TotalNanHousesNanDestroyed</th>\n      <th>TotalNanHousesNanDestroyedNanDescription</th>\n      <th>TotalNanHousesNanDamaged</th>\n      <th>TotalNanHousesNanDamagedNanDescription</th>\n    </tr>\n  </thead>\n  <tbody>\n    <tr>\n      <th>0</th>\n      <td>1</td>\n      <td>1900</td>\n      <td>1.0</td>\n      <td>10.0</td>\n      <td>NaN</td>\n      <td>NaN</td>\n      <td>NaN</td>\n      <td>1</td>\n      <td>1</td>\n      <td>NaN</td>\n      <td>...</td>\n      <td>NaN</td>\n      <td>NaN</td>\n      <td>NaN</td>\n      <td>NaN</td>\n      <td>NaN</td>\n      <td>NaN</td>\n      <td>NaN</td>\n      <td>NaN</td>\n      <td>NaN</td>\n      <td>NaN</td>\n    </tr>\n    <tr>\n      <th>1</th>\n      <td>2</td>\n      <td>1900</td>\n      <td>8.0</td>\n      <td>11.0</td>\n      <td>4.0</td>\n      <td>40.0</td>\n      <td>NaN</td>\n      <td>4</td>\n      <td>3</td>\n      <td>NaN</td>\n      <td>...</td>\n      <td>NaN</td>\n      <td>NaN</td>\n      <td>NaN</td>\n      <td>NaN</td>\n      <td>NaN</td>\n      <td>1.0</td>\n      <td>NaN</td>\n      <td>NaN</td>\n      <td>NaN</td>\n      <td>NaN</td>\n    </tr>\n    <tr>\n      <th>2</th>\n      <td>3</td>\n      <td>1900</td>\n      <td>9.0</td>\n      <td>10.0</td>\n      <td>21.0</td>\n      <td>30.0</td>\n      <td>NaN</td>\n      <td>4</td>\n      <td>1</td>\n      <td>6.8</td>\n      <td>...</td>\n      <td>NaN</td>\n      <td>NaN</td>\n      <td>NaN</td>\n      <td>NaN</td>\n      <td>NaN</td>\n      <td>1.0</td>\n      <td>NaN</td>\n      <td>NaN</td>\n      <td>NaN</td>\n      <td>1.0</td>\n    </tr>\n    <tr>\n      <th>3</th>\n      <td>4</td>\n      <td>1900</td>\n      <td>9.0</td>\n      <td>17.0</td>\n      <td>21.0</td>\n      <td>45.0</td>\n      <td>NaN</td>\n      <td>3</td>\n      <td>1</td>\n      <td>7.1</td>\n      <td>...</td>\n      <td>NaN</td>\n      <td>NaN</td>\n      <td>NaN</td>\n      <td>NaN</td>\n      <td>NaN</td>\n      <td>NaN</td>\n      <td>NaN</td>\n      <td>NaN</td>\n      <td>NaN</td>\n      <td>NaN</td>\n    </tr>\n    <tr>\n      <th>4</th>\n      <td>5</td>\n      <td>1900</td>\n      <td>10.0</td>\n      <td>7.0</td>\n      <td>21.0</td>\n      <td>4.0</td>\n      <td>NaN</td>\n      <td>3</td>\n      <td>1</td>\n      <td>6.9</td>\n      <td>...</td>\n      <td>NaN</td>\n      <td>NaN</td>\n      <td>NaN</td>\n      <td>NaN</td>\n      <td>NaN</td>\n      <td>1.0</td>\n      <td>1.0</td>\n      <td>1.0</td>\n      <td>NaN</td>\n      <td>NaN</td>\n    </tr>\n  </tbody>\n</table>\n<p>5 rows × 46 columns</p>\n</div>"
     },
     "execution_count": 37,
     "metadata": {},
     "output_type": "execute_result"
    }
   ],
   "source": [
    "df = pd.read_csv('./data/tsunamis.csv')\n",
    "df.head()"
   ]
  },
  {
   "cell_type": "code",
   "execution_count": 10,
   "id": "d46f3054",
   "metadata": {
    "scrolled": true,
    "ExecuteTime": {
     "end_time": "2023-10-29T14:17:37.117536300Z",
     "start_time": "2023-10-29T14:17:36.562394Z"
    }
   },
   "outputs": [
    {
     "name": "stdout",
     "output_type": "stream",
     "text": [
      "<class 'pandas.core.frame.DataFrame'>\n",
      "RangeIndex: 1443 entries, 0 to 1442\n",
      "Data columns (total 46 columns):\n",
      " #   Column                                    Non-Null Count  Dtype  \n",
      "---  ------                                    --------------  -----  \n",
      " 0   Sr.no                                     1443 non-null   int64  \n",
      " 1   Year                                      1443 non-null   int64  \n",
      " 2   Mo                                        1431 non-null   float64\n",
      " 3   Dy                                        1409 non-null   float64\n",
      " 4   Hr                                        1132 non-null   float64\n",
      " 5   Mn                                        1119 non-null   float64\n",
      " 6   Sec                                       964 non-null    float64\n",
      " 7   TsunamiNanEventNanValidity                1443 non-null   int64  \n",
      " 8   TsunamiNanCauseNanCode                    1443 non-null   int64  \n",
      " 9   EarthquakeNanMagnitude                    1057 non-null   float64\n",
      " 10  Vol                                       92 non-null     float64\n",
      " 11  MoreNanInfo                               0 non-null      float64\n",
      " 12  Deposits                                  1443 non-null   int64  \n",
      " 13  Country                                   1443 non-null   object \n",
      " 14  LocationNanName                           1443 non-null   object \n",
      " 15  Latitude                                  1349 non-null   float64\n",
      " 16  Longitude                                 1349 non-null   float64\n",
      " 17  MaximumNanWaterNanHeightNan(m)            972 non-null    float64\n",
      " 18  NumberNanofNanRunups                      1443 non-null   int64  \n",
      " 19  TsunamiNanMagnitudeNan(Abe)               1 non-null      float64\n",
      " 20  TsunamiNanMagnitudeNan(Iida)              446 non-null    float64\n",
      " 21  TsunamiNanIntensity                       510 non-null    float64\n",
      " 22  Deaths                                    163 non-null    float64\n",
      " 23  DeathNanDescription                       173 non-null    float64\n",
      " 24  Missing                                   4 non-null      float64\n",
      " 25  MissingNanDescription                     5 non-null      float64\n",
      " 26  Injuries                                  61 non-null     float64\n",
      " 27  InjuriesNanDescription                    72 non-null     float64\n",
      " 28  DamageNan($Mil)                           47 non-null     float64\n",
      " 29  DamageNanDescription                      320 non-null    float64\n",
      " 30  HousesNanDestroyed                        57 non-null     float64\n",
      " 31  HousesNanDestroyedNanDescription          131 non-null    float64\n",
      " 32  HousesNanDamaged                          14 non-null     float64\n",
      " 33  HousesNanDamagedNanDescription            40 non-null     float64\n",
      " 34  TotalNanDeaths                            411 non-null    float64\n",
      " 35  TotalNanDeathNanDescription               434 non-null    float64\n",
      " 36  TotalNanMissing                           9 non-null      float64\n",
      " 37  TotalNanMissingNanDescription             10 non-null     float64\n",
      " 38  TotalNanInjuries                          279 non-null    float64\n",
      " 39  TotalNanInjuriesNanDescription            318 non-null    float64\n",
      " 40  TotalNanDamageNan($Mil)                   153 non-null    float64\n",
      " 41  TotalNanDamageNanDescription              692 non-null    float64\n",
      " 42  TotalNanHousesNanDestroyed                166 non-null    float64\n",
      " 43  TotalNanHousesNanDestroyedNanDescription  345 non-null    float64\n",
      " 44  TotalNanHousesNanDamaged                  85 non-null     float64\n",
      " 45  TotalNanHousesNanDamagedNanDescription    180 non-null    float64\n",
      "dtypes: float64(38), int64(6), object(2)\n",
      "memory usage: 518.7+ KB\n"
     ]
    }
   ],
   "source": [
    "df.info()"
   ]
  },
  {
   "cell_type": "markdown",
   "id": "b2227510",
   "metadata": {},
   "source": [
    "<br>**Lets Replace all Nan substring in columns name with _ and space in Country column**  \n",
    "<br>"
   ]
  },
  {
   "cell_type": "code",
   "execution_count": 11,
   "id": "7ec9f9a7",
   "metadata": {
    "ExecuteTime": {
     "end_time": "2023-10-29T14:17:37.118534100Z",
     "start_time": "2023-10-29T14:17:36.577102500Z"
    }
   },
   "outputs": [],
   "source": [
    "pattern = re.compile(r'Nan')\n",
    "res = [pattern.sub('_', sub) for sub in df.columns]\n",
    "res2 = [pattern.sub(' ', sub) for sub in df.Country]\n",
    "df.columns=res\n",
    "df.Country=res2"
   ]
  },
  {
   "cell_type": "markdown",
   "id": "881eb3b0",
   "metadata": {},
   "source": [
    "<br>**There are many interesting columns in this dataset, for this project i choose the following columns:**  \n",
    "<br>"
   ]
  },
  {
   "cell_type": "code",
   "execution_count": 12,
   "id": "e7967b3a",
   "metadata": {
    "ExecuteTime": {
     "end_time": "2023-10-29T14:17:37.130623500Z",
     "start_time": "2023-10-29T14:17:36.591511900Z"
    }
   },
   "outputs": [
    {
     "data": {
      "text/plain": "Index(['Sr.no', 'Year', 'Mo', 'Dy', 'Hr', 'Mn', 'Sec',\n       'Tsunami_Event_Validity', 'Tsunami_Cause_Code', 'Earthquake_Magnitude',\n       'Vol', 'More_Info', 'Deposits', 'Country', 'Location_Name', 'Latitude',\n       'Longitude', 'Maximum_Water_Height_(m)', 'Number_of_Runups',\n       'Tsunami_Magnitude_(Abe)', 'Tsunami_Magnitude_(Iida)',\n       'Tsunami_Intensity', 'Deaths', 'Death_Description', 'Missing',\n       'Missing_Description', 'Injuries', 'Injuries_Description',\n       'Damage_($Mil)', 'Damage_Description', 'Houses_Destroyed',\n       'Houses_Destroyed_Description', 'Houses_Damaged',\n       'Houses_Damaged_Description', 'Total_Deaths', 'Total_Death_Description',\n       'Total_Missing', 'Total_Missing_Description', 'Total_Injuries',\n       'Total_Injuries_Description', 'Total_Damage_($Mil)',\n       'Total_Damage_Description', 'Total_Houses_Destroyed',\n       'Total_Houses_Destroyed_Description', 'Total_Houses_Damaged',\n       'Total_Houses_Damaged_Description'],\n      dtype='object')"
     },
     "execution_count": 12,
     "metadata": {},
     "output_type": "execute_result"
    }
   ],
   "source": [
    "df.columns"
   ]
  },
  {
   "cell_type": "code",
   "execution_count": 13,
   "id": "c17bfe4f",
   "metadata": {
    "ExecuteTime": {
     "end_time": "2023-10-29T14:17:37.137623Z",
     "start_time": "2023-10-29T14:17:36.607178300Z"
    }
   },
   "outputs": [],
   "source": [
    "df=df[['Sr.no','Year','Mo','Dy','Tsunami_Cause_Code','Tsunami_Event_Validity','Earthquake_Magnitude','Country','Latitude','Longitude','Deaths']]"
   ]
  },
  {
   "cell_type": "markdown",
   "id": "d631c46b",
   "metadata": {},
   "source": [
    "The meaning of Tsunami cause code :<br>\n",
    "1 Earthquake<br>\n",
    "2 Questionable Earthquake<br>\n",
    "3 Earthquake and Landslide<br>\n",
    "4 Volcano and Earthquake<br>\n",
    "5 Volcano, Earthquake, and Landslide<br>\n",
    "6 Volcano<br>\n",
    "7 Volcano and Landslide<br>\n",
    "8 Landslide<br>\n",
    "9 Meteorological<br>\n",
    "10 Explosion<br>"
   ]
  },
  {
   "cell_type": "code",
   "execution_count": 14,
   "id": "f3b2b670",
   "metadata": {
    "ExecuteTime": {
     "end_time": "2023-10-29T14:17:37.154623600Z",
     "start_time": "2023-10-29T14:17:36.625610900Z"
    }
   },
   "outputs": [],
   "source": [
    "data=[[1,'Earthquake'],[2,'Questionable Earthquake'],[3,'Earthquake and Landslide'],[4,'Volcano and Earthquake']\n",
    "     ,[5,'Volcano, Earthquake, and Landslide'],[6,'Volcano'],[7,'Volcano and Landslide'],[8,'Landslide'],\n",
    "      [9,'Meteorological'],[10,'Explosion']]\n",
    "df_for_merge = pd.DataFrame(data, columns=['Tsunami_Cause_Code','Cause']) \n",
    "df=df.merge(df_for_merge,how='inner',on='Tsunami_Cause_Code')"
   ]
  },
  {
   "cell_type": "code",
   "execution_count": 15,
   "id": "2c72d9e7",
   "metadata": {
    "ExecuteTime": {
     "end_time": "2023-10-29T14:17:37.159627100Z",
     "start_time": "2023-10-29T14:17:36.636562400Z"
    }
   },
   "outputs": [],
   "source": [
    "# code_to_cause_map = {1: \"e\", 2: \"qe\"}\n",
    "\n",
    "# df['Cause'] = df.apply(lambda row: code_to_cause_map[row['Tsunami_Cause_Code']], axis=1)"
   ]
  },
  {
   "cell_type": "code",
   "execution_count": 16,
   "id": "13ccf790",
   "metadata": {
    "scrolled": true,
    "ExecuteTime": {
     "end_time": "2023-10-29T14:17:37.177330600Z",
     "start_time": "2023-10-29T14:17:36.654549800Z"
    }
   },
   "outputs": [
    {
     "data": {
      "text/plain": "             Sr.no         Year           Mo           Dy  Tsunami_Cause_Code  \\\ncount  1369.000000  1369.000000  1363.000000  1351.000000         1369.000000   \nmean    737.638422  1964.653762     6.597212    15.613620            2.306793   \nstd     414.700582    37.135124     3.461756     8.619457            2.595141   \nmin       1.000000  1900.000000     1.000000     1.000000            1.000000   \n25%     387.000000  1931.000000     4.000000     8.000000            1.000000   \n50%     745.000000  1966.000000     7.000000    16.000000            1.000000   \n75%    1097.000000  1998.000000    10.000000    23.000000            1.000000   \nmax    1443.000000  2023.000000    12.000000    31.000000           10.000000   \n\n       Tsunami_Event_Validity  Earthquake_Magnitude     Latitude    Longitude  \\\ncount             1369.000000           1053.000000  1293.000000  1293.000000   \nmean                 2.906501              7.018898    14.278903    42.539183   \nstd                  1.447935              0.768296    28.856351   113.912522   \nmin                 -1.000000              3.700000   -63.000000  -179.971000   \n25%                  2.000000              6.600000    -8.337000   -71.417000   \n50%                  4.000000              7.100000    16.029000   101.000000   \n75%                  4.000000              7.600000    38.650000   142.214000   \nmax                  4.000000              9.500000    78.370000   179.984000   \n\n              Deaths  \ncount     158.000000  \nmean     1893.930380  \nstd     18185.777671  \nmin         1.000000  \n25%         2.000000  \n50%        10.000000  \n75%       127.000000  \nmax    227899.000000  ",
      "text/html": "<div>\n<style scoped>\n    .dataframe tbody tr th:only-of-type {\n        vertical-align: middle;\n    }\n\n    .dataframe tbody tr th {\n        vertical-align: top;\n    }\n\n    .dataframe thead th {\n        text-align: right;\n    }\n</style>\n<table border=\"1\" class=\"dataframe\">\n  <thead>\n    <tr style=\"text-align: right;\">\n      <th></th>\n      <th>Sr.no</th>\n      <th>Year</th>\n      <th>Mo</th>\n      <th>Dy</th>\n      <th>Tsunami_Cause_Code</th>\n      <th>Tsunami_Event_Validity</th>\n      <th>Earthquake_Magnitude</th>\n      <th>Latitude</th>\n      <th>Longitude</th>\n      <th>Deaths</th>\n    </tr>\n  </thead>\n  <tbody>\n    <tr>\n      <th>count</th>\n      <td>1369.000000</td>\n      <td>1369.000000</td>\n      <td>1363.000000</td>\n      <td>1351.000000</td>\n      <td>1369.000000</td>\n      <td>1369.000000</td>\n      <td>1053.000000</td>\n      <td>1293.000000</td>\n      <td>1293.000000</td>\n      <td>158.000000</td>\n    </tr>\n    <tr>\n      <th>mean</th>\n      <td>737.638422</td>\n      <td>1964.653762</td>\n      <td>6.597212</td>\n      <td>15.613620</td>\n      <td>2.306793</td>\n      <td>2.906501</td>\n      <td>7.018898</td>\n      <td>14.278903</td>\n      <td>42.539183</td>\n      <td>1893.930380</td>\n    </tr>\n    <tr>\n      <th>std</th>\n      <td>414.700582</td>\n      <td>37.135124</td>\n      <td>3.461756</td>\n      <td>8.619457</td>\n      <td>2.595141</td>\n      <td>1.447935</td>\n      <td>0.768296</td>\n      <td>28.856351</td>\n      <td>113.912522</td>\n      <td>18185.777671</td>\n    </tr>\n    <tr>\n      <th>min</th>\n      <td>1.000000</td>\n      <td>1900.000000</td>\n      <td>1.000000</td>\n      <td>1.000000</td>\n      <td>1.000000</td>\n      <td>-1.000000</td>\n      <td>3.700000</td>\n      <td>-63.000000</td>\n      <td>-179.971000</td>\n      <td>1.000000</td>\n    </tr>\n    <tr>\n      <th>25%</th>\n      <td>387.000000</td>\n      <td>1931.000000</td>\n      <td>4.000000</td>\n      <td>8.000000</td>\n      <td>1.000000</td>\n      <td>2.000000</td>\n      <td>6.600000</td>\n      <td>-8.337000</td>\n      <td>-71.417000</td>\n      <td>2.000000</td>\n    </tr>\n    <tr>\n      <th>50%</th>\n      <td>745.000000</td>\n      <td>1966.000000</td>\n      <td>7.000000</td>\n      <td>16.000000</td>\n      <td>1.000000</td>\n      <td>4.000000</td>\n      <td>7.100000</td>\n      <td>16.029000</td>\n      <td>101.000000</td>\n      <td>10.000000</td>\n    </tr>\n    <tr>\n      <th>75%</th>\n      <td>1097.000000</td>\n      <td>1998.000000</td>\n      <td>10.000000</td>\n      <td>23.000000</td>\n      <td>1.000000</td>\n      <td>4.000000</td>\n      <td>7.600000</td>\n      <td>38.650000</td>\n      <td>142.214000</td>\n      <td>127.000000</td>\n    </tr>\n    <tr>\n      <th>max</th>\n      <td>1443.000000</td>\n      <td>2023.000000</td>\n      <td>12.000000</td>\n      <td>31.000000</td>\n      <td>10.000000</td>\n      <td>4.000000</td>\n      <td>9.500000</td>\n      <td>78.370000</td>\n      <td>179.984000</td>\n      <td>227899.000000</td>\n    </tr>\n  </tbody>\n</table>\n</div>"
     },
     "execution_count": 16,
     "metadata": {},
     "output_type": "execute_result"
    }
   ],
   "source": [
    "df.describe()"
   ]
  },
  {
   "cell_type": "code",
   "execution_count": 17,
   "id": "c2d66b8a",
   "metadata": {
    "ExecuteTime": {
     "end_time": "2023-10-29T14:17:37.181314900Z",
     "start_time": "2023-10-29T14:17:36.719402400Z"
    }
   },
   "outputs": [],
   "source": [
    "# df.columns"
   ]
  },
  {
   "cell_type": "code",
   "execution_count": 18,
   "id": "8bb5a80e",
   "metadata": {
    "scrolled": false,
    "ExecuteTime": {
     "end_time": "2023-10-29T14:17:37.199258500Z",
     "start_time": "2023-10-29T14:17:36.751903800Z"
    }
   },
   "outputs": [
    {
     "data": {
      "text/plain": "Sr.no                        0\nYear                         0\nMo                           6\nDy                          18\nTsunami_Cause_Code           0\nTsunami_Event_Validity       0\nEarthquake_Magnitude       316\nCountry                      0\nLatitude                    76\nLongitude                   76\nDeaths                    1211\nCause                        0\ndtype: int64"
     },
     "execution_count": 18,
     "metadata": {},
     "output_type": "execute_result"
    }
   ],
   "source": [
    "df.isna().sum()"
   ]
  },
  {
   "cell_type": "code",
   "execution_count": 19,
   "id": "641ab313",
   "metadata": {
    "ExecuteTime": {
     "end_time": "2023-10-29T14:17:37.200257600Z",
     "start_time": "2023-10-29T14:17:36.783770Z"
    }
   },
   "outputs": [
    {
     "data": {
      "text/plain": "1.0       29\n2.0       12\n5.0        8\n3.0        8\n4.0        7\n          ..\n81.0       1\n23.0       1\n110.0      1\n155.0      1\n1239.0     1\nName: Deaths, Length: 73, dtype: int64"
     },
     "execution_count": 19,
     "metadata": {},
     "output_type": "execute_result"
    }
   ],
   "source": [
    "df['Deaths'].value_counts(ascending=False)"
   ]
  },
  {
   "cell_type": "code",
   "execution_count": 20,
   "id": "e6ebddf1",
   "metadata": {
    "scrolled": true,
    "ExecuteTime": {
     "end_time": "2023-10-29T14:17:37.201257100Z",
     "start_time": "2023-10-29T14:17:36.818019800Z"
    }
   },
   "outputs": [
    {
     "data": {
      "text/plain": "Earthquake                            1043\nLandslide                               94\nEarthquake and Landslide                70\nMeteorological                          70\nVolcano                                 67\nVolcano and Landslide                   10\nQuestionable Earthquake                  8\nVolcano and Earthquake                   5\nExplosion                                1\nVolcano, Earthquake, and Landslide       1\nName: Cause, dtype: int64"
     },
     "execution_count": 20,
     "metadata": {},
     "output_type": "execute_result"
    }
   ],
   "source": [
    "df['Cause'].value_counts(ascending=False)"
   ]
  },
  {
   "cell_type": "markdown",
   "id": "6d821b94",
   "metadata": {},
   "source": [
    "<br>**A significant portion of the missing values exists within the \"Death\" and \"Earthquake_Magnitude\" columns.<br> It appears that in the case of the \"Death\" column, these missing values may arise either from a death count of 0 or from historical tsunamis where data precision is lacking.<br> As for the \"Earthquake_Magnitude\" column, it's worth noting that not all tsunamis are triggered by earthquakes, which could explain the presence of missing data in this particular column.**  \n",
    "<br>"
   ]
  },
  {
   "cell_type": "code",
   "execution_count": 21,
   "id": "06021dff",
   "metadata": {
    "ExecuteTime": {
     "end_time": "2023-10-29T14:17:37.202257300Z",
     "start_time": "2023-10-29T14:17:36.853288600Z"
    }
   },
   "outputs": [],
   "source": [
    "df['Deaths']=df['Deaths'].fillna(0)"
   ]
  },
  {
   "cell_type": "code",
   "execution_count": 50,
   "id": "bebef527",
   "metadata": {
    "scrolled": false,
    "ExecuteTime": {
     "end_time": "2023-10-29T14:58:47.906761200Z",
     "start_time": "2023-10-29T14:58:47.565286400Z"
    }
   },
   "outputs": [
    {
     "data": {
      "text/plain": "<Figure size 1440x576 with 1 Axes>",
      "image/png": "[encoded data removed]"
     },
     "metadata": {},
     "output_type": "display_data"
    }
   ],
   "source": [
    "#df_cnt_year=df.groupby(['Year'])['Sr.no'].count().reset_index()\n",
    "#fig = px.bar(df_cnt_year, x=\"Year\", y=\"Sr.no\",template='plotly_white', labels={\n",
    "#                     \"Sr.no\": \"Count\"},\n",
    "#             title=\"<b>Number of Tsunamis in Different Years\")\n",
    "#fig.show()\n",
    "\n",
    "df_cnt_year = df.groupby(['Year'])['Sr.no'].count().reset_index()\n",
    "plt.figure(figsize=(20,8))\n",
    "plt.bar(df_cnt_year['Year'], df_cnt_year['Sr.no'])\n",
    "plt.xlabel('Year')\n",
    "plt.ylabel('Count')\n",
    "plt.title('Number of Tsunamis in Different Years')\n",
    "plt.show()"
   ]
  },
  {
   "cell_type": "markdown",
   "id": "61930ce7",
   "metadata": {},
   "source": [
    "**<br>It's evident that There is a noticeable increase in the frequency of tsunami occurrences every 5 to 10 years.  \n",
    "<br>**"
   ]
  },
  {
   "cell_type": "code",
   "execution_count": 23,
   "id": "6086c499",
   "metadata": {
    "ExecuteTime": {
     "end_time": "2023-10-29T14:17:37.939204600Z",
     "start_time": "2023-10-29T14:17:37.457340200Z"
    }
   },
   "outputs": [
    {
     "data": {
      "application/vnd.plotly.v1+json": {
       "data": [
        {
         "hovertemplate": "Month=%{x}<br>Count=%{y}<extra></extra>",
         "legendgroup": "",
         "line": {
          "color": "#636efa",
          "dash": "solid"
         },
         "marker": {
          "symbol": "circle"
         },
         "mode": "lines",
         "name": "",
         "orientation": "v",
         "showlegend": false,
         "x": [
          1.0,
          2.0,
          3.0,
          4.0,
          5.0,
          6.0,
          7.0,
          8.0,
          9.0,
          10.0,
          11.0,
          12.0
         ],
         "xaxis": "x",
         "y": [
          121,
          96,
          116,
          101,
          121,
          103,
          101,
          142,
          113,
          106,
          132,
          111
         ],
         "yaxis": "y",
         "type": "scatter"
        }
       ],
       "layout": {
        "template": {
         "data": {
          "barpolar": [
           {
            "marker": {
             "line": {
              "color": "white",
              "width": 0.5
             },
             "pattern": {
              "fillmode": "overlay",
              "size": 10,
              "solidity": 0.2
             }
            },
            "type": "barpolar"
           }
          ],
          "bar": [
           {
            "error_x": {
             "color": "#2a3f5f"
            },
            "error_y": {
             "color": "#2a3f5f"
            },
            "marker": {
             "line": {
              "color": "white",
              "width": 0.5
             },
             "pattern": {
              "fillmode": "overlay",
              "size": 10,
              "solidity": 0.2
             }
            },
            "type": "bar"
           }
          ],
          "carpet": [
           {
            "aaxis": {
             "endlinecolor": "#2a3f5f",
             "gridcolor": "#C8D4E3",
             "linecolor": "#C8D4E3",
             "minorgridcolor": "#C8D4E3",
             "startlinecolor": "#2a3f5f"
            },
            "baxis": {
             "endlinecolor": "#2a3f5f",
             "gridcolor": "#C8D4E3",
             "linecolor": "#C8D4E3",
             "minorgridcolor": "#C8D4E3",
             "startlinecolor": "#2a3f5f"
            },
            "type": "carpet"
           }
          ],
          "choropleth": [
           {
            "colorbar": {
             "outlinewidth": 0,
             "ticks": ""
            },
            "type": "choropleth"
           }
          ],
          "contourcarpet": [
           {
            "colorbar": {
             "outlinewidth": 0,
             "ticks": ""
            },
            "type": "contourcarpet"
           }
          ],
          "contour": [
           {
            "colorbar": {
             "outlinewidth": 0,
             "ticks": ""
            },
            "colorscale": [
             [
              0.0,
              "#0d0887"
             ],
             [
              0.1111111111111111,
              "#46039f"
             ],
             [
              0.2222222222222222,
              "#7201a8"
             ],
             [
              0.3333333333333333,
              "#9c179e"
             ],
             [
              0.4444444444444444,
              "#bd3786"
             ],
             [
              0.5555555555555556,
              "#d8576b"
             ],
             [
              0.6666666666666666,
              "#ed7953"
             ],
             [
              0.7777777777777778,
              "#fb9f3a"
             ],
             [
              0.8888888888888888,
              "#fdca26"
             ],
             [
              1.0,
              "#f0f921"
             ]
            ],
            "type": "contour"
           }
          ],
          "heatmapgl": [
           {
            "colorbar": {
             "outlinewidth": 0,
             "ticks": ""
            },
            "colorscale": [
             [
              0.0,
              "#0d0887"
             ],
             [
              0.1111111111111111,
              "#46039f"
             ],
             [
              0.2222222222222222,
              "#7201a8"
             ],
             [
              0.3333333333333333,
              "#9c179e"
             ],
             [
              0.4444444444444444,
              "#bd3786"
             ],
             [
              0.5555555555555556,
              "#d8576b"
             ],
             [
              0.6666666666666666,
              "#ed7953"
             ],
             [
              0.7777777777777778,
              "#fb9f3a"
             ],
             [
              0.8888888888888888,
              "#fdca26"
             ],
             [
              1.0,
              "#f0f921"
             ]
            ],
            "type": "heatmapgl"
           }
          ],
          "heatmap": [
           {
            "colorbar": {
             "outlinewidth": 0,
             "ticks": ""
            },
            "colorscale": [
             [
              0.0,
              "#0d0887"
             ],
             [
              0.1111111111111111,
              "#46039f"
             ],
             [
              0.2222222222222222,
              "#7201a8"
             ],
             [
              0.3333333333333333,
              "#9c179e"
             ],
             [
              0.4444444444444444,
              "#bd3786"
             ],
             [
              0.5555555555555556,
              "#d8576b"
             ],
             [
              0.6666666666666666,
              "#ed7953"
             ],
             [
              0.7777777777777778,
              "#fb9f3a"
             ],
             [
              0.8888888888888888,
              "#fdca26"
             ],
             [
              1.0,
              "#f0f921"
             ]
            ],
            "type": "heatmap"
           }
          ],
          "histogram2dcontour": [
           {
            "colorbar": {
             "outlinewidth": 0,
             "ticks": ""
            },
            "colorscale": [
             [
              0.0,
              "#0d0887"
             ],
             [
              0.1111111111111111,
              "#46039f"
             ],
             [
              0.2222222222222222,
              "#7201a8"
             ],
             [
              0.3333333333333333,
              "#9c179e"
             ],
             [
              0.4444444444444444,
              "#bd3786"
             ],
             [
              0.5555555555555556,
              "#d8576b"
             ],
             [
              0.6666666666666666,
              "#ed7953"
             ],
             [
              0.7777777777777778,
              "#fb9f3a"
             ],
             [
              0.8888888888888888,
              "#fdca26"
             ],
             [
              1.0,
              "#f0f921"
             ]
            ],
            "type": "histogram2dcontour"
           }
          ],
          "histogram2d": [
           {
            "colorbar": {
             "outlinewidth": 0,
             "ticks": ""
            },
            "colorscale": [
             [
              0.0,
              "#0d0887"
             ],
             [
              0.1111111111111111,
              "#46039f"
             ],
             [
              0.2222222222222222,
              "#7201a8"
             ],
             [
              0.3333333333333333,
              "#9c179e"
             ],
             [
              0.4444444444444444,
              "#bd3786"
             ],
             [
              0.5555555555555556,
              "#d8576b"
             ],
             [
              0.6666666666666666,
              "#ed7953"
             ],
             [
              0.7777777777777778,
              "#fb9f3a"
             ],
             [
              0.8888888888888888,
              "#fdca26"
             ],
             [
              1.0,
              "#f0f921"
             ]
            ],
            "type": "histogram2d"
           }
          ],
          "histogram": [
           {
            "marker": {
             "pattern": {
              "fillmode": "overlay",
              "size": 10,
              "solidity": 0.2
             }
            },
            "type": "histogram"
           }
          ],
          "mesh3d": [
           {
            "colorbar": {
             "outlinewidth": 0,
             "ticks": ""
            },
            "type": "mesh3d"
           }
          ],
          "parcoords": [
           {
            "line": {
             "colorbar": {
              "outlinewidth": 0,
              "ticks": ""
             }
            },
            "type": "parcoords"
           }
          ],
          "pie": [
           {
            "automargin": true,
            "type": "pie"
           }
          ],
          "scatter3d": [
           {
            "line": {
             "colorbar": {
              "outlinewidth": 0,
              "ticks": ""
             }
            },
            "marker": {
             "colorbar": {
              "outlinewidth": 0,
              "ticks": ""
             }
            },
            "type": "scatter3d"
           }
          ],
          "scattercarpet": [
           {
            "marker": {
             "colorbar": {
              "outlinewidth": 0,
              "ticks": ""
             }
            },
            "type": "scattercarpet"
           }
          ],
          "scattergeo": [
           {
            "marker": {
             "colorbar": {
              "outlinewidth": 0,
              "ticks": ""
             }
            },
            "type": "scattergeo"
           }
          ],
          "scattergl": [
           {
            "marker": {
             "colorbar": {
              "outlinewidth": 0,
              "ticks": ""
             }
            },
            "type": "scattergl"
           }
          ],
          "scattermapbox": [
           {
            "marker": {
             "colorbar": {
              "outlinewidth": 0,
              "ticks": ""
             }
            },
            "type": "scattermapbox"
           }
          ],
          "scatterpolargl": [
           {
            "marker": {
             "colorbar": {
              "outlinewidth": 0,
              "ticks": ""
             }
            },
            "type": "scatterpolargl"
           }
          ],
          "scatterpolar": [
           {
            "marker": {
             "colorbar": {
              "outlinewidth": 0,
              "ticks": ""
             }
            },
            "type": "scatterpolar"
           }
          ],
          "scatter": [
           {
            "fillpattern": {
             "fillmode": "overlay",
             "size": 10,
             "solidity": 0.2
            },
            "type": "scatter"
           }
          ],
          "scatterternary": [
           {
            "marker": {
             "colorbar": {
              "outlinewidth": 0,
              "ticks": ""
             }
            },
            "type": "scatterternary"
           }
          ],
          "surface": [
           {
            "colorbar": {
             "outlinewidth": 0,
             "ticks": ""
            },
            "colorscale": [
             [
              0.0,
              "#0d0887"
             ],
             [
              0.1111111111111111,
              "#46039f"
             ],
             [
              0.2222222222222222,
              "#7201a8"
             ],
             [
              0.3333333333333333,
              "#9c179e"
             ],
             [
              0.4444444444444444,
              "#bd3786"
             ],
             [
              0.5555555555555556,
              "#d8576b"
             ],
             [
              0.6666666666666666,
              "#ed7953"
             ],
             [
              0.7777777777777778,
              "#fb9f3a"
             ],
             [
              0.8888888888888888,
              "#fdca26"
             ],
             [
              1.0,
              "#f0f921"
             ]
            ],
            "type": "surface"
           }
          ],
          "table": [
           {
            "cells": {
             "fill": {
              "color": "#EBF0F8"
             },
             "line": {
              "color": "white"
             }
            },
            "header": {
             "fill": {
              "color": "#C8D4E3"
             },
             "line": {
              "color": "white"
             }
            },
            "type": "table"
           }
          ]
         },
         "layout": {
          "annotationdefaults": {
           "arrowcolor": "#2a3f5f",
           "arrowhead": 0,
           "arrowwidth": 1
          },
          "autotypenumbers": "strict",
          "coloraxis": {
           "colorbar": {
            "outlinewidth": 0,
            "ticks": ""
           }
          },
          "colorscale": {
           "diverging": [
            [
             0,
             "#8e0152"
            ],
            [
             0.1,
             "#c51b7d"
            ],
            [
             0.2,
             "#de77ae"
            ],
            [
             0.3,
             "#f1b6da"
            ],
            [
             0.4,
             "#fde0ef"
            ],
            [
             0.5,
             "#f7f7f7"
            ],
            [
             0.6,
             "#e6f5d0"
            ],
            [
             0.7,
             "#b8e186"
            ],
            [
             0.8,
             "#7fbc41"
            ],
            [
             0.9,
             "#4d9221"
            ],
            [
             1,
             "#276419"
            ]
           ],
           "sequential": [
            [
             0.0,
             "#0d0887"
            ],
            [
             0.1111111111111111,
             "#46039f"
            ],
            [
             0.2222222222222222,
             "#7201a8"
            ],
            [
             0.3333333333333333,
             "#9c179e"
            ],
            [
             0.4444444444444444,
             "#bd3786"
            ],
            [
             0.5555555555555556,
             "#d8576b"
            ],
            [
             0.6666666666666666,
             "#ed7953"
            ],
            [
             0.7777777777777778,
             "#fb9f3a"
            ],
            [
             0.8888888888888888,
             "#fdca26"
            ],
            [
             1.0,
             "#f0f921"
            ]
           ],
           "sequentialminus": [
            [
             0.0,
             "#0d0887"
            ],
            [
             0.1111111111111111,
             "#46039f"
            ],
            [
             0.2222222222222222,
             "#7201a8"
            ],
            [
             0.3333333333333333,
             "#9c179e"
            ],
            [
             0.4444444444444444,
             "#bd3786"
            ],
            [
             0.5555555555555556,
             "#d8576b"
            ],
            [
             0.6666666666666666,
             "#ed7953"
            ],
            [
             0.7777777777777778,
             "#fb9f3a"
            ],
            [
             0.8888888888888888,
             "#fdca26"
            ],
            [
             1.0,
             "#f0f921"
            ]
           ]
          },
          "colorway": [
           "#636efa",
           "#EF553B",
           "#00cc96",
           "#ab63fa",
           "#FFA15A",
           "#19d3f3",
           "#FF6692",
           "#B6E880",
           "#FF97FF",
           "#FECB52"
          ],
          "font": {
           "color": "#2a3f5f"
          },
          "geo": {
           "bgcolor": "white",
           "lakecolor": "white",
           "landcolor": "white",
           "showlakes": true,
           "showland": true,
           "subunitcolor": "#C8D4E3"
          },
          "hoverlabel": {
           "align": "left"
          },
          "hovermode": "closest",
          "mapbox": {
           "style": "light"
          },
          "paper_bgcolor": "white",
          "plot_bgcolor": "white",
          "polar": {
           "angularaxis": {
            "gridcolor": "#EBF0F8",
            "linecolor": "#EBF0F8",
            "ticks": ""
           },
           "bgcolor": "white",
           "radialaxis": {
            "gridcolor": "#EBF0F8",
            "linecolor": "#EBF0F8",
            "ticks": ""
           }
          },
          "scene": {
           "xaxis": {
            "backgroundcolor": "white",
            "gridcolor": "#DFE8F3",
            "gridwidth": 2,
            "linecolor": "#EBF0F8",
            "showbackground": true,
            "ticks": "",
            "zerolinecolor": "#EBF0F8"
           },
           "yaxis": {
            "backgroundcolor": "white",
            "gridcolor": "#DFE8F3",
            "gridwidth": 2,
            "linecolor": "#EBF0F8",
            "showbackground": true,
            "ticks": "",
            "zerolinecolor": "#EBF0F8"
           },
           "zaxis": {
            "backgroundcolor": "white",
            "gridcolor": "#DFE8F3",
            "gridwidth": 2,
            "linecolor": "#EBF0F8",
            "showbackground": true,
            "ticks": "",
            "zerolinecolor": "#EBF0F8"
           }
          },
          "shapedefaults": {
           "line": {
            "color": "#2a3f5f"
           }
          },
          "ternary": {
           "aaxis": {
            "gridcolor": "#DFE8F3",
            "linecolor": "#A2B1C6",
            "ticks": ""
           },
           "baxis": {
            "gridcolor": "#DFE8F3",
            "linecolor": "#A2B1C6",
            "ticks": ""
           },
           "bgcolor": "white",
           "caxis": {
            "gridcolor": "#DFE8F3",
            "linecolor": "#A2B1C6",
            "ticks": ""
           }
          },
          "title": {
           "x": 0.05
          },
          "xaxis": {
           "automargin": true,
           "gridcolor": "#EBF0F8",
           "linecolor": "#EBF0F8",
           "ticks": "",
           "title": {
            "standoff": 15
           },
           "zerolinecolor": "#EBF0F8",
           "zerolinewidth": 2
          },
          "yaxis": {
           "automargin": true,
           "gridcolor": "#EBF0F8",
           "linecolor": "#EBF0F8",
           "ticks": "",
           "title": {
            "standoff": 15
           },
           "zerolinecolor": "#EBF0F8",
           "zerolinewidth": 2
          }
         }
        },
        "xaxis": {
         "anchor": "y",
         "domain": [
          0.0,
          1.0
         ],
         "title": {
          "text": "Month"
         }
        },
        "yaxis": {
         "anchor": "x",
         "domain": [
          0.0,
          1.0
         ],
         "title": {
          "text": "Count"
         }
        },
        "legend": {
         "tracegroupgap": 0
        },
        "title": {
         "text": "<b>Number of Tsunamis in Different Months"
        }
       },
       "config": {
        "plotlyServerURL": "https://plot.ly"
       }
      },
      "text/html": "<div>                            <div id=\"6a18d659-f141-47c7-b056-c6f513d5176a\" class=\"plotly-graph-div\" style=\"height:525px; width:100%;\"></div>            <script type=\"text/javascript\">                require([\"plotly\"], function(Plotly) {                    window.PLOTLYENV=window.PLOTLYENV || {};                                    if (document.getElementById(\"6a18d659-f141-47c7-b056-c6f513d5176a\")) {                    Plotly.newPlot(                        \"6a18d659-f141-47c7-b056-c6f513d5176a\",                        [{\"hovertemplate\":\"Month=%{x}\\u003cbr\\u003eCount=%{y}\\u003cextra\\u003e\\u003c\\u002fextra\\u003e\",\"legendgroup\":\"\",\"line\":{\"color\":\"#636efa\",\"dash\":\"solid\"},\"marker\":{\"symbol\":\"circle\"},\"mode\":\"lines\",\"name\":\"\",\"orientation\":\"v\",\"showlegend\":false,\"x\":[1.0,2.0,3.0,4.0,5.0,6.0,7.0,8.0,9.0,10.0,11.0,12.0],\"xaxis\":\"x\",\"y\":[121,96,116,101,121,103,101,142,113,106,132,111],\"yaxis\":\"y\",\"type\":\"scatter\"}],                        {\"template\":{\"data\":{\"barpolar\":[{\"marker\":{\"line\":{\"color\":\"white\",\"width\":0.5},\"pattern\":{\"fillmode\":\"overlay\",\"size\":10,\"solidity\":0.2}},\"type\":\"barpolar\"}],\"bar\":[{\"error_x\":{\"color\":\"#2a3f5f\"},\"error_y\":{\"color\":\"#2a3f5f\"},\"marker\":{\"line\":{\"color\":\"white\",\"width\":0.5},\"pattern\":{\"fillmode\":\"overlay\",\"size\":10,\"solidity\":0.2}},\"type\":\"bar\"}],\"carpet\":[{\"aaxis\":{\"endlinecolor\":\"#2a3f5f\",\"gridcolor\":\"#C8D4E3\",\"linecolor\":\"#C8D4E3\",\"minorgridcolor\":\"#C8D4E3\",\"startlinecolor\":\"#2a3f5f\"},\"baxis\":{\"endlinecolor\":\"#2a3f5f\",\"gridcolor\":\"#C8D4E3\",\"linecolor\":\"#C8D4E3\",\"minorgridcolor\":\"#C8D4E3\",\"startlinecolor\":\"#2a3f5f\"},\"type\":\"carpet\"}],\"choropleth\":[{\"colorbar\":{\"outlinewidth\":0,\"ticks\":\"\"},\"type\":\"choropleth\"}],\"contourcarpet\":[{\"colorbar\":{\"outlinewidth\":0,\"ticks\":\"\"},\"type\":\"contourcarpet\"}],\"contour\":[{\"colorbar\":{\"outlinewidth\":0,\"ticks\":\"\"},\"colorscale\":[[0.0,\"#0d0887\"],[0.1111111111111111,\"#46039f\"],[0.2222222222222222,\"#7201a8\"],[0.3333333333333333,\"#9c179e\"],[0.4444444444444444,\"#bd3786\"],[0.5555555555555556,\"#d8576b\"],[0.6666666666666666,\"#ed7953\"],[0.7777777777777778,\"#fb9f3a\"],[0.8888888888888888,\"#fdca26\"],[1.0,\"#f0f921\"]],\"type\":\"contour\"}],\"heatmapgl\":[{\"colorbar\":{\"outlinewidth\":0,\"ticks\":\"\"},\"colorscale\":[[0.0,\"#0d0887\"],[0.1111111111111111,\"#46039f\"],[0.2222222222222222,\"#7201a8\"],[0.3333333333333333,\"#9c179e\"],[0.4444444444444444,\"#bd3786\"],[0.5555555555555556,\"#d8576b\"],[0.6666666666666666,\"#ed7953\"],[0.7777777777777778,\"#fb9f3a\"],[0.8888888888888888,\"#fdca26\"],[1.0,\"#f0f921\"]],\"type\":\"heatmapgl\"}],\"heatmap\":[{\"colorbar\":{\"outlinewidth\":0,\"ticks\":\"\"},\"colorscale\":[[0.0,\"#0d0887\"],[0.1111111111111111,\"#46039f\"],[0.2222222222222222,\"#7201a8\"],[0.3333333333333333,\"#9c179e\"],[0.4444444444444444,\"#bd3786\"],[0.5555555555555556,\"#d8576b\"],[0.6666666666666666,\"#ed7953\"],[0.7777777777777778,\"#fb9f3a\"],[0.8888888888888888,\"#fdca26\"],[1.0,\"#f0f921\"]],\"type\":\"heatmap\"}],\"histogram2dcontour\":[{\"colorbar\":{\"outlinewidth\":0,\"ticks\":\"\"},\"colorscale\":[[0.0,\"#0d0887\"],[0.1111111111111111,\"#46039f\"],[0.2222222222222222,\"#7201a8\"],[0.3333333333333333,\"#9c179e\"],[0.4444444444444444,\"#bd3786\"],[0.5555555555555556,\"#d8576b\"],[0.6666666666666666,\"#ed7953\"],[0.7777777777777778,\"#fb9f3a\"],[0.8888888888888888,\"#fdca26\"],[1.0,\"#f0f921\"]],\"type\":\"histogram2dcontour\"}],\"histogram2d\":[{\"colorbar\":{\"outlinewidth\":0,\"ticks\":\"\"},\"colorscale\":[[0.0,\"#0d0887\"],[0.1111111111111111,\"#46039f\"],[0.2222222222222222,\"#7201a8\"],[0.3333333333333333,\"#9c179e\"],[0.4444444444444444,\"#bd3786\"],[0.5555555555555556,\"#d8576b\"],[0.6666666666666666,\"#ed7953\"],[0.7777777777777778,\"#fb9f3a\"],[0.8888888888888888,\"#fdca26\"],[1.0,\"#f0f921\"]],\"type\":\"histogram2d\"}],\"histogram\":[{\"marker\":{\"pattern\":{\"fillmode\":\"overlay\",\"size\":10,\"solidity\":0.2}},\"type\":\"histogram\"}],\"mesh3d\":[{\"colorbar\":{\"outlinewidth\":0,\"ticks\":\"\"},\"type\":\"mesh3d\"}],\"parcoords\":[{\"line\":{\"colorbar\":{\"outlinewidth\":0,\"ticks\":\"\"}},\"type\":\"parcoords\"}],\"pie\":[{\"automargin\":true,\"type\":\"pie\"}],\"scatter3d\":[{\"line\":{\"colorbar\":{\"outlinewidth\":0,\"ticks\":\"\"}},\"marker\":{\"colorbar\":{\"outlinewidth\":0,\"ticks\":\"\"}},\"type\":\"scatter3d\"}],\"scattercarpet\":[{\"marker\":{\"colorbar\":{\"outlinewidth\":0,\"ticks\":\"\"}},\"type\":\"scattercarpet\"}],\"scattergeo\":[{\"marker\":{\"colorbar\":{\"outlinewidth\":0,\"ticks\":\"\"}},\"type\":\"scattergeo\"}],\"scattergl\":[{\"marker\":{\"colorbar\":{\"outlinewidth\":0,\"ticks\":\"\"}},\"type\":\"scattergl\"}],\"scattermapbox\":[{\"marker\":{\"colorbar\":{\"outlinewidth\":0,\"ticks\":\"\"}},\"type\":\"scattermapbox\"}],\"scatterpolargl\":[{\"marker\":{\"colorbar\":{\"outlinewidth\":0,\"ticks\":\"\"}},\"type\":\"scatterpolargl\"}],\"scatterpolar\":[{\"marker\":{\"colorbar\":{\"outlinewidth\":0,\"ticks\":\"\"}},\"type\":\"scatterpolar\"}],\"scatter\":[{\"fillpattern\":{\"fillmode\":\"overlay\",\"size\":10,\"solidity\":0.2},\"type\":\"scatter\"}],\"scatterternary\":[{\"marker\":{\"colorbar\":{\"outlinewidth\":0,\"ticks\":\"\"}},\"type\":\"scatterternary\"}],\"surface\":[{\"colorbar\":{\"outlinewidth\":0,\"ticks\":\"\"},\"colorscale\":[[0.0,\"#0d0887\"],[0.1111111111111111,\"#46039f\"],[0.2222222222222222,\"#7201a8\"],[0.3333333333333333,\"#9c179e\"],[0.4444444444444444,\"#bd3786\"],[0.5555555555555556,\"#d8576b\"],[0.6666666666666666,\"#ed7953\"],[0.7777777777777778,\"#fb9f3a\"],[0.8888888888888888,\"#fdca26\"],[1.0,\"#f0f921\"]],\"type\":\"surface\"}],\"table\":[{\"cells\":{\"fill\":{\"color\":\"#EBF0F8\"},\"line\":{\"color\":\"white\"}},\"header\":{\"fill\":{\"color\":\"#C8D4E3\"},\"line\":{\"color\":\"white\"}},\"type\":\"table\"}]},\"layout\":{\"annotationdefaults\":{\"arrowcolor\":\"#2a3f5f\",\"arrowhead\":0,\"arrowwidth\":1},\"autotypenumbers\":\"strict\",\"coloraxis\":{\"colorbar\":{\"outlinewidth\":0,\"ticks\":\"\"}},\"colorscale\":{\"diverging\":[[0,\"#8e0152\"],[0.1,\"#c51b7d\"],[0.2,\"#de77ae\"],[0.3,\"#f1b6da\"],[0.4,\"#fde0ef\"],[0.5,\"#f7f7f7\"],[0.6,\"#e6f5d0\"],[0.7,\"#b8e186\"],[0.8,\"#7fbc41\"],[0.9,\"#4d9221\"],[1,\"#276419\"]],\"sequential\":[[0.0,\"#0d0887\"],[0.1111111111111111,\"#46039f\"],[0.2222222222222222,\"#7201a8\"],[0.3333333333333333,\"#9c179e\"],[0.4444444444444444,\"#bd3786\"],[0.5555555555555556,\"#d8576b\"],[0.6666666666666666,\"#ed7953\"],[0.7777777777777778,\"#fb9f3a\"],[0.8888888888888888,\"#fdca26\"],[1.0,\"#f0f921\"]],\"sequentialminus\":[[0.0,\"#0d0887\"],[0.1111111111111111,\"#46039f\"],[0.2222222222222222,\"#7201a8\"],[0.3333333333333333,\"#9c179e\"],[0.4444444444444444,\"#bd3786\"],[0.5555555555555556,\"#d8576b\"],[0.6666666666666666,\"#ed7953\"],[0.7777777777777778,\"#fb9f3a\"],[0.8888888888888888,\"#fdca26\"],[1.0,\"#f0f921\"]]},\"colorway\":[\"#636efa\",\"#EF553B\",\"#00cc96\",\"#ab63fa\",\"#FFA15A\",\"#19d3f3\",\"#FF6692\",\"#B6E880\",\"#FF97FF\",\"#FECB52\"],\"font\":{\"color\":\"#2a3f5f\"},\"geo\":{\"bgcolor\":\"white\",\"lakecolor\":\"white\",\"landcolor\":\"white\",\"showlakes\":true,\"showland\":true,\"subunitcolor\":\"#C8D4E3\"},\"hoverlabel\":{\"align\":\"left\"},\"hovermode\":\"closest\",\"mapbox\":{\"style\":\"light\"},\"paper_bgcolor\":\"white\",\"plot_bgcolor\":\"white\",\"polar\":{\"angularaxis\":{\"gridcolor\":\"#EBF0F8\",\"linecolor\":\"#EBF0F8\",\"ticks\":\"\"},\"bgcolor\":\"white\",\"radialaxis\":{\"gridcolor\":\"#EBF0F8\",\"linecolor\":\"#EBF0F8\",\"ticks\":\"\"}},\"scene\":{\"xaxis\":{\"backgroundcolor\":\"white\",\"gridcolor\":\"#DFE8F3\",\"gridwidth\":2,\"linecolor\":\"#EBF0F8\",\"showbackground\":true,\"ticks\":\"\",\"zerolinecolor\":\"#EBF0F8\"},\"yaxis\":{\"backgroundcolor\":\"white\",\"gridcolor\":\"#DFE8F3\",\"gridwidth\":2,\"linecolor\":\"#EBF0F8\",\"showbackground\":true,\"ticks\":\"\",\"zerolinecolor\":\"#EBF0F8\"},\"zaxis\":{\"backgroundcolor\":\"white\",\"gridcolor\":\"#DFE8F3\",\"gridwidth\":2,\"linecolor\":\"#EBF0F8\",\"showbackground\":true,\"ticks\":\"\",\"zerolinecolor\":\"#EBF0F8\"}},\"shapedefaults\":{\"line\":{\"color\":\"#2a3f5f\"}},\"ternary\":{\"aaxis\":{\"gridcolor\":\"#DFE8F3\",\"linecolor\":\"#A2B1C6\",\"ticks\":\"\"},\"baxis\":{\"gridcolor\":\"#DFE8F3\",\"linecolor\":\"#A2B1C6\",\"ticks\":\"\"},\"bgcolor\":\"white\",\"caxis\":{\"gridcolor\":\"#DFE8F3\",\"linecolor\":\"#A2B1C6\",\"ticks\":\"\"}},\"title\":{\"x\":0.05},\"xaxis\":{\"automargin\":true,\"gridcolor\":\"#EBF0F8\",\"linecolor\":\"#EBF0F8\",\"ticks\":\"\",\"title\":{\"standoff\":15},\"zerolinecolor\":\"#EBF0F8\",\"zerolinewidth\":2},\"yaxis\":{\"automargin\":true,\"gridcolor\":\"#EBF0F8\",\"linecolor\":\"#EBF0F8\",\"ticks\":\"\",\"title\":{\"standoff\":15},\"zerolinecolor\":\"#EBF0F8\",\"zerolinewidth\":2}}},\"xaxis\":{\"anchor\":\"y\",\"domain\":[0.0,1.0],\"title\":{\"text\":\"Month\"}},\"yaxis\":{\"anchor\":\"x\",\"domain\":[0.0,1.0],\"title\":{\"text\":\"Count\"}},\"legend\":{\"tracegroupgap\":0},\"title\":{\"text\":\"\\u003cb\\u003eNumber of Tsunamis in Different Months\"}},                        {\"responsive\": true}                    ).then(function(){\n                            \nvar gd = document.getElementById('6a18d659-f141-47c7-b056-c6f513d5176a');\nvar x = new MutationObserver(function (mutations, observer) {{\n        var display = window.getComputedStyle(gd).display;\n        if (!display || display === 'none') {{\n            console.log([gd, 'removed!']);\n            Plotly.purge(gd);\n            observer.disconnect();\n        }}\n}});\n\n// Listen for the removal of the full notebook cells\nvar notebookContainer = gd.closest('#notebook-container');\nif (notebookContainer) {{\n    x.observe(notebookContainer, {childList: true});\n}}\n\n// Listen for the clearing of the current output cell\nvar outputEl = gd.closest('.output');\nif (outputEl) {{\n    x.observe(outputEl, {childList: true});\n}}\n\n                        })                };                });            </script>        </div>"
     },
     "metadata": {},
     "output_type": "display_data"
    }
   ],
   "source": [
    "df_cnt_mo=df.groupby(['Mo'])['Sr.no'].count().reset_index()\n",
    "fig=px.line(df_cnt_mo, x=\"Mo\", y=\"Sr.no\",template='plotly_white',labels={\n",
    "                     \"Sr.no\": \"Count\",\"Mo\":\"Month\"},title=\"<b>Number of Tsunamis in Different Months\")\n",
    "fig.show()"
   ]
  },
  {
   "cell_type": "markdown",
   "id": "262bcf69",
   "metadata": {},
   "source": [
    "**<br>Based on the graph presented, it appears that there is a minor variation in frequency by month, but the differences observed are not particularly significant.**  \n",
    "<br>"
   ]
  },
  {
   "cell_type": "code",
   "execution_count": 24,
   "id": "4ae0b58e",
   "metadata": {
    "ExecuteTime": {
     "end_time": "2023-10-29T14:17:37.940322600Z",
     "start_time": "2023-10-29T14:17:37.489989400Z"
    }
   },
   "outputs": [
    {
     "data": {
      "text/plain": "     Year    Deaths\n61   1961       0.0\n85   1985       0.0\n24   1924       0.0\n25   1925       0.0\n84   1984       0.0\n..    ...       ...\n118  2018    4778.0\n76   1976    6800.0\n52   1952   10034.0\n111  2011   18428.0\n104  2004  227899.0\n\n[124 rows x 2 columns]",
      "text/html": "<div>\n<style scoped>\n    .dataframe tbody tr th:only-of-type {\n        vertical-align: middle;\n    }\n\n    .dataframe tbody tr th {\n        vertical-align: top;\n    }\n\n    .dataframe thead th {\n        text-align: right;\n    }\n</style>\n<table border=\"1\" class=\"dataframe\">\n  <thead>\n    <tr style=\"text-align: right;\">\n      <th></th>\n      <th>Year</th>\n      <th>Deaths</th>\n    </tr>\n  </thead>\n  <tbody>\n    <tr>\n      <th>61</th>\n      <td>1961</td>\n      <td>0.0</td>\n    </tr>\n    <tr>\n      <th>85</th>\n      <td>1985</td>\n      <td>0.0</td>\n    </tr>\n    <tr>\n      <th>24</th>\n      <td>1924</td>\n      <td>0.0</td>\n    </tr>\n    <tr>\n      <th>25</th>\n      <td>1925</td>\n      <td>0.0</td>\n    </tr>\n    <tr>\n      <th>84</th>\n      <td>1984</td>\n      <td>0.0</td>\n    </tr>\n    <tr>\n      <th>...</th>\n      <td>...</td>\n      <td>...</td>\n    </tr>\n    <tr>\n      <th>118</th>\n      <td>2018</td>\n      <td>4778.0</td>\n    </tr>\n    <tr>\n      <th>76</th>\n      <td>1976</td>\n      <td>6800.0</td>\n    </tr>\n    <tr>\n      <th>52</th>\n      <td>1952</td>\n      <td>10034.0</td>\n    </tr>\n    <tr>\n      <th>111</th>\n      <td>2011</td>\n      <td>18428.0</td>\n    </tr>\n    <tr>\n      <th>104</th>\n      <td>2004</td>\n      <td>227899.0</td>\n    </tr>\n  </tbody>\n</table>\n<p>124 rows × 2 columns</p>\n</div>"
     },
     "execution_count": 24,
     "metadata": {},
     "output_type": "execute_result"
    }
   ],
   "source": [
    "df_Deaths_year=df.groupby(['Year'])['Deaths'].sum().reset_index()\n",
    "df_Deaths_year.sort_values(by=['Deaths'])"
   ]
  },
  {
   "cell_type": "markdown",
   "id": "453ec13b",
   "metadata": {},
   "source": [
    "In 2004, there was an unusually high number of fatalities due to the tsunami in Indonesia. Let's create a graph without that particular data point."
   ]
  },
  {
   "cell_type": "code",
   "execution_count": 25,
   "id": "22d23a16",
   "metadata": {
    "ExecuteTime": {
     "end_time": "2023-10-29T14:17:37.941332900Z",
     "start_time": "2023-10-29T14:17:37.504738200Z"
    }
   },
   "outputs": [
    {
     "data": {
      "text/plain": "     Year   Deaths\n61   1961      0.0\n86   1986      0.0\n24   1924      0.0\n25   1925      0.0\n85   1985      0.0\n..    ...      ...\n46   1946   3395.0\n118  2018   4778.0\n76   1976   6800.0\n52   1952  10034.0\n111  2011  18428.0\n\n[124 rows x 2 columns]",
      "text/html": "<div>\n<style scoped>\n    .dataframe tbody tr th:only-of-type {\n        vertical-align: middle;\n    }\n\n    .dataframe tbody tr th {\n        vertical-align: top;\n    }\n\n    .dataframe thead th {\n        text-align: right;\n    }\n</style>\n<table border=\"1\" class=\"dataframe\">\n  <thead>\n    <tr style=\"text-align: right;\">\n      <th></th>\n      <th>Year</th>\n      <th>Deaths</th>\n    </tr>\n  </thead>\n  <tbody>\n    <tr>\n      <th>61</th>\n      <td>1961</td>\n      <td>0.0</td>\n    </tr>\n    <tr>\n      <th>86</th>\n      <td>1986</td>\n      <td>0.0</td>\n    </tr>\n    <tr>\n      <th>24</th>\n      <td>1924</td>\n      <td>0.0</td>\n    </tr>\n    <tr>\n      <th>25</th>\n      <td>1925</td>\n      <td>0.0</td>\n    </tr>\n    <tr>\n      <th>85</th>\n      <td>1985</td>\n      <td>0.0</td>\n    </tr>\n    <tr>\n      <th>...</th>\n      <td>...</td>\n      <td>...</td>\n    </tr>\n    <tr>\n      <th>46</th>\n      <td>1946</td>\n      <td>3395.0</td>\n    </tr>\n    <tr>\n      <th>118</th>\n      <td>2018</td>\n      <td>4778.0</td>\n    </tr>\n    <tr>\n      <th>76</th>\n      <td>1976</td>\n      <td>6800.0</td>\n    </tr>\n    <tr>\n      <th>52</th>\n      <td>1952</td>\n      <td>10034.0</td>\n    </tr>\n    <tr>\n      <th>111</th>\n      <td>2011</td>\n      <td>18428.0</td>\n    </tr>\n  </tbody>\n</table>\n<p>124 rows × 2 columns</p>\n</div>"
     },
     "execution_count": 25,
     "metadata": {},
     "output_type": "execute_result"
    }
   ],
   "source": [
    "df_Deaths_year=df.loc[(df['Deaths']<200000)].groupby(['Year'])['Deaths'].sum().reset_index()\n",
    "df_Deaths_year.sort_values(by=['Deaths'])\n",
    "\n",
    "#do log scale with -inf as 0"
   ]
  },
  {
   "cell_type": "code",
   "execution_count": 26,
   "id": "1dfd1e5c",
   "metadata": {
    "ExecuteTime": {
     "end_time": "2023-10-29T14:17:37.950333200Z",
     "start_time": "2023-10-29T14:17:37.539290Z"
    }
   },
   "outputs": [
    {
     "data": {
      "application/vnd.plotly.v1+json": {
       "data": [
        {
         "hovertemplate": "Year=%{x}<br>Deaths=%{y}<extra></extra>",
         "legendgroup": "",
         "line": {
          "color": "#636efa",
          "dash": "solid"
         },
         "marker": {
          "symbol": "circle"
         },
         "mode": "lines",
         "name": "",
         "orientation": "v",
         "showlegend": false,
         "x": [
          1900,
          1901,
          1902,
          1903,
          1904,
          1905,
          1906,
          1907,
          1908,
          1909,
          1910,
          1911,
          1912,
          1913,
          1914,
          1915,
          1916,
          1917,
          1918,
          1919,
          1920,
          1921,
          1922,
          1923,
          1924,
          1925,
          1926,
          1927,
          1928,
          1929,
          1930,
          1931,
          1932,
          1933,
          1934,
          1935,
          1936,
          1937,
          1938,
          1939,
          1940,
          1941,
          1942,
          1943,
          1944,
          1945,
          1946,
          1947,
          1948,
          1949,
          1950,
          1951,
          1952,
          1953,
          1954,
          1955,
          1956,
          1957,
          1958,
          1959,
          1960,
          1961,
          1962,
          1963,
          1964,
          1965,
          1966,
          1967,
          1968,
          1969,
          1970,
          1971,
          1972,
          1973,
          1974,
          1975,
          1976,
          1977,
          1978,
          1979,
          1980,
          1981,
          1982,
          1983,
          1984,
          1985,
          1986,
          1987,
          1988,
          1989,
          1990,
          1991,
          1992,
          1993,
          1994,
          1995,
          1996,
          1997,
          1998,
          1999,
          2000,
          2001,
          2002,
          2003,
          2004,
          2005,
          2006,
          2007,
          2008,
          2009,
          2010,
          2011,
          2012,
          2013,
          2014,
          2015,
          2016,
          2017,
          2018,
          2019,
          2020,
          2021,
          2022,
          2023
         ],
         "xaxis": "x",
         "y": [
          10.0,
          0.0,
          185.0,
          0.0,
          0.0,
          139.0,
          1000.0,
          2188.0,
          2026.0,
          300.0,
          0.0,
          50.0,
          0.0,
          0.0,
          0.0,
          3.0,
          43.0,
          3.0,
          169.0,
          0.0,
          0.0,
          0.0,
          200.0,
          2166.0,
          0.0,
          0.0,
          1.0,
          51.0,
          142.0,
          38.0,
          49.0,
          54.0,
          79.0,
          3033.0,
          41.0,
          0.0,
          73.0,
          0.0,
          23.0,
          12.0,
          10.0,
          2.0,
          0.0,
          0.0,
          1223.0,
          300.0,
          3395.0,
          0.0,
          2.0,
          16.0,
          1.0,
          0.0,
          10034.0,
          5.0,
          7.0,
          1.0,
          3.0,
          2.0,
          9.0,
          0.0,
          2292.0,
          0.0,
          0.0,
          2002.0,
          150.0,
          455.0,
          0.0,
          13.0,
          253.0,
          603.0,
          3.0,
          601.0,
          0.0,
          2.0,
          0.0,
          3.0,
          6800.0,
          189.0,
          0.0,
          1952.0,
          0.0,
          0.0,
          0.0,
          100.0,
          0.0,
          0.0,
          0.0,
          0.0,
          5.0,
          0.0,
          0.0,
          3.0,
          1339.0,
          208.0,
          321.0,
          12.0,
          131.0,
          0.0,
          1636.0,
          160.0,
          54.0,
          26.0,
          0.0,
          9.0,
          0.0,
          10.0,
          807.0,
          73.0,
          9.0,
          192.0,
          596.0,
          18428.0,
          1.0,
          10.0,
          0.0,
          10.0,
          0.0,
          10.0,
          4778.0,
          0.0,
          1.0,
          0.0,
          6.0,
          1.0
         ],
         "yaxis": "y",
         "type": "scatter"
        }
       ],
       "layout": {
        "template": {
         "data": {
          "barpolar": [
           {
            "marker": {
             "line": {
              "color": "white",
              "width": 0.5
             },
             "pattern": {
              "fillmode": "overlay",
              "size": 10,
              "solidity": 0.2
             }
            },
            "type": "barpolar"
           }
          ],
          "bar": [
           {
            "error_x": {
             "color": "#2a3f5f"
            },
            "error_y": {
             "color": "#2a3f5f"
            },
            "marker": {
             "line": {
              "color": "white",
              "width": 0.5
             },
             "pattern": {
              "fillmode": "overlay",
              "size": 10,
              "solidity": 0.2
             }
            },
            "type": "bar"
           }
          ],
          "carpet": [
           {
            "aaxis": {
             "endlinecolor": "#2a3f5f",
             "gridcolor": "#C8D4E3",
             "linecolor": "#C8D4E3",
             "minorgridcolor": "#C8D4E3",
             "startlinecolor": "#2a3f5f"
            },
            "baxis": {
             "endlinecolor": "#2a3f5f",
             "gridcolor": "#C8D4E3",
             "linecolor": "#C8D4E3",
             "minorgridcolor": "#C8D4E3",
             "startlinecolor": "#2a3f5f"
            },
            "type": "carpet"
           }
          ],
          "choropleth": [
           {
            "colorbar": {
             "outlinewidth": 0,
             "ticks": ""
            },
            "type": "choropleth"
           }
          ],
          "contourcarpet": [
           {
            "colorbar": {
             "outlinewidth": 0,
             "ticks": ""
            },
            "type": "contourcarpet"
           }
          ],
          "contour": [
           {
            "colorbar": {
             "outlinewidth": 0,
             "ticks": ""
            },
            "colorscale": [
             [
              0.0,
              "#0d0887"
             ],
             [
              0.1111111111111111,
              "#46039f"
             ],
             [
              0.2222222222222222,
              "#7201a8"
             ],
             [
              0.3333333333333333,
              "#9c179e"
             ],
             [
              0.4444444444444444,
              "#bd3786"
             ],
             [
              0.5555555555555556,
              "#d8576b"
             ],
             [
              0.6666666666666666,
              "#ed7953"
             ],
             [
              0.7777777777777778,
              "#fb9f3a"
             ],
             [
              0.8888888888888888,
              "#fdca26"
             ],
             [
              1.0,
              "#f0f921"
             ]
            ],
            "type": "contour"
           }
          ],
          "heatmapgl": [
           {
            "colorbar": {
             "outlinewidth": 0,
             "ticks": ""
            },
            "colorscale": [
             [
              0.0,
              "#0d0887"
             ],
             [
              0.1111111111111111,
              "#46039f"
             ],
             [
              0.2222222222222222,
              "#7201a8"
             ],
             [
              0.3333333333333333,
              "#9c179e"
             ],
             [
              0.4444444444444444,
              "#bd3786"
             ],
             [
              0.5555555555555556,
              "#d8576b"
             ],
             [
              0.6666666666666666,
              "#ed7953"
             ],
             [
              0.7777777777777778,
              "#fb9f3a"
             ],
             [
              0.8888888888888888,
              "#fdca26"
             ],
             [
              1.0,
              "#f0f921"
             ]
            ],
            "type": "heatmapgl"
           }
          ],
          "heatmap": [
           {
            "colorbar": {
             "outlinewidth": 0,
             "ticks": ""
            },
            "colorscale": [
             [
              0.0,
              "#0d0887"
             ],
             [
              0.1111111111111111,
              "#46039f"
             ],
             [
              0.2222222222222222,
              "#7201a8"
             ],
             [
              0.3333333333333333,
              "#9c179e"
             ],
             [
              0.4444444444444444,
              "#bd3786"
             ],
             [
              0.5555555555555556,
              "#d8576b"
             ],
             [
              0.6666666666666666,
              "#ed7953"
             ],
             [
              0.7777777777777778,
              "#fb9f3a"
             ],
             [
              0.8888888888888888,
              "#fdca26"
             ],
             [
              1.0,
              "#f0f921"
             ]
            ],
            "type": "heatmap"
           }
          ],
          "histogram2dcontour": [
           {
            "colorbar": {
             "outlinewidth": 0,
             "ticks": ""
            },
            "colorscale": [
             [
              0.0,
              "#0d0887"
             ],
             [
              0.1111111111111111,
              "#46039f"
             ],
             [
              0.2222222222222222,
              "#7201a8"
             ],
             [
              0.3333333333333333,
              "#9c179e"
             ],
             [
              0.4444444444444444,
              "#bd3786"
             ],
             [
              0.5555555555555556,
              "#d8576b"
             ],
             [
              0.6666666666666666,
              "#ed7953"
             ],
             [
              0.7777777777777778,
              "#fb9f3a"
             ],
             [
              0.8888888888888888,
              "#fdca26"
             ],
             [
              1.0,
              "#f0f921"
             ]
            ],
            "type": "histogram2dcontour"
           }
          ],
          "histogram2d": [
           {
            "colorbar": {
             "outlinewidth": 0,
             "ticks": ""
            },
            "colorscale": [
             [
              0.0,
              "#0d0887"
             ],
             [
              0.1111111111111111,
              "#46039f"
             ],
             [
              0.2222222222222222,
              "#7201a8"
             ],
             [
              0.3333333333333333,
              "#9c179e"
             ],
             [
              0.4444444444444444,
              "#bd3786"
             ],
             [
              0.5555555555555556,
              "#d8576b"
             ],
             [
              0.6666666666666666,
              "#ed7953"
             ],
             [
              0.7777777777777778,
              "#fb9f3a"
             ],
             [
              0.8888888888888888,
              "#fdca26"
             ],
             [
              1.0,
              "#f0f921"
             ]
            ],
            "type": "histogram2d"
           }
          ],
          "histogram": [
           {
            "marker": {
             "pattern": {
              "fillmode": "overlay",
              "size": 10,
              "solidity": 0.2
             }
            },
            "type": "histogram"
           }
          ],
          "mesh3d": [
           {
            "colorbar": {
             "outlinewidth": 0,
             "ticks": ""
            },
            "type": "mesh3d"
           }
          ],
          "parcoords": [
           {
            "line": {
             "colorbar": {
              "outlinewidth": 0,
              "ticks": ""
             }
            },
            "type": "parcoords"
           }
          ],
          "pie": [
           {
            "automargin": true,
            "type": "pie"
           }
          ],
          "scatter3d": [
           {
            "line": {
             "colorbar": {
              "outlinewidth": 0,
              "ticks": ""
             }
            },
            "marker": {
             "colorbar": {
              "outlinewidth": 0,
              "ticks": ""
             }
            },
            "type": "scatter3d"
           }
          ],
          "scattercarpet": [
           {
            "marker": {
             "colorbar": {
              "outlinewidth": 0,
              "ticks": ""
             }
            },
            "type": "scattercarpet"
           }
          ],
          "scattergeo": [
           {
            "marker": {
             "colorbar": {
              "outlinewidth": 0,
              "ticks": ""
             }
            },
            "type": "scattergeo"
           }
          ],
          "scattergl": [
           {
            "marker": {
             "colorbar": {
              "outlinewidth": 0,
              "ticks": ""
             }
            },
            "type": "scattergl"
           }
          ],
          "scattermapbox": [
           {
            "marker": {
             "colorbar": {
              "outlinewidth": 0,
              "ticks": ""
             }
            },
            "type": "scattermapbox"
           }
          ],
          "scatterpolargl": [
           {
            "marker": {
             "colorbar": {
              "outlinewidth": 0,
              "ticks": ""
             }
            },
            "type": "scatterpolargl"
           }
          ],
          "scatterpolar": [
           {
            "marker": {
             "colorbar": {
              "outlinewidth": 0,
              "ticks": ""
             }
            },
            "type": "scatterpolar"
           }
          ],
          "scatter": [
           {
            "fillpattern": {
             "fillmode": "overlay",
             "size": 10,
             "solidity": 0.2
            },
            "type": "scatter"
           }
          ],
          "scatterternary": [
           {
            "marker": {
             "colorbar": {
              "outlinewidth": 0,
              "ticks": ""
             }
            },
            "type": "scatterternary"
           }
          ],
          "surface": [
           {
            "colorbar": {
             "outlinewidth": 0,
             "ticks": ""
            },
            "colorscale": [
             [
              0.0,
              "#0d0887"
             ],
             [
              0.1111111111111111,
              "#46039f"
             ],
             [
              0.2222222222222222,
              "#7201a8"
             ],
             [
              0.3333333333333333,
              "#9c179e"
             ],
             [
              0.4444444444444444,
              "#bd3786"
             ],
             [
              0.5555555555555556,
              "#d8576b"
             ],
             [
              0.6666666666666666,
              "#ed7953"
             ],
             [
              0.7777777777777778,
              "#fb9f3a"
             ],
             [
              0.8888888888888888,
              "#fdca26"
             ],
             [
              1.0,
              "#f0f921"
             ]
            ],
            "type": "surface"
           }
          ],
          "table": [
           {
            "cells": {
             "fill": {
              "color": "#EBF0F8"
             },
             "line": {
              "color": "white"
             }
            },
            "header": {
             "fill": {
              "color": "#C8D4E3"
             },
             "line": {
              "color": "white"
             }
            },
            "type": "table"
           }
          ]
         },
         "layout": {
          "annotationdefaults": {
           "arrowcolor": "#2a3f5f",
           "arrowhead": 0,
           "arrowwidth": 1
          },
          "autotypenumbers": "strict",
          "coloraxis": {
           "colorbar": {
            "outlinewidth": 0,
            "ticks": ""
           }
          },
          "colorscale": {
           "diverging": [
            [
             0,
             "#8e0152"
            ],
            [
             0.1,
             "#c51b7d"
            ],
            [
             0.2,
             "#de77ae"
            ],
            [
             0.3,
             "#f1b6da"
            ],
            [
             0.4,
             "#fde0ef"
            ],
            [
             0.5,
             "#f7f7f7"
            ],
            [
             0.6,
             "#e6f5d0"
            ],
            [
             0.7,
             "#b8e186"
            ],
            [
             0.8,
             "#7fbc41"
            ],
            [
             0.9,
             "#4d9221"
            ],
            [
             1,
             "#276419"
            ]
           ],
           "sequential": [
            [
             0.0,
             "#0d0887"
            ],
            [
             0.1111111111111111,
             "#46039f"
            ],
            [
             0.2222222222222222,
             "#7201a8"
            ],
            [
             0.3333333333333333,
             "#9c179e"
            ],
            [
             0.4444444444444444,
             "#bd3786"
            ],
            [
             0.5555555555555556,
             "#d8576b"
            ],
            [
             0.6666666666666666,
             "#ed7953"
            ],
            [
             0.7777777777777778,
             "#fb9f3a"
            ],
            [
             0.8888888888888888,
             "#fdca26"
            ],
            [
             1.0,
             "#f0f921"
            ]
           ],
           "sequentialminus": [
            [
             0.0,
             "#0d0887"
            ],
            [
             0.1111111111111111,
             "#46039f"
            ],
            [
             0.2222222222222222,
             "#7201a8"
            ],
            [
             0.3333333333333333,
             "#9c179e"
            ],
            [
             0.4444444444444444,
             "#bd3786"
            ],
            [
             0.5555555555555556,
             "#d8576b"
            ],
            [
             0.6666666666666666,
             "#ed7953"
            ],
            [
             0.7777777777777778,
             "#fb9f3a"
            ],
            [
             0.8888888888888888,
             "#fdca26"
            ],
            [
             1.0,
             "#f0f921"
            ]
           ]
          },
          "colorway": [
           "#636efa",
           "#EF553B",
           "#00cc96",
           "#ab63fa",
           "#FFA15A",
           "#19d3f3",
           "#FF6692",
           "#B6E880",
           "#FF97FF",
           "#FECB52"
          ],
          "font": {
           "color": "#2a3f5f"
          },
          "geo": {
           "bgcolor": "white",
           "lakecolor": "white",
           "landcolor": "white",
           "showlakes": true,
           "showland": true,
           "subunitcolor": "#C8D4E3"
          },
          "hoverlabel": {
           "align": "left"
          },
          "hovermode": "closest",
          "mapbox": {
           "style": "light"
          },
          "paper_bgcolor": "white",
          "plot_bgcolor": "white",
          "polar": {
           "angularaxis": {
            "gridcolor": "#EBF0F8",
            "linecolor": "#EBF0F8",
            "ticks": ""
           },
           "bgcolor": "white",
           "radialaxis": {
            "gridcolor": "#EBF0F8",
            "linecolor": "#EBF0F8",
            "ticks": ""
           }
          },
          "scene": {
           "xaxis": {
            "backgroundcolor": "white",
            "gridcolor": "#DFE8F3",
            "gridwidth": 2,
            "linecolor": "#EBF0F8",
            "showbackground": true,
            "ticks": "",
            "zerolinecolor": "#EBF0F8"
           },
           "yaxis": {
            "backgroundcolor": "white",
            "gridcolor": "#DFE8F3",
            "gridwidth": 2,
            "linecolor": "#EBF0F8",
            "showbackground": true,
            "ticks": "",
            "zerolinecolor": "#EBF0F8"
           },
           "zaxis": {
            "backgroundcolor": "white",
            "gridcolor": "#DFE8F3",
            "gridwidth": 2,
            "linecolor": "#EBF0F8",
            "showbackground": true,
            "ticks": "",
            "zerolinecolor": "#EBF0F8"
           }
          },
          "shapedefaults": {
           "line": {
            "color": "#2a3f5f"
           }
          },
          "ternary": {
           "aaxis": {
            "gridcolor": "#DFE8F3",
            "linecolor": "#A2B1C6",
            "ticks": ""
           },
           "baxis": {
            "gridcolor": "#DFE8F3",
            "linecolor": "#A2B1C6",
            "ticks": ""
           },
           "bgcolor": "white",
           "caxis": {
            "gridcolor": "#DFE8F3",
            "linecolor": "#A2B1C6",
            "ticks": ""
           }
          },
          "title": {
           "x": 0.05
          },
          "xaxis": {
           "automargin": true,
           "gridcolor": "#EBF0F8",
           "linecolor": "#EBF0F8",
           "ticks": "",
           "title": {
            "standoff": 15
           },
           "zerolinecolor": "#EBF0F8",
           "zerolinewidth": 2
          },
          "yaxis": {
           "automargin": true,
           "gridcolor": "#EBF0F8",
           "linecolor": "#EBF0F8",
           "ticks": "",
           "title": {
            "standoff": 15
           },
           "zerolinecolor": "#EBF0F8",
           "zerolinewidth": 2
          }
         }
        },
        "xaxis": {
         "anchor": "y",
         "domain": [
          0.0,
          1.0
         ],
         "title": {
          "text": "Year"
         }
        },
        "yaxis": {
         "anchor": "x",
         "domain": [
          0.0,
          1.0
         ],
         "title": {
          "text": "Deaths"
         }
        },
        "legend": {
         "tracegroupgap": 0
        },
        "title": {
         "text": "<b>Deaths Count in Different Years"
        }
       },
       "config": {
        "plotlyServerURL": "https://plot.ly"
       }
      },
      "text/html": "<div>                            <div id=\"445b225e-5c71-4460-b6b7-d711b812c2b7\" class=\"plotly-graph-div\" style=\"height:525px; width:100%;\"></div>            <script type=\"text/javascript\">                require([\"plotly\"], function(Plotly) {                    window.PLOTLYENV=window.PLOTLYENV || {};                                    if (document.getElementById(\"445b225e-5c71-4460-b6b7-d711b812c2b7\")) {                    Plotly.newPlot(                        \"445b225e-5c71-4460-b6b7-d711b812c2b7\",                        [{\"hovertemplate\":\"Year=%{x}\\u003cbr\\u003eDeaths=%{y}\\u003cextra\\u003e\\u003c\\u002fextra\\u003e\",\"legendgroup\":\"\",\"line\":{\"color\":\"#636efa\",\"dash\":\"solid\"},\"marker\":{\"symbol\":\"circle\"},\"mode\":\"lines\",\"name\":\"\",\"orientation\":\"v\",\"showlegend\":false,\"x\":[1900,1901,1902,1903,1904,1905,1906,1907,1908,1909,1910,1911,1912,1913,1914,1915,1916,1917,1918,1919,1920,1921,1922,1923,1924,1925,1926,1927,1928,1929,1930,1931,1932,1933,1934,1935,1936,1937,1938,1939,1940,1941,1942,1943,1944,1945,1946,1947,1948,1949,1950,1951,1952,1953,1954,1955,1956,1957,1958,1959,1960,1961,1962,1963,1964,1965,1966,1967,1968,1969,1970,1971,1972,1973,1974,1975,1976,1977,1978,1979,1980,1981,1982,1983,1984,1985,1986,1987,1988,1989,1990,1991,1992,1993,1994,1995,1996,1997,1998,1999,2000,2001,2002,2003,2004,2005,2006,2007,2008,2009,2010,2011,2012,2013,2014,2015,2016,2017,2018,2019,2020,2021,2022,2023],\"xaxis\":\"x\",\"y\":[10.0,0.0,185.0,0.0,0.0,139.0,1000.0,2188.0,2026.0,300.0,0.0,50.0,0.0,0.0,0.0,3.0,43.0,3.0,169.0,0.0,0.0,0.0,200.0,2166.0,0.0,0.0,1.0,51.0,142.0,38.0,49.0,54.0,79.0,3033.0,41.0,0.0,73.0,0.0,23.0,12.0,10.0,2.0,0.0,0.0,1223.0,300.0,3395.0,0.0,2.0,16.0,1.0,0.0,10034.0,5.0,7.0,1.0,3.0,2.0,9.0,0.0,2292.0,0.0,0.0,2002.0,150.0,455.0,0.0,13.0,253.0,603.0,3.0,601.0,0.0,2.0,0.0,3.0,6800.0,189.0,0.0,1952.0,0.0,0.0,0.0,100.0,0.0,0.0,0.0,0.0,5.0,0.0,0.0,3.0,1339.0,208.0,321.0,12.0,131.0,0.0,1636.0,160.0,54.0,26.0,0.0,9.0,0.0,10.0,807.0,73.0,9.0,192.0,596.0,18428.0,1.0,10.0,0.0,10.0,0.0,10.0,4778.0,0.0,1.0,0.0,6.0,1.0],\"yaxis\":\"y\",\"type\":\"scatter\"}],                        {\"template\":{\"data\":{\"barpolar\":[{\"marker\":{\"line\":{\"color\":\"white\",\"width\":0.5},\"pattern\":{\"fillmode\":\"overlay\",\"size\":10,\"solidity\":0.2}},\"type\":\"barpolar\"}],\"bar\":[{\"error_x\":{\"color\":\"#2a3f5f\"},\"error_y\":{\"color\":\"#2a3f5f\"},\"marker\":{\"line\":{\"color\":\"white\",\"width\":0.5},\"pattern\":{\"fillmode\":\"overlay\",\"size\":10,\"solidity\":0.2}},\"type\":\"bar\"}],\"carpet\":[{\"aaxis\":{\"endlinecolor\":\"#2a3f5f\",\"gridcolor\":\"#C8D4E3\",\"linecolor\":\"#C8D4E3\",\"minorgridcolor\":\"#C8D4E3\",\"startlinecolor\":\"#2a3f5f\"},\"baxis\":{\"endlinecolor\":\"#2a3f5f\",\"gridcolor\":\"#C8D4E3\",\"linecolor\":\"#C8D4E3\",\"minorgridcolor\":\"#C8D4E3\",\"startlinecolor\":\"#2a3f5f\"},\"type\":\"carpet\"}],\"choropleth\":[{\"colorbar\":{\"outlinewidth\":0,\"ticks\":\"\"},\"type\":\"choropleth\"}],\"contourcarpet\":[{\"colorbar\":{\"outlinewidth\":0,\"ticks\":\"\"},\"type\":\"contourcarpet\"}],\"contour\":[{\"colorbar\":{\"outlinewidth\":0,\"ticks\":\"\"},\"colorscale\":[[0.0,\"#0d0887\"],[0.1111111111111111,\"#46039f\"],[0.2222222222222222,\"#7201a8\"],[0.3333333333333333,\"#9c179e\"],[0.4444444444444444,\"#bd3786\"],[0.5555555555555556,\"#d8576b\"],[0.6666666666666666,\"#ed7953\"],[0.7777777777777778,\"#fb9f3a\"],[0.8888888888888888,\"#fdca26\"],[1.0,\"#f0f921\"]],\"type\":\"contour\"}],\"heatmapgl\":[{\"colorbar\":{\"outlinewidth\":0,\"ticks\":\"\"},\"colorscale\":[[0.0,\"#0d0887\"],[0.1111111111111111,\"#46039f\"],[0.2222222222222222,\"#7201a8\"],[0.3333333333333333,\"#9c179e\"],[0.4444444444444444,\"#bd3786\"],[0.5555555555555556,\"#d8576b\"],[0.6666666666666666,\"#ed7953\"],[0.7777777777777778,\"#fb9f3a\"],[0.8888888888888888,\"#fdca26\"],[1.0,\"#f0f921\"]],\"type\":\"heatmapgl\"}],\"heatmap\":[{\"colorbar\":{\"outlinewidth\":0,\"ticks\":\"\"},\"colorscale\":[[0.0,\"#0d0887\"],[0.1111111111111111,\"#46039f\"],[0.2222222222222222,\"#7201a8\"],[0.3333333333333333,\"#9c179e\"],[0.4444444444444444,\"#bd3786\"],[0.5555555555555556,\"#d8576b\"],[0.6666666666666666,\"#ed7953\"],[0.7777777777777778,\"#fb9f3a\"],[0.8888888888888888,\"#fdca26\"],[1.0,\"#f0f921\"]],\"type\":\"heatmap\"}],\"histogram2dcontour\":[{\"colorbar\":{\"outlinewidth\":0,\"ticks\":\"\"},\"colorscale\":[[0.0,\"#0d0887\"],[0.1111111111111111,\"#46039f\"],[0.2222222222222222,\"#7201a8\"],[0.3333333333333333,\"#9c179e\"],[0.4444444444444444,\"#bd3786\"],[0.5555555555555556,\"#d8576b\"],[0.6666666666666666,\"#ed7953\"],[0.7777777777777778,\"#fb9f3a\"],[0.8888888888888888,\"#fdca26\"],[1.0,\"#f0f921\"]],\"type\":\"histogram2dcontour\"}],\"histogram2d\":[{\"colorbar\":{\"outlinewidth\":0,\"ticks\":\"\"},\"colorscale\":[[0.0,\"#0d0887\"],[0.1111111111111111,\"#46039f\"],[0.2222222222222222,\"#7201a8\"],[0.3333333333333333,\"#9c179e\"],[0.4444444444444444,\"#bd3786\"],[0.5555555555555556,\"#d8576b\"],[0.6666666666666666,\"#ed7953\"],[0.7777777777777778,\"#fb9f3a\"],[0.8888888888888888,\"#fdca26\"],[1.0,\"#f0f921\"]],\"type\":\"histogram2d\"}],\"histogram\":[{\"marker\":{\"pattern\":{\"fillmode\":\"overlay\",\"size\":10,\"solidity\":0.2}},\"type\":\"histogram\"}],\"mesh3d\":[{\"colorbar\":{\"outlinewidth\":0,\"ticks\":\"\"},\"type\":\"mesh3d\"}],\"parcoords\":[{\"line\":{\"colorbar\":{\"outlinewidth\":0,\"ticks\":\"\"}},\"type\":\"parcoords\"}],\"pie\":[{\"automargin\":true,\"type\":\"pie\"}],\"scatter3d\":[{\"line\":{\"colorbar\":{\"outlinewidth\":0,\"ticks\":\"\"}},\"marker\":{\"colorbar\":{\"outlinewidth\":0,\"ticks\":\"\"}},\"type\":\"scatter3d\"}],\"scattercarpet\":[{\"marker\":{\"colorbar\":{\"outlinewidth\":0,\"ticks\":\"\"}},\"type\":\"scattercarpet\"}],\"scattergeo\":[{\"marker\":{\"colorbar\":{\"outlinewidth\":0,\"ticks\":\"\"}},\"type\":\"scattergeo\"}],\"scattergl\":[{\"marker\":{\"colorbar\":{\"outlinewidth\":0,\"ticks\":\"\"}},\"type\":\"scattergl\"}],\"scattermapbox\":[{\"marker\":{\"colorbar\":{\"outlinewidth\":0,\"ticks\":\"\"}},\"type\":\"scattermapbox\"}],\"scatterpolargl\":[{\"marker\":{\"colorbar\":{\"outlinewidth\":0,\"ticks\":\"\"}},\"type\":\"scatterpolargl\"}],\"scatterpolar\":[{\"marker\":{\"colorbar\":{\"outlinewidth\":0,\"ticks\":\"\"}},\"type\":\"scatterpolar\"}],\"scatter\":[{\"fillpattern\":{\"fillmode\":\"overlay\",\"size\":10,\"solidity\":0.2},\"type\":\"scatter\"}],\"scatterternary\":[{\"marker\":{\"colorbar\":{\"outlinewidth\":0,\"ticks\":\"\"}},\"type\":\"scatterternary\"}],\"surface\":[{\"colorbar\":{\"outlinewidth\":0,\"ticks\":\"\"},\"colorscale\":[[0.0,\"#0d0887\"],[0.1111111111111111,\"#46039f\"],[0.2222222222222222,\"#7201a8\"],[0.3333333333333333,\"#9c179e\"],[0.4444444444444444,\"#bd3786\"],[0.5555555555555556,\"#d8576b\"],[0.6666666666666666,\"#ed7953\"],[0.7777777777777778,\"#fb9f3a\"],[0.8888888888888888,\"#fdca26\"],[1.0,\"#f0f921\"]],\"type\":\"surface\"}],\"table\":[{\"cells\":{\"fill\":{\"color\":\"#EBF0F8\"},\"line\":{\"color\":\"white\"}},\"header\":{\"fill\":{\"color\":\"#C8D4E3\"},\"line\":{\"color\":\"white\"}},\"type\":\"table\"}]},\"layout\":{\"annotationdefaults\":{\"arrowcolor\":\"#2a3f5f\",\"arrowhead\":0,\"arrowwidth\":1},\"autotypenumbers\":\"strict\",\"coloraxis\":{\"colorbar\":{\"outlinewidth\":0,\"ticks\":\"\"}},\"colorscale\":{\"diverging\":[[0,\"#8e0152\"],[0.1,\"#c51b7d\"],[0.2,\"#de77ae\"],[0.3,\"#f1b6da\"],[0.4,\"#fde0ef\"],[0.5,\"#f7f7f7\"],[0.6,\"#e6f5d0\"],[0.7,\"#b8e186\"],[0.8,\"#7fbc41\"],[0.9,\"#4d9221\"],[1,\"#276419\"]],\"sequential\":[[0.0,\"#0d0887\"],[0.1111111111111111,\"#46039f\"],[0.2222222222222222,\"#7201a8\"],[0.3333333333333333,\"#9c179e\"],[0.4444444444444444,\"#bd3786\"],[0.5555555555555556,\"#d8576b\"],[0.6666666666666666,\"#ed7953\"],[0.7777777777777778,\"#fb9f3a\"],[0.8888888888888888,\"#fdca26\"],[1.0,\"#f0f921\"]],\"sequentialminus\":[[0.0,\"#0d0887\"],[0.1111111111111111,\"#46039f\"],[0.2222222222222222,\"#7201a8\"],[0.3333333333333333,\"#9c179e\"],[0.4444444444444444,\"#bd3786\"],[0.5555555555555556,\"#d8576b\"],[0.6666666666666666,\"#ed7953\"],[0.7777777777777778,\"#fb9f3a\"],[0.8888888888888888,\"#fdca26\"],[1.0,\"#f0f921\"]]},\"colorway\":[\"#636efa\",\"#EF553B\",\"#00cc96\",\"#ab63fa\",\"#FFA15A\",\"#19d3f3\",\"#FF6692\",\"#B6E880\",\"#FF97FF\",\"#FECB52\"],\"font\":{\"color\":\"#2a3f5f\"},\"geo\":{\"bgcolor\":\"white\",\"lakecolor\":\"white\",\"landcolor\":\"white\",\"showlakes\":true,\"showland\":true,\"subunitcolor\":\"#C8D4E3\"},\"hoverlabel\":{\"align\":\"left\"},\"hovermode\":\"closest\",\"mapbox\":{\"style\":\"light\"},\"paper_bgcolor\":\"white\",\"plot_bgcolor\":\"white\",\"polar\":{\"angularaxis\":{\"gridcolor\":\"#EBF0F8\",\"linecolor\":\"#EBF0F8\",\"ticks\":\"\"},\"bgcolor\":\"white\",\"radialaxis\":{\"gridcolor\":\"#EBF0F8\",\"linecolor\":\"#EBF0F8\",\"ticks\":\"\"}},\"scene\":{\"xaxis\":{\"backgroundcolor\":\"white\",\"gridcolor\":\"#DFE8F3\",\"gridwidth\":2,\"linecolor\":\"#EBF0F8\",\"showbackground\":true,\"ticks\":\"\",\"zerolinecolor\":\"#EBF0F8\"},\"yaxis\":{\"backgroundcolor\":\"white\",\"gridcolor\":\"#DFE8F3\",\"gridwidth\":2,\"linecolor\":\"#EBF0F8\",\"showbackground\":true,\"ticks\":\"\",\"zerolinecolor\":\"#EBF0F8\"},\"zaxis\":{\"backgroundcolor\":\"white\",\"gridcolor\":\"#DFE8F3\",\"gridwidth\":2,\"linecolor\":\"#EBF0F8\",\"showbackground\":true,\"ticks\":\"\",\"zerolinecolor\":\"#EBF0F8\"}},\"shapedefaults\":{\"line\":{\"color\":\"#2a3f5f\"}},\"ternary\":{\"aaxis\":{\"gridcolor\":\"#DFE8F3\",\"linecolor\":\"#A2B1C6\",\"ticks\":\"\"},\"baxis\":{\"gridcolor\":\"#DFE8F3\",\"linecolor\":\"#A2B1C6\",\"ticks\":\"\"},\"bgcolor\":\"white\",\"caxis\":{\"gridcolor\":\"#DFE8F3\",\"linecolor\":\"#A2B1C6\",\"ticks\":\"\"}},\"title\":{\"x\":0.05},\"xaxis\":{\"automargin\":true,\"gridcolor\":\"#EBF0F8\",\"linecolor\":\"#EBF0F8\",\"ticks\":\"\",\"title\":{\"standoff\":15},\"zerolinecolor\":\"#EBF0F8\",\"zerolinewidth\":2},\"yaxis\":{\"automargin\":true,\"gridcolor\":\"#EBF0F8\",\"linecolor\":\"#EBF0F8\",\"ticks\":\"\",\"title\":{\"standoff\":15},\"zerolinecolor\":\"#EBF0F8\",\"zerolinewidth\":2}}},\"xaxis\":{\"anchor\":\"y\",\"domain\":[0.0,1.0],\"title\":{\"text\":\"Year\"}},\"yaxis\":{\"anchor\":\"x\",\"domain\":[0.0,1.0],\"title\":{\"text\":\"Deaths\"}},\"legend\":{\"tracegroupgap\":0},\"title\":{\"text\":\"\\u003cb\\u003eDeaths Count in Different Years\"}},                        {\"responsive\": true}                    ).then(function(){\n                            \nvar gd = document.getElementById('445b225e-5c71-4460-b6b7-d711b812c2b7');\nvar x = new MutationObserver(function (mutations, observer) {{\n        var display = window.getComputedStyle(gd).display;\n        if (!display || display === 'none') {{\n            console.log([gd, 'removed!']);\n            Plotly.purge(gd);\n            observer.disconnect();\n        }}\n}});\n\n// Listen for the removal of the full notebook cells\nvar notebookContainer = gd.closest('#notebook-container');\nif (notebookContainer) {{\n    x.observe(notebookContainer, {childList: true});\n}}\n\n// Listen for the clearing of the current output cell\nvar outputEl = gd.closest('.output');\nif (outputEl) {{\n    x.observe(outputEl, {childList: true});\n}}\n\n                        })                };                });            </script>        </div>"
     },
     "metadata": {},
     "output_type": "display_data"
    }
   ],
   "source": [
    "fig = px.line(df_Deaths_year, x=\"Year\", y=\"Deaths\",template='plotly_white',title=\"<b>Deaths Count in Different Years\")\n",
    "fig.show()"
   ]
  },
  {
   "cell_type": "markdown",
   "id": "f143ea2a",
   "metadata": {},
   "source": [
    "<br>**From the plot above, it's apparent that fatal tsunamis occur at intervals of several years.**  \n",
    "<br>"
   ]
  },
  {
   "cell_type": "code",
   "execution_count": 27,
   "id": "74c8be41",
   "metadata": {
    "scrolled": true,
    "ExecuteTime": {
     "end_time": "2023-10-29T14:17:37.952333400Z",
     "start_time": "2023-10-29T14:17:37.599985500Z"
    }
   },
   "outputs": [
    {
     "data": {
      "text/plain": "      Year    Deaths      Country\n821   2004  227899.0    INDONESIA\n890   2011   18428.0        JAPAN\n395   1952   10000.0       RUSSIA\n600   1976    6800.0  PHILIPPINES\n1111  2018    4340.0    INDONESIA\n261   1933    3022.0        JAPAN\n449   1960    2226.0        CHILE\n57    1907    2188.0    INDONESIA\n171   1923    2144.0        JAPAN\n1049  1908    2000.0        ITALY",
      "text/html": "<div>\n<style scoped>\n    .dataframe tbody tr th:only-of-type {\n        vertical-align: middle;\n    }\n\n    .dataframe tbody tr th {\n        vertical-align: top;\n    }\n\n    .dataframe thead th {\n        text-align: right;\n    }\n</style>\n<table border=\"1\" class=\"dataframe\">\n  <thead>\n    <tr style=\"text-align: right;\">\n      <th></th>\n      <th>Year</th>\n      <th>Deaths</th>\n      <th>Country</th>\n    </tr>\n  </thead>\n  <tbody>\n    <tr>\n      <th>821</th>\n      <td>2004</td>\n      <td>227899.0</td>\n      <td>INDONESIA</td>\n    </tr>\n    <tr>\n      <th>890</th>\n      <td>2011</td>\n      <td>18428.0</td>\n      <td>JAPAN</td>\n    </tr>\n    <tr>\n      <th>395</th>\n      <td>1952</td>\n      <td>10000.0</td>\n      <td>RUSSIA</td>\n    </tr>\n    <tr>\n      <th>600</th>\n      <td>1976</td>\n      <td>6800.0</td>\n      <td>PHILIPPINES</td>\n    </tr>\n    <tr>\n      <th>1111</th>\n      <td>2018</td>\n      <td>4340.0</td>\n      <td>INDONESIA</td>\n    </tr>\n    <tr>\n      <th>261</th>\n      <td>1933</td>\n      <td>3022.0</td>\n      <td>JAPAN</td>\n    </tr>\n    <tr>\n      <th>449</th>\n      <td>1960</td>\n      <td>2226.0</td>\n      <td>CHILE</td>\n    </tr>\n    <tr>\n      <th>57</th>\n      <td>1907</td>\n      <td>2188.0</td>\n      <td>INDONESIA</td>\n    </tr>\n    <tr>\n      <th>171</th>\n      <td>1923</td>\n      <td>2144.0</td>\n      <td>JAPAN</td>\n    </tr>\n    <tr>\n      <th>1049</th>\n      <td>1908</td>\n      <td>2000.0</td>\n      <td>ITALY</td>\n    </tr>\n  </tbody>\n</table>\n</div>"
     },
     "execution_count": 27,
     "metadata": {},
     "output_type": "execute_result"
    }
   ],
   "source": [
    "df.sort_values(['Deaths'],ascending = False)[['Year','Deaths','Country']].head(10)"
   ]
  },
  {
   "cell_type": "code",
   "execution_count": 28,
   "id": "a79eaeca",
   "metadata": {
    "scrolled": true,
    "ExecuteTime": {
     "end_time": "2023-10-29T14:17:37.953332800Z",
     "start_time": "2023-10-29T14:17:37.617804700Z"
    }
   },
   "outputs": [],
   "source": [
    "\n",
    "def cat_Deaths(Deaths):\n",
    "    if Deaths < 100:\n",
    "        return 'Less than 100'\n",
    "    elif Deaths >= 100 and Deaths < 500:\n",
    "        return 'Between 500 and 100'\n",
    "    elif Deaths >= 500 and Deaths < 1000:\n",
    "        return 'Between 1000 and 500'\n",
    "    else:\n",
    "        return 'Over 1000'\n",
    "\n",
    "# Apply the function to the Age column using the apply() function\n",
    "df['Deaths_grp'] = df['Deaths'].apply(cat_Deaths)"
   ]
  },
  {
   "cell_type": "code",
   "execution_count": 29,
   "id": "556ce940",
   "metadata": {
    "scrolled": true,
    "ExecuteTime": {
     "end_time": "2023-10-29T14:17:38.152399100Z",
     "start_time": "2023-10-29T14:17:37.632299300Z"
    }
   },
   "outputs": [
    {
     "data": {
      "application/vnd.plotly.v1+json": {
       "data": [
        {
         "alignmentgroup": "True",
         "hovertemplate": "Number of Deaths=Less than 100<br>Country=%{x}<br>Count=%{y}<extra></extra>",
         "legendgroup": "Less than 100",
         "marker": {
          "color": "#636efa",
          "pattern": {
           "shape": ""
          }
         },
         "name": "Less than 100",
         "offsetgroup": "Less than 100",
         "orientation": "v",
         "showlegend": true,
         "textposition": "auto",
         "x": [
          "JAPAN",
          "USA",
          "INDONESIA",
          "CHILE",
          "RUSSIA",
          "PAPUA NEW GUINEA",
          "PHILIPPINES",
          "GREECE",
          "NEW ZEALAND",
          "SOLOMON ISLANDS",
          "MEXICO",
          "PERU",
          "VANUATU",
          "ITALY",
          "NORWAY",
          "CHINA",
          "NEW CALEDONIA",
          "TAIWAN",
          "TONGA",
          "CANADA"
         ],
         "xaxis": "x",
         "y": [
          167,
          132,
          110,
          82,
          78,
          66,
          57,
          55,
          48,
          44,
          41,
          31,
          28,
          28,
          21,
          20,
          19,
          18,
          18,
          17
         ],
         "yaxis": "y",
         "type": "bar"
        },
        {
         "alignmentgroup": "True",
         "hovertemplate": "Number of Deaths=Between 500 and 100<br>Country=%{x}<br>Count=%{y}<extra></extra>",
         "legendgroup": "Between 500 and 100",
         "marker": {
          "color": "#EF553B",
          "pattern": {
           "shape": ""
          }
         },
         "name": "Between 500 and 100",
         "offsetgroup": "Between 500 and 100",
         "orientation": "v",
         "showlegend": true,
         "textposition": "auto",
         "x": [
          "INDONESIA",
          "USA",
          "CHILE",
          "JAPAN",
          "PHILIPPINES"
         ],
         "xaxis": "x",
         "y": [
          8,
          3,
          2,
          2,
          1
         ],
         "yaxis": "y",
         "type": "bar"
        },
        {
         "alignmentgroup": "True",
         "hovertemplate": "Number of Deaths=Over 1000<br>Country=%{x}<br>Count=%{y}<extra></extra>",
         "legendgroup": "Over 1000",
         "marker": {
          "color": "#00cc96",
          "pattern": {
           "shape": ""
          }
         },
         "name": "Over 1000",
         "offsetgroup": "Over 1000",
         "orientation": "v",
         "showlegend": true,
         "textposition": "auto",
         "x": [
          "INDONESIA",
          "JAPAN",
          "ITALY",
          "RUSSIA",
          "PHILIPPINES",
          "CHILE",
          "PAPUA NEW GUINEA"
         ],
         "xaxis": "x",
         "y": [
          5,
          5,
          2,
          1,
          1,
          1,
          1
         ],
         "yaxis": "y",
         "type": "bar"
        },
        {
         "alignmentgroup": "True",
         "hovertemplate": "Number of Deaths=Between 1000 and 500<br>Country=%{x}<br>Count=%{y}<extra></extra>",
         "legendgroup": "Between 1000 and 500",
         "marker": {
          "color": "#ab63fa",
          "pattern": {
           "shape": ""
          }
         },
         "name": "Between 1000 and 500",
         "offsetgroup": "Between 1000 and 500",
         "orientation": "v",
         "showlegend": true,
         "textposition": "auto",
         "x": [
          "INDONESIA",
          "PERU"
         ],
         "xaxis": "x",
         "y": [
          2,
          1
         ],
         "yaxis": "y",
         "type": "bar"
        }
       ],
       "layout": {
        "template": {
         "data": {
          "barpolar": [
           {
            "marker": {
             "line": {
              "color": "white",
              "width": 0.5
             },
             "pattern": {
              "fillmode": "overlay",
              "size": 10,
              "solidity": 0.2
             }
            },
            "type": "barpolar"
           }
          ],
          "bar": [
           {
            "error_x": {
             "color": "#2a3f5f"
            },
            "error_y": {
             "color": "#2a3f5f"
            },
            "marker": {
             "line": {
              "color": "white",
              "width": 0.5
             },
             "pattern": {
              "fillmode": "overlay",
              "size": 10,
              "solidity": 0.2
             }
            },
            "type": "bar"
           }
          ],
          "carpet": [
           {
            "aaxis": {
             "endlinecolor": "#2a3f5f",
             "gridcolor": "#C8D4E3",
             "linecolor": "#C8D4E3",
             "minorgridcolor": "#C8D4E3",
             "startlinecolor": "#2a3f5f"
            },
            "baxis": {
             "endlinecolor": "#2a3f5f",
             "gridcolor": "#C8D4E3",
             "linecolor": "#C8D4E3",
             "minorgridcolor": "#C8D4E3",
             "startlinecolor": "#2a3f5f"
            },
            "type": "carpet"
           }
          ],
          "choropleth": [
           {
            "colorbar": {
             "outlinewidth": 0,
             "ticks": ""
            },
            "type": "choropleth"
           }
          ],
          "contourcarpet": [
           {
            "colorbar": {
             "outlinewidth": 0,
             "ticks": ""
            },
            "type": "contourcarpet"
           }
          ],
          "contour": [
           {
            "colorbar": {
             "outlinewidth": 0,
             "ticks": ""
            },
            "colorscale": [
             [
              0.0,
              "#0d0887"
             ],
             [
              0.1111111111111111,
              "#46039f"
             ],
             [
              0.2222222222222222,
              "#7201a8"
             ],
             [
              0.3333333333333333,
              "#9c179e"
             ],
             [
              0.4444444444444444,
              "#bd3786"
             ],
             [
              0.5555555555555556,
              "#d8576b"
             ],
             [
              0.6666666666666666,
              "#ed7953"
             ],
             [
              0.7777777777777778,
              "#fb9f3a"
             ],
             [
              0.8888888888888888,
              "#fdca26"
             ],
             [
              1.0,
              "#f0f921"
             ]
            ],
            "type": "contour"
           }
          ],
          "heatmapgl": [
           {
            "colorbar": {
             "outlinewidth": 0,
             "ticks": ""
            },
            "colorscale": [
             [
              0.0,
              "#0d0887"
             ],
             [
              0.1111111111111111,
              "#46039f"
             ],
             [
              0.2222222222222222,
              "#7201a8"
             ],
             [
              0.3333333333333333,
              "#9c179e"
             ],
             [
              0.4444444444444444,
              "#bd3786"
             ],
             [
              0.5555555555555556,
              "#d8576b"
             ],
             [
              0.6666666666666666,
              "#ed7953"
             ],
             [
              0.7777777777777778,
              "#fb9f3a"
             ],
             [
              0.8888888888888888,
              "#fdca26"
             ],
             [
              1.0,
              "#f0f921"
             ]
            ],
            "type": "heatmapgl"
           }
          ],
          "heatmap": [
           {
            "colorbar": {
             "outlinewidth": 0,
             "ticks": ""
            },
            "colorscale": [
             [
              0.0,
              "#0d0887"
             ],
             [
              0.1111111111111111,
              "#46039f"
             ],
             [
              0.2222222222222222,
              "#7201a8"
             ],
             [
              0.3333333333333333,
              "#9c179e"
             ],
             [
              0.4444444444444444,
              "#bd3786"
             ],
             [
              0.5555555555555556,
              "#d8576b"
             ],
             [
              0.6666666666666666,
              "#ed7953"
             ],
             [
              0.7777777777777778,
              "#fb9f3a"
             ],
             [
              0.8888888888888888,
              "#fdca26"
             ],
             [
              1.0,
              "#f0f921"
             ]
            ],
            "type": "heatmap"
           }
          ],
          "histogram2dcontour": [
           {
            "colorbar": {
             "outlinewidth": 0,
             "ticks": ""
            },
            "colorscale": [
             [
              0.0,
              "#0d0887"
             ],
             [
              0.1111111111111111,
              "#46039f"
             ],
             [
              0.2222222222222222,
              "#7201a8"
             ],
             [
              0.3333333333333333,
              "#9c179e"
             ],
             [
              0.4444444444444444,
              "#bd3786"
             ],
             [
              0.5555555555555556,
              "#d8576b"
             ],
             [
              0.6666666666666666,
              "#ed7953"
             ],
             [
              0.7777777777777778,
              "#fb9f3a"
             ],
             [
              0.8888888888888888,
              "#fdca26"
             ],
             [
              1.0,
              "#f0f921"
             ]
            ],
            "type": "histogram2dcontour"
           }
          ],
          "histogram2d": [
           {
            "colorbar": {
             "outlinewidth": 0,
             "ticks": ""
            },
            "colorscale": [
             [
              0.0,
              "#0d0887"
             ],
             [
              0.1111111111111111,
              "#46039f"
             ],
             [
              0.2222222222222222,
              "#7201a8"
             ],
             [
              0.3333333333333333,
              "#9c179e"
             ],
             [
              0.4444444444444444,
              "#bd3786"
             ],
             [
              0.5555555555555556,
              "#d8576b"
             ],
             [
              0.6666666666666666,
              "#ed7953"
             ],
             [
              0.7777777777777778,
              "#fb9f3a"
             ],
             [
              0.8888888888888888,
              "#fdca26"
             ],
             [
              1.0,
              "#f0f921"
             ]
            ],
            "type": "histogram2d"
           }
          ],
          "histogram": [
           {
            "marker": {
             "pattern": {
              "fillmode": "overlay",
              "size": 10,
              "solidity": 0.2
             }
            },
            "type": "histogram"
           }
          ],
          "mesh3d": [
           {
            "colorbar": {
             "outlinewidth": 0,
             "ticks": ""
            },
            "type": "mesh3d"
           }
          ],
          "parcoords": [
           {
            "line": {
             "colorbar": {
              "outlinewidth": 0,
              "ticks": ""
             }
            },
            "type": "parcoords"
           }
          ],
          "pie": [
           {
            "automargin": true,
            "type": "pie"
           }
          ],
          "scatter3d": [
           {
            "line": {
             "colorbar": {
              "outlinewidth": 0,
              "ticks": ""
             }
            },
            "marker": {
             "colorbar": {
              "outlinewidth": 0,
              "ticks": ""
             }
            },
            "type": "scatter3d"
           }
          ],
          "scattercarpet": [
           {
            "marker": {
             "colorbar": {
              "outlinewidth": 0,
              "ticks": ""
             }
            },
            "type": "scattercarpet"
           }
          ],
          "scattergeo": [
           {
            "marker": {
             "colorbar": {
              "outlinewidth": 0,
              "ticks": ""
             }
            },
            "type": "scattergeo"
           }
          ],
          "scattergl": [
           {
            "marker": {
             "colorbar": {
              "outlinewidth": 0,
              "ticks": ""
             }
            },
            "type": "scattergl"
           }
          ],
          "scattermapbox": [
           {
            "marker": {
             "colorbar": {
              "outlinewidth": 0,
              "ticks": ""
             }
            },
            "type": "scattermapbox"
           }
          ],
          "scatterpolargl": [
           {
            "marker": {
             "colorbar": {
              "outlinewidth": 0,
              "ticks": ""
             }
            },
            "type": "scatterpolargl"
           }
          ],
          "scatterpolar": [
           {
            "marker": {
             "colorbar": {
              "outlinewidth": 0,
              "ticks": ""
             }
            },
            "type": "scatterpolar"
           }
          ],
          "scatter": [
           {
            "fillpattern": {
             "fillmode": "overlay",
             "size": 10,
             "solidity": 0.2
            },
            "type": "scatter"
           }
          ],
          "scatterternary": [
           {
            "marker": {
             "colorbar": {
              "outlinewidth": 0,
              "ticks": ""
             }
            },
            "type": "scatterternary"
           }
          ],
          "surface": [
           {
            "colorbar": {
             "outlinewidth": 0,
             "ticks": ""
            },
            "colorscale": [
             [
              0.0,
              "#0d0887"
             ],
             [
              0.1111111111111111,
              "#46039f"
             ],
             [
              0.2222222222222222,
              "#7201a8"
             ],
             [
              0.3333333333333333,
              "#9c179e"
             ],
             [
              0.4444444444444444,
              "#bd3786"
             ],
             [
              0.5555555555555556,
              "#d8576b"
             ],
             [
              0.6666666666666666,
              "#ed7953"
             ],
             [
              0.7777777777777778,
              "#fb9f3a"
             ],
             [
              0.8888888888888888,
              "#fdca26"
             ],
             [
              1.0,
              "#f0f921"
             ]
            ],
            "type": "surface"
           }
          ],
          "table": [
           {
            "cells": {
             "fill": {
              "color": "#EBF0F8"
             },
             "line": {
              "color": "white"
             }
            },
            "header": {
             "fill": {
              "color": "#C8D4E3"
             },
             "line": {
              "color": "white"
             }
            },
            "type": "table"
           }
          ]
         },
         "layout": {
          "annotationdefaults": {
           "arrowcolor": "#2a3f5f",
           "arrowhead": 0,
           "arrowwidth": 1
          },
          "autotypenumbers": "strict",
          "coloraxis": {
           "colorbar": {
            "outlinewidth": 0,
            "ticks": ""
           }
          },
          "colorscale": {
           "diverging": [
            [
             0,
             "#8e0152"
            ],
            [
             0.1,
             "#c51b7d"
            ],
            [
             0.2,
             "#de77ae"
            ],
            [
             0.3,
             "#f1b6da"
            ],
            [
             0.4,
             "#fde0ef"
            ],
            [
             0.5,
             "#f7f7f7"
            ],
            [
             0.6,
             "#e6f5d0"
            ],
            [
             0.7,
             "#b8e186"
            ],
            [
             0.8,
             "#7fbc41"
            ],
            [
             0.9,
             "#4d9221"
            ],
            [
             1,
             "#276419"
            ]
           ],
           "sequential": [
            [
             0.0,
             "#0d0887"
            ],
            [
             0.1111111111111111,
             "#46039f"
            ],
            [
             0.2222222222222222,
             "#7201a8"
            ],
            [
             0.3333333333333333,
             "#9c179e"
            ],
            [
             0.4444444444444444,
             "#bd3786"
            ],
            [
             0.5555555555555556,
             "#d8576b"
            ],
            [
             0.6666666666666666,
             "#ed7953"
            ],
            [
             0.7777777777777778,
             "#fb9f3a"
            ],
            [
             0.8888888888888888,
             "#fdca26"
            ],
            [
             1.0,
             "#f0f921"
            ]
           ],
           "sequentialminus": [
            [
             0.0,
             "#0d0887"
            ],
            [
             0.1111111111111111,
             "#46039f"
            ],
            [
             0.2222222222222222,
             "#7201a8"
            ],
            [
             0.3333333333333333,
             "#9c179e"
            ],
            [
             0.4444444444444444,
             "#bd3786"
            ],
            [
             0.5555555555555556,
             "#d8576b"
            ],
            [
             0.6666666666666666,
             "#ed7953"
            ],
            [
             0.7777777777777778,
             "#fb9f3a"
            ],
            [
             0.8888888888888888,
             "#fdca26"
            ],
            [
             1.0,
             "#f0f921"
            ]
           ]
          },
          "colorway": [
           "#636efa",
           "#EF553B",
           "#00cc96",
           "#ab63fa",
           "#FFA15A",
           "#19d3f3",
           "#FF6692",
           "#B6E880",
           "#FF97FF",
           "#FECB52"
          ],
          "font": {
           "color": "#2a3f5f"
          },
          "geo": {
           "bgcolor": "white",
           "lakecolor": "white",
           "landcolor": "white",
           "showlakes": true,
           "showland": true,
           "subunitcolor": "#C8D4E3"
          },
          "hoverlabel": {
           "align": "left"
          },
          "hovermode": "closest",
          "mapbox": {
           "style": "light"
          },
          "paper_bgcolor": "white",
          "plot_bgcolor": "white",
          "polar": {
           "angularaxis": {
            "gridcolor": "#EBF0F8",
            "linecolor": "#EBF0F8",
            "ticks": ""
           },
           "bgcolor": "white",
           "radialaxis": {
            "gridcolor": "#EBF0F8",
            "linecolor": "#EBF0F8",
            "ticks": ""
           }
          },
          "scene": {
           "xaxis": {
            "backgroundcolor": "white",
            "gridcolor": "#DFE8F3",
            "gridwidth": 2,
            "linecolor": "#EBF0F8",
            "showbackground": true,
            "ticks": "",
            "zerolinecolor": "#EBF0F8"
           },
           "yaxis": {
            "backgroundcolor": "white",
            "gridcolor": "#DFE8F3",
            "gridwidth": 2,
            "linecolor": "#EBF0F8",
            "showbackground": true,
            "ticks": "",
            "zerolinecolor": "#EBF0F8"
           },
           "zaxis": {
            "backgroundcolor": "white",
            "gridcolor": "#DFE8F3",
            "gridwidth": 2,
            "linecolor": "#EBF0F8",
            "showbackground": true,
            "ticks": "",
            "zerolinecolor": "#EBF0F8"
           }
          },
          "shapedefaults": {
           "line": {
            "color": "#2a3f5f"
           }
          },
          "ternary": {
           "aaxis": {
            "gridcolor": "#DFE8F3",
            "linecolor": "#A2B1C6",
            "ticks": ""
           },
           "baxis": {
            "gridcolor": "#DFE8F3",
            "linecolor": "#A2B1C6",
            "ticks": ""
           },
           "bgcolor": "white",
           "caxis": {
            "gridcolor": "#DFE8F3",
            "linecolor": "#A2B1C6",
            "ticks": ""
           }
          },
          "title": {
           "x": 0.05
          },
          "xaxis": {
           "automargin": true,
           "gridcolor": "#EBF0F8",
           "linecolor": "#EBF0F8",
           "ticks": "",
           "title": {
            "standoff": 15
           },
           "zerolinecolor": "#EBF0F8",
           "zerolinewidth": 2
          },
          "yaxis": {
           "automargin": true,
           "gridcolor": "#EBF0F8",
           "linecolor": "#EBF0F8",
           "ticks": "",
           "title": {
            "standoff": 15
           },
           "zerolinecolor": "#EBF0F8",
           "zerolinewidth": 2
          }
         }
        },
        "xaxis": {
         "anchor": "y",
         "domain": [
          0.0,
          1.0
         ],
         "title": {
          "text": "Country"
         }
        },
        "yaxis": {
         "anchor": "x",
         "domain": [
          0.0,
          1.0
         ],
         "title": {
          "text": "Count"
         }
        },
        "legend": {
         "title": {
          "text": "Number of Deaths"
         },
         "tracegroupgap": 0
        },
        "title": {
         "text": "<b>Number of Tsunamis By Country"
        },
        "barmode": "relative"
       },
       "config": {
        "plotlyServerURL": "https://plot.ly"
       }
      },
      "text/html": "<div>                            <div id=\"2d98f52e-4332-4343-8726-edd85c25256d\" class=\"plotly-graph-div\" style=\"height:525px; width:100%;\"></div>            <script type=\"text/javascript\">                require([\"plotly\"], function(Plotly) {                    window.PLOTLYENV=window.PLOTLYENV || {};                                    if (document.getElementById(\"2d98f52e-4332-4343-8726-edd85c25256d\")) {                    Plotly.newPlot(                        \"2d98f52e-4332-4343-8726-edd85c25256d\",                        [{\"alignmentgroup\":\"True\",\"hovertemplate\":\"Number of Deaths=Less than 100\\u003cbr\\u003eCountry=%{x}\\u003cbr\\u003eCount=%{y}\\u003cextra\\u003e\\u003c\\u002fextra\\u003e\",\"legendgroup\":\"Less than 100\",\"marker\":{\"color\":\"#636efa\",\"pattern\":{\"shape\":\"\"}},\"name\":\"Less than 100\",\"offsetgroup\":\"Less than 100\",\"orientation\":\"v\",\"showlegend\":true,\"textposition\":\"auto\",\"x\":[\"JAPAN\",\"USA\",\"INDONESIA\",\"CHILE\",\"RUSSIA\",\"PAPUA NEW GUINEA\",\"PHILIPPINES\",\"GREECE\",\"NEW ZEALAND\",\"SOLOMON ISLANDS\",\"MEXICO\",\"PERU\",\"VANUATU\",\"ITALY\",\"NORWAY\",\"CHINA\",\"NEW CALEDONIA\",\"TAIWAN\",\"TONGA\",\"CANADA\"],\"xaxis\":\"x\",\"y\":[167,132,110,82,78,66,57,55,48,44,41,31,28,28,21,20,19,18,18,17],\"yaxis\":\"y\",\"type\":\"bar\"},{\"alignmentgroup\":\"True\",\"hovertemplate\":\"Number of Deaths=Between 500 and 100\\u003cbr\\u003eCountry=%{x}\\u003cbr\\u003eCount=%{y}\\u003cextra\\u003e\\u003c\\u002fextra\\u003e\",\"legendgroup\":\"Between 500 and 100\",\"marker\":{\"color\":\"#EF553B\",\"pattern\":{\"shape\":\"\"}},\"name\":\"Between 500 and 100\",\"offsetgroup\":\"Between 500 and 100\",\"orientation\":\"v\",\"showlegend\":true,\"textposition\":\"auto\",\"x\":[\"INDONESIA\",\"USA\",\"CHILE\",\"JAPAN\",\"PHILIPPINES\"],\"xaxis\":\"x\",\"y\":[8,3,2,2,1],\"yaxis\":\"y\",\"type\":\"bar\"},{\"alignmentgroup\":\"True\",\"hovertemplate\":\"Number of Deaths=Over 1000\\u003cbr\\u003eCountry=%{x}\\u003cbr\\u003eCount=%{y}\\u003cextra\\u003e\\u003c\\u002fextra\\u003e\",\"legendgroup\":\"Over 1000\",\"marker\":{\"color\":\"#00cc96\",\"pattern\":{\"shape\":\"\"}},\"name\":\"Over 1000\",\"offsetgroup\":\"Over 1000\",\"orientation\":\"v\",\"showlegend\":true,\"textposition\":\"auto\",\"x\":[\"INDONESIA\",\"JAPAN\",\"ITALY\",\"RUSSIA\",\"PHILIPPINES\",\"CHILE\",\"PAPUA NEW GUINEA\"],\"xaxis\":\"x\",\"y\":[5,5,2,1,1,1,1],\"yaxis\":\"y\",\"type\":\"bar\"},{\"alignmentgroup\":\"True\",\"hovertemplate\":\"Number of Deaths=Between 1000 and 500\\u003cbr\\u003eCountry=%{x}\\u003cbr\\u003eCount=%{y}\\u003cextra\\u003e\\u003c\\u002fextra\\u003e\",\"legendgroup\":\"Between 1000 and 500\",\"marker\":{\"color\":\"#ab63fa\",\"pattern\":{\"shape\":\"\"}},\"name\":\"Between 1000 and 500\",\"offsetgroup\":\"Between 1000 and 500\",\"orientation\":\"v\",\"showlegend\":true,\"textposition\":\"auto\",\"x\":[\"INDONESIA\",\"PERU\"],\"xaxis\":\"x\",\"y\":[2,1],\"yaxis\":\"y\",\"type\":\"bar\"}],                        {\"template\":{\"data\":{\"barpolar\":[{\"marker\":{\"line\":{\"color\":\"white\",\"width\":0.5},\"pattern\":{\"fillmode\":\"overlay\",\"size\":10,\"solidity\":0.2}},\"type\":\"barpolar\"}],\"bar\":[{\"error_x\":{\"color\":\"#2a3f5f\"},\"error_y\":{\"color\":\"#2a3f5f\"},\"marker\":{\"line\":{\"color\":\"white\",\"width\":0.5},\"pattern\":{\"fillmode\":\"overlay\",\"size\":10,\"solidity\":0.2}},\"type\":\"bar\"}],\"carpet\":[{\"aaxis\":{\"endlinecolor\":\"#2a3f5f\",\"gridcolor\":\"#C8D4E3\",\"linecolor\":\"#C8D4E3\",\"minorgridcolor\":\"#C8D4E3\",\"startlinecolor\":\"#2a3f5f\"},\"baxis\":{\"endlinecolor\":\"#2a3f5f\",\"gridcolor\":\"#C8D4E3\",\"linecolor\":\"#C8D4E3\",\"minorgridcolor\":\"#C8D4E3\",\"startlinecolor\":\"#2a3f5f\"},\"type\":\"carpet\"}],\"choropleth\":[{\"colorbar\":{\"outlinewidth\":0,\"ticks\":\"\"},\"type\":\"choropleth\"}],\"contourcarpet\":[{\"colorbar\":{\"outlinewidth\":0,\"ticks\":\"\"},\"type\":\"contourcarpet\"}],\"contour\":[{\"colorbar\":{\"outlinewidth\":0,\"ticks\":\"\"},\"colorscale\":[[0.0,\"#0d0887\"],[0.1111111111111111,\"#46039f\"],[0.2222222222222222,\"#7201a8\"],[0.3333333333333333,\"#9c179e\"],[0.4444444444444444,\"#bd3786\"],[0.5555555555555556,\"#d8576b\"],[0.6666666666666666,\"#ed7953\"],[0.7777777777777778,\"#fb9f3a\"],[0.8888888888888888,\"#fdca26\"],[1.0,\"#f0f921\"]],\"type\":\"contour\"}],\"heatmapgl\":[{\"colorbar\":{\"outlinewidth\":0,\"ticks\":\"\"},\"colorscale\":[[0.0,\"#0d0887\"],[0.1111111111111111,\"#46039f\"],[0.2222222222222222,\"#7201a8\"],[0.3333333333333333,\"#9c179e\"],[0.4444444444444444,\"#bd3786\"],[0.5555555555555556,\"#d8576b\"],[0.6666666666666666,\"#ed7953\"],[0.7777777777777778,\"#fb9f3a\"],[0.8888888888888888,\"#fdca26\"],[1.0,\"#f0f921\"]],\"type\":\"heatmapgl\"}],\"heatmap\":[{\"colorbar\":{\"outlinewidth\":0,\"ticks\":\"\"},\"colorscale\":[[0.0,\"#0d0887\"],[0.1111111111111111,\"#46039f\"],[0.2222222222222222,\"#7201a8\"],[0.3333333333333333,\"#9c179e\"],[0.4444444444444444,\"#bd3786\"],[0.5555555555555556,\"#d8576b\"],[0.6666666666666666,\"#ed7953\"],[0.7777777777777778,\"#fb9f3a\"],[0.8888888888888888,\"#fdca26\"],[1.0,\"#f0f921\"]],\"type\":\"heatmap\"}],\"histogram2dcontour\":[{\"colorbar\":{\"outlinewidth\":0,\"ticks\":\"\"},\"colorscale\":[[0.0,\"#0d0887\"],[0.1111111111111111,\"#46039f\"],[0.2222222222222222,\"#7201a8\"],[0.3333333333333333,\"#9c179e\"],[0.4444444444444444,\"#bd3786\"],[0.5555555555555556,\"#d8576b\"],[0.6666666666666666,\"#ed7953\"],[0.7777777777777778,\"#fb9f3a\"],[0.8888888888888888,\"#fdca26\"],[1.0,\"#f0f921\"]],\"type\":\"histogram2dcontour\"}],\"histogram2d\":[{\"colorbar\":{\"outlinewidth\":0,\"ticks\":\"\"},\"colorscale\":[[0.0,\"#0d0887\"],[0.1111111111111111,\"#46039f\"],[0.2222222222222222,\"#7201a8\"],[0.3333333333333333,\"#9c179e\"],[0.4444444444444444,\"#bd3786\"],[0.5555555555555556,\"#d8576b\"],[0.6666666666666666,\"#ed7953\"],[0.7777777777777778,\"#fb9f3a\"],[0.8888888888888888,\"#fdca26\"],[1.0,\"#f0f921\"]],\"type\":\"histogram2d\"}],\"histogram\":[{\"marker\":{\"pattern\":{\"fillmode\":\"overlay\",\"size\":10,\"solidity\":0.2}},\"type\":\"histogram\"}],\"mesh3d\":[{\"colorbar\":{\"outlinewidth\":0,\"ticks\":\"\"},\"type\":\"mesh3d\"}],\"parcoords\":[{\"line\":{\"colorbar\":{\"outlinewidth\":0,\"ticks\":\"\"}},\"type\":\"parcoords\"}],\"pie\":[{\"automargin\":true,\"type\":\"pie\"}],\"scatter3d\":[{\"line\":{\"colorbar\":{\"outlinewidth\":0,\"ticks\":\"\"}},\"marker\":{\"colorbar\":{\"outlinewidth\":0,\"ticks\":\"\"}},\"type\":\"scatter3d\"}],\"scattercarpet\":[{\"marker\":{\"colorbar\":{\"outlinewidth\":0,\"ticks\":\"\"}},\"type\":\"scattercarpet\"}],\"scattergeo\":[{\"marker\":{\"colorbar\":{\"outlinewidth\":0,\"ticks\":\"\"}},\"type\":\"scattergeo\"}],\"scattergl\":[{\"marker\":{\"colorbar\":{\"outlinewidth\":0,\"ticks\":\"\"}},\"type\":\"scattergl\"}],\"scattermapbox\":[{\"marker\":{\"colorbar\":{\"outlinewidth\":0,\"ticks\":\"\"}},\"type\":\"scattermapbox\"}],\"scatterpolargl\":[{\"marker\":{\"colorbar\":{\"outlinewidth\":0,\"ticks\":\"\"}},\"type\":\"scatterpolargl\"}],\"scatterpolar\":[{\"marker\":{\"colorbar\":{\"outlinewidth\":0,\"ticks\":\"\"}},\"type\":\"scatterpolar\"}],\"scatter\":[{\"fillpattern\":{\"fillmode\":\"overlay\",\"size\":10,\"solidity\":0.2},\"type\":\"scatter\"}],\"scatterternary\":[{\"marker\":{\"colorbar\":{\"outlinewidth\":0,\"ticks\":\"\"}},\"type\":\"scatterternary\"}],\"surface\":[{\"colorbar\":{\"outlinewidth\":0,\"ticks\":\"\"},\"colorscale\":[[0.0,\"#0d0887\"],[0.1111111111111111,\"#46039f\"],[0.2222222222222222,\"#7201a8\"],[0.3333333333333333,\"#9c179e\"],[0.4444444444444444,\"#bd3786\"],[0.5555555555555556,\"#d8576b\"],[0.6666666666666666,\"#ed7953\"],[0.7777777777777778,\"#fb9f3a\"],[0.8888888888888888,\"#fdca26\"],[1.0,\"#f0f921\"]],\"type\":\"surface\"}],\"table\":[{\"cells\":{\"fill\":{\"color\":\"#EBF0F8\"},\"line\":{\"color\":\"white\"}},\"header\":{\"fill\":{\"color\":\"#C8D4E3\"},\"line\":{\"color\":\"white\"}},\"type\":\"table\"}]},\"layout\":{\"annotationdefaults\":{\"arrowcolor\":\"#2a3f5f\",\"arrowhead\":0,\"arrowwidth\":1},\"autotypenumbers\":\"strict\",\"coloraxis\":{\"colorbar\":{\"outlinewidth\":0,\"ticks\":\"\"}},\"colorscale\":{\"diverging\":[[0,\"#8e0152\"],[0.1,\"#c51b7d\"],[0.2,\"#de77ae\"],[0.3,\"#f1b6da\"],[0.4,\"#fde0ef\"],[0.5,\"#f7f7f7\"],[0.6,\"#e6f5d0\"],[0.7,\"#b8e186\"],[0.8,\"#7fbc41\"],[0.9,\"#4d9221\"],[1,\"#276419\"]],\"sequential\":[[0.0,\"#0d0887\"],[0.1111111111111111,\"#46039f\"],[0.2222222222222222,\"#7201a8\"],[0.3333333333333333,\"#9c179e\"],[0.4444444444444444,\"#bd3786\"],[0.5555555555555556,\"#d8576b\"],[0.6666666666666666,\"#ed7953\"],[0.7777777777777778,\"#fb9f3a\"],[0.8888888888888888,\"#fdca26\"],[1.0,\"#f0f921\"]],\"sequentialminus\":[[0.0,\"#0d0887\"],[0.1111111111111111,\"#46039f\"],[0.2222222222222222,\"#7201a8\"],[0.3333333333333333,\"#9c179e\"],[0.4444444444444444,\"#bd3786\"],[0.5555555555555556,\"#d8576b\"],[0.6666666666666666,\"#ed7953\"],[0.7777777777777778,\"#fb9f3a\"],[0.8888888888888888,\"#fdca26\"],[1.0,\"#f0f921\"]]},\"colorway\":[\"#636efa\",\"#EF553B\",\"#00cc96\",\"#ab63fa\",\"#FFA15A\",\"#19d3f3\",\"#FF6692\",\"#B6E880\",\"#FF97FF\",\"#FECB52\"],\"font\":{\"color\":\"#2a3f5f\"},\"geo\":{\"bgcolor\":\"white\",\"lakecolor\":\"white\",\"landcolor\":\"white\",\"showlakes\":true,\"showland\":true,\"subunitcolor\":\"#C8D4E3\"},\"hoverlabel\":{\"align\":\"left\"},\"hovermode\":\"closest\",\"mapbox\":{\"style\":\"light\"},\"paper_bgcolor\":\"white\",\"plot_bgcolor\":\"white\",\"polar\":{\"angularaxis\":{\"gridcolor\":\"#EBF0F8\",\"linecolor\":\"#EBF0F8\",\"ticks\":\"\"},\"bgcolor\":\"white\",\"radialaxis\":{\"gridcolor\":\"#EBF0F8\",\"linecolor\":\"#EBF0F8\",\"ticks\":\"\"}},\"scene\":{\"xaxis\":{\"backgroundcolor\":\"white\",\"gridcolor\":\"#DFE8F3\",\"gridwidth\":2,\"linecolor\":\"#EBF0F8\",\"showbackground\":true,\"ticks\":\"\",\"zerolinecolor\":\"#EBF0F8\"},\"yaxis\":{\"backgroundcolor\":\"white\",\"gridcolor\":\"#DFE8F3\",\"gridwidth\":2,\"linecolor\":\"#EBF0F8\",\"showbackground\":true,\"ticks\":\"\",\"zerolinecolor\":\"#EBF0F8\"},\"zaxis\":{\"backgroundcolor\":\"white\",\"gridcolor\":\"#DFE8F3\",\"gridwidth\":2,\"linecolor\":\"#EBF0F8\",\"showbackground\":true,\"ticks\":\"\",\"zerolinecolor\":\"#EBF0F8\"}},\"shapedefaults\":{\"line\":{\"color\":\"#2a3f5f\"}},\"ternary\":{\"aaxis\":{\"gridcolor\":\"#DFE8F3\",\"linecolor\":\"#A2B1C6\",\"ticks\":\"\"},\"baxis\":{\"gridcolor\":\"#DFE8F3\",\"linecolor\":\"#A2B1C6\",\"ticks\":\"\"},\"bgcolor\":\"white\",\"caxis\":{\"gridcolor\":\"#DFE8F3\",\"linecolor\":\"#A2B1C6\",\"ticks\":\"\"}},\"title\":{\"x\":0.05},\"xaxis\":{\"automargin\":true,\"gridcolor\":\"#EBF0F8\",\"linecolor\":\"#EBF0F8\",\"ticks\":\"\",\"title\":{\"standoff\":15},\"zerolinecolor\":\"#EBF0F8\",\"zerolinewidth\":2},\"yaxis\":{\"automargin\":true,\"gridcolor\":\"#EBF0F8\",\"linecolor\":\"#EBF0F8\",\"ticks\":\"\",\"title\":{\"standoff\":15},\"zerolinecolor\":\"#EBF0F8\",\"zerolinewidth\":2}}},\"xaxis\":{\"anchor\":\"y\",\"domain\":[0.0,1.0],\"title\":{\"text\":\"Country\"}},\"yaxis\":{\"anchor\":\"x\",\"domain\":[0.0,1.0],\"title\":{\"text\":\"Count\"}},\"legend\":{\"title\":{\"text\":\"Number of Deaths\"},\"tracegroupgap\":0},\"title\":{\"text\":\"\\u003cb\\u003eNumber of Tsunamis By Country\"},\"barmode\":\"relative\"},                        {\"responsive\": true}                    ).then(function(){\n                            \nvar gd = document.getElementById('2d98f52e-4332-4343-8726-edd85c25256d');\nvar x = new MutationObserver(function (mutations, observer) {{\n        var display = window.getComputedStyle(gd).display;\n        if (!display || display === 'none') {{\n            console.log([gd, 'removed!']);\n            Plotly.purge(gd);\n            observer.disconnect();\n        }}\n}});\n\n// Listen for the removal of the full notebook cells\nvar notebookContainer = gd.closest('#notebook-container');\nif (notebookContainer) {{\n    x.observe(notebookContainer, {childList: true});\n}}\n\n// Listen for the clearing of the current output cell\nvar outputEl = gd.closest('.output');\nif (outputEl) {{\n    x.observe(outputEl, {childList: true});\n}}\n\n                        })                };                });            </script>        </div>"
     },
     "metadata": {},
     "output_type": "display_data"
    }
   ],
   "source": [
    "data_cnt_Country=df.groupby(['Country','Deaths_grp'])['Sr.no'].count().sort_values(ascending=False).reset_index()\n",
    "data_cnt_Country=data_cnt_Country.loc[data_cnt_Country['Country'].isin(df.groupby(['Country'])['Sr.no'].count().reset_index().nlargest(20,'Sr.no')['Country'])]\n",
    "\n",
    "fig=px.bar(data_cnt_Country,x=\"Country\",y='Sr.no',color='Deaths_grp',template='plotly_white'\n",
    "          ,labels={\"Sr.no\": \"Count\",\"Deaths_grp\":\"Number of Deaths\"},title=\"<b>Number of Tsunamis By Country\")\n",
    "fig.show()"
   ]
  },
  {
   "cell_type": "markdown",
   "id": "90d3e62a",
   "metadata": {},
   "source": [
    "<br>**It's evident that the majority of tsunamis resulted in fewer than 100 fatalities.   \n",
    "Notably, Japan, USA, Indonesia, Chile and Russia experienced the highest number of tsunami events.**    \n",
    "<br>  "
   ]
  },
  {
   "cell_type": "code",
   "execution_count": 30,
   "id": "826214a0",
   "metadata": {
    "scrolled": true,
    "ExecuteTime": {
     "end_time": "2023-10-29T14:17:38.181969100Z",
     "start_time": "2023-10-29T14:17:37.707596300Z"
    }
   },
   "outputs": [
    {
     "data": {
      "text/plain": "0.0     1211\n1.0       29\n2.0       12\n5.0        8\n3.0        8\n4.0        7\n10.0       5\n50.0       4\n9.0        4\n8.0        3\n26.0       3\n7.0        3\n12.0       2\n75.0       2\n27.0       2\n6.0        2\n61.0       1\n43.0       1\n15.0       1\n20.0       1\n11.0       1\n28.0       1\n41.0       1\n54.0       1\n66.0       1\n81.0       1\n52.0       1\n13.0       1\n71.0       1\n33.0       1\n16.0       1\n17.0       1\n18.0       1\n23.0       1\n57.0       1\n73.0       1\nName: Deaths, dtype: int64"
     },
     "execution_count": 30,
     "metadata": {},
     "output_type": "execute_result"
    }
   ],
   "source": [
    "df[df.Deaths<100]['Deaths'].value_counts(ascending=False)"
   ]
  },
  {
   "cell_type": "markdown",
   "id": "1a499405",
   "metadata": {},
   "source": [
    "<br>**The majority of tsunamis in the category of less than 100 deaths resulted in no fatalities. Let's now examine the tsunamis that caused at least one death.**  \n",
    "<br>"
   ]
  },
  {
   "cell_type": "code",
   "execution_count": 31,
   "id": "2fc94cb7",
   "metadata": {
    "scrolled": false,
    "ExecuteTime": {
     "end_time": "2023-10-29T14:17:38.183986100Z",
     "start_time": "2023-10-29T14:17:37.726657500Z"
    }
   },
   "outputs": [
    {
     "data": {
      "application/vnd.plotly.v1+json": {
       "data": [
        {
         "alignmentgroup": "True",
         "hovertemplate": "Number of Deaths=Less than 100<br>Country=%{x}<br>Count=%{y}<extra></extra>",
         "legendgroup": "Less than 100",
         "marker": {
          "color": "#636efa",
          "pattern": {
           "shape": ""
          }
         },
         "name": "Less than 100",
         "offsetgroup": "Less than 100",
         "orientation": "v",
         "showlegend": true,
         "textposition": "auto",
         "x": [
          "USA",
          "INDONESIA",
          "PHILIPPINES",
          "JAPAN",
          "PERU",
          "SOLOMON ISLANDS",
          "CHILE",
          "RUSSIA",
          "GREECE",
          "CANADA",
          "MEXICO",
          "NORWAY",
          "PAPUA NEW GUINEA",
          "CHINA",
          "TONGA",
          "VANUATU",
          "ITALY",
          "NEW ZEALAND"
         ],
         "xaxis": "x",
         "y": [
          16,
          13,
          10,
          9,
          6,
          5,
          4,
          4,
          4,
          4,
          3,
          3,
          3,
          2,
          1,
          1,
          1,
          1
         ],
         "yaxis": "y",
         "type": "bar"
        },
        {
         "alignmentgroup": "True",
         "hovertemplate": "Number of Deaths=Between 500 and 100<br>Country=%{x}<br>Count=%{y}<extra></extra>",
         "legendgroup": "Between 500 and 100",
         "marker": {
          "color": "#EF553B",
          "pattern": {
           "shape": ""
          }
         },
         "name": "Between 500 and 100",
         "offsetgroup": "Between 500 and 100",
         "orientation": "v",
         "showlegend": true,
         "textposition": "auto",
         "x": [
          "INDONESIA",
          "USA",
          "JAPAN",
          "CHILE",
          "PHILIPPINES"
         ],
         "xaxis": "x",
         "y": [
          8,
          3,
          2,
          2,
          1
         ],
         "yaxis": "y",
         "type": "bar"
        },
        {
         "alignmentgroup": "True",
         "hovertemplate": "Number of Deaths=Over 1000<br>Country=%{x}<br>Count=%{y}<extra></extra>",
         "legendgroup": "Over 1000",
         "marker": {
          "color": "#00cc96",
          "pattern": {
           "shape": ""
          }
         },
         "name": "Over 1000",
         "offsetgroup": "Over 1000",
         "orientation": "v",
         "showlegend": true,
         "textposition": "auto",
         "x": [
          "INDONESIA",
          "JAPAN",
          "ITALY",
          "RUSSIA",
          "PHILIPPINES",
          "CHILE",
          "PAPUA NEW GUINEA"
         ],
         "xaxis": "x",
         "y": [
          5,
          5,
          2,
          1,
          1,
          1,
          1
         ],
         "yaxis": "y",
         "type": "bar"
        },
        {
         "alignmentgroup": "True",
         "hovertemplate": "Number of Deaths=Between 1000 and 500<br>Country=%{x}<br>Count=%{y}<extra></extra>",
         "legendgroup": "Between 1000 and 500",
         "marker": {
          "color": "#ab63fa",
          "pattern": {
           "shape": ""
          }
         },
         "name": "Between 1000 and 500",
         "offsetgroup": "Between 1000 and 500",
         "orientation": "v",
         "showlegend": true,
         "textposition": "auto",
         "x": [
          "INDONESIA",
          "PERU"
         ],
         "xaxis": "x",
         "y": [
          2,
          1
         ],
         "yaxis": "y",
         "type": "bar"
        }
       ],
       "layout": {
        "template": {
         "data": {
          "barpolar": [
           {
            "marker": {
             "line": {
              "color": "white",
              "width": 0.5
             },
             "pattern": {
              "fillmode": "overlay",
              "size": 10,
              "solidity": 0.2
             }
            },
            "type": "barpolar"
           }
          ],
          "bar": [
           {
            "error_x": {
             "color": "#2a3f5f"
            },
            "error_y": {
             "color": "#2a3f5f"
            },
            "marker": {
             "line": {
              "color": "white",
              "width": 0.5
             },
             "pattern": {
              "fillmode": "overlay",
              "size": 10,
              "solidity": 0.2
             }
            },
            "type": "bar"
           }
          ],
          "carpet": [
           {
            "aaxis": {
             "endlinecolor": "#2a3f5f",
             "gridcolor": "#C8D4E3",
             "linecolor": "#C8D4E3",
             "minorgridcolor": "#C8D4E3",
             "startlinecolor": "#2a3f5f"
            },
            "baxis": {
             "endlinecolor": "#2a3f5f",
             "gridcolor": "#C8D4E3",
             "linecolor": "#C8D4E3",
             "minorgridcolor": "#C8D4E3",
             "startlinecolor": "#2a3f5f"
            },
            "type": "carpet"
           }
          ],
          "choropleth": [
           {
            "colorbar": {
             "outlinewidth": 0,
             "ticks": ""
            },
            "type": "choropleth"
           }
          ],
          "contourcarpet": [
           {
            "colorbar": {
             "outlinewidth": 0,
             "ticks": ""
            },
            "type": "contourcarpet"
           }
          ],
          "contour": [
           {
            "colorbar": {
             "outlinewidth": 0,
             "ticks": ""
            },
            "colorscale": [
             [
              0.0,
              "#0d0887"
             ],
             [
              0.1111111111111111,
              "#46039f"
             ],
             [
              0.2222222222222222,
              "#7201a8"
             ],
             [
              0.3333333333333333,
              "#9c179e"
             ],
             [
              0.4444444444444444,
              "#bd3786"
             ],
             [
              0.5555555555555556,
              "#d8576b"
             ],
             [
              0.6666666666666666,
              "#ed7953"
             ],
             [
              0.7777777777777778,
              "#fb9f3a"
             ],
             [
              0.8888888888888888,
              "#fdca26"
             ],
             [
              1.0,
              "#f0f921"
             ]
            ],
            "type": "contour"
           }
          ],
          "heatmapgl": [
           {
            "colorbar": {
             "outlinewidth": 0,
             "ticks": ""
            },
            "colorscale": [
             [
              0.0,
              "#0d0887"
             ],
             [
              0.1111111111111111,
              "#46039f"
             ],
             [
              0.2222222222222222,
              "#7201a8"
             ],
             [
              0.3333333333333333,
              "#9c179e"
             ],
             [
              0.4444444444444444,
              "#bd3786"
             ],
             [
              0.5555555555555556,
              "#d8576b"
             ],
             [
              0.6666666666666666,
              "#ed7953"
             ],
             [
              0.7777777777777778,
              "#fb9f3a"
             ],
             [
              0.8888888888888888,
              "#fdca26"
             ],
             [
              1.0,
              "#f0f921"
             ]
            ],
            "type": "heatmapgl"
           }
          ],
          "heatmap": [
           {
            "colorbar": {
             "outlinewidth": 0,
             "ticks": ""
            },
            "colorscale": [
             [
              0.0,
              "#0d0887"
             ],
             [
              0.1111111111111111,
              "#46039f"
             ],
             [
              0.2222222222222222,
              "#7201a8"
             ],
             [
              0.3333333333333333,
              "#9c179e"
             ],
             [
              0.4444444444444444,
              "#bd3786"
             ],
             [
              0.5555555555555556,
              "#d8576b"
             ],
             [
              0.6666666666666666,
              "#ed7953"
             ],
             [
              0.7777777777777778,
              "#fb9f3a"
             ],
             [
              0.8888888888888888,
              "#fdca26"
             ],
             [
              1.0,
              "#f0f921"
             ]
            ],
            "type": "heatmap"
           }
          ],
          "histogram2dcontour": [
           {
            "colorbar": {
             "outlinewidth": 0,
             "ticks": ""
            },
            "colorscale": [
             [
              0.0,
              "#0d0887"
             ],
             [
              0.1111111111111111,
              "#46039f"
             ],
             [
              0.2222222222222222,
              "#7201a8"
             ],
             [
              0.3333333333333333,
              "#9c179e"
             ],
             [
              0.4444444444444444,
              "#bd3786"
             ],
             [
              0.5555555555555556,
              "#d8576b"
             ],
             [
              0.6666666666666666,
              "#ed7953"
             ],
             [
              0.7777777777777778,
              "#fb9f3a"
             ],
             [
              0.8888888888888888,
              "#fdca26"
             ],
             [
              1.0,
              "#f0f921"
             ]
            ],
            "type": "histogram2dcontour"
           }
          ],
          "histogram2d": [
           {
            "colorbar": {
             "outlinewidth": 0,
             "ticks": ""
            },
            "colorscale": [
             [
              0.0,
              "#0d0887"
             ],
             [
              0.1111111111111111,
              "#46039f"
             ],
             [
              0.2222222222222222,
              "#7201a8"
             ],
             [
              0.3333333333333333,
              "#9c179e"
             ],
             [
              0.4444444444444444,
              "#bd3786"
             ],
             [
              0.5555555555555556,
              "#d8576b"
             ],
             [
              0.6666666666666666,
              "#ed7953"
             ],
             [
              0.7777777777777778,
              "#fb9f3a"
             ],
             [
              0.8888888888888888,
              "#fdca26"
             ],
             [
              1.0,
              "#f0f921"
             ]
            ],
            "type": "histogram2d"
           }
          ],
          "histogram": [
           {
            "marker": {
             "pattern": {
              "fillmode": "overlay",
              "size": 10,
              "solidity": 0.2
             }
            },
            "type": "histogram"
           }
          ],
          "mesh3d": [
           {
            "colorbar": {
             "outlinewidth": 0,
             "ticks": ""
            },
            "type": "mesh3d"
           }
          ],
          "parcoords": [
           {
            "line": {
             "colorbar": {
              "outlinewidth": 0,
              "ticks": ""
             }
            },
            "type": "parcoords"
           }
          ],
          "pie": [
           {
            "automargin": true,
            "type": "pie"
           }
          ],
          "scatter3d": [
           {
            "line": {
             "colorbar": {
              "outlinewidth": 0,
              "ticks": ""
             }
            },
            "marker": {
             "colorbar": {
              "outlinewidth": 0,
              "ticks": ""
             }
            },
            "type": "scatter3d"
           }
          ],
          "scattercarpet": [
           {
            "marker": {
             "colorbar": {
              "outlinewidth": 0,
              "ticks": ""
             }
            },
            "type": "scattercarpet"
           }
          ],
          "scattergeo": [
           {
            "marker": {
             "colorbar": {
              "outlinewidth": 0,
              "ticks": ""
             }
            },
            "type": "scattergeo"
           }
          ],
          "scattergl": [
           {
            "marker": {
             "colorbar": {
              "outlinewidth": 0,
              "ticks": ""
             }
            },
            "type": "scattergl"
           }
          ],
          "scattermapbox": [
           {
            "marker": {
             "colorbar": {
              "outlinewidth": 0,
              "ticks": ""
             }
            },
            "type": "scattermapbox"
           }
          ],
          "scatterpolargl": [
           {
            "marker": {
             "colorbar": {
              "outlinewidth": 0,
              "ticks": ""
             }
            },
            "type": "scatterpolargl"
           }
          ],
          "scatterpolar": [
           {
            "marker": {
             "colorbar": {
              "outlinewidth": 0,
              "ticks": ""
             }
            },
            "type": "scatterpolar"
           }
          ],
          "scatter": [
           {
            "fillpattern": {
             "fillmode": "overlay",
             "size": 10,
             "solidity": 0.2
            },
            "type": "scatter"
           }
          ],
          "scatterternary": [
           {
            "marker": {
             "colorbar": {
              "outlinewidth": 0,
              "ticks": ""
             }
            },
            "type": "scatterternary"
           }
          ],
          "surface": [
           {
            "colorbar": {
             "outlinewidth": 0,
             "ticks": ""
            },
            "colorscale": [
             [
              0.0,
              "#0d0887"
             ],
             [
              0.1111111111111111,
              "#46039f"
             ],
             [
              0.2222222222222222,
              "#7201a8"
             ],
             [
              0.3333333333333333,
              "#9c179e"
             ],
             [
              0.4444444444444444,
              "#bd3786"
             ],
             [
              0.5555555555555556,
              "#d8576b"
             ],
             [
              0.6666666666666666,
              "#ed7953"
             ],
             [
              0.7777777777777778,
              "#fb9f3a"
             ],
             [
              0.8888888888888888,
              "#fdca26"
             ],
             [
              1.0,
              "#f0f921"
             ]
            ],
            "type": "surface"
           }
          ],
          "table": [
           {
            "cells": {
             "fill": {
              "color": "#EBF0F8"
             },
             "line": {
              "color": "white"
             }
            },
            "header": {
             "fill": {
              "color": "#C8D4E3"
             },
             "line": {
              "color": "white"
             }
            },
            "type": "table"
           }
          ]
         },
         "layout": {
          "annotationdefaults": {
           "arrowcolor": "#2a3f5f",
           "arrowhead": 0,
           "arrowwidth": 1
          },
          "autotypenumbers": "strict",
          "coloraxis": {
           "colorbar": {
            "outlinewidth": 0,
            "ticks": ""
           }
          },
          "colorscale": {
           "diverging": [
            [
             0,
             "#8e0152"
            ],
            [
             0.1,
             "#c51b7d"
            ],
            [
             0.2,
             "#de77ae"
            ],
            [
             0.3,
             "#f1b6da"
            ],
            [
             0.4,
             "#fde0ef"
            ],
            [
             0.5,
             "#f7f7f7"
            ],
            [
             0.6,
             "#e6f5d0"
            ],
            [
             0.7,
             "#b8e186"
            ],
            [
             0.8,
             "#7fbc41"
            ],
            [
             0.9,
             "#4d9221"
            ],
            [
             1,
             "#276419"
            ]
           ],
           "sequential": [
            [
             0.0,
             "#0d0887"
            ],
            [
             0.1111111111111111,
             "#46039f"
            ],
            [
             0.2222222222222222,
             "#7201a8"
            ],
            [
             0.3333333333333333,
             "#9c179e"
            ],
            [
             0.4444444444444444,
             "#bd3786"
            ],
            [
             0.5555555555555556,
             "#d8576b"
            ],
            [
             0.6666666666666666,
             "#ed7953"
            ],
            [
             0.7777777777777778,
             "#fb9f3a"
            ],
            [
             0.8888888888888888,
             "#fdca26"
            ],
            [
             1.0,
             "#f0f921"
            ]
           ],
           "sequentialminus": [
            [
             0.0,
             "#0d0887"
            ],
            [
             0.1111111111111111,
             "#46039f"
            ],
            [
             0.2222222222222222,
             "#7201a8"
            ],
            [
             0.3333333333333333,
             "#9c179e"
            ],
            [
             0.4444444444444444,
             "#bd3786"
            ],
            [
             0.5555555555555556,
             "#d8576b"
            ],
            [
             0.6666666666666666,
             "#ed7953"
            ],
            [
             0.7777777777777778,
             "#fb9f3a"
            ],
            [
             0.8888888888888888,
             "#fdca26"
            ],
            [
             1.0,
             "#f0f921"
            ]
           ]
          },
          "colorway": [
           "#636efa",
           "#EF553B",
           "#00cc96",
           "#ab63fa",
           "#FFA15A",
           "#19d3f3",
           "#FF6692",
           "#B6E880",
           "#FF97FF",
           "#FECB52"
          ],
          "font": {
           "color": "#2a3f5f"
          },
          "geo": {
           "bgcolor": "white",
           "lakecolor": "white",
           "landcolor": "white",
           "showlakes": true,
           "showland": true,
           "subunitcolor": "#C8D4E3"
          },
          "hoverlabel": {
           "align": "left"
          },
          "hovermode": "closest",
          "mapbox": {
           "style": "light"
          },
          "paper_bgcolor": "white",
          "plot_bgcolor": "white",
          "polar": {
           "angularaxis": {
            "gridcolor": "#EBF0F8",
            "linecolor": "#EBF0F8",
            "ticks": ""
           },
           "bgcolor": "white",
           "radialaxis": {
            "gridcolor": "#EBF0F8",
            "linecolor": "#EBF0F8",
            "ticks": ""
           }
          },
          "scene": {
           "xaxis": {
            "backgroundcolor": "white",
            "gridcolor": "#DFE8F3",
            "gridwidth": 2,
            "linecolor": "#EBF0F8",
            "showbackground": true,
            "ticks": "",
            "zerolinecolor": "#EBF0F8"
           },
           "yaxis": {
            "backgroundcolor": "white",
            "gridcolor": "#DFE8F3",
            "gridwidth": 2,
            "linecolor": "#EBF0F8",
            "showbackground": true,
            "ticks": "",
            "zerolinecolor": "#EBF0F8"
           },
           "zaxis": {
            "backgroundcolor": "white",
            "gridcolor": "#DFE8F3",
            "gridwidth": 2,
            "linecolor": "#EBF0F8",
            "showbackground": true,
            "ticks": "",
            "zerolinecolor": "#EBF0F8"
           }
          },
          "shapedefaults": {
           "line": {
            "color": "#2a3f5f"
           }
          },
          "ternary": {
           "aaxis": {
            "gridcolor": "#DFE8F3",
            "linecolor": "#A2B1C6",
            "ticks": ""
           },
           "baxis": {
            "gridcolor": "#DFE8F3",
            "linecolor": "#A2B1C6",
            "ticks": ""
           },
           "bgcolor": "white",
           "caxis": {
            "gridcolor": "#DFE8F3",
            "linecolor": "#A2B1C6",
            "ticks": ""
           }
          },
          "title": {
           "x": 0.05
          },
          "xaxis": {
           "automargin": true,
           "gridcolor": "#EBF0F8",
           "linecolor": "#EBF0F8",
           "ticks": "",
           "title": {
            "standoff": 15
           },
           "zerolinecolor": "#EBF0F8",
           "zerolinewidth": 2
          },
          "yaxis": {
           "automargin": true,
           "gridcolor": "#EBF0F8",
           "linecolor": "#EBF0F8",
           "ticks": "",
           "title": {
            "standoff": 15
           },
           "zerolinecolor": "#EBF0F8",
           "zerolinewidth": 2
          }
         }
        },
        "xaxis": {
         "anchor": "y",
         "domain": [
          0.0,
          1.0
         ],
         "title": {
          "text": "Country"
         },
         "categoryorder": "total descending"
        },
        "yaxis": {
         "anchor": "x",
         "domain": [
          0.0,
          1.0
         ],
         "title": {
          "text": "Count"
         }
        },
        "legend": {
         "title": {
          "text": "Number of Deaths"
         },
         "tracegroupgap": 0
        },
        "title": {
         "text": "<b>Number of Tsunamis That Caused Death By Country"
        },
        "barmode": "relative"
       },
       "config": {
        "plotlyServerURL": "https://plot.ly"
       }
      },
      "text/html": "<div>                            <div id=\"35842532-3d9d-42be-959f-e6fe13c57579\" class=\"plotly-graph-div\" style=\"height:525px; width:100%;\"></div>            <script type=\"text/javascript\">                require([\"plotly\"], function(Plotly) {                    window.PLOTLYENV=window.PLOTLYENV || {};                                    if (document.getElementById(\"35842532-3d9d-42be-959f-e6fe13c57579\")) {                    Plotly.newPlot(                        \"35842532-3d9d-42be-959f-e6fe13c57579\",                        [{\"alignmentgroup\":\"True\",\"hovertemplate\":\"Number of Deaths=Less than 100\\u003cbr\\u003eCountry=%{x}\\u003cbr\\u003eCount=%{y}\\u003cextra\\u003e\\u003c\\u002fextra\\u003e\",\"legendgroup\":\"Less than 100\",\"marker\":{\"color\":\"#636efa\",\"pattern\":{\"shape\":\"\"}},\"name\":\"Less than 100\",\"offsetgroup\":\"Less than 100\",\"orientation\":\"v\",\"showlegend\":true,\"textposition\":\"auto\",\"x\":[\"USA\",\"INDONESIA\",\"PHILIPPINES\",\"JAPAN\",\"PERU\",\"SOLOMON ISLANDS\",\"CHILE\",\"RUSSIA\",\"GREECE\",\"CANADA\",\"MEXICO\",\"NORWAY\",\"PAPUA NEW GUINEA\",\"CHINA\",\"TONGA\",\"VANUATU\",\"ITALY\",\"NEW ZEALAND\"],\"xaxis\":\"x\",\"y\":[16,13,10,9,6,5,4,4,4,4,3,3,3,2,1,1,1,1],\"yaxis\":\"y\",\"type\":\"bar\"},{\"alignmentgroup\":\"True\",\"hovertemplate\":\"Number of Deaths=Between 500 and 100\\u003cbr\\u003eCountry=%{x}\\u003cbr\\u003eCount=%{y}\\u003cextra\\u003e\\u003c\\u002fextra\\u003e\",\"legendgroup\":\"Between 500 and 100\",\"marker\":{\"color\":\"#EF553B\",\"pattern\":{\"shape\":\"\"}},\"name\":\"Between 500 and 100\",\"offsetgroup\":\"Between 500 and 100\",\"orientation\":\"v\",\"showlegend\":true,\"textposition\":\"auto\",\"x\":[\"INDONESIA\",\"USA\",\"JAPAN\",\"CHILE\",\"PHILIPPINES\"],\"xaxis\":\"x\",\"y\":[8,3,2,2,1],\"yaxis\":\"y\",\"type\":\"bar\"},{\"alignmentgroup\":\"True\",\"hovertemplate\":\"Number of Deaths=Over 1000\\u003cbr\\u003eCountry=%{x}\\u003cbr\\u003eCount=%{y}\\u003cextra\\u003e\\u003c\\u002fextra\\u003e\",\"legendgroup\":\"Over 1000\",\"marker\":{\"color\":\"#00cc96\",\"pattern\":{\"shape\":\"\"}},\"name\":\"Over 1000\",\"offsetgroup\":\"Over 1000\",\"orientation\":\"v\",\"showlegend\":true,\"textposition\":\"auto\",\"x\":[\"INDONESIA\",\"JAPAN\",\"ITALY\",\"RUSSIA\",\"PHILIPPINES\",\"CHILE\",\"PAPUA NEW GUINEA\"],\"xaxis\":\"x\",\"y\":[5,5,2,1,1,1,1],\"yaxis\":\"y\",\"type\":\"bar\"},{\"alignmentgroup\":\"True\",\"hovertemplate\":\"Number of Deaths=Between 1000 and 500\\u003cbr\\u003eCountry=%{x}\\u003cbr\\u003eCount=%{y}\\u003cextra\\u003e\\u003c\\u002fextra\\u003e\",\"legendgroup\":\"Between 1000 and 500\",\"marker\":{\"color\":\"#ab63fa\",\"pattern\":{\"shape\":\"\"}},\"name\":\"Between 1000 and 500\",\"offsetgroup\":\"Between 1000 and 500\",\"orientation\":\"v\",\"showlegend\":true,\"textposition\":\"auto\",\"x\":[\"INDONESIA\",\"PERU\"],\"xaxis\":\"x\",\"y\":[2,1],\"yaxis\":\"y\",\"type\":\"bar\"}],                        {\"template\":{\"data\":{\"barpolar\":[{\"marker\":{\"line\":{\"color\":\"white\",\"width\":0.5},\"pattern\":{\"fillmode\":\"overlay\",\"size\":10,\"solidity\":0.2}},\"type\":\"barpolar\"}],\"bar\":[{\"error_x\":{\"color\":\"#2a3f5f\"},\"error_y\":{\"color\":\"#2a3f5f\"},\"marker\":{\"line\":{\"color\":\"white\",\"width\":0.5},\"pattern\":{\"fillmode\":\"overlay\",\"size\":10,\"solidity\":0.2}},\"type\":\"bar\"}],\"carpet\":[{\"aaxis\":{\"endlinecolor\":\"#2a3f5f\",\"gridcolor\":\"#C8D4E3\",\"linecolor\":\"#C8D4E3\",\"minorgridcolor\":\"#C8D4E3\",\"startlinecolor\":\"#2a3f5f\"},\"baxis\":{\"endlinecolor\":\"#2a3f5f\",\"gridcolor\":\"#C8D4E3\",\"linecolor\":\"#C8D4E3\",\"minorgridcolor\":\"#C8D4E3\",\"startlinecolor\":\"#2a3f5f\"},\"type\":\"carpet\"}],\"choropleth\":[{\"colorbar\":{\"outlinewidth\":0,\"ticks\":\"\"},\"type\":\"choropleth\"}],\"contourcarpet\":[{\"colorbar\":{\"outlinewidth\":0,\"ticks\":\"\"},\"type\":\"contourcarpet\"}],\"contour\":[{\"colorbar\":{\"outlinewidth\":0,\"ticks\":\"\"},\"colorscale\":[[0.0,\"#0d0887\"],[0.1111111111111111,\"#46039f\"],[0.2222222222222222,\"#7201a8\"],[0.3333333333333333,\"#9c179e\"],[0.4444444444444444,\"#bd3786\"],[0.5555555555555556,\"#d8576b\"],[0.6666666666666666,\"#ed7953\"],[0.7777777777777778,\"#fb9f3a\"],[0.8888888888888888,\"#fdca26\"],[1.0,\"#f0f921\"]],\"type\":\"contour\"}],\"heatmapgl\":[{\"colorbar\":{\"outlinewidth\":0,\"ticks\":\"\"},\"colorscale\":[[0.0,\"#0d0887\"],[0.1111111111111111,\"#46039f\"],[0.2222222222222222,\"#7201a8\"],[0.3333333333333333,\"#9c179e\"],[0.4444444444444444,\"#bd3786\"],[0.5555555555555556,\"#d8576b\"],[0.6666666666666666,\"#ed7953\"],[0.7777777777777778,\"#fb9f3a\"],[0.8888888888888888,\"#fdca26\"],[1.0,\"#f0f921\"]],\"type\":\"heatmapgl\"}],\"heatmap\":[{\"colorbar\":{\"outlinewidth\":0,\"ticks\":\"\"},\"colorscale\":[[0.0,\"#0d0887\"],[0.1111111111111111,\"#46039f\"],[0.2222222222222222,\"#7201a8\"],[0.3333333333333333,\"#9c179e\"],[0.4444444444444444,\"#bd3786\"],[0.5555555555555556,\"#d8576b\"],[0.6666666666666666,\"#ed7953\"],[0.7777777777777778,\"#fb9f3a\"],[0.8888888888888888,\"#fdca26\"],[1.0,\"#f0f921\"]],\"type\":\"heatmap\"}],\"histogram2dcontour\":[{\"colorbar\":{\"outlinewidth\":0,\"ticks\":\"\"},\"colorscale\":[[0.0,\"#0d0887\"],[0.1111111111111111,\"#46039f\"],[0.2222222222222222,\"#7201a8\"],[0.3333333333333333,\"#9c179e\"],[0.4444444444444444,\"#bd3786\"],[0.5555555555555556,\"#d8576b\"],[0.6666666666666666,\"#ed7953\"],[0.7777777777777778,\"#fb9f3a\"],[0.8888888888888888,\"#fdca26\"],[1.0,\"#f0f921\"]],\"type\":\"histogram2dcontour\"}],\"histogram2d\":[{\"colorbar\":{\"outlinewidth\":0,\"ticks\":\"\"},\"colorscale\":[[0.0,\"#0d0887\"],[0.1111111111111111,\"#46039f\"],[0.2222222222222222,\"#7201a8\"],[0.3333333333333333,\"#9c179e\"],[0.4444444444444444,\"#bd3786\"],[0.5555555555555556,\"#d8576b\"],[0.6666666666666666,\"#ed7953\"],[0.7777777777777778,\"#fb9f3a\"],[0.8888888888888888,\"#fdca26\"],[1.0,\"#f0f921\"]],\"type\":\"histogram2d\"}],\"histogram\":[{\"marker\":{\"pattern\":{\"fillmode\":\"overlay\",\"size\":10,\"solidity\":0.2}},\"type\":\"histogram\"}],\"mesh3d\":[{\"colorbar\":{\"outlinewidth\":0,\"ticks\":\"\"},\"type\":\"mesh3d\"}],\"parcoords\":[{\"line\":{\"colorbar\":{\"outlinewidth\":0,\"ticks\":\"\"}},\"type\":\"parcoords\"}],\"pie\":[{\"automargin\":true,\"type\":\"pie\"}],\"scatter3d\":[{\"line\":{\"colorbar\":{\"outlinewidth\":0,\"ticks\":\"\"}},\"marker\":{\"colorbar\":{\"outlinewidth\":0,\"ticks\":\"\"}},\"type\":\"scatter3d\"}],\"scattercarpet\":[{\"marker\":{\"colorbar\":{\"outlinewidth\":0,\"ticks\":\"\"}},\"type\":\"scattercarpet\"}],\"scattergeo\":[{\"marker\":{\"colorbar\":{\"outlinewidth\":0,\"ticks\":\"\"}},\"type\":\"scattergeo\"}],\"scattergl\":[{\"marker\":{\"colorbar\":{\"outlinewidth\":0,\"ticks\":\"\"}},\"type\":\"scattergl\"}],\"scattermapbox\":[{\"marker\":{\"colorbar\":{\"outlinewidth\":0,\"ticks\":\"\"}},\"type\":\"scattermapbox\"}],\"scatterpolargl\":[{\"marker\":{\"colorbar\":{\"outlinewidth\":0,\"ticks\":\"\"}},\"type\":\"scatterpolargl\"}],\"scatterpolar\":[{\"marker\":{\"colorbar\":{\"outlinewidth\":0,\"ticks\":\"\"}},\"type\":\"scatterpolar\"}],\"scatter\":[{\"fillpattern\":{\"fillmode\":\"overlay\",\"size\":10,\"solidity\":0.2},\"type\":\"scatter\"}],\"scatterternary\":[{\"marker\":{\"colorbar\":{\"outlinewidth\":0,\"ticks\":\"\"}},\"type\":\"scatterternary\"}],\"surface\":[{\"colorbar\":{\"outlinewidth\":0,\"ticks\":\"\"},\"colorscale\":[[0.0,\"#0d0887\"],[0.1111111111111111,\"#46039f\"],[0.2222222222222222,\"#7201a8\"],[0.3333333333333333,\"#9c179e\"],[0.4444444444444444,\"#bd3786\"],[0.5555555555555556,\"#d8576b\"],[0.6666666666666666,\"#ed7953\"],[0.7777777777777778,\"#fb9f3a\"],[0.8888888888888888,\"#fdca26\"],[1.0,\"#f0f921\"]],\"type\":\"surface\"}],\"table\":[{\"cells\":{\"fill\":{\"color\":\"#EBF0F8\"},\"line\":{\"color\":\"white\"}},\"header\":{\"fill\":{\"color\":\"#C8D4E3\"},\"line\":{\"color\":\"white\"}},\"type\":\"table\"}]},\"layout\":{\"annotationdefaults\":{\"arrowcolor\":\"#2a3f5f\",\"arrowhead\":0,\"arrowwidth\":1},\"autotypenumbers\":\"strict\",\"coloraxis\":{\"colorbar\":{\"outlinewidth\":0,\"ticks\":\"\"}},\"colorscale\":{\"diverging\":[[0,\"#8e0152\"],[0.1,\"#c51b7d\"],[0.2,\"#de77ae\"],[0.3,\"#f1b6da\"],[0.4,\"#fde0ef\"],[0.5,\"#f7f7f7\"],[0.6,\"#e6f5d0\"],[0.7,\"#b8e186\"],[0.8,\"#7fbc41\"],[0.9,\"#4d9221\"],[1,\"#276419\"]],\"sequential\":[[0.0,\"#0d0887\"],[0.1111111111111111,\"#46039f\"],[0.2222222222222222,\"#7201a8\"],[0.3333333333333333,\"#9c179e\"],[0.4444444444444444,\"#bd3786\"],[0.5555555555555556,\"#d8576b\"],[0.6666666666666666,\"#ed7953\"],[0.7777777777777778,\"#fb9f3a\"],[0.8888888888888888,\"#fdca26\"],[1.0,\"#f0f921\"]],\"sequentialminus\":[[0.0,\"#0d0887\"],[0.1111111111111111,\"#46039f\"],[0.2222222222222222,\"#7201a8\"],[0.3333333333333333,\"#9c179e\"],[0.4444444444444444,\"#bd3786\"],[0.5555555555555556,\"#d8576b\"],[0.6666666666666666,\"#ed7953\"],[0.7777777777777778,\"#fb9f3a\"],[0.8888888888888888,\"#fdca26\"],[1.0,\"#f0f921\"]]},\"colorway\":[\"#636efa\",\"#EF553B\",\"#00cc96\",\"#ab63fa\",\"#FFA15A\",\"#19d3f3\",\"#FF6692\",\"#B6E880\",\"#FF97FF\",\"#FECB52\"],\"font\":{\"color\":\"#2a3f5f\"},\"geo\":{\"bgcolor\":\"white\",\"lakecolor\":\"white\",\"landcolor\":\"white\",\"showlakes\":true,\"showland\":true,\"subunitcolor\":\"#C8D4E3\"},\"hoverlabel\":{\"align\":\"left\"},\"hovermode\":\"closest\",\"mapbox\":{\"style\":\"light\"},\"paper_bgcolor\":\"white\",\"plot_bgcolor\":\"white\",\"polar\":{\"angularaxis\":{\"gridcolor\":\"#EBF0F8\",\"linecolor\":\"#EBF0F8\",\"ticks\":\"\"},\"bgcolor\":\"white\",\"radialaxis\":{\"gridcolor\":\"#EBF0F8\",\"linecolor\":\"#EBF0F8\",\"ticks\":\"\"}},\"scene\":{\"xaxis\":{\"backgroundcolor\":\"white\",\"gridcolor\":\"#DFE8F3\",\"gridwidth\":2,\"linecolor\":\"#EBF0F8\",\"showbackground\":true,\"ticks\":\"\",\"zerolinecolor\":\"#EBF0F8\"},\"yaxis\":{\"backgroundcolor\":\"white\",\"gridcolor\":\"#DFE8F3\",\"gridwidth\":2,\"linecolor\":\"#EBF0F8\",\"showbackground\":true,\"ticks\":\"\",\"zerolinecolor\":\"#EBF0F8\"},\"zaxis\":{\"backgroundcolor\":\"white\",\"gridcolor\":\"#DFE8F3\",\"gridwidth\":2,\"linecolor\":\"#EBF0F8\",\"showbackground\":true,\"ticks\":\"\",\"zerolinecolor\":\"#EBF0F8\"}},\"shapedefaults\":{\"line\":{\"color\":\"#2a3f5f\"}},\"ternary\":{\"aaxis\":{\"gridcolor\":\"#DFE8F3\",\"linecolor\":\"#A2B1C6\",\"ticks\":\"\"},\"baxis\":{\"gridcolor\":\"#DFE8F3\",\"linecolor\":\"#A2B1C6\",\"ticks\":\"\"},\"bgcolor\":\"white\",\"caxis\":{\"gridcolor\":\"#DFE8F3\",\"linecolor\":\"#A2B1C6\",\"ticks\":\"\"}},\"title\":{\"x\":0.05},\"xaxis\":{\"automargin\":true,\"gridcolor\":\"#EBF0F8\",\"linecolor\":\"#EBF0F8\",\"ticks\":\"\",\"title\":{\"standoff\":15},\"zerolinecolor\":\"#EBF0F8\",\"zerolinewidth\":2},\"yaxis\":{\"automargin\":true,\"gridcolor\":\"#EBF0F8\",\"linecolor\":\"#EBF0F8\",\"ticks\":\"\",\"title\":{\"standoff\":15},\"zerolinecolor\":\"#EBF0F8\",\"zerolinewidth\":2}}},\"xaxis\":{\"anchor\":\"y\",\"domain\":[0.0,1.0],\"title\":{\"text\":\"Country\"},\"categoryorder\":\"total descending\"},\"yaxis\":{\"anchor\":\"x\",\"domain\":[0.0,1.0],\"title\":{\"text\":\"Count\"}},\"legend\":{\"title\":{\"text\":\"Number of Deaths\"},\"tracegroupgap\":0},\"title\":{\"text\":\"\\u003cb\\u003eNumber of Tsunamis That Caused Death By Country\"},\"barmode\":\"relative\"},                        {\"responsive\": true}                    ).then(function(){\n                            \nvar gd = document.getElementById('35842532-3d9d-42be-959f-e6fe13c57579');\nvar x = new MutationObserver(function (mutations, observer) {{\n        var display = window.getComputedStyle(gd).display;\n        if (!display || display === 'none') {{\n            console.log([gd, 'removed!']);\n            Plotly.purge(gd);\n            observer.disconnect();\n        }}\n}});\n\n// Listen for the removal of the full notebook cells\nvar notebookContainer = gd.closest('#notebook-container');\nif (notebookContainer) {{\n    x.observe(notebookContainer, {childList: true});\n}}\n\n// Listen for the clearing of the current output cell\nvar outputEl = gd.closest('.output');\nif (outputEl) {{\n    x.observe(outputEl, {childList: true});\n}}\n\n                        })                };                });            </script>        </div>"
     },
     "metadata": {},
     "output_type": "display_data"
    }
   ],
   "source": [
    "data_cnt_Country=df[df.Deaths>0].groupby(['Country','Deaths_grp'])['Sr.no'].count().sort_values(ascending=False).reset_index()\n",
    "data_cnt_Country=data_cnt_Country.loc[data_cnt_Country['Country'].isin(df.groupby(['Country'])['Sr.no'].count().reset_index().nlargest(20,'Sr.no')['Country'])]\n",
    "fig=px.bar(data_cnt_Country,x=\"Country\",y='Sr.no',color='Deaths_grp',template='plotly_white'\n",
    "          ,labels={\"Sr.no\": \"Count\",\"Deaths_grp\":\"Number of Deaths\"},title=\"<b>Number of Tsunamis That Caused Death By Country\")\n",
    "fig.update_layout(xaxis={'categoryorder':'total descending'})\n",
    "fig.show()\n",
    "\n",
    "#sort legned"
   ]
  },
  {
   "cell_type": "markdown",
   "id": "5a16e58b",
   "metadata": {},
   "source": [
    "**<br>The top five countries with tsunamis causing at least one fatality are Indonesia, the USA, Japan, the Philippines, and Chile. Notably, the USA has not experienced any tsunamis resulting in more than 500 fatalities, but it has the highest number of tsunamis causing fewer than 100 deaths. Both Japan and Indonesia have encountered five fatal tsunami incidents, each of which led to over 1,000 deaths.**      \n",
    "\n",
    "**Additionally, Italy is noteworthy, having encountered three tsunami incidents, with two of them resulting in over 1,000 fatalities.**  \n",
    "<br>"
   ]
  },
  {
   "cell_type": "markdown",
   "id": "f472802d",
   "metadata": {},
   "source": [
    "### Tsunami Cause"
   ]
  },
  {
   "cell_type": "code",
   "execution_count": 32,
   "id": "ced2ed80",
   "metadata": {
    "scrolled": false,
    "ExecuteTime": {
     "end_time": "2023-10-29T14:17:38.184983Z",
     "start_time": "2023-10-29T14:17:37.801012200Z"
    }
   },
   "outputs": [
    {
     "data": {
      "application/vnd.plotly.v1+json": {
       "data": [
        {
         "hovertemplate": "Cause:%{label} <br> Number of Tsunamis: %{value}",
         "labels": [
          "Earthquake",
          "Landslide",
          "Earthquake and Landslide",
          "Meteorological",
          "Volcano",
          "Volcano and Landslide",
          "Questionable Earthquake",
          "Volcano and Earthquake",
          "Explosion",
          "Volcano, Earthquake, and Landslide"
         ],
         "name": "",
         "values": [
          1043,
          94,
          70,
          70,
          67,
          10,
          8,
          5,
          1,
          1
         ],
         "type": "pie",
         "textfont": {
          "size": 15
         },
         "marker": {
          "line": {
           "color": "#000000",
           "width": 1
          },
          "colors": [
           "gold",
           "mediumturquoise",
           "darkorange",
           "lightgreen"
          ]
         },
         "title": {
          "text": "<b>Tsunami Cause Count<br><br>          "
         }
        }
       ],
       "layout": {
        "template": {
         "data": {
          "histogram2dcontour": [
           {
            "type": "histogram2dcontour",
            "colorbar": {
             "outlinewidth": 0,
             "ticks": ""
            },
            "colorscale": [
             [
              0.0,
              "#0d0887"
             ],
             [
              0.1111111111111111,
              "#46039f"
             ],
             [
              0.2222222222222222,
              "#7201a8"
             ],
             [
              0.3333333333333333,
              "#9c179e"
             ],
             [
              0.4444444444444444,
              "#bd3786"
             ],
             [
              0.5555555555555556,
              "#d8576b"
             ],
             [
              0.6666666666666666,
              "#ed7953"
             ],
             [
              0.7777777777777778,
              "#fb9f3a"
             ],
             [
              0.8888888888888888,
              "#fdca26"
             ],
             [
              1.0,
              "#f0f921"
             ]
            ]
           }
          ],
          "choropleth": [
           {
            "type": "choropleth",
            "colorbar": {
             "outlinewidth": 0,
             "ticks": ""
            }
           }
          ],
          "histogram2d": [
           {
            "type": "histogram2d",
            "colorbar": {
             "outlinewidth": 0,
             "ticks": ""
            },
            "colorscale": [
             [
              0.0,
              "#0d0887"
             ],
             [
              0.1111111111111111,
              "#46039f"
             ],
             [
              0.2222222222222222,
              "#7201a8"
             ],
             [
              0.3333333333333333,
              "#9c179e"
             ],
             [
              0.4444444444444444,
              "#bd3786"
             ],
             [
              0.5555555555555556,
              "#d8576b"
             ],
             [
              0.6666666666666666,
              "#ed7953"
             ],
             [
              0.7777777777777778,
              "#fb9f3a"
             ],
             [
              0.8888888888888888,
              "#fdca26"
             ],
             [
              1.0,
              "#f0f921"
             ]
            ]
           }
          ],
          "heatmap": [
           {
            "type": "heatmap",
            "colorbar": {
             "outlinewidth": 0,
             "ticks": ""
            },
            "colorscale": [
             [
              0.0,
              "#0d0887"
             ],
             [
              0.1111111111111111,
              "#46039f"
             ],
             [
              0.2222222222222222,
              "#7201a8"
             ],
             [
              0.3333333333333333,
              "#9c179e"
             ],
             [
              0.4444444444444444,
              "#bd3786"
             ],
             [
              0.5555555555555556,
              "#d8576b"
             ],
             [
              0.6666666666666666,
              "#ed7953"
             ],
             [
              0.7777777777777778,
              "#fb9f3a"
             ],
             [
              0.8888888888888888,
              "#fdca26"
             ],
             [
              1.0,
              "#f0f921"
             ]
            ]
           }
          ],
          "heatmapgl": [
           {
            "type": "heatmapgl",
            "colorbar": {
             "outlinewidth": 0,
             "ticks": ""
            },
            "colorscale": [
             [
              0.0,
              "#0d0887"
             ],
             [
              0.1111111111111111,
              "#46039f"
             ],
             [
              0.2222222222222222,
              "#7201a8"
             ],
             [
              0.3333333333333333,
              "#9c179e"
             ],
             [
              0.4444444444444444,
              "#bd3786"
             ],
             [
              0.5555555555555556,
              "#d8576b"
             ],
             [
              0.6666666666666666,
              "#ed7953"
             ],
             [
              0.7777777777777778,
              "#fb9f3a"
             ],
             [
              0.8888888888888888,
              "#fdca26"
             ],
             [
              1.0,
              "#f0f921"
             ]
            ]
           }
          ],
          "contourcarpet": [
           {
            "type": "contourcarpet",
            "colorbar": {
             "outlinewidth": 0,
             "ticks": ""
            }
           }
          ],
          "contour": [
           {
            "type": "contour",
            "colorbar": {
             "outlinewidth": 0,
             "ticks": ""
            },
            "colorscale": [
             [
              0.0,
              "#0d0887"
             ],
             [
              0.1111111111111111,
              "#46039f"
             ],
             [
              0.2222222222222222,
              "#7201a8"
             ],
             [
              0.3333333333333333,
              "#9c179e"
             ],
             [
              0.4444444444444444,
              "#bd3786"
             ],
             [
              0.5555555555555556,
              "#d8576b"
             ],
             [
              0.6666666666666666,
              "#ed7953"
             ],
             [
              0.7777777777777778,
              "#fb9f3a"
             ],
             [
              0.8888888888888888,
              "#fdca26"
             ],
             [
              1.0,
              "#f0f921"
             ]
            ]
           }
          ],
          "surface": [
           {
            "type": "surface",
            "colorbar": {
             "outlinewidth": 0,
             "ticks": ""
            },
            "colorscale": [
             [
              0.0,
              "#0d0887"
             ],
             [
              0.1111111111111111,
              "#46039f"
             ],
             [
              0.2222222222222222,
              "#7201a8"
             ],
             [
              0.3333333333333333,
              "#9c179e"
             ],
             [
              0.4444444444444444,
              "#bd3786"
             ],
             [
              0.5555555555555556,
              "#d8576b"
             ],
             [
              0.6666666666666666,
              "#ed7953"
             ],
             [
              0.7777777777777778,
              "#fb9f3a"
             ],
             [
              0.8888888888888888,
              "#fdca26"
             ],
             [
              1.0,
              "#f0f921"
             ]
            ]
           }
          ],
          "mesh3d": [
           {
            "type": "mesh3d",
            "colorbar": {
             "outlinewidth": 0,
             "ticks": ""
            }
           }
          ],
          "scatter": [
           {
            "marker": {
             "line": {
              "color": "#283442"
             }
            },
            "type": "scatter"
           }
          ],
          "parcoords": [
           {
            "type": "parcoords",
            "line": {
             "colorbar": {
              "outlinewidth": 0,
              "ticks": ""
             }
            }
           }
          ],
          "scatterpolargl": [
           {
            "type": "scatterpolargl",
            "marker": {
             "colorbar": {
              "outlinewidth": 0,
              "ticks": ""
             }
            }
           }
          ],
          "bar": [
           {
            "error_x": {
             "color": "#f2f5fa"
            },
            "error_y": {
             "color": "#f2f5fa"
            },
            "marker": {
             "line": {
              "color": "rgb(17,17,17)",
              "width": 0.5
             },
             "pattern": {
              "fillmode": "overlay",
              "size": 10,
              "solidity": 0.2
             }
            },
            "type": "bar"
           }
          ],
          "scattergeo": [
           {
            "type": "scattergeo",
            "marker": {
             "colorbar": {
              "outlinewidth": 0,
              "ticks": ""
             }
            }
           }
          ],
          "scatterpolar": [
           {
            "type": "scatterpolar",
            "marker": {
             "colorbar": {
              "outlinewidth": 0,
              "ticks": ""
             }
            }
           }
          ],
          "histogram": [
           {
            "marker": {
             "pattern": {
              "fillmode": "overlay",
              "size": 10,
              "solidity": 0.2
             }
            },
            "type": "histogram"
           }
          ],
          "scattergl": [
           {
            "marker": {
             "line": {
              "color": "#283442"
             }
            },
            "type": "scattergl"
           }
          ],
          "scatter3d": [
           {
            "type": "scatter3d",
            "line": {
             "colorbar": {
              "outlinewidth": 0,
              "ticks": ""
             }
            },
            "marker": {
             "colorbar": {
              "outlinewidth": 0,
              "ticks": ""
             }
            }
           }
          ],
          "scattermapbox": [
           {
            "type": "scattermapbox",
            "marker": {
             "colorbar": {
              "outlinewidth": 0,
              "ticks": ""
             }
            }
           }
          ],
          "scatterternary": [
           {
            "type": "scatterternary",
            "marker": {
             "colorbar": {
              "outlinewidth": 0,
              "ticks": ""
             }
            }
           }
          ],
          "scattercarpet": [
           {
            "type": "scattercarpet",
            "marker": {
             "colorbar": {
              "outlinewidth": 0,
              "ticks": ""
             }
            }
           }
          ],
          "carpet": [
           {
            "aaxis": {
             "endlinecolor": "#A2B1C6",
             "gridcolor": "#506784",
             "linecolor": "#506784",
             "minorgridcolor": "#506784",
             "startlinecolor": "#A2B1C6"
            },
            "baxis": {
             "endlinecolor": "#A2B1C6",
             "gridcolor": "#506784",
             "linecolor": "#506784",
             "minorgridcolor": "#506784",
             "startlinecolor": "#A2B1C6"
            },
            "type": "carpet"
           }
          ],
          "table": [
           {
            "cells": {
             "fill": {
              "color": "#506784"
             },
             "line": {
              "color": "rgb(17,17,17)"
             }
            },
            "header": {
             "fill": {
              "color": "#2a3f5f"
             },
             "line": {
              "color": "rgb(17,17,17)"
             }
            },
            "type": "table"
           }
          ],
          "barpolar": [
           {
            "marker": {
             "line": {
              "color": "rgb(17,17,17)",
              "width": 0.5
             },
             "pattern": {
              "fillmode": "overlay",
              "size": 10,
              "solidity": 0.2
             }
            },
            "type": "barpolar"
           }
          ],
          "pie": [
           {
            "automargin": true,
            "type": "pie"
           }
          ]
         },
         "layout": {
          "autotypenumbers": "strict",
          "colorway": [
           "#636efa",
           "#EF553B",
           "#00cc96",
           "#ab63fa",
           "#FFA15A",
           "#19d3f3",
           "#FF6692",
           "#B6E880",
           "#FF97FF",
           "#FECB52"
          ],
          "font": {
           "color": "#f2f5fa"
          },
          "hovermode": "closest",
          "hoverlabel": {
           "align": "left"
          },
          "paper_bgcolor": "rgb(17,17,17)",
          "plot_bgcolor": "rgb(17,17,17)",
          "polar": {
           "bgcolor": "rgb(17,17,17)",
           "angularaxis": {
            "gridcolor": "#506784",
            "linecolor": "#506784",
            "ticks": ""
           },
           "radialaxis": {
            "gridcolor": "#506784",
            "linecolor": "#506784",
            "ticks": ""
           }
          },
          "ternary": {
           "bgcolor": "rgb(17,17,17)",
           "aaxis": {
            "gridcolor": "#506784",
            "linecolor": "#506784",
            "ticks": ""
           },
           "baxis": {
            "gridcolor": "#506784",
            "linecolor": "#506784",
            "ticks": ""
           },
           "caxis": {
            "gridcolor": "#506784",
            "linecolor": "#506784",
            "ticks": ""
           }
          },
          "coloraxis": {
           "colorbar": {
            "outlinewidth": 0,
            "ticks": ""
           }
          },
          "colorscale": {
           "sequential": [
            [
             0.0,
             "#0d0887"
            ],
            [
             0.1111111111111111,
             "#46039f"
            ],
            [
             0.2222222222222222,
             "#7201a8"
            ],
            [
             0.3333333333333333,
             "#9c179e"
            ],
            [
             0.4444444444444444,
             "#bd3786"
            ],
            [
             0.5555555555555556,
             "#d8576b"
            ],
            [
             0.6666666666666666,
             "#ed7953"
            ],
            [
             0.7777777777777778,
             "#fb9f3a"
            ],
            [
             0.8888888888888888,
             "#fdca26"
            ],
            [
             1.0,
             "#f0f921"
            ]
           ],
           "sequentialminus": [
            [
             0.0,
             "#0d0887"
            ],
            [
             0.1111111111111111,
             "#46039f"
            ],
            [
             0.2222222222222222,
             "#7201a8"
            ],
            [
             0.3333333333333333,
             "#9c179e"
            ],
            [
             0.4444444444444444,
             "#bd3786"
            ],
            [
             0.5555555555555556,
             "#d8576b"
            ],
            [
             0.6666666666666666,
             "#ed7953"
            ],
            [
             0.7777777777777778,
             "#fb9f3a"
            ],
            [
             0.8888888888888888,
             "#fdca26"
            ],
            [
             1.0,
             "#f0f921"
            ]
           ],
           "diverging": [
            [
             0,
             "#8e0152"
            ],
            [
             0.1,
             "#c51b7d"
            ],
            [
             0.2,
             "#de77ae"
            ],
            [
             0.3,
             "#f1b6da"
            ],
            [
             0.4,
             "#fde0ef"
            ],
            [
             0.5,
             "#f7f7f7"
            ],
            [
             0.6,
             "#e6f5d0"
            ],
            [
             0.7,
             "#b8e186"
            ],
            [
             0.8,
             "#7fbc41"
            ],
            [
             0.9,
             "#4d9221"
            ],
            [
             1,
             "#276419"
            ]
           ]
          },
          "xaxis": {
           "gridcolor": "#283442",
           "linecolor": "#506784",
           "ticks": "",
           "title": {
            "standoff": 15
           },
           "zerolinecolor": "#283442",
           "automargin": true,
           "zerolinewidth": 2
          },
          "yaxis": {
           "gridcolor": "#283442",
           "linecolor": "#506784",
           "ticks": "",
           "title": {
            "standoff": 15
           },
           "zerolinecolor": "#283442",
           "automargin": true,
           "zerolinewidth": 2
          },
          "scene": {
           "xaxis": {
            "backgroundcolor": "rgb(17,17,17)",
            "gridcolor": "#506784",
            "linecolor": "#506784",
            "showbackground": true,
            "ticks": "",
            "zerolinecolor": "#C8D4E3",
            "gridwidth": 2
           },
           "yaxis": {
            "backgroundcolor": "rgb(17,17,17)",
            "gridcolor": "#506784",
            "linecolor": "#506784",
            "showbackground": true,
            "ticks": "",
            "zerolinecolor": "#C8D4E3",
            "gridwidth": 2
           },
           "zaxis": {
            "backgroundcolor": "rgb(17,17,17)",
            "gridcolor": "#506784",
            "linecolor": "#506784",
            "showbackground": true,
            "ticks": "",
            "zerolinecolor": "#C8D4E3",
            "gridwidth": 2
           }
          },
          "shapedefaults": {
           "line": {
            "color": "#f2f5fa"
           }
          },
          "annotationdefaults": {
           "arrowcolor": "#f2f5fa",
           "arrowhead": 0,
           "arrowwidth": 1
          },
          "geo": {
           "bgcolor": "rgb(17,17,17)",
           "landcolor": "rgb(17,17,17)",
           "subunitcolor": "#506784",
           "showland": true,
           "showlakes": true,
           "lakecolor": "rgb(17,17,17)"
          },
          "title": {
           "x": 0.05
          },
          "updatemenudefaults": {
           "bgcolor": "#506784",
           "borderwidth": 0
          },
          "sliderdefaults": {
           "bgcolor": "#C8D4E3",
           "borderwidth": 1,
           "bordercolor": "rgb(17,17,17)",
           "tickwidth": 0
          },
          "mapbox": {
           "style": "dark"
          }
         }
        }
       },
       "config": {
        "plotlyServerURL": "https://plot.ly"
       }
      },
      "text/html": "<div>                            <div id=\"cc86a90c-d8ff-4d12-baa0-08434062e6ab\" class=\"plotly-graph-div\" style=\"height:525px; width:100%;\"></div>            <script type=\"text/javascript\">                require([\"plotly\"], function(Plotly) {                    window.PLOTLYENV=window.PLOTLYENV || {};                                    if (document.getElementById(\"cc86a90c-d8ff-4d12-baa0-08434062e6ab\")) {                    Plotly.newPlot(                        \"cc86a90c-d8ff-4d12-baa0-08434062e6ab\",                        [{\"hovertemplate\":\"Cause:%{label} \\u003cbr\\u003e Number of Tsunamis: %{value}\",\"labels\":[\"Earthquake\",\"Landslide\",\"Earthquake and Landslide\",\"Meteorological\",\"Volcano\",\"Volcano and Landslide\",\"Questionable Earthquake\",\"Volcano and Earthquake\",\"Explosion\",\"Volcano, Earthquake, and Landslide\"],\"name\":\"\",\"values\":[1043,94,70,70,67,10,8,5,1,1],\"type\":\"pie\",\"textfont\":{\"size\":15},\"marker\":{\"line\":{\"color\":\"#000000\",\"width\":1},\"colors\":[\"gold\",\"mediumturquoise\",\"darkorange\",\"lightgreen\"]},\"title\":{\"text\":\"\\u003cb\\u003eTsunami Cause Count\\u003cbr\\u003e\\u003cbr\\u003e          \"}}],                        {\"template\":{\"data\":{\"histogram2dcontour\":[{\"type\":\"histogram2dcontour\",\"colorbar\":{\"outlinewidth\":0,\"ticks\":\"\"},\"colorscale\":[[0.0,\"#0d0887\"],[0.1111111111111111,\"#46039f\"],[0.2222222222222222,\"#7201a8\"],[0.3333333333333333,\"#9c179e\"],[0.4444444444444444,\"#bd3786\"],[0.5555555555555556,\"#d8576b\"],[0.6666666666666666,\"#ed7953\"],[0.7777777777777778,\"#fb9f3a\"],[0.8888888888888888,\"#fdca26\"],[1.0,\"#f0f921\"]]}],\"choropleth\":[{\"type\":\"choropleth\",\"colorbar\":{\"outlinewidth\":0,\"ticks\":\"\"}}],\"histogram2d\":[{\"type\":\"histogram2d\",\"colorbar\":{\"outlinewidth\":0,\"ticks\":\"\"},\"colorscale\":[[0.0,\"#0d0887\"],[0.1111111111111111,\"#46039f\"],[0.2222222222222222,\"#7201a8\"],[0.3333333333333333,\"#9c179e\"],[0.4444444444444444,\"#bd3786\"],[0.5555555555555556,\"#d8576b\"],[0.6666666666666666,\"#ed7953\"],[0.7777777777777778,\"#fb9f3a\"],[0.8888888888888888,\"#fdca26\"],[1.0,\"#f0f921\"]]}],\"heatmap\":[{\"type\":\"heatmap\",\"colorbar\":{\"outlinewidth\":0,\"ticks\":\"\"},\"colorscale\":[[0.0,\"#0d0887\"],[0.1111111111111111,\"#46039f\"],[0.2222222222222222,\"#7201a8\"],[0.3333333333333333,\"#9c179e\"],[0.4444444444444444,\"#bd3786\"],[0.5555555555555556,\"#d8576b\"],[0.6666666666666666,\"#ed7953\"],[0.7777777777777778,\"#fb9f3a\"],[0.8888888888888888,\"#fdca26\"],[1.0,\"#f0f921\"]]}],\"heatmapgl\":[{\"type\":\"heatmapgl\",\"colorbar\":{\"outlinewidth\":0,\"ticks\":\"\"},\"colorscale\":[[0.0,\"#0d0887\"],[0.1111111111111111,\"#46039f\"],[0.2222222222222222,\"#7201a8\"],[0.3333333333333333,\"#9c179e\"],[0.4444444444444444,\"#bd3786\"],[0.5555555555555556,\"#d8576b\"],[0.6666666666666666,\"#ed7953\"],[0.7777777777777778,\"#fb9f3a\"],[0.8888888888888888,\"#fdca26\"],[1.0,\"#f0f921\"]]}],\"contourcarpet\":[{\"type\":\"contourcarpet\",\"colorbar\":{\"outlinewidth\":0,\"ticks\":\"\"}}],\"contour\":[{\"type\":\"contour\",\"colorbar\":{\"outlinewidth\":0,\"ticks\":\"\"},\"colorscale\":[[0.0,\"#0d0887\"],[0.1111111111111111,\"#46039f\"],[0.2222222222222222,\"#7201a8\"],[0.3333333333333333,\"#9c179e\"],[0.4444444444444444,\"#bd3786\"],[0.5555555555555556,\"#d8576b\"],[0.6666666666666666,\"#ed7953\"],[0.7777777777777778,\"#fb9f3a\"],[0.8888888888888888,\"#fdca26\"],[1.0,\"#f0f921\"]]}],\"surface\":[{\"type\":\"surface\",\"colorbar\":{\"outlinewidth\":0,\"ticks\":\"\"},\"colorscale\":[[0.0,\"#0d0887\"],[0.1111111111111111,\"#46039f\"],[0.2222222222222222,\"#7201a8\"],[0.3333333333333333,\"#9c179e\"],[0.4444444444444444,\"#bd3786\"],[0.5555555555555556,\"#d8576b\"],[0.6666666666666666,\"#ed7953\"],[0.7777777777777778,\"#fb9f3a\"],[0.8888888888888888,\"#fdca26\"],[1.0,\"#f0f921\"]]}],\"mesh3d\":[{\"type\":\"mesh3d\",\"colorbar\":{\"outlinewidth\":0,\"ticks\":\"\"}}],\"scatter\":[{\"marker\":{\"line\":{\"color\":\"#283442\"}},\"type\":\"scatter\"}],\"parcoords\":[{\"type\":\"parcoords\",\"line\":{\"colorbar\":{\"outlinewidth\":0,\"ticks\":\"\"}}}],\"scatterpolargl\":[{\"type\":\"scatterpolargl\",\"marker\":{\"colorbar\":{\"outlinewidth\":0,\"ticks\":\"\"}}}],\"bar\":[{\"error_x\":{\"color\":\"#f2f5fa\"},\"error_y\":{\"color\":\"#f2f5fa\"},\"marker\":{\"line\":{\"color\":\"rgb(17,17,17)\",\"width\":0.5},\"pattern\":{\"fillmode\":\"overlay\",\"size\":10,\"solidity\":0.2}},\"type\":\"bar\"}],\"scattergeo\":[{\"type\":\"scattergeo\",\"marker\":{\"colorbar\":{\"outlinewidth\":0,\"ticks\":\"\"}}}],\"scatterpolar\":[{\"type\":\"scatterpolar\",\"marker\":{\"colorbar\":{\"outlinewidth\":0,\"ticks\":\"\"}}}],\"histogram\":[{\"marker\":{\"pattern\":{\"fillmode\":\"overlay\",\"size\":10,\"solidity\":0.2}},\"type\":\"histogram\"}],\"scattergl\":[{\"marker\":{\"line\":{\"color\":\"#283442\"}},\"type\":\"scattergl\"}],\"scatter3d\":[{\"type\":\"scatter3d\",\"line\":{\"colorbar\":{\"outlinewidth\":0,\"ticks\":\"\"}},\"marker\":{\"colorbar\":{\"outlinewidth\":0,\"ticks\":\"\"}}}],\"scattermapbox\":[{\"type\":\"scattermapbox\",\"marker\":{\"colorbar\":{\"outlinewidth\":0,\"ticks\":\"\"}}}],\"scatterternary\":[{\"type\":\"scatterternary\",\"marker\":{\"colorbar\":{\"outlinewidth\":0,\"ticks\":\"\"}}}],\"scattercarpet\":[{\"type\":\"scattercarpet\",\"marker\":{\"colorbar\":{\"outlinewidth\":0,\"ticks\":\"\"}}}],\"carpet\":[{\"aaxis\":{\"endlinecolor\":\"#A2B1C6\",\"gridcolor\":\"#506784\",\"linecolor\":\"#506784\",\"minorgridcolor\":\"#506784\",\"startlinecolor\":\"#A2B1C6\"},\"baxis\":{\"endlinecolor\":\"#A2B1C6\",\"gridcolor\":\"#506784\",\"linecolor\":\"#506784\",\"minorgridcolor\":\"#506784\",\"startlinecolor\":\"#A2B1C6\"},\"type\":\"carpet\"}],\"table\":[{\"cells\":{\"fill\":{\"color\":\"#506784\"},\"line\":{\"color\":\"rgb(17,17,17)\"}},\"header\":{\"fill\":{\"color\":\"#2a3f5f\"},\"line\":{\"color\":\"rgb(17,17,17)\"}},\"type\":\"table\"}],\"barpolar\":[{\"marker\":{\"line\":{\"color\":\"rgb(17,17,17)\",\"width\":0.5},\"pattern\":{\"fillmode\":\"overlay\",\"size\":10,\"solidity\":0.2}},\"type\":\"barpolar\"}],\"pie\":[{\"automargin\":true,\"type\":\"pie\"}]},\"layout\":{\"autotypenumbers\":\"strict\",\"colorway\":[\"#636efa\",\"#EF553B\",\"#00cc96\",\"#ab63fa\",\"#FFA15A\",\"#19d3f3\",\"#FF6692\",\"#B6E880\",\"#FF97FF\",\"#FECB52\"],\"font\":{\"color\":\"#f2f5fa\"},\"hovermode\":\"closest\",\"hoverlabel\":{\"align\":\"left\"},\"paper_bgcolor\":\"rgb(17,17,17)\",\"plot_bgcolor\":\"rgb(17,17,17)\",\"polar\":{\"bgcolor\":\"rgb(17,17,17)\",\"angularaxis\":{\"gridcolor\":\"#506784\",\"linecolor\":\"#506784\",\"ticks\":\"\"},\"radialaxis\":{\"gridcolor\":\"#506784\",\"linecolor\":\"#506784\",\"ticks\":\"\"}},\"ternary\":{\"bgcolor\":\"rgb(17,17,17)\",\"aaxis\":{\"gridcolor\":\"#506784\",\"linecolor\":\"#506784\",\"ticks\":\"\"},\"baxis\":{\"gridcolor\":\"#506784\",\"linecolor\":\"#506784\",\"ticks\":\"\"},\"caxis\":{\"gridcolor\":\"#506784\",\"linecolor\":\"#506784\",\"ticks\":\"\"}},\"coloraxis\":{\"colorbar\":{\"outlinewidth\":0,\"ticks\":\"\"}},\"colorscale\":{\"sequential\":[[0.0,\"#0d0887\"],[0.1111111111111111,\"#46039f\"],[0.2222222222222222,\"#7201a8\"],[0.3333333333333333,\"#9c179e\"],[0.4444444444444444,\"#bd3786\"],[0.5555555555555556,\"#d8576b\"],[0.6666666666666666,\"#ed7953\"],[0.7777777777777778,\"#fb9f3a\"],[0.8888888888888888,\"#fdca26\"],[1.0,\"#f0f921\"]],\"sequentialminus\":[[0.0,\"#0d0887\"],[0.1111111111111111,\"#46039f\"],[0.2222222222222222,\"#7201a8\"],[0.3333333333333333,\"#9c179e\"],[0.4444444444444444,\"#bd3786\"],[0.5555555555555556,\"#d8576b\"],[0.6666666666666666,\"#ed7953\"],[0.7777777777777778,\"#fb9f3a\"],[0.8888888888888888,\"#fdca26\"],[1.0,\"#f0f921\"]],\"diverging\":[[0,\"#8e0152\"],[0.1,\"#c51b7d\"],[0.2,\"#de77ae\"],[0.3,\"#f1b6da\"],[0.4,\"#fde0ef\"],[0.5,\"#f7f7f7\"],[0.6,\"#e6f5d0\"],[0.7,\"#b8e186\"],[0.8,\"#7fbc41\"],[0.9,\"#4d9221\"],[1,\"#276419\"]]},\"xaxis\":{\"gridcolor\":\"#283442\",\"linecolor\":\"#506784\",\"ticks\":\"\",\"title\":{\"standoff\":15},\"zerolinecolor\":\"#283442\",\"automargin\":true,\"zerolinewidth\":2},\"yaxis\":{\"gridcolor\":\"#283442\",\"linecolor\":\"#506784\",\"ticks\":\"\",\"title\":{\"standoff\":15},\"zerolinecolor\":\"#283442\",\"automargin\":true,\"zerolinewidth\":2},\"scene\":{\"xaxis\":{\"backgroundcolor\":\"rgb(17,17,17)\",\"gridcolor\":\"#506784\",\"linecolor\":\"#506784\",\"showbackground\":true,\"ticks\":\"\",\"zerolinecolor\":\"#C8D4E3\",\"gridwidth\":2},\"yaxis\":{\"backgroundcolor\":\"rgb(17,17,17)\",\"gridcolor\":\"#506784\",\"linecolor\":\"#506784\",\"showbackground\":true,\"ticks\":\"\",\"zerolinecolor\":\"#C8D4E3\",\"gridwidth\":2},\"zaxis\":{\"backgroundcolor\":\"rgb(17,17,17)\",\"gridcolor\":\"#506784\",\"linecolor\":\"#506784\",\"showbackground\":true,\"ticks\":\"\",\"zerolinecolor\":\"#C8D4E3\",\"gridwidth\":2}},\"shapedefaults\":{\"line\":{\"color\":\"#f2f5fa\"}},\"annotationdefaults\":{\"arrowcolor\":\"#f2f5fa\",\"arrowhead\":0,\"arrowwidth\":1},\"geo\":{\"bgcolor\":\"rgb(17,17,17)\",\"landcolor\":\"rgb(17,17,17)\",\"subunitcolor\":\"#506784\",\"showland\":true,\"showlakes\":true,\"lakecolor\":\"rgb(17,17,17)\"},\"title\":{\"x\":0.05},\"updatemenudefaults\":{\"bgcolor\":\"#506784\",\"borderwidth\":0},\"sliderdefaults\":{\"bgcolor\":\"#C8D4E3\",\"borderwidth\":1,\"bordercolor\":\"rgb(17,17,17)\",\"tickwidth\":0},\"mapbox\":{\"style\":\"dark\"}}}},                        {\"responsive\": true}                    ).then(function(){\n                            \nvar gd = document.getElementById('cc86a90c-d8ff-4d12-baa0-08434062e6ab');\nvar x = new MutationObserver(function (mutations, observer) {{\n        var display = window.getComputedStyle(gd).display;\n        if (!display || display === 'none') {{\n            console.log([gd, 'removed!']);\n            Plotly.purge(gd);\n            observer.disconnect();\n        }}\n}});\n\n// Listen for the removal of the full notebook cells\nvar notebookContainer = gd.closest('#notebook-container');\nif (notebookContainer) {{\n    x.observe(notebookContainer, {childList: true});\n}}\n\n// Listen for the clearing of the current output cell\nvar outputEl = gd.closest('.output');\nif (outputEl) {{\n    x.observe(outputEl, {childList: true});\n}}\n\n                        })                };                });            </script>        </div>"
     },
     "metadata": {},
     "output_type": "display_data"
    }
   ],
   "source": [
    "data_cnt_cause=df.groupby(['Cause'])['Sr.no'].count().sort_values(ascending=False).reset_index()\n",
    "colors = ['gold', 'mediumturquoise', 'darkorange', 'lightgreen']\n",
    "fig = go.Figure(go.Pie(\n",
    "    name = \"\",\n",
    "    values = data_cnt_cause['Sr.no'],\n",
    "    labels = data_cnt_cause['Cause'],\n",
    "    hovertemplate = \"Cause:%{label} <br> Number of Tsunamis: %{value}\",\n",
    "\n",
    "))\n",
    "fig.update_traces(textfont_size=15,    title=\"<b>Tsunami Cause Count<br><br>          \",\n",
    "                  marker=dict(colors=colors, line=dict(color='#000000', width=1)))\n",
    "fig.show()"
   ]
  },
  {
   "cell_type": "markdown",
   "id": "9eaccc35",
   "metadata": {},
   "source": [
    "<br>**The majority of tsunamis are triggered by factors such as earthquakes, landslides, meteorological events, and volcanoes, with earthquakes being the most common cause.**   \n",
    "<br>"
   ]
  },
  {
   "cell_type": "code",
   "execution_count": 33,
   "id": "7c8d2262",
   "metadata": {
    "ExecuteTime": {
     "end_time": "2023-10-29T14:17:38.291064500Z",
     "start_time": "2023-10-29T14:17:37.847249400Z"
    }
   },
   "outputs": [
    {
     "data": {
      "application/vnd.plotly.v1+json": {
       "data": [
        {
         "alignmentgroup": "True",
         "boxpoints": "all",
         "hovertemplate": "Cause=%{x}<br>Deaths=%{y}<extra></extra>",
         "legendgroup": "Earthquake",
         "marker": {
          "color": "gold"
         },
         "name": "Earthquake",
         "notched": false,
         "offsetgroup": "Earthquake",
         "orientation": "v",
         "showlegend": true,
         "x": [
          "Earthquake",
          "Earthquake",
          "Earthquake",
          "Earthquake",
          "Earthquake",
          "Earthquake",
          "Earthquake",
          "Earthquake",
          "Earthquake",
          "Earthquake",
          "Earthquake",
          "Earthquake",
          "Earthquake",
          "Earthquake",
          "Earthquake",
          "Earthquake",
          "Earthquake",
          "Earthquake",
          "Earthquake",
          "Earthquake",
          "Earthquake",
          "Earthquake",
          "Earthquake",
          "Earthquake",
          "Earthquake",
          "Earthquake",
          "Earthquake",
          "Earthquake",
          "Earthquake",
          "Earthquake",
          "Earthquake",
          "Earthquake",
          "Earthquake",
          "Earthquake",
          "Earthquake",
          "Earthquake",
          "Earthquake",
          "Earthquake",
          "Earthquake",
          "Earthquake",
          "Earthquake",
          "Earthquake",
          "Earthquake",
          "Earthquake",
          "Earthquake",
          "Earthquake",
          "Earthquake",
          "Earthquake",
          "Earthquake",
          "Earthquake",
          "Earthquake",
          "Earthquake",
          "Earthquake",
          "Earthquake",
          "Earthquake",
          "Earthquake",
          "Earthquake",
          "Earthquake",
          "Earthquake",
          "Earthquake",
          "Earthquake",
          "Earthquake",
          "Earthquake",
          "Earthquake",
          "Earthquake",
          "Earthquake",
          "Earthquake",
          "Earthquake",
          "Earthquake",
          "Earthquake",
          "Earthquake",
          "Earthquake",
          "Earthquake",
          "Earthquake",
          "Earthquake",
          "Earthquake",
          "Earthquake",
          "Earthquake",
          "Earthquake",
          "Earthquake",
          "Earthquake",
          "Earthquake",
          "Earthquake",
          "Earthquake",
          "Earthquake",
          "Earthquake",
          "Earthquake",
          "Earthquake"
         ],
         "x0": " ",
         "xaxis": "x",
         "y": [
          5.0,
          185.0,
          57.0,
          1000.0,
          2188.0,
          2.0,
          6.0,
          23.0,
          200.0,
          3.0,
          18.0,
          2144.0,
          50.0,
          10.0,
          4.0,
          27.0,
          50.0,
          4.0,
          75.0,
          3022.0,
          17.0,
          1.0,
          12.0,
          10.0,
          2.0,
          1223.0,
          1790.0,
          75.0,
          1362.0,
          2.0,
          16.0,
          1.0,
          33.0,
          10000.0,
          1.0,
          3.0,
          2.0,
          4.0,
          2226.0,
          66.0,
          26.0,
          71.0,
          13.0,
          52.0,
          1.0,
          200.0,
          600.0,
          1.0,
          1.0,
          6800.0,
          189.0,
          1.0,
          100.0,
          600.0,
          100.0,
          2.0,
          1.0,
          2.0,
          3.0,
          170.0,
          208.0,
          238.0,
          1.0,
          81.0,
          1.0,
          9.0,
          110.0,
          12.0,
          155.0,
          5.0,
          54.0,
          26.0,
          2.0,
          227899.0,
          10.0,
          4.0,
          802.0,
          50.0,
          3.0,
          192.0,
          156.0,
          431.0,
          18428.0,
          1.0,
          10.0,
          8.0,
          1.0,
          1.0
         ],
         "y0": " ",
         "yaxis": "y",
         "type": "box"
        },
        {
         "alignmentgroup": "True",
         "boxpoints": "all",
         "hovertemplate": "Cause=%{x}<br>Deaths=%{y}<extra></extra>",
         "legendgroup": "Earthquake and Landslide",
         "marker": {
          "color": "mediumturquoise"
         },
         "name": "Earthquake and Landslide",
         "notched": false,
         "offsetgroup": "Earthquake and Landslide",
         "orientation": "v",
         "showlegend": true,
         "x": [
          "Earthquake and Landslide",
          "Earthquake and Landslide",
          "Earthquake and Landslide",
          "Earthquake and Landslide",
          "Earthquake and Landslide",
          "Earthquake and Landslide",
          "Earthquake and Landslide",
          "Earthquake and Landslide",
          "Earthquake and Landslide",
          "Earthquake and Landslide",
          "Earthquake and Landslide",
          "Earthquake and Landslide",
          "Earthquake and Landslide",
          "Earthquake and Landslide",
          "Earthquake and Landslide",
          "Earthquake and Landslide",
          "Earthquake and Landslide",
          "Earthquake and Landslide",
          "Earthquake and Landslide",
          "Earthquake and Landslide"
         ],
         "x0": " ",
         "xaxis": "x",
         "y": [
          5.0,
          5.0,
          2000.0,
          140.0,
          28.0,
          1.0,
          300.0,
          168.0,
          5.0,
          5.0,
          124.0,
          1.0,
          3.0,
          2.0,
          1169.0,
          11.0,
          1636.0,
          8.0,
          7.0,
          4340.0
         ],
         "y0": " ",
         "yaxis": "y",
         "type": "box"
        },
        {
         "alignmentgroup": "True",
         "boxpoints": "all",
         "hovertemplate": "Cause=%{x}<br>Deaths=%{y}<extra></extra>",
         "legendgroup": "Volcano",
         "marker": {
          "color": "darkorange"
         },
         "name": "Volcano",
         "notched": false,
         "offsetgroup": "Volcano",
         "orientation": "v",
         "showlegend": true,
         "x": [
          "Volcano",
          "Volcano",
          "Volcano",
          "Volcano",
          "Volcano",
          "Volcano",
          "Volcano",
          "Volcano"
         ],
         "x0": " ",
         "xaxis": "x",
         "y": [
          50.0,
          1.0,
          2.0,
          9.0,
          355.0,
          3.0,
          2.0,
          6.0
         ],
         "y0": " ",
         "yaxis": "y",
         "type": "box"
        },
        {
         "alignmentgroup": "True",
         "boxpoints": "all",
         "hovertemplate": "Cause=%{x}<br>Deaths=%{y}<extra></extra>",
         "legendgroup": "Meteorological",
         "marker": {
          "color": "lightgreen"
         },
         "name": "Meteorological",
         "notched": false,
         "offsetgroup": "Meteorological",
         "orientation": "v",
         "showlegend": true,
         "x": [
          "Meteorological",
          "Meteorological",
          "Meteorological",
          "Meteorological",
          "Meteorological",
          "Meteorological",
          "Meteorological",
          "Meteorological",
          "Meteorological",
          "Meteorological",
          "Meteorological",
          "Meteorological",
          "Meteorological",
          "Meteorological",
          "Meteorological",
          "Meteorological",
          "Meteorological",
          "Meteorological"
         ],
         "x0": " ",
         "xaxis": "x",
         "y": [
          300.0,
          3.0,
          43.0,
          1.0,
          1.0,
          1.0,
          10.0,
          4.0,
          5.0,
          7.0,
          3.0,
          7.0,
          1.0,
          4.0,
          9.0,
          1.0,
          5.0,
          1.0
         ],
         "y0": " ",
         "yaxis": "y",
         "type": "box"
        },
        {
         "alignmentgroup": "True",
         "boxpoints": "all",
         "hovertemplate": "Cause=%{x}<br>Deaths=%{y}<extra></extra>",
         "legendgroup": "Landslide",
         "marker": {
          "color": "blue"
         },
         "name": "Landslide",
         "notched": false,
         "offsetgroup": "Landslide",
         "orientation": "v",
         "showlegend": true,
         "x": [
          "Landslide",
          "Landslide",
          "Landslide",
          "Landslide",
          "Landslide",
          "Landslide",
          "Landslide",
          "Landslide",
          "Landslide",
          "Landslide",
          "Landslide",
          "Landslide",
          "Landslide",
          "Landslide",
          "Landslide",
          "Landslide",
          "Landslide",
          "Landslide",
          "Landslide",
          "Landslide"
         ],
         "x0": " ",
         "xaxis": "x",
         "y": [
          61.0,
          15.0,
          26.0,
          1.0,
          20.0,
          41.0,
          73.0,
          1.0,
          2.0,
          2000.0,
          1.0,
          600.0,
          1239.0,
          9.0,
          1.0,
          8.0,
          1.0,
          2.0,
          4.0,
          1.0
         ],
         "y0": " ",
         "yaxis": "y",
         "type": "box"
        }
       ],
       "layout": {
        "template": {
         "data": {
          "barpolar": [
           {
            "marker": {
             "line": {
              "color": "white",
              "width": 0.5
             },
             "pattern": {
              "fillmode": "overlay",
              "size": 10,
              "solidity": 0.2
             }
            },
            "type": "barpolar"
           }
          ],
          "bar": [
           {
            "error_x": {
             "color": "#2a3f5f"
            },
            "error_y": {
             "color": "#2a3f5f"
            },
            "marker": {
             "line": {
              "color": "white",
              "width": 0.5
             },
             "pattern": {
              "fillmode": "overlay",
              "size": 10,
              "solidity": 0.2
             }
            },
            "type": "bar"
           }
          ],
          "carpet": [
           {
            "aaxis": {
             "endlinecolor": "#2a3f5f",
             "gridcolor": "#C8D4E3",
             "linecolor": "#C8D4E3",
             "minorgridcolor": "#C8D4E3",
             "startlinecolor": "#2a3f5f"
            },
            "baxis": {
             "endlinecolor": "#2a3f5f",
             "gridcolor": "#C8D4E3",
             "linecolor": "#C8D4E3",
             "minorgridcolor": "#C8D4E3",
             "startlinecolor": "#2a3f5f"
            },
            "type": "carpet"
           }
          ],
          "choropleth": [
           {
            "colorbar": {
             "outlinewidth": 0,
             "ticks": ""
            },
            "type": "choropleth"
           }
          ],
          "contourcarpet": [
           {
            "colorbar": {
             "outlinewidth": 0,
             "ticks": ""
            },
            "type": "contourcarpet"
           }
          ],
          "contour": [
           {
            "colorbar": {
             "outlinewidth": 0,
             "ticks": ""
            },
            "colorscale": [
             [
              0.0,
              "#0d0887"
             ],
             [
              0.1111111111111111,
              "#46039f"
             ],
             [
              0.2222222222222222,
              "#7201a8"
             ],
             [
              0.3333333333333333,
              "#9c179e"
             ],
             [
              0.4444444444444444,
              "#bd3786"
             ],
             [
              0.5555555555555556,
              "#d8576b"
             ],
             [
              0.6666666666666666,
              "#ed7953"
             ],
             [
              0.7777777777777778,
              "#fb9f3a"
             ],
             [
              0.8888888888888888,
              "#fdca26"
             ],
             [
              1.0,
              "#f0f921"
             ]
            ],
            "type": "contour"
           }
          ],
          "heatmapgl": [
           {
            "colorbar": {
             "outlinewidth": 0,
             "ticks": ""
            },
            "colorscale": [
             [
              0.0,
              "#0d0887"
             ],
             [
              0.1111111111111111,
              "#46039f"
             ],
             [
              0.2222222222222222,
              "#7201a8"
             ],
             [
              0.3333333333333333,
              "#9c179e"
             ],
             [
              0.4444444444444444,
              "#bd3786"
             ],
             [
              0.5555555555555556,
              "#d8576b"
             ],
             [
              0.6666666666666666,
              "#ed7953"
             ],
             [
              0.7777777777777778,
              "#fb9f3a"
             ],
             [
              0.8888888888888888,
              "#fdca26"
             ],
             [
              1.0,
              "#f0f921"
             ]
            ],
            "type": "heatmapgl"
           }
          ],
          "heatmap": [
           {
            "colorbar": {
             "outlinewidth": 0,
             "ticks": ""
            },
            "colorscale": [
             [
              0.0,
              "#0d0887"
             ],
             [
              0.1111111111111111,
              "#46039f"
             ],
             [
              0.2222222222222222,
              "#7201a8"
             ],
             [
              0.3333333333333333,
              "#9c179e"
             ],
             [
              0.4444444444444444,
              "#bd3786"
             ],
             [
              0.5555555555555556,
              "#d8576b"
             ],
             [
              0.6666666666666666,
              "#ed7953"
             ],
             [
              0.7777777777777778,
              "#fb9f3a"
             ],
             [
              0.8888888888888888,
              "#fdca26"
             ],
             [
              1.0,
              "#f0f921"
             ]
            ],
            "type": "heatmap"
           }
          ],
          "histogram2dcontour": [
           {
            "colorbar": {
             "outlinewidth": 0,
             "ticks": ""
            },
            "colorscale": [
             [
              0.0,
              "#0d0887"
             ],
             [
              0.1111111111111111,
              "#46039f"
             ],
             [
              0.2222222222222222,
              "#7201a8"
             ],
             [
              0.3333333333333333,
              "#9c179e"
             ],
             [
              0.4444444444444444,
              "#bd3786"
             ],
             [
              0.5555555555555556,
              "#d8576b"
             ],
             [
              0.6666666666666666,
              "#ed7953"
             ],
             [
              0.7777777777777778,
              "#fb9f3a"
             ],
             [
              0.8888888888888888,
              "#fdca26"
             ],
             [
              1.0,
              "#f0f921"
             ]
            ],
            "type": "histogram2dcontour"
           }
          ],
          "histogram2d": [
           {
            "colorbar": {
             "outlinewidth": 0,
             "ticks": ""
            },
            "colorscale": [
             [
              0.0,
              "#0d0887"
             ],
             [
              0.1111111111111111,
              "#46039f"
             ],
             [
              0.2222222222222222,
              "#7201a8"
             ],
             [
              0.3333333333333333,
              "#9c179e"
             ],
             [
              0.4444444444444444,
              "#bd3786"
             ],
             [
              0.5555555555555556,
              "#d8576b"
             ],
             [
              0.6666666666666666,
              "#ed7953"
             ],
             [
              0.7777777777777778,
              "#fb9f3a"
             ],
             [
              0.8888888888888888,
              "#fdca26"
             ],
             [
              1.0,
              "#f0f921"
             ]
            ],
            "type": "histogram2d"
           }
          ],
          "histogram": [
           {
            "marker": {
             "pattern": {
              "fillmode": "overlay",
              "size": 10,
              "solidity": 0.2
             }
            },
            "type": "histogram"
           }
          ],
          "mesh3d": [
           {
            "colorbar": {
             "outlinewidth": 0,
             "ticks": ""
            },
            "type": "mesh3d"
           }
          ],
          "parcoords": [
           {
            "line": {
             "colorbar": {
              "outlinewidth": 0,
              "ticks": ""
             }
            },
            "type": "parcoords"
           }
          ],
          "pie": [
           {
            "automargin": true,
            "type": "pie"
           }
          ],
          "scatter3d": [
           {
            "line": {
             "colorbar": {
              "outlinewidth": 0,
              "ticks": ""
             }
            },
            "marker": {
             "colorbar": {
              "outlinewidth": 0,
              "ticks": ""
             }
            },
            "type": "scatter3d"
           }
          ],
          "scattercarpet": [
           {
            "marker": {
             "colorbar": {
              "outlinewidth": 0,
              "ticks": ""
             }
            },
            "type": "scattercarpet"
           }
          ],
          "scattergeo": [
           {
            "marker": {
             "colorbar": {
              "outlinewidth": 0,
              "ticks": ""
             }
            },
            "type": "scattergeo"
           }
          ],
          "scattergl": [
           {
            "marker": {
             "colorbar": {
              "outlinewidth": 0,
              "ticks": ""
             }
            },
            "type": "scattergl"
           }
          ],
          "scattermapbox": [
           {
            "marker": {
             "colorbar": {
              "outlinewidth": 0,
              "ticks": ""
             }
            },
            "type": "scattermapbox"
           }
          ],
          "scatterpolargl": [
           {
            "marker": {
             "colorbar": {
              "outlinewidth": 0,
              "ticks": ""
             }
            },
            "type": "scatterpolargl"
           }
          ],
          "scatterpolar": [
           {
            "marker": {
             "colorbar": {
              "outlinewidth": 0,
              "ticks": ""
             }
            },
            "type": "scatterpolar"
           }
          ],
          "scatter": [
           {
            "fillpattern": {
             "fillmode": "overlay",
             "size": 10,
             "solidity": 0.2
            },
            "type": "scatter"
           }
          ],
          "scatterternary": [
           {
            "marker": {
             "colorbar": {
              "outlinewidth": 0,
              "ticks": ""
             }
            },
            "type": "scatterternary"
           }
          ],
          "surface": [
           {
            "colorbar": {
             "outlinewidth": 0,
             "ticks": ""
            },
            "colorscale": [
             [
              0.0,
              "#0d0887"
             ],
             [
              0.1111111111111111,
              "#46039f"
             ],
             [
              0.2222222222222222,
              "#7201a8"
             ],
             [
              0.3333333333333333,
              "#9c179e"
             ],
             [
              0.4444444444444444,
              "#bd3786"
             ],
             [
              0.5555555555555556,
              "#d8576b"
             ],
             [
              0.6666666666666666,
              "#ed7953"
             ],
             [
              0.7777777777777778,
              "#fb9f3a"
             ],
             [
              0.8888888888888888,
              "#fdca26"
             ],
             [
              1.0,
              "#f0f921"
             ]
            ],
            "type": "surface"
           }
          ],
          "table": [
           {
            "cells": {
             "fill": {
              "color": "#EBF0F8"
             },
             "line": {
              "color": "white"
             }
            },
            "header": {
             "fill": {
              "color": "#C8D4E3"
             },
             "line": {
              "color": "white"
             }
            },
            "type": "table"
           }
          ]
         },
         "layout": {
          "annotationdefaults": {
           "arrowcolor": "#2a3f5f",
           "arrowhead": 0,
           "arrowwidth": 1
          },
          "autotypenumbers": "strict",
          "coloraxis": {
           "colorbar": {
            "outlinewidth": 0,
            "ticks": ""
           }
          },
          "colorscale": {
           "diverging": [
            [
             0,
             "#8e0152"
            ],
            [
             0.1,
             "#c51b7d"
            ],
            [
             0.2,
             "#de77ae"
            ],
            [
             0.3,
             "#f1b6da"
            ],
            [
             0.4,
             "#fde0ef"
            ],
            [
             0.5,
             "#f7f7f7"
            ],
            [
             0.6,
             "#e6f5d0"
            ],
            [
             0.7,
             "#b8e186"
            ],
            [
             0.8,
             "#7fbc41"
            ],
            [
             0.9,
             "#4d9221"
            ],
            [
             1,
             "#276419"
            ]
           ],
           "sequential": [
            [
             0.0,
             "#0d0887"
            ],
            [
             0.1111111111111111,
             "#46039f"
            ],
            [
             0.2222222222222222,
             "#7201a8"
            ],
            [
             0.3333333333333333,
             "#9c179e"
            ],
            [
             0.4444444444444444,
             "#bd3786"
            ],
            [
             0.5555555555555556,
             "#d8576b"
            ],
            [
             0.6666666666666666,
             "#ed7953"
            ],
            [
             0.7777777777777778,
             "#fb9f3a"
            ],
            [
             0.8888888888888888,
             "#fdca26"
            ],
            [
             1.0,
             "#f0f921"
            ]
           ],
           "sequentialminus": [
            [
             0.0,
             "#0d0887"
            ],
            [
             0.1111111111111111,
             "#46039f"
            ],
            [
             0.2222222222222222,
             "#7201a8"
            ],
            [
             0.3333333333333333,
             "#9c179e"
            ],
            [
             0.4444444444444444,
             "#bd3786"
            ],
            [
             0.5555555555555556,
             "#d8576b"
            ],
            [
             0.6666666666666666,
             "#ed7953"
            ],
            [
             0.7777777777777778,
             "#fb9f3a"
            ],
            [
             0.8888888888888888,
             "#fdca26"
            ],
            [
             1.0,
             "#f0f921"
            ]
           ]
          },
          "colorway": [
           "#636efa",
           "#EF553B",
           "#00cc96",
           "#ab63fa",
           "#FFA15A",
           "#19d3f3",
           "#FF6692",
           "#B6E880",
           "#FF97FF",
           "#FECB52"
          ],
          "font": {
           "color": "#2a3f5f"
          },
          "geo": {
           "bgcolor": "white",
           "lakecolor": "white",
           "landcolor": "white",
           "showlakes": true,
           "showland": true,
           "subunitcolor": "#C8D4E3"
          },
          "hoverlabel": {
           "align": "left"
          },
          "hovermode": "closest",
          "mapbox": {
           "style": "light"
          },
          "paper_bgcolor": "white",
          "plot_bgcolor": "white",
          "polar": {
           "angularaxis": {
            "gridcolor": "#EBF0F8",
            "linecolor": "#EBF0F8",
            "ticks": ""
           },
           "bgcolor": "white",
           "radialaxis": {
            "gridcolor": "#EBF0F8",
            "linecolor": "#EBF0F8",
            "ticks": ""
           }
          },
          "scene": {
           "xaxis": {
            "backgroundcolor": "white",
            "gridcolor": "#DFE8F3",
            "gridwidth": 2,
            "linecolor": "#EBF0F8",
            "showbackground": true,
            "ticks": "",
            "zerolinecolor": "#EBF0F8"
           },
           "yaxis": {
            "backgroundcolor": "white",
            "gridcolor": "#DFE8F3",
            "gridwidth": 2,
            "linecolor": "#EBF0F8",
            "showbackground": true,
            "ticks": "",
            "zerolinecolor": "#EBF0F8"
           },
           "zaxis": {
            "backgroundcolor": "white",
            "gridcolor": "#DFE8F3",
            "gridwidth": 2,
            "linecolor": "#EBF0F8",
            "showbackground": true,
            "ticks": "",
            "zerolinecolor": "#EBF0F8"
           }
          },
          "shapedefaults": {
           "line": {
            "color": "#2a3f5f"
           }
          },
          "ternary": {
           "aaxis": {
            "gridcolor": "#DFE8F3",
            "linecolor": "#A2B1C6",
            "ticks": ""
           },
           "baxis": {
            "gridcolor": "#DFE8F3",
            "linecolor": "#A2B1C6",
            "ticks": ""
           },
           "bgcolor": "white",
           "caxis": {
            "gridcolor": "#DFE8F3",
            "linecolor": "#A2B1C6",
            "ticks": ""
           }
          },
          "title": {
           "x": 0.05
          },
          "xaxis": {
           "automargin": true,
           "gridcolor": "#EBF0F8",
           "linecolor": "#EBF0F8",
           "ticks": "",
           "title": {
            "standoff": 15
           },
           "zerolinecolor": "#EBF0F8",
           "zerolinewidth": 2
          },
          "yaxis": {
           "automargin": true,
           "gridcolor": "#EBF0F8",
           "linecolor": "#EBF0F8",
           "ticks": "",
           "title": {
            "standoff": 15
           },
           "zerolinecolor": "#EBF0F8",
           "zerolinewidth": 2
          }
         }
        },
        "xaxis": {
         "anchor": "y",
         "domain": [
          0.0,
          1.0
         ],
         "title": {
          "text": "Cause"
         },
         "categoryorder": "array",
         "categoryarray": [
          "Earthquake",
          "Earthquake and Landslide",
          "Volcano",
          "Meteorological",
          "Landslide"
         ]
        },
        "yaxis": {
         "anchor": "x",
         "domain": [
          0.0,
          1.0
         ],
         "title": {
          "text": "Deaths"
         },
         "type": "log"
        },
        "legend": {
         "title": {
          "text": "Cause"
         },
         "tracegroupgap": 0
        },
        "title": {
         "text": "<b>Tsunami Death By Different Cause"
        },
        "boxmode": "overlay"
       },
       "config": {
        "plotlyServerURL": "https://plot.ly"
       }
      },
      "text/html": "<div>                            <div id=\"5c7ee9f0-dd80-45c1-849d-a336b860d40f\" class=\"plotly-graph-div\" style=\"height:525px; width:100%;\"></div>            <script type=\"text/javascript\">                require([\"plotly\"], function(Plotly) {                    window.PLOTLYENV=window.PLOTLYENV || {};                                    if (document.getElementById(\"5c7ee9f0-dd80-45c1-849d-a336b860d40f\")) {                    Plotly.newPlot(                        \"5c7ee9f0-dd80-45c1-849d-a336b860d40f\",                        [{\"alignmentgroup\":\"True\",\"boxpoints\":\"all\",\"hovertemplate\":\"Cause=%{x}\\u003cbr\\u003eDeaths=%{y}\\u003cextra\\u003e\\u003c\\u002fextra\\u003e\",\"legendgroup\":\"Earthquake\",\"marker\":{\"color\":\"gold\"},\"name\":\"Earthquake\",\"notched\":false,\"offsetgroup\":\"Earthquake\",\"orientation\":\"v\",\"showlegend\":true,\"x\":[\"Earthquake\",\"Earthquake\",\"Earthquake\",\"Earthquake\",\"Earthquake\",\"Earthquake\",\"Earthquake\",\"Earthquake\",\"Earthquake\",\"Earthquake\",\"Earthquake\",\"Earthquake\",\"Earthquake\",\"Earthquake\",\"Earthquake\",\"Earthquake\",\"Earthquake\",\"Earthquake\",\"Earthquake\",\"Earthquake\",\"Earthquake\",\"Earthquake\",\"Earthquake\",\"Earthquake\",\"Earthquake\",\"Earthquake\",\"Earthquake\",\"Earthquake\",\"Earthquake\",\"Earthquake\",\"Earthquake\",\"Earthquake\",\"Earthquake\",\"Earthquake\",\"Earthquake\",\"Earthquake\",\"Earthquake\",\"Earthquake\",\"Earthquake\",\"Earthquake\",\"Earthquake\",\"Earthquake\",\"Earthquake\",\"Earthquake\",\"Earthquake\",\"Earthquake\",\"Earthquake\",\"Earthquake\",\"Earthquake\",\"Earthquake\",\"Earthquake\",\"Earthquake\",\"Earthquake\",\"Earthquake\",\"Earthquake\",\"Earthquake\",\"Earthquake\",\"Earthquake\",\"Earthquake\",\"Earthquake\",\"Earthquake\",\"Earthquake\",\"Earthquake\",\"Earthquake\",\"Earthquake\",\"Earthquake\",\"Earthquake\",\"Earthquake\",\"Earthquake\",\"Earthquake\",\"Earthquake\",\"Earthquake\",\"Earthquake\",\"Earthquake\",\"Earthquake\",\"Earthquake\",\"Earthquake\",\"Earthquake\",\"Earthquake\",\"Earthquake\",\"Earthquake\",\"Earthquake\",\"Earthquake\",\"Earthquake\",\"Earthquake\",\"Earthquake\",\"Earthquake\",\"Earthquake\"],\"x0\":\" \",\"xaxis\":\"x\",\"y\":[5.0,185.0,57.0,1000.0,2188.0,2.0,6.0,23.0,200.0,3.0,18.0,2144.0,50.0,10.0,4.0,27.0,50.0,4.0,75.0,3022.0,17.0,1.0,12.0,10.0,2.0,1223.0,1790.0,75.0,1362.0,2.0,16.0,1.0,33.0,10000.0,1.0,3.0,2.0,4.0,2226.0,66.0,26.0,71.0,13.0,52.0,1.0,200.0,600.0,1.0,1.0,6800.0,189.0,1.0,100.0,600.0,100.0,2.0,1.0,2.0,3.0,170.0,208.0,238.0,1.0,81.0,1.0,9.0,110.0,12.0,155.0,5.0,54.0,26.0,2.0,227899.0,10.0,4.0,802.0,50.0,3.0,192.0,156.0,431.0,18428.0,1.0,10.0,8.0,1.0,1.0],\"y0\":\" \",\"yaxis\":\"y\",\"type\":\"box\"},{\"alignmentgroup\":\"True\",\"boxpoints\":\"all\",\"hovertemplate\":\"Cause=%{x}\\u003cbr\\u003eDeaths=%{y}\\u003cextra\\u003e\\u003c\\u002fextra\\u003e\",\"legendgroup\":\"Earthquake and Landslide\",\"marker\":{\"color\":\"mediumturquoise\"},\"name\":\"Earthquake and Landslide\",\"notched\":false,\"offsetgroup\":\"Earthquake and Landslide\",\"orientation\":\"v\",\"showlegend\":true,\"x\":[\"Earthquake and Landslide\",\"Earthquake and Landslide\",\"Earthquake and Landslide\",\"Earthquake and Landslide\",\"Earthquake and Landslide\",\"Earthquake and Landslide\",\"Earthquake and Landslide\",\"Earthquake and Landslide\",\"Earthquake and Landslide\",\"Earthquake and Landslide\",\"Earthquake and Landslide\",\"Earthquake and Landslide\",\"Earthquake and Landslide\",\"Earthquake and Landslide\",\"Earthquake and Landslide\",\"Earthquake and Landslide\",\"Earthquake and Landslide\",\"Earthquake and Landslide\",\"Earthquake and Landslide\",\"Earthquake and Landslide\"],\"x0\":\" \",\"xaxis\":\"x\",\"y\":[5.0,5.0,2000.0,140.0,28.0,1.0,300.0,168.0,5.0,5.0,124.0,1.0,3.0,2.0,1169.0,11.0,1636.0,8.0,7.0,4340.0],\"y0\":\" \",\"yaxis\":\"y\",\"type\":\"box\"},{\"alignmentgroup\":\"True\",\"boxpoints\":\"all\",\"hovertemplate\":\"Cause=%{x}\\u003cbr\\u003eDeaths=%{y}\\u003cextra\\u003e\\u003c\\u002fextra\\u003e\",\"legendgroup\":\"Volcano\",\"marker\":{\"color\":\"darkorange\"},\"name\":\"Volcano\",\"notched\":false,\"offsetgroup\":\"Volcano\",\"orientation\":\"v\",\"showlegend\":true,\"x\":[\"Volcano\",\"Volcano\",\"Volcano\",\"Volcano\",\"Volcano\",\"Volcano\",\"Volcano\",\"Volcano\"],\"x0\":\" \",\"xaxis\":\"x\",\"y\":[50.0,1.0,2.0,9.0,355.0,3.0,2.0,6.0],\"y0\":\" \",\"yaxis\":\"y\",\"type\":\"box\"},{\"alignmentgroup\":\"True\",\"boxpoints\":\"all\",\"hovertemplate\":\"Cause=%{x}\\u003cbr\\u003eDeaths=%{y}\\u003cextra\\u003e\\u003c\\u002fextra\\u003e\",\"legendgroup\":\"Meteorological\",\"marker\":{\"color\":\"lightgreen\"},\"name\":\"Meteorological\",\"notched\":false,\"offsetgroup\":\"Meteorological\",\"orientation\":\"v\",\"showlegend\":true,\"x\":[\"Meteorological\",\"Meteorological\",\"Meteorological\",\"Meteorological\",\"Meteorological\",\"Meteorological\",\"Meteorological\",\"Meteorological\",\"Meteorological\",\"Meteorological\",\"Meteorological\",\"Meteorological\",\"Meteorological\",\"Meteorological\",\"Meteorological\",\"Meteorological\",\"Meteorological\",\"Meteorological\"],\"x0\":\" \",\"xaxis\":\"x\",\"y\":[300.0,3.0,43.0,1.0,1.0,1.0,10.0,4.0,5.0,7.0,3.0,7.0,1.0,4.0,9.0,1.0,5.0,1.0],\"y0\":\" \",\"yaxis\":\"y\",\"type\":\"box\"},{\"alignmentgroup\":\"True\",\"boxpoints\":\"all\",\"hovertemplate\":\"Cause=%{x}\\u003cbr\\u003eDeaths=%{y}\\u003cextra\\u003e\\u003c\\u002fextra\\u003e\",\"legendgroup\":\"Landslide\",\"marker\":{\"color\":\"blue\"},\"name\":\"Landslide\",\"notched\":false,\"offsetgroup\":\"Landslide\",\"orientation\":\"v\",\"showlegend\":true,\"x\":[\"Landslide\",\"Landslide\",\"Landslide\",\"Landslide\",\"Landslide\",\"Landslide\",\"Landslide\",\"Landslide\",\"Landslide\",\"Landslide\",\"Landslide\",\"Landslide\",\"Landslide\",\"Landslide\",\"Landslide\",\"Landslide\",\"Landslide\",\"Landslide\",\"Landslide\",\"Landslide\"],\"x0\":\" \",\"xaxis\":\"x\",\"y\":[61.0,15.0,26.0,1.0,20.0,41.0,73.0,1.0,2.0,2000.0,1.0,600.0,1239.0,9.0,1.0,8.0,1.0,2.0,4.0,1.0],\"y0\":\" \",\"yaxis\":\"y\",\"type\":\"box\"}],                        {\"template\":{\"data\":{\"barpolar\":[{\"marker\":{\"line\":{\"color\":\"white\",\"width\":0.5},\"pattern\":{\"fillmode\":\"overlay\",\"size\":10,\"solidity\":0.2}},\"type\":\"barpolar\"}],\"bar\":[{\"error_x\":{\"color\":\"#2a3f5f\"},\"error_y\":{\"color\":\"#2a3f5f\"},\"marker\":{\"line\":{\"color\":\"white\",\"width\":0.5},\"pattern\":{\"fillmode\":\"overlay\",\"size\":10,\"solidity\":0.2}},\"type\":\"bar\"}],\"carpet\":[{\"aaxis\":{\"endlinecolor\":\"#2a3f5f\",\"gridcolor\":\"#C8D4E3\",\"linecolor\":\"#C8D4E3\",\"minorgridcolor\":\"#C8D4E3\",\"startlinecolor\":\"#2a3f5f\"},\"baxis\":{\"endlinecolor\":\"#2a3f5f\",\"gridcolor\":\"#C8D4E3\",\"linecolor\":\"#C8D4E3\",\"minorgridcolor\":\"#C8D4E3\",\"startlinecolor\":\"#2a3f5f\"},\"type\":\"carpet\"}],\"choropleth\":[{\"colorbar\":{\"outlinewidth\":0,\"ticks\":\"\"},\"type\":\"choropleth\"}],\"contourcarpet\":[{\"colorbar\":{\"outlinewidth\":0,\"ticks\":\"\"},\"type\":\"contourcarpet\"}],\"contour\":[{\"colorbar\":{\"outlinewidth\":0,\"ticks\":\"\"},\"colorscale\":[[0.0,\"#0d0887\"],[0.1111111111111111,\"#46039f\"],[0.2222222222222222,\"#7201a8\"],[0.3333333333333333,\"#9c179e\"],[0.4444444444444444,\"#bd3786\"],[0.5555555555555556,\"#d8576b\"],[0.6666666666666666,\"#ed7953\"],[0.7777777777777778,\"#fb9f3a\"],[0.8888888888888888,\"#fdca26\"],[1.0,\"#f0f921\"]],\"type\":\"contour\"}],\"heatmapgl\":[{\"colorbar\":{\"outlinewidth\":0,\"ticks\":\"\"},\"colorscale\":[[0.0,\"#0d0887\"],[0.1111111111111111,\"#46039f\"],[0.2222222222222222,\"#7201a8\"],[0.3333333333333333,\"#9c179e\"],[0.4444444444444444,\"#bd3786\"],[0.5555555555555556,\"#d8576b\"],[0.6666666666666666,\"#ed7953\"],[0.7777777777777778,\"#fb9f3a\"],[0.8888888888888888,\"#fdca26\"],[1.0,\"#f0f921\"]],\"type\":\"heatmapgl\"}],\"heatmap\":[{\"colorbar\":{\"outlinewidth\":0,\"ticks\":\"\"},\"colorscale\":[[0.0,\"#0d0887\"],[0.1111111111111111,\"#46039f\"],[0.2222222222222222,\"#7201a8\"],[0.3333333333333333,\"#9c179e\"],[0.4444444444444444,\"#bd3786\"],[0.5555555555555556,\"#d8576b\"],[0.6666666666666666,\"#ed7953\"],[0.7777777777777778,\"#fb9f3a\"],[0.8888888888888888,\"#fdca26\"],[1.0,\"#f0f921\"]],\"type\":\"heatmap\"}],\"histogram2dcontour\":[{\"colorbar\":{\"outlinewidth\":0,\"ticks\":\"\"},\"colorscale\":[[0.0,\"#0d0887\"],[0.1111111111111111,\"#46039f\"],[0.2222222222222222,\"#7201a8\"],[0.3333333333333333,\"#9c179e\"],[0.4444444444444444,\"#bd3786\"],[0.5555555555555556,\"#d8576b\"],[0.6666666666666666,\"#ed7953\"],[0.7777777777777778,\"#fb9f3a\"],[0.8888888888888888,\"#fdca26\"],[1.0,\"#f0f921\"]],\"type\":\"histogram2dcontour\"}],\"histogram2d\":[{\"colorbar\":{\"outlinewidth\":0,\"ticks\":\"\"},\"colorscale\":[[0.0,\"#0d0887\"],[0.1111111111111111,\"#46039f\"],[0.2222222222222222,\"#7201a8\"],[0.3333333333333333,\"#9c179e\"],[0.4444444444444444,\"#bd3786\"],[0.5555555555555556,\"#d8576b\"],[0.6666666666666666,\"#ed7953\"],[0.7777777777777778,\"#fb9f3a\"],[0.8888888888888888,\"#fdca26\"],[1.0,\"#f0f921\"]],\"type\":\"histogram2d\"}],\"histogram\":[{\"marker\":{\"pattern\":{\"fillmode\":\"overlay\",\"size\":10,\"solidity\":0.2}},\"type\":\"histogram\"}],\"mesh3d\":[{\"colorbar\":{\"outlinewidth\":0,\"ticks\":\"\"},\"type\":\"mesh3d\"}],\"parcoords\":[{\"line\":{\"colorbar\":{\"outlinewidth\":0,\"ticks\":\"\"}},\"type\":\"parcoords\"}],\"pie\":[{\"automargin\":true,\"type\":\"pie\"}],\"scatter3d\":[{\"line\":{\"colorbar\":{\"outlinewidth\":0,\"ticks\":\"\"}},\"marker\":{\"colorbar\":{\"outlinewidth\":0,\"ticks\":\"\"}},\"type\":\"scatter3d\"}],\"scattercarpet\":[{\"marker\":{\"colorbar\":{\"outlinewidth\":0,\"ticks\":\"\"}},\"type\":\"scattercarpet\"}],\"scattergeo\":[{\"marker\":{\"colorbar\":{\"outlinewidth\":0,\"ticks\":\"\"}},\"type\":\"scattergeo\"}],\"scattergl\":[{\"marker\":{\"colorbar\":{\"outlinewidth\":0,\"ticks\":\"\"}},\"type\":\"scattergl\"}],\"scattermapbox\":[{\"marker\":{\"colorbar\":{\"outlinewidth\":0,\"ticks\":\"\"}},\"type\":\"scattermapbox\"}],\"scatterpolargl\":[{\"marker\":{\"colorbar\":{\"outlinewidth\":0,\"ticks\":\"\"}},\"type\":\"scatterpolargl\"}],\"scatterpolar\":[{\"marker\":{\"colorbar\":{\"outlinewidth\":0,\"ticks\":\"\"}},\"type\":\"scatterpolar\"}],\"scatter\":[{\"fillpattern\":{\"fillmode\":\"overlay\",\"size\":10,\"solidity\":0.2},\"type\":\"scatter\"}],\"scatterternary\":[{\"marker\":{\"colorbar\":{\"outlinewidth\":0,\"ticks\":\"\"}},\"type\":\"scatterternary\"}],\"surface\":[{\"colorbar\":{\"outlinewidth\":0,\"ticks\":\"\"},\"colorscale\":[[0.0,\"#0d0887\"],[0.1111111111111111,\"#46039f\"],[0.2222222222222222,\"#7201a8\"],[0.3333333333333333,\"#9c179e\"],[0.4444444444444444,\"#bd3786\"],[0.5555555555555556,\"#d8576b\"],[0.6666666666666666,\"#ed7953\"],[0.7777777777777778,\"#fb9f3a\"],[0.8888888888888888,\"#fdca26\"],[1.0,\"#f0f921\"]],\"type\":\"surface\"}],\"table\":[{\"cells\":{\"fill\":{\"color\":\"#EBF0F8\"},\"line\":{\"color\":\"white\"}},\"header\":{\"fill\":{\"color\":\"#C8D4E3\"},\"line\":{\"color\":\"white\"}},\"type\":\"table\"}]},\"layout\":{\"annotationdefaults\":{\"arrowcolor\":\"#2a3f5f\",\"arrowhead\":0,\"arrowwidth\":1},\"autotypenumbers\":\"strict\",\"coloraxis\":{\"colorbar\":{\"outlinewidth\":0,\"ticks\":\"\"}},\"colorscale\":{\"diverging\":[[0,\"#8e0152\"],[0.1,\"#c51b7d\"],[0.2,\"#de77ae\"],[0.3,\"#f1b6da\"],[0.4,\"#fde0ef\"],[0.5,\"#f7f7f7\"],[0.6,\"#e6f5d0\"],[0.7,\"#b8e186\"],[0.8,\"#7fbc41\"],[0.9,\"#4d9221\"],[1,\"#276419\"]],\"sequential\":[[0.0,\"#0d0887\"],[0.1111111111111111,\"#46039f\"],[0.2222222222222222,\"#7201a8\"],[0.3333333333333333,\"#9c179e\"],[0.4444444444444444,\"#bd3786\"],[0.5555555555555556,\"#d8576b\"],[0.6666666666666666,\"#ed7953\"],[0.7777777777777778,\"#fb9f3a\"],[0.8888888888888888,\"#fdca26\"],[1.0,\"#f0f921\"]],\"sequentialminus\":[[0.0,\"#0d0887\"],[0.1111111111111111,\"#46039f\"],[0.2222222222222222,\"#7201a8\"],[0.3333333333333333,\"#9c179e\"],[0.4444444444444444,\"#bd3786\"],[0.5555555555555556,\"#d8576b\"],[0.6666666666666666,\"#ed7953\"],[0.7777777777777778,\"#fb9f3a\"],[0.8888888888888888,\"#fdca26\"],[1.0,\"#f0f921\"]]},\"colorway\":[\"#636efa\",\"#EF553B\",\"#00cc96\",\"#ab63fa\",\"#FFA15A\",\"#19d3f3\",\"#FF6692\",\"#B6E880\",\"#FF97FF\",\"#FECB52\"],\"font\":{\"color\":\"#2a3f5f\"},\"geo\":{\"bgcolor\":\"white\",\"lakecolor\":\"white\",\"landcolor\":\"white\",\"showlakes\":true,\"showland\":true,\"subunitcolor\":\"#C8D4E3\"},\"hoverlabel\":{\"align\":\"left\"},\"hovermode\":\"closest\",\"mapbox\":{\"style\":\"light\"},\"paper_bgcolor\":\"white\",\"plot_bgcolor\":\"white\",\"polar\":{\"angularaxis\":{\"gridcolor\":\"#EBF0F8\",\"linecolor\":\"#EBF0F8\",\"ticks\":\"\"},\"bgcolor\":\"white\",\"radialaxis\":{\"gridcolor\":\"#EBF0F8\",\"linecolor\":\"#EBF0F8\",\"ticks\":\"\"}},\"scene\":{\"xaxis\":{\"backgroundcolor\":\"white\",\"gridcolor\":\"#DFE8F3\",\"gridwidth\":2,\"linecolor\":\"#EBF0F8\",\"showbackground\":true,\"ticks\":\"\",\"zerolinecolor\":\"#EBF0F8\"},\"yaxis\":{\"backgroundcolor\":\"white\",\"gridcolor\":\"#DFE8F3\",\"gridwidth\":2,\"linecolor\":\"#EBF0F8\",\"showbackground\":true,\"ticks\":\"\",\"zerolinecolor\":\"#EBF0F8\"},\"zaxis\":{\"backgroundcolor\":\"white\",\"gridcolor\":\"#DFE8F3\",\"gridwidth\":2,\"linecolor\":\"#EBF0F8\",\"showbackground\":true,\"ticks\":\"\",\"zerolinecolor\":\"#EBF0F8\"}},\"shapedefaults\":{\"line\":{\"color\":\"#2a3f5f\"}},\"ternary\":{\"aaxis\":{\"gridcolor\":\"#DFE8F3\",\"linecolor\":\"#A2B1C6\",\"ticks\":\"\"},\"baxis\":{\"gridcolor\":\"#DFE8F3\",\"linecolor\":\"#A2B1C6\",\"ticks\":\"\"},\"bgcolor\":\"white\",\"caxis\":{\"gridcolor\":\"#DFE8F3\",\"linecolor\":\"#A2B1C6\",\"ticks\":\"\"}},\"title\":{\"x\":0.05},\"xaxis\":{\"automargin\":true,\"gridcolor\":\"#EBF0F8\",\"linecolor\":\"#EBF0F8\",\"ticks\":\"\",\"title\":{\"standoff\":15},\"zerolinecolor\":\"#EBF0F8\",\"zerolinewidth\":2},\"yaxis\":{\"automargin\":true,\"gridcolor\":\"#EBF0F8\",\"linecolor\":\"#EBF0F8\",\"ticks\":\"\",\"title\":{\"standoff\":15},\"zerolinecolor\":\"#EBF0F8\",\"zerolinewidth\":2}}},\"xaxis\":{\"anchor\":\"y\",\"domain\":[0.0,1.0],\"title\":{\"text\":\"Cause\"},\"categoryorder\":\"array\",\"categoryarray\":[\"Earthquake\",\"Earthquake and Landslide\",\"Volcano\",\"Meteorological\",\"Landslide\"]},\"yaxis\":{\"anchor\":\"x\",\"domain\":[0.0,1.0],\"title\":{\"text\":\"Deaths\"},\"type\":\"log\"},\"legend\":{\"title\":{\"text\":\"Cause\"},\"tracegroupgap\":0},\"title\":{\"text\":\"\\u003cb\\u003eTsunami Death By Different Cause\"},\"boxmode\":\"overlay\"},                        {\"responsive\": true}                    ).then(function(){\n                            \nvar gd = document.getElementById('5c7ee9f0-dd80-45c1-849d-a336b860d40f');\nvar x = new MutationObserver(function (mutations, observer) {{\n        var display = window.getComputedStyle(gd).display;\n        if (!display || display === 'none') {{\n            console.log([gd, 'removed!']);\n            Plotly.purge(gd);\n            observer.disconnect();\n        }}\n}});\n\n// Listen for the removal of the full notebook cells\nvar notebookContainer = gd.closest('#notebook-container');\nif (notebookContainer) {{\n    x.observe(notebookContainer, {childList: true});\n}}\n\n// Listen for the clearing of the current output cell\nvar outputEl = gd.closest('.output');\nif (outputEl) {{\n    x.observe(outputEl, {childList: true});\n}}\n\n                        })                };                });            </script>        </div>"
     },
     "metadata": {},
     "output_type": "display_data"
    }
   ],
   "source": [
    "colors=['gold', 'mediumturquoise', 'darkorange', 'lightgreen','blue']\n",
    "fig = px.box(df[(df.Deaths>0) & (df.Cause.isin(['Earthquake','Landslide','Earthquake and Landslide','Meteorological','Volcano']))], \n",
    "             x=\"Cause\", y=\"Deaths\", points=\"all\",log_y=True,color='Cause',template='plotly_white',color_discrete_sequence=colors,title=\"<b>Tsunami Death By Different Cause\")\n",
    "fig.show()"
   ]
  },
  {
   "cell_type": "markdown",
   "id": "eb2aeed0",
   "metadata": {},
   "source": [
    "<br>**In addition to being the most common cause, earthquakes also tend to generate the most dangerous tsunamis. Landslides are another significant trigger of powerful tsunamis. Meanwhile, tsunamis resulting from volcanoes and meteorological events have historically caused the least number of fatalities.**  \n",
    "<br>"
   ]
  },
  {
   "cell_type": "code",
   "execution_count": 34,
   "id": "efc57a94",
   "metadata": {
    "ExecuteTime": {
     "end_time": "2023-10-29T14:17:39.788020300Z",
     "start_time": "2023-10-29T14:17:37.941332900Z"
    }
   },
   "outputs": [
    {
     "data": {
      "application/vnd.plotly.v1+json": {
       "data": [
        {
         "hovertemplate": "Earthquake_Magnitude=%{x}<br>Deaths=%{y}<extra></extra>",
         "legendgroup": "",
         "marker": {
          "color": "#636efa",
          "symbol": "circle"
         },
         "mode": "markers",
         "name": "",
         "orientation": "v",
         "showlegend": false,
         "x": [
          6.9,
          7.0,
          7.0,
          8.8,
          8.2,
          8.3,
          8.3,
          8.2,
          8.5,
          8.4,
          7.2,
          7.9,
          6.3,
          6.9,
          7.3,
          6.5,
          7.8,
          8.1,
          7.7,
          8.4,
          7.6,
          6.1,
          7.9,
          7.5,
          7.4,
          8.1,
          7.9,
          7.5,
          8.3,
          7.8,
          7.2,
          7.6,
          8.1,
          9.0,
          7.1,
          7.7,
          8.6,
          7.6,
          9.5,
          6.8,
          7.5,
          7.6,
          5.5,
          8.2,
          7.3,
          7.8,
          7.0,
          7.9,
          7.6,
          8.0,
          8.3,
          6.9,
          7.9,
          8.1,
          7.8,
          7.2,
          7.6,
          6.6,
          7.6,
          7.6,
          7.7,
          7.8,
          6.8,
          7.1,
          8.0,
          7.9,
          8.2,
          7.5,
          7.6,
          7.5,
          7.6,
          8.4,
          8.3,
          9.1,
          8.6,
          6.7,
          7.7,
          8.1,
          8.0,
          8.1,
          8.8,
          7.8,
          9.1,
          7.7,
          7.9,
          8.3,
          7.0,
          7.2,
          null,
          7.2,
          7.0,
          7.1,
          7.2,
          5.2,
          8.0,
          8.6,
          6.4,
          7.8,
          9.2,
          6.1,
          7.3,
          7.7,
          7.8,
          6.9,
          7.0,
          6.2,
          7.0,
          7.5,
          null,
          null,
          null,
          null,
          null,
          null,
          6.0,
          null,
          null,
          null,
          null,
          null,
          null,
          null,
          null,
          null,
          null,
          5.7,
          null,
          null,
          null,
          null,
          null,
          null,
          null,
          null,
          null,
          null,
          null,
          null,
          null,
          null,
          null,
          null,
          null,
          null,
          null,
          null,
          null,
          null,
          null,
          null,
          null,
          null,
          null,
          null,
          null,
          null,
          null,
          null
         ],
         "xaxis": "x",
         "y": [
          5.0,
          185.0,
          57.0,
          1000.0,
          2188.0,
          2.0,
          6.0,
          23.0,
          200.0,
          3.0,
          18.0,
          2144.0,
          50.0,
          10.0,
          4.0,
          27.0,
          50.0,
          4.0,
          75.0,
          3022.0,
          17.0,
          1.0,
          12.0,
          10.0,
          2.0,
          1223.0,
          1790.0,
          75.0,
          1362.0,
          2.0,
          16.0,
          1.0,
          33.0,
          10000.0,
          1.0,
          3.0,
          2.0,
          4.0,
          2226.0,
          66.0,
          26.0,
          71.0,
          13.0,
          52.0,
          1.0,
          200.0,
          600.0,
          1.0,
          1.0,
          6800.0,
          189.0,
          1.0,
          100.0,
          600.0,
          100.0,
          2.0,
          1.0,
          2.0,
          3.0,
          170.0,
          208.0,
          238.0,
          1.0,
          81.0,
          1.0,
          9.0,
          110.0,
          12.0,
          155.0,
          5.0,
          54.0,
          26.0,
          2.0,
          227899.0,
          10.0,
          4.0,
          802.0,
          50.0,
          3.0,
          192.0,
          156.0,
          431.0,
          18428.0,
          1.0,
          10.0,
          8.0,
          1.0,
          1.0,
          5.0,
          5.0,
          2000.0,
          140.0,
          28.0,
          1.0,
          300.0,
          168.0,
          5.0,
          5.0,
          124.0,
          1.0,
          3.0,
          2.0,
          1169.0,
          11.0,
          1636.0,
          8.0,
          7.0,
          4340.0,
          1.0,
          128.0,
          27.0,
          437.0,
          50.0,
          1.0,
          2.0,
          9.0,
          355.0,
          3.0,
          2.0,
          6.0,
          300.0,
          3.0,
          43.0,
          1.0,
          1.0,
          1.0,
          10.0,
          4.0,
          5.0,
          7.0,
          3.0,
          7.0,
          1.0,
          4.0,
          9.0,
          1.0,
          5.0,
          1.0,
          61.0,
          15.0,
          26.0,
          1.0,
          20.0,
          41.0,
          73.0,
          1.0,
          2.0,
          2000.0,
          1.0,
          600.0,
          1239.0,
          9.0,
          1.0,
          8.0,
          1.0,
          2.0,
          4.0,
          1.0
         ],
         "yaxis": "y",
         "type": "scatter"
        },
        {
         "hovertemplate": "<b>OLS trendline</b><br>log10(Deaths) = 0.694863 * Earthquake_Magnitude + -3.80325<br>R<sup>2</sup>=0.206833<br><br>Earthquake_Magnitude=%{x}<br>Deaths=%{y} <b>(trend)</b><extra></extra>",
         "legendgroup": "",
         "line": {
          "color": "black"
         },
         "marker": {
          "color": "#636efa",
          "symbol": "circle"
         },
         "mode": "lines",
         "name": "",
         "showlegend": false,
         "x": [
          5.2,
          5.5,
          5.7,
          6.0,
          6.1,
          6.1,
          6.2,
          6.3,
          6.4,
          6.5,
          6.6,
          6.7,
          6.8,
          6.8,
          6.9,
          6.9,
          6.9,
          6.9,
          7.0,
          7.0,
          7.0,
          7.0,
          7.0,
          7.0,
          7.0,
          7.1,
          7.1,
          7.1,
          7.2,
          7.2,
          7.2,
          7.2,
          7.2,
          7.2,
          7.3,
          7.3,
          7.3,
          7.4,
          7.5,
          7.5,
          7.5,
          7.5,
          7.5,
          7.5,
          7.6,
          7.6,
          7.6,
          7.6,
          7.6,
          7.6,
          7.6,
          7.6,
          7.6,
          7.6,
          7.7,
          7.7,
          7.7,
          7.7,
          7.7,
          7.7,
          7.8,
          7.8,
          7.8,
          7.8,
          7.8,
          7.8,
          7.8,
          7.8,
          7.9,
          7.9,
          7.9,
          7.9,
          7.9,
          7.9,
          7.9,
          8.0,
          8.0,
          8.0,
          8.0,
          8.1,
          8.1,
          8.1,
          8.1,
          8.1,
          8.1,
          8.2,
          8.2,
          8.2,
          8.2,
          8.3,
          8.3,
          8.3,
          8.3,
          8.3,
          8.3,
          8.4,
          8.4,
          8.4,
          8.5,
          8.6,
          8.6,
          8.6,
          8.8,
          8.8,
          9.0,
          9.1,
          9.1,
          9.2,
          9.5
         ],
         "xaxis": "x",
         "y": [
          0.6457041254669884,
          1.0434998085960028,
          1.4370269582398232,
          2.3223289068906787,
          2.7252729079111493,
          2.7252729079111493,
          3.1981311521194145,
          3.7530343608766072,
          4.4042180398343325,
          5.168387677077245,
          6.065147306278409,
          7.117502429240942,
          8.352450199817984,
          8.352450199817984,
          9.801672009809158,
          9.801672009809158,
          9.801672009809158,
          9.801672009809158,
          11.502346244455298,
          11.502346244455298,
          11.502346244455298,
          11.502346244455298,
          11.502346244455298,
          11.502346244455298,
          11.502346244455298,
          13.498102057988639,
          13.498102057988639,
          13.498102057988639,
          15.840138637428545,
          15.840138637428545,
          15.840138637428545,
          15.840138637428545,
          15.840138637428545,
          15.840138637428545,
          18.5885386682537,
          18.5885386682537,
          18.5885386682537,
          21.813809697643926,
          25.598692937475874,
          25.598692937475874,
          25.598692937475874,
          25.598692937475874,
          25.598692937475874,
          25.598692937475874,
          30.040285910166155,
          30.040285910166155,
          30.040285910166155,
          30.040285910166155,
          30.040285910166155,
          30.040285910166155,
          30.040285910166155,
          30.040285910166155,
          30.040285910166155,
          30.040285910166155,
          35.252533391789214,
          35.252533391789214,
          35.252533391789214,
          35.252533391789214,
          35.252533391789214,
          35.252533391789214,
          41.3691505552098,
          41.3691505552098,
          41.3691505552098,
          41.3691505552098,
          41.3691505552098,
          41.3691505552098,
          41.3691505552098,
          41.3691505552098,
          48.54705330364233,
          48.54705330364233,
          48.54705330364233,
          48.54705330364233,
          48.54705330364233,
          48.54705330364233,
          48.54705330364233,
          56.97038379652868,
          56.97038379652868,
          56.97038379652868,
          56.97038379652868,
          66.85523443871452,
          66.85523443871452,
          66.85523443871452,
          66.85523443871452,
          66.85523443871452,
          66.85523443871452,
          78.45519152229814,
          78.45519152229814,
          78.45519152229814,
          78.45519152229814,
          92.0678407379293,
          92.0678407379293,
          92.0678407379293,
          92.0678407379293,
          92.0678407379293,
          92.0678407379293,
          108.04240144816339,
          108.04240144816339,
          108.04240144816339,
          126.7886855727802,
          148.7876109176075,
          148.7876109176075,
          148.7876109176075,
          204.89875147018697,
          204.89875147018697,
          282.17065987631264,
          331.1296916154381,
          331.1296916154381,
          388.583535642571,
          627.976234120115
         ],
         "yaxis": "y",
         "type": "scatter"
        }
       ],
       "layout": {
        "template": {
         "data": {
          "barpolar": [
           {
            "marker": {
             "line": {
              "color": "white",
              "width": 0.5
             },
             "pattern": {
              "fillmode": "overlay",
              "size": 10,
              "solidity": 0.2
             }
            },
            "type": "barpolar"
           }
          ],
          "bar": [
           {
            "error_x": {
             "color": "#2a3f5f"
            },
            "error_y": {
             "color": "#2a3f5f"
            },
            "marker": {
             "line": {
              "color": "white",
              "width": 0.5
             },
             "pattern": {
              "fillmode": "overlay",
              "size": 10,
              "solidity": 0.2
             }
            },
            "type": "bar"
           }
          ],
          "carpet": [
           {
            "aaxis": {
             "endlinecolor": "#2a3f5f",
             "gridcolor": "#C8D4E3",
             "linecolor": "#C8D4E3",
             "minorgridcolor": "#C8D4E3",
             "startlinecolor": "#2a3f5f"
            },
            "baxis": {
             "endlinecolor": "#2a3f5f",
             "gridcolor": "#C8D4E3",
             "linecolor": "#C8D4E3",
             "minorgridcolor": "#C8D4E3",
             "startlinecolor": "#2a3f5f"
            },
            "type": "carpet"
           }
          ],
          "choropleth": [
           {
            "colorbar": {
             "outlinewidth": 0,
             "ticks": ""
            },
            "type": "choropleth"
           }
          ],
          "contourcarpet": [
           {
            "colorbar": {
             "outlinewidth": 0,
             "ticks": ""
            },
            "type": "contourcarpet"
           }
          ],
          "contour": [
           {
            "colorbar": {
             "outlinewidth": 0,
             "ticks": ""
            },
            "colorscale": [
             [
              0.0,
              "#0d0887"
             ],
             [
              0.1111111111111111,
              "#46039f"
             ],
             [
              0.2222222222222222,
              "#7201a8"
             ],
             [
              0.3333333333333333,
              "#9c179e"
             ],
             [
              0.4444444444444444,
              "#bd3786"
             ],
             [
              0.5555555555555556,
              "#d8576b"
             ],
             [
              0.6666666666666666,
              "#ed7953"
             ],
             [
              0.7777777777777778,
              "#fb9f3a"
             ],
             [
              0.8888888888888888,
              "#fdca26"
             ],
             [
              1.0,
              "#f0f921"
             ]
            ],
            "type": "contour"
           }
          ],
          "heatmapgl": [
           {
            "colorbar": {
             "outlinewidth": 0,
             "ticks": ""
            },
            "colorscale": [
             [
              0.0,
              "#0d0887"
             ],
             [
              0.1111111111111111,
              "#46039f"
             ],
             [
              0.2222222222222222,
              "#7201a8"
             ],
             [
              0.3333333333333333,
              "#9c179e"
             ],
             [
              0.4444444444444444,
              "#bd3786"
             ],
             [
              0.5555555555555556,
              "#d8576b"
             ],
             [
              0.6666666666666666,
              "#ed7953"
             ],
             [
              0.7777777777777778,
              "#fb9f3a"
             ],
             [
              0.8888888888888888,
              "#fdca26"
             ],
             [
              1.0,
              "#f0f921"
             ]
            ],
            "type": "heatmapgl"
           }
          ],
          "heatmap": [
           {
            "colorbar": {
             "outlinewidth": 0,
             "ticks": ""
            },
            "colorscale": [
             [
              0.0,
              "#0d0887"
             ],
             [
              0.1111111111111111,
              "#46039f"
             ],
             [
              0.2222222222222222,
              "#7201a8"
             ],
             [
              0.3333333333333333,
              "#9c179e"
             ],
             [
              0.4444444444444444,
              "#bd3786"
             ],
             [
              0.5555555555555556,
              "#d8576b"
             ],
             [
              0.6666666666666666,
              "#ed7953"
             ],
             [
              0.7777777777777778,
              "#fb9f3a"
             ],
             [
              0.8888888888888888,
              "#fdca26"
             ],
             [
              1.0,
              "#f0f921"
             ]
            ],
            "type": "heatmap"
           }
          ],
          "histogram2dcontour": [
           {
            "colorbar": {
             "outlinewidth": 0,
             "ticks": ""
            },
            "colorscale": [
             [
              0.0,
              "#0d0887"
             ],
             [
              0.1111111111111111,
              "#46039f"
             ],
             [
              0.2222222222222222,
              "#7201a8"
             ],
             [
              0.3333333333333333,
              "#9c179e"
             ],
             [
              0.4444444444444444,
              "#bd3786"
             ],
             [
              0.5555555555555556,
              "#d8576b"
             ],
             [
              0.6666666666666666,
              "#ed7953"
             ],
             [
              0.7777777777777778,
              "#fb9f3a"
             ],
             [
              0.8888888888888888,
              "#fdca26"
             ],
             [
              1.0,
              "#f0f921"
             ]
            ],
            "type": "histogram2dcontour"
           }
          ],
          "histogram2d": [
           {
            "colorbar": {
             "outlinewidth": 0,
             "ticks": ""
            },
            "colorscale": [
             [
              0.0,
              "#0d0887"
             ],
             [
              0.1111111111111111,
              "#46039f"
             ],
             [
              0.2222222222222222,
              "#7201a8"
             ],
             [
              0.3333333333333333,
              "#9c179e"
             ],
             [
              0.4444444444444444,
              "#bd3786"
             ],
             [
              0.5555555555555556,
              "#d8576b"
             ],
             [
              0.6666666666666666,
              "#ed7953"
             ],
             [
              0.7777777777777778,
              "#fb9f3a"
             ],
             [
              0.8888888888888888,
              "#fdca26"
             ],
             [
              1.0,
              "#f0f921"
             ]
            ],
            "type": "histogram2d"
           }
          ],
          "histogram": [
           {
            "marker": {
             "pattern": {
              "fillmode": "overlay",
              "size": 10,
              "solidity": 0.2
             }
            },
            "type": "histogram"
           }
          ],
          "mesh3d": [
           {
            "colorbar": {
             "outlinewidth": 0,
             "ticks": ""
            },
            "type": "mesh3d"
           }
          ],
          "parcoords": [
           {
            "line": {
             "colorbar": {
              "outlinewidth": 0,
              "ticks": ""
             }
            },
            "type": "parcoords"
           }
          ],
          "pie": [
           {
            "automargin": true,
            "type": "pie"
           }
          ],
          "scatter3d": [
           {
            "line": {
             "colorbar": {
              "outlinewidth": 0,
              "ticks": ""
             }
            },
            "marker": {
             "colorbar": {
              "outlinewidth": 0,
              "ticks": ""
             }
            },
            "type": "scatter3d"
           }
          ],
          "scattercarpet": [
           {
            "marker": {
             "colorbar": {
              "outlinewidth": 0,
              "ticks": ""
             }
            },
            "type": "scattercarpet"
           }
          ],
          "scattergeo": [
           {
            "marker": {
             "colorbar": {
              "outlinewidth": 0,
              "ticks": ""
             }
            },
            "type": "scattergeo"
           }
          ],
          "scattergl": [
           {
            "marker": {
             "colorbar": {
              "outlinewidth": 0,
              "ticks": ""
             }
            },
            "type": "scattergl"
           }
          ],
          "scattermapbox": [
           {
            "marker": {
             "colorbar": {
              "outlinewidth": 0,
              "ticks": ""
             }
            },
            "type": "scattermapbox"
           }
          ],
          "scatterpolargl": [
           {
            "marker": {
             "colorbar": {
              "outlinewidth": 0,
              "ticks": ""
             }
            },
            "type": "scatterpolargl"
           }
          ],
          "scatterpolar": [
           {
            "marker": {
             "colorbar": {
              "outlinewidth": 0,
              "ticks": ""
             }
            },
            "type": "scatterpolar"
           }
          ],
          "scatter": [
           {
            "fillpattern": {
             "fillmode": "overlay",
             "size": 10,
             "solidity": 0.2
            },
            "type": "scatter"
           }
          ],
          "scatterternary": [
           {
            "marker": {
             "colorbar": {
              "outlinewidth": 0,
              "ticks": ""
             }
            },
            "type": "scatterternary"
           }
          ],
          "surface": [
           {
            "colorbar": {
             "outlinewidth": 0,
             "ticks": ""
            },
            "colorscale": [
             [
              0.0,
              "#0d0887"
             ],
             [
              0.1111111111111111,
              "#46039f"
             ],
             [
              0.2222222222222222,
              "#7201a8"
             ],
             [
              0.3333333333333333,
              "#9c179e"
             ],
             [
              0.4444444444444444,
              "#bd3786"
             ],
             [
              0.5555555555555556,
              "#d8576b"
             ],
             [
              0.6666666666666666,
              "#ed7953"
             ],
             [
              0.7777777777777778,
              "#fb9f3a"
             ],
             [
              0.8888888888888888,
              "#fdca26"
             ],
             [
              1.0,
              "#f0f921"
             ]
            ],
            "type": "surface"
           }
          ],
          "table": [
           {
            "cells": {
             "fill": {
              "color": "#EBF0F8"
             },
             "line": {
              "color": "white"
             }
            },
            "header": {
             "fill": {
              "color": "#C8D4E3"
             },
             "line": {
              "color": "white"
             }
            },
            "type": "table"
           }
          ]
         },
         "layout": {
          "annotationdefaults": {
           "arrowcolor": "#2a3f5f",
           "arrowhead": 0,
           "arrowwidth": 1
          },
          "autotypenumbers": "strict",
          "coloraxis": {
           "colorbar": {
            "outlinewidth": 0,
            "ticks": ""
           }
          },
          "colorscale": {
           "diverging": [
            [
             0,
             "#8e0152"
            ],
            [
             0.1,
             "#c51b7d"
            ],
            [
             0.2,
             "#de77ae"
            ],
            [
             0.3,
             "#f1b6da"
            ],
            [
             0.4,
             "#fde0ef"
            ],
            [
             0.5,
             "#f7f7f7"
            ],
            [
             0.6,
             "#e6f5d0"
            ],
            [
             0.7,
             "#b8e186"
            ],
            [
             0.8,
             "#7fbc41"
            ],
            [
             0.9,
             "#4d9221"
            ],
            [
             1,
             "#276419"
            ]
           ],
           "sequential": [
            [
             0.0,
             "#0d0887"
            ],
            [
             0.1111111111111111,
             "#46039f"
            ],
            [
             0.2222222222222222,
             "#7201a8"
            ],
            [
             0.3333333333333333,
             "#9c179e"
            ],
            [
             0.4444444444444444,
             "#bd3786"
            ],
            [
             0.5555555555555556,
             "#d8576b"
            ],
            [
             0.6666666666666666,
             "#ed7953"
            ],
            [
             0.7777777777777778,
             "#fb9f3a"
            ],
            [
             0.8888888888888888,
             "#fdca26"
            ],
            [
             1.0,
             "#f0f921"
            ]
           ],
           "sequentialminus": [
            [
             0.0,
             "#0d0887"
            ],
            [
             0.1111111111111111,
             "#46039f"
            ],
            [
             0.2222222222222222,
             "#7201a8"
            ],
            [
             0.3333333333333333,
             "#9c179e"
            ],
            [
             0.4444444444444444,
             "#bd3786"
            ],
            [
             0.5555555555555556,
             "#d8576b"
            ],
            [
             0.6666666666666666,
             "#ed7953"
            ],
            [
             0.7777777777777778,
             "#fb9f3a"
            ],
            [
             0.8888888888888888,
             "#fdca26"
            ],
            [
             1.0,
             "#f0f921"
            ]
           ]
          },
          "colorway": [
           "#636efa",
           "#EF553B",
           "#00cc96",
           "#ab63fa",
           "#FFA15A",
           "#19d3f3",
           "#FF6692",
           "#B6E880",
           "#FF97FF",
           "#FECB52"
          ],
          "font": {
           "color": "#2a3f5f"
          },
          "geo": {
           "bgcolor": "white",
           "lakecolor": "white",
           "landcolor": "white",
           "showlakes": true,
           "showland": true,
           "subunitcolor": "#C8D4E3"
          },
          "hoverlabel": {
           "align": "left"
          },
          "hovermode": "closest",
          "mapbox": {
           "style": "light"
          },
          "paper_bgcolor": "white",
          "plot_bgcolor": "white",
          "polar": {
           "angularaxis": {
            "gridcolor": "#EBF0F8",
            "linecolor": "#EBF0F8",
            "ticks": ""
           },
           "bgcolor": "white",
           "radialaxis": {
            "gridcolor": "#EBF0F8",
            "linecolor": "#EBF0F8",
            "ticks": ""
           }
          },
          "scene": {
           "xaxis": {
            "backgroundcolor": "white",
            "gridcolor": "#DFE8F3",
            "gridwidth": 2,
            "linecolor": "#EBF0F8",
            "showbackground": true,
            "ticks": "",
            "zerolinecolor": "#EBF0F8"
           },
           "yaxis": {
            "backgroundcolor": "white",
            "gridcolor": "#DFE8F3",
            "gridwidth": 2,
            "linecolor": "#EBF0F8",
            "showbackground": true,
            "ticks": "",
            "zerolinecolor": "#EBF0F8"
           },
           "zaxis": {
            "backgroundcolor": "white",
            "gridcolor": "#DFE8F3",
            "gridwidth": 2,
            "linecolor": "#EBF0F8",
            "showbackground": true,
            "ticks": "",
            "zerolinecolor": "#EBF0F8"
           }
          },
          "shapedefaults": {
           "line": {
            "color": "#2a3f5f"
           }
          },
          "ternary": {
           "aaxis": {
            "gridcolor": "#DFE8F3",
            "linecolor": "#A2B1C6",
            "ticks": ""
           },
           "baxis": {
            "gridcolor": "#DFE8F3",
            "linecolor": "#A2B1C6",
            "ticks": ""
           },
           "bgcolor": "white",
           "caxis": {
            "gridcolor": "#DFE8F3",
            "linecolor": "#A2B1C6",
            "ticks": ""
           }
          },
          "title": {
           "x": 0.05
          },
          "xaxis": {
           "automargin": true,
           "gridcolor": "#EBF0F8",
           "linecolor": "#EBF0F8",
           "ticks": "",
           "title": {
            "standoff": 15
           },
           "zerolinecolor": "#EBF0F8",
           "zerolinewidth": 2
          },
          "yaxis": {
           "automargin": true,
           "gridcolor": "#EBF0F8",
           "linecolor": "#EBF0F8",
           "ticks": "",
           "title": {
            "standoff": 15
           },
           "zerolinecolor": "#EBF0F8",
           "zerolinewidth": 2
          }
         }
        },
        "xaxis": {
         "anchor": "y",
         "domain": [
          0.0,
          1.0
         ],
         "title": {
          "text": "Earthquake_Magnitude"
         }
        },
        "yaxis": {
         "anchor": "x",
         "domain": [
          0.0,
          1.0
         ],
         "title": {
          "text": "Deaths"
         },
         "type": "log"
        },
        "legend": {
         "tracegroupgap": 0
        },
        "margin": {
         "t": 60
        }
       },
       "config": {
        "plotlyServerURL": "https://plot.ly"
       }
      },
      "text/html": "<div>                            <div id=\"e8824a82-4cfc-433a-9e16-3c58532de7d0\" class=\"plotly-graph-div\" style=\"height:525px; width:100%;\"></div>            <script type=\"text/javascript\">                require([\"plotly\"], function(Plotly) {                    window.PLOTLYENV=window.PLOTLYENV || {};                                    if (document.getElementById(\"e8824a82-4cfc-433a-9e16-3c58532de7d0\")) {                    Plotly.newPlot(                        \"e8824a82-4cfc-433a-9e16-3c58532de7d0\",                        [{\"hovertemplate\":\"Earthquake_Magnitude=%{x}\\u003cbr\\u003eDeaths=%{y}\\u003cextra\\u003e\\u003c\\u002fextra\\u003e\",\"legendgroup\":\"\",\"marker\":{\"color\":\"#636efa\",\"symbol\":\"circle\"},\"mode\":\"markers\",\"name\":\"\",\"orientation\":\"v\",\"showlegend\":false,\"x\":[6.9,7.0,7.0,8.8,8.2,8.3,8.3,8.2,8.5,8.4,7.2,7.9,6.3,6.9,7.3,6.5,7.8,8.1,7.7,8.4,7.6,6.1,7.9,7.5,7.4,8.1,7.9,7.5,8.3,7.8,7.2,7.6,8.1,9.0,7.1,7.7,8.6,7.6,9.5,6.8,7.5,7.6,5.5,8.2,7.3,7.8,7.0,7.9,7.6,8.0,8.3,6.9,7.9,8.1,7.8,7.2,7.6,6.6,7.6,7.6,7.7,7.8,6.8,7.1,8.0,7.9,8.2,7.5,7.6,7.5,7.6,8.4,8.3,9.1,8.6,6.7,7.7,8.1,8.0,8.1,8.8,7.8,9.1,7.7,7.9,8.3,7.0,7.2,null,7.2,7.0,7.1,7.2,5.2,8.0,8.6,6.4,7.8,9.2,6.1,7.3,7.7,7.8,6.9,7.0,6.2,7.0,7.5,null,null,null,null,null,null,6.0,null,null,null,null,null,null,null,null,null,null,5.7,null,null,null,null,null,null,null,null,null,null,null,null,null,null,null,null,null,null,null,null,null,null,null,null,null,null,null,null,null,null,null,null],\"xaxis\":\"x\",\"y\":[5.0,185.0,57.0,1000.0,2188.0,2.0,6.0,23.0,200.0,3.0,18.0,2144.0,50.0,10.0,4.0,27.0,50.0,4.0,75.0,3022.0,17.0,1.0,12.0,10.0,2.0,1223.0,1790.0,75.0,1362.0,2.0,16.0,1.0,33.0,10000.0,1.0,3.0,2.0,4.0,2226.0,66.0,26.0,71.0,13.0,52.0,1.0,200.0,600.0,1.0,1.0,6800.0,189.0,1.0,100.0,600.0,100.0,2.0,1.0,2.0,3.0,170.0,208.0,238.0,1.0,81.0,1.0,9.0,110.0,12.0,155.0,5.0,54.0,26.0,2.0,227899.0,10.0,4.0,802.0,50.0,3.0,192.0,156.0,431.0,18428.0,1.0,10.0,8.0,1.0,1.0,5.0,5.0,2000.0,140.0,28.0,1.0,300.0,168.0,5.0,5.0,124.0,1.0,3.0,2.0,1169.0,11.0,1636.0,8.0,7.0,4340.0,1.0,128.0,27.0,437.0,50.0,1.0,2.0,9.0,355.0,3.0,2.0,6.0,300.0,3.0,43.0,1.0,1.0,1.0,10.0,4.0,5.0,7.0,3.0,7.0,1.0,4.0,9.0,1.0,5.0,1.0,61.0,15.0,26.0,1.0,20.0,41.0,73.0,1.0,2.0,2000.0,1.0,600.0,1239.0,9.0,1.0,8.0,1.0,2.0,4.0,1.0],\"yaxis\":\"y\",\"type\":\"scatter\"},{\"hovertemplate\":\"\\u003cb\\u003eOLS trendline\\u003c\\u002fb\\u003e\\u003cbr\\u003elog10(Deaths) = 0.694863 * Earthquake_Magnitude + -3.80325\\u003cbr\\u003eR\\u003csup\\u003e2\\u003c\\u002fsup\\u003e=0.206833\\u003cbr\\u003e\\u003cbr\\u003eEarthquake_Magnitude=%{x}\\u003cbr\\u003eDeaths=%{y} \\u003cb\\u003e(trend)\\u003c\\u002fb\\u003e\\u003cextra\\u003e\\u003c\\u002fextra\\u003e\",\"legendgroup\":\"\",\"line\":{\"color\":\"black\"},\"marker\":{\"color\":\"#636efa\",\"symbol\":\"circle\"},\"mode\":\"lines\",\"name\":\"\",\"showlegend\":false,\"x\":[5.2,5.5,5.7,6.0,6.1,6.1,6.2,6.3,6.4,6.5,6.6,6.7,6.8,6.8,6.9,6.9,6.9,6.9,7.0,7.0,7.0,7.0,7.0,7.0,7.0,7.1,7.1,7.1,7.2,7.2,7.2,7.2,7.2,7.2,7.3,7.3,7.3,7.4,7.5,7.5,7.5,7.5,7.5,7.5,7.6,7.6,7.6,7.6,7.6,7.6,7.6,7.6,7.6,7.6,7.7,7.7,7.7,7.7,7.7,7.7,7.8,7.8,7.8,7.8,7.8,7.8,7.8,7.8,7.9,7.9,7.9,7.9,7.9,7.9,7.9,8.0,8.0,8.0,8.0,8.1,8.1,8.1,8.1,8.1,8.1,8.2,8.2,8.2,8.2,8.3,8.3,8.3,8.3,8.3,8.3,8.4,8.4,8.4,8.5,8.6,8.6,8.6,8.8,8.8,9.0,9.1,9.1,9.2,9.5],\"xaxis\":\"x\",\"y\":[0.6457041254669884,1.0434998085960028,1.4370269582398232,2.3223289068906787,2.7252729079111493,2.7252729079111493,3.1981311521194145,3.7530343608766072,4.4042180398343325,5.168387677077245,6.065147306278409,7.117502429240942,8.352450199817984,8.352450199817984,9.801672009809158,9.801672009809158,9.801672009809158,9.801672009809158,11.502346244455298,11.502346244455298,11.502346244455298,11.502346244455298,11.502346244455298,11.502346244455298,11.502346244455298,13.498102057988639,13.498102057988639,13.498102057988639,15.840138637428545,15.840138637428545,15.840138637428545,15.840138637428545,15.840138637428545,15.840138637428545,18.5885386682537,18.5885386682537,18.5885386682537,21.813809697643926,25.598692937475874,25.598692937475874,25.598692937475874,25.598692937475874,25.598692937475874,25.598692937475874,30.040285910166155,30.040285910166155,30.040285910166155,30.040285910166155,30.040285910166155,30.040285910166155,30.040285910166155,30.040285910166155,30.040285910166155,30.040285910166155,35.252533391789214,35.252533391789214,35.252533391789214,35.252533391789214,35.252533391789214,35.252533391789214,41.3691505552098,41.3691505552098,41.3691505552098,41.3691505552098,41.3691505552098,41.3691505552098,41.3691505552098,41.3691505552098,48.54705330364233,48.54705330364233,48.54705330364233,48.54705330364233,48.54705330364233,48.54705330364233,48.54705330364233,56.97038379652868,56.97038379652868,56.97038379652868,56.97038379652868,66.85523443871452,66.85523443871452,66.85523443871452,66.85523443871452,66.85523443871452,66.85523443871452,78.45519152229814,78.45519152229814,78.45519152229814,78.45519152229814,92.0678407379293,92.0678407379293,92.0678407379293,92.0678407379293,92.0678407379293,92.0678407379293,108.04240144816339,108.04240144816339,108.04240144816339,126.7886855727802,148.7876109176075,148.7876109176075,148.7876109176075,204.89875147018697,204.89875147018697,282.17065987631264,331.1296916154381,331.1296916154381,388.583535642571,627.976234120115],\"yaxis\":\"y\",\"type\":\"scatter\"}],                        {\"template\":{\"data\":{\"barpolar\":[{\"marker\":{\"line\":{\"color\":\"white\",\"width\":0.5},\"pattern\":{\"fillmode\":\"overlay\",\"size\":10,\"solidity\":0.2}},\"type\":\"barpolar\"}],\"bar\":[{\"error_x\":{\"color\":\"#2a3f5f\"},\"error_y\":{\"color\":\"#2a3f5f\"},\"marker\":{\"line\":{\"color\":\"white\",\"width\":0.5},\"pattern\":{\"fillmode\":\"overlay\",\"size\":10,\"solidity\":0.2}},\"type\":\"bar\"}],\"carpet\":[{\"aaxis\":{\"endlinecolor\":\"#2a3f5f\",\"gridcolor\":\"#C8D4E3\",\"linecolor\":\"#C8D4E3\",\"minorgridcolor\":\"#C8D4E3\",\"startlinecolor\":\"#2a3f5f\"},\"baxis\":{\"endlinecolor\":\"#2a3f5f\",\"gridcolor\":\"#C8D4E3\",\"linecolor\":\"#C8D4E3\",\"minorgridcolor\":\"#C8D4E3\",\"startlinecolor\":\"#2a3f5f\"},\"type\":\"carpet\"}],\"choropleth\":[{\"colorbar\":{\"outlinewidth\":0,\"ticks\":\"\"},\"type\":\"choropleth\"}],\"contourcarpet\":[{\"colorbar\":{\"outlinewidth\":0,\"ticks\":\"\"},\"type\":\"contourcarpet\"}],\"contour\":[{\"colorbar\":{\"outlinewidth\":0,\"ticks\":\"\"},\"colorscale\":[[0.0,\"#0d0887\"],[0.1111111111111111,\"#46039f\"],[0.2222222222222222,\"#7201a8\"],[0.3333333333333333,\"#9c179e\"],[0.4444444444444444,\"#bd3786\"],[0.5555555555555556,\"#d8576b\"],[0.6666666666666666,\"#ed7953\"],[0.7777777777777778,\"#fb9f3a\"],[0.8888888888888888,\"#fdca26\"],[1.0,\"#f0f921\"]],\"type\":\"contour\"}],\"heatmapgl\":[{\"colorbar\":{\"outlinewidth\":0,\"ticks\":\"\"},\"colorscale\":[[0.0,\"#0d0887\"],[0.1111111111111111,\"#46039f\"],[0.2222222222222222,\"#7201a8\"],[0.3333333333333333,\"#9c179e\"],[0.4444444444444444,\"#bd3786\"],[0.5555555555555556,\"#d8576b\"],[0.6666666666666666,\"#ed7953\"],[0.7777777777777778,\"#fb9f3a\"],[0.8888888888888888,\"#fdca26\"],[1.0,\"#f0f921\"]],\"type\":\"heatmapgl\"}],\"heatmap\":[{\"colorbar\":{\"outlinewidth\":0,\"ticks\":\"\"},\"colorscale\":[[0.0,\"#0d0887\"],[0.1111111111111111,\"#46039f\"],[0.2222222222222222,\"#7201a8\"],[0.3333333333333333,\"#9c179e\"],[0.4444444444444444,\"#bd3786\"],[0.5555555555555556,\"#d8576b\"],[0.6666666666666666,\"#ed7953\"],[0.7777777777777778,\"#fb9f3a\"],[0.8888888888888888,\"#fdca26\"],[1.0,\"#f0f921\"]],\"type\":\"heatmap\"}],\"histogram2dcontour\":[{\"colorbar\":{\"outlinewidth\":0,\"ticks\":\"\"},\"colorscale\":[[0.0,\"#0d0887\"],[0.1111111111111111,\"#46039f\"],[0.2222222222222222,\"#7201a8\"],[0.3333333333333333,\"#9c179e\"],[0.4444444444444444,\"#bd3786\"],[0.5555555555555556,\"#d8576b\"],[0.6666666666666666,\"#ed7953\"],[0.7777777777777778,\"#fb9f3a\"],[0.8888888888888888,\"#fdca26\"],[1.0,\"#f0f921\"]],\"type\":\"histogram2dcontour\"}],\"histogram2d\":[{\"colorbar\":{\"outlinewidth\":0,\"ticks\":\"\"},\"colorscale\":[[0.0,\"#0d0887\"],[0.1111111111111111,\"#46039f\"],[0.2222222222222222,\"#7201a8\"],[0.3333333333333333,\"#9c179e\"],[0.4444444444444444,\"#bd3786\"],[0.5555555555555556,\"#d8576b\"],[0.6666666666666666,\"#ed7953\"],[0.7777777777777778,\"#fb9f3a\"],[0.8888888888888888,\"#fdca26\"],[1.0,\"#f0f921\"]],\"type\":\"histogram2d\"}],\"histogram\":[{\"marker\":{\"pattern\":{\"fillmode\":\"overlay\",\"size\":10,\"solidity\":0.2}},\"type\":\"histogram\"}],\"mesh3d\":[{\"colorbar\":{\"outlinewidth\":0,\"ticks\":\"\"},\"type\":\"mesh3d\"}],\"parcoords\":[{\"line\":{\"colorbar\":{\"outlinewidth\":0,\"ticks\":\"\"}},\"type\":\"parcoords\"}],\"pie\":[{\"automargin\":true,\"type\":\"pie\"}],\"scatter3d\":[{\"line\":{\"colorbar\":{\"outlinewidth\":0,\"ticks\":\"\"}},\"marker\":{\"colorbar\":{\"outlinewidth\":0,\"ticks\":\"\"}},\"type\":\"scatter3d\"}],\"scattercarpet\":[{\"marker\":{\"colorbar\":{\"outlinewidth\":0,\"ticks\":\"\"}},\"type\":\"scattercarpet\"}],\"scattergeo\":[{\"marker\":{\"colorbar\":{\"outlinewidth\":0,\"ticks\":\"\"}},\"type\":\"scattergeo\"}],\"scattergl\":[{\"marker\":{\"colorbar\":{\"outlinewidth\":0,\"ticks\":\"\"}},\"type\":\"scattergl\"}],\"scattermapbox\":[{\"marker\":{\"colorbar\":{\"outlinewidth\":0,\"ticks\":\"\"}},\"type\":\"scattermapbox\"}],\"scatterpolargl\":[{\"marker\":{\"colorbar\":{\"outlinewidth\":0,\"ticks\":\"\"}},\"type\":\"scatterpolargl\"}],\"scatterpolar\":[{\"marker\":{\"colorbar\":{\"outlinewidth\":0,\"ticks\":\"\"}},\"type\":\"scatterpolar\"}],\"scatter\":[{\"fillpattern\":{\"fillmode\":\"overlay\",\"size\":10,\"solidity\":0.2},\"type\":\"scatter\"}],\"scatterternary\":[{\"marker\":{\"colorbar\":{\"outlinewidth\":0,\"ticks\":\"\"}},\"type\":\"scatterternary\"}],\"surface\":[{\"colorbar\":{\"outlinewidth\":0,\"ticks\":\"\"},\"colorscale\":[[0.0,\"#0d0887\"],[0.1111111111111111,\"#46039f\"],[0.2222222222222222,\"#7201a8\"],[0.3333333333333333,\"#9c179e\"],[0.4444444444444444,\"#bd3786\"],[0.5555555555555556,\"#d8576b\"],[0.6666666666666666,\"#ed7953\"],[0.7777777777777778,\"#fb9f3a\"],[0.8888888888888888,\"#fdca26\"],[1.0,\"#f0f921\"]],\"type\":\"surface\"}],\"table\":[{\"cells\":{\"fill\":{\"color\":\"#EBF0F8\"},\"line\":{\"color\":\"white\"}},\"header\":{\"fill\":{\"color\":\"#C8D4E3\"},\"line\":{\"color\":\"white\"}},\"type\":\"table\"}]},\"layout\":{\"annotationdefaults\":{\"arrowcolor\":\"#2a3f5f\",\"arrowhead\":0,\"arrowwidth\":1},\"autotypenumbers\":\"strict\",\"coloraxis\":{\"colorbar\":{\"outlinewidth\":0,\"ticks\":\"\"}},\"colorscale\":{\"diverging\":[[0,\"#8e0152\"],[0.1,\"#c51b7d\"],[0.2,\"#de77ae\"],[0.3,\"#f1b6da\"],[0.4,\"#fde0ef\"],[0.5,\"#f7f7f7\"],[0.6,\"#e6f5d0\"],[0.7,\"#b8e186\"],[0.8,\"#7fbc41\"],[0.9,\"#4d9221\"],[1,\"#276419\"]],\"sequential\":[[0.0,\"#0d0887\"],[0.1111111111111111,\"#46039f\"],[0.2222222222222222,\"#7201a8\"],[0.3333333333333333,\"#9c179e\"],[0.4444444444444444,\"#bd3786\"],[0.5555555555555556,\"#d8576b\"],[0.6666666666666666,\"#ed7953\"],[0.7777777777777778,\"#fb9f3a\"],[0.8888888888888888,\"#fdca26\"],[1.0,\"#f0f921\"]],\"sequentialminus\":[[0.0,\"#0d0887\"],[0.1111111111111111,\"#46039f\"],[0.2222222222222222,\"#7201a8\"],[0.3333333333333333,\"#9c179e\"],[0.4444444444444444,\"#bd3786\"],[0.5555555555555556,\"#d8576b\"],[0.6666666666666666,\"#ed7953\"],[0.7777777777777778,\"#fb9f3a\"],[0.8888888888888888,\"#fdca26\"],[1.0,\"#f0f921\"]]},\"colorway\":[\"#636efa\",\"#EF553B\",\"#00cc96\",\"#ab63fa\",\"#FFA15A\",\"#19d3f3\",\"#FF6692\",\"#B6E880\",\"#FF97FF\",\"#FECB52\"],\"font\":{\"color\":\"#2a3f5f\"},\"geo\":{\"bgcolor\":\"white\",\"lakecolor\":\"white\",\"landcolor\":\"white\",\"showlakes\":true,\"showland\":true,\"subunitcolor\":\"#C8D4E3\"},\"hoverlabel\":{\"align\":\"left\"},\"hovermode\":\"closest\",\"mapbox\":{\"style\":\"light\"},\"paper_bgcolor\":\"white\",\"plot_bgcolor\":\"white\",\"polar\":{\"angularaxis\":{\"gridcolor\":\"#EBF0F8\",\"linecolor\":\"#EBF0F8\",\"ticks\":\"\"},\"bgcolor\":\"white\",\"radialaxis\":{\"gridcolor\":\"#EBF0F8\",\"linecolor\":\"#EBF0F8\",\"ticks\":\"\"}},\"scene\":{\"xaxis\":{\"backgroundcolor\":\"white\",\"gridcolor\":\"#DFE8F3\",\"gridwidth\":2,\"linecolor\":\"#EBF0F8\",\"showbackground\":true,\"ticks\":\"\",\"zerolinecolor\":\"#EBF0F8\"},\"yaxis\":{\"backgroundcolor\":\"white\",\"gridcolor\":\"#DFE8F3\",\"gridwidth\":2,\"linecolor\":\"#EBF0F8\",\"showbackground\":true,\"ticks\":\"\",\"zerolinecolor\":\"#EBF0F8\"},\"zaxis\":{\"backgroundcolor\":\"white\",\"gridcolor\":\"#DFE8F3\",\"gridwidth\":2,\"linecolor\":\"#EBF0F8\",\"showbackground\":true,\"ticks\":\"\",\"zerolinecolor\":\"#EBF0F8\"}},\"shapedefaults\":{\"line\":{\"color\":\"#2a3f5f\"}},\"ternary\":{\"aaxis\":{\"gridcolor\":\"#DFE8F3\",\"linecolor\":\"#A2B1C6\",\"ticks\":\"\"},\"baxis\":{\"gridcolor\":\"#DFE8F3\",\"linecolor\":\"#A2B1C6\",\"ticks\":\"\"},\"bgcolor\":\"white\",\"caxis\":{\"gridcolor\":\"#DFE8F3\",\"linecolor\":\"#A2B1C6\",\"ticks\":\"\"}},\"title\":{\"x\":0.05},\"xaxis\":{\"automargin\":true,\"gridcolor\":\"#EBF0F8\",\"linecolor\":\"#EBF0F8\",\"ticks\":\"\",\"title\":{\"standoff\":15},\"zerolinecolor\":\"#EBF0F8\",\"zerolinewidth\":2},\"yaxis\":{\"automargin\":true,\"gridcolor\":\"#EBF0F8\",\"linecolor\":\"#EBF0F8\",\"ticks\":\"\",\"title\":{\"standoff\":15},\"zerolinecolor\":\"#EBF0F8\",\"zerolinewidth\":2}}},\"xaxis\":{\"anchor\":\"y\",\"domain\":[0.0,1.0],\"title\":{\"text\":\"Earthquake_Magnitude\"}},\"yaxis\":{\"anchor\":\"x\",\"domain\":[0.0,1.0],\"title\":{\"text\":\"Deaths\"},\"type\":\"log\"},\"legend\":{\"tracegroupgap\":0},\"margin\":{\"t\":60}},                        {\"responsive\": true}                    ).then(function(){\n                            \nvar gd = document.getElementById('e8824a82-4cfc-433a-9e16-3c58532de7d0');\nvar x = new MutationObserver(function (mutations, observer) {{\n        var display = window.getComputedStyle(gd).display;\n        if (!display || display === 'none') {{\n            console.log([gd, 'removed!']);\n            Plotly.purge(gd);\n            observer.disconnect();\n        }}\n}});\n\n// Listen for the removal of the full notebook cells\nvar notebookContainer = gd.closest('#notebook-container');\nif (notebookContainer) {{\n    x.observe(notebookContainer, {childList: true});\n}}\n\n// Listen for the clearing of the current output cell\nvar outputEl = gd.closest('.output');\nif (outputEl) {{\n    x.observe(outputEl, {childList: true});\n}}\n\n                        })                };                });            </script>        </div>"
     },
     "metadata": {},
     "output_type": "display_data"
    }
   ],
   "source": [
    "fig = px.scatter(df[df.Deaths>0], x=\"Earthquake_Magnitude\", y=\"Deaths\",log_y=True, trendline=\"ols\",\n",
    "               trendline_options=dict(log_y=True),trendline_color_override=\"black\",template='plotly_white')\n",
    "fig.show()"
   ]
  },
  {
   "cell_type": "markdown",
   "id": "2abca1a9",
   "metadata": {},
   "source": [
    "<br>**From the plot above, it's evident that there is a positive correlation between the magnitude of the earthquake and the number of deaths caused by the tsunami.**  \n",
    "<br>"
   ]
  },
  {
   "cell_type": "code",
   "execution_count": 35,
   "id": "f31943f8",
   "metadata": {
    "ExecuteTime": {
     "end_time": "2023-10-29T14:17:39.949420900Z",
     "start_time": "2023-10-29T14:17:39.796022Z"
    }
   },
   "outputs": [
    {
     "data": {
      "application/vnd.plotly.v1+json": {
       "data": [
        {
         "customdata": [
          [
           1.82,
           127.85,
           0.5
          ],
          [
           -5.0,
           148.0,
           0.5
          ],
          [
           -4.0,
           140.0,
           0.5
          ],
          [
           11.0,
           -66.0,
           0.5
          ],
          [
           43.4,
           28.5,
           0.5
          ],
          [
           14.0,
           121.6,
           0.5
          ],
          [
           11.0,
           -86.5,
           0.5
          ],
          [
           51.45,
           -171.02,
           0.5
          ],
          [
           14.0,
           -91.0,
           0.5
          ],
          [
           40.75,
           23.25,
           0.5
          ],
          [
           24.6,
           -107.9,
           0.5
          ],
          [
           7.5,
           123.5,
           0.5
          ],
          [
           14.0,
           143.3,
           0.5
          ],
          [
           -3.0,
           127.5,
           0.5
          ],
          [
           38.1,
           13.4,
           0.5
          ],
          [
           16.7,
           -99.2,
           0.5
          ],
          [
           null,
           null,
           0.5
          ],
          [
           -20.2,
           -70.15,
           0.5
          ],
          [
           -28.5,
           -71.0,
           0.5
          ],
          [
           7.0,
           -79.0,
           0.5
          ],
          [
           52.0,
           159.0,
           0.5
          ],
          [
           -3.6,
           128.7,
           0.5
          ],
          [
           -40.4,
           176.4,
           0.5
          ],
          [
           -7.7,
           109.0,
           0.5
          ],
          [
           9.2,
           -82.8,
           0.5
          ],
          [
           39.66,
           22.83,
           0.5
          ],
          [
           9.85,
           -84.68,
           0.5
          ],
          [
           19.0,
           -113.0,
           0.5
          ],
          [
           null,
           null,
           0.5
          ],
          [
           33.0,
           76.0,
           0.5
          ],
          [
           37.4,
           142.6,
           0.5
          ],
          [
           42.0,
           42.0,
           0.5
          ],
          [
           -17.7,
           168.3,
           0.5
          ],
          [
           -17.7,
           168.3,
           0.5
          ],
          [
           11.0,
           123.5,
           0.5
          ],
          [
           37.3,
           9.9,
           0.5
          ],
          [
           3.9,
           -77.033,
           0.5
          ],
          [
           -18.5,
           -70.3,
           0.5
          ],
          [
           -33.0,
           -72.0,
           0.5
          ],
          [
           -4.0,
           149.0,
           0.5
          ],
          [
           6.5,
           0.3,
           0.5
          ],
          [
           -18.0,
           -71.0,
           0.5
          ],
          [
           3.0,
           122.0,
           0.5
          ],
          [
           17.0,
           -100.0,
           0.5
          ],
          [
           -3.1,
           142.5,
           0.5
          ],
          [
           -2.0,
           100.0,
           0.5
          ],
          [
           44.0,
           34.0,
           0.5
          ],
          [
           -21.0,
           -159.0,
           0.5
          ],
          [
           -2.0,
           101.0,
           0.5
          ],
          [
           -26.5,
           -70.5,
           0.5
          ],
          [
           -15.5,
           167.2,
           0.5
          ],
          [
           16.8,
           -99.8,
           0.5
          ],
          [
           41.8,
           -112.7,
           0.5
          ],
          [
           -4.25,
           152.25,
           0.5
          ],
          [
           -14.0,
           166.5,
           0.5
          ],
          [
           4.0,
           127.0,
           0.5
          ],
          [
           9.0,
           125.5,
           0.5
          ],
          [
           40.9,
           20.8,
           0.5
          ],
          [
           -4.25,
           152.25,
           0.5
          ],
          [
           9.0,
           126.0,
           0.5
          ],
          [
           -20.0,
           -72.0,
           0.5
          ],
          [
           37.928,
           21.013,
           0.5
          ],
          [
           40.5,
           142.0,
           0.5
          ],
          [
           7.0,
           138.0,
           0.5
          ],
          [
           null,
           null,
           0.5
          ],
          [
           -41.8,
           171.5,
           0.5
          ],
          [
           -16.6,
           -73.3,
           0.5
          ],
          [
           -17.0,
           -74.0,
           0.5
          ],
          [
           -12.0,
           -76.6,
           0.5
          ],
          [
           43.5,
           10.2,
           0.5
          ],
          [
           -17.0,
           -72.0,
           0.5
          ],
          [
           -3.924,
           101.82,
           0.5
          ],
          [
           38.4,
           20.6,
           0.5
          ],
          [
           -3.644,
           133.695,
           0.5
          ],
          [
           38.5,
           20.7,
           0.5
          ],
          [
           null,
           null,
           0.5
          ],
          [
           14.0,
           -89.0,
           0.5
          ],
          [
           -1.0,
           136.0,
           0.5
          ],
          [
           18.0,
           119.5,
           0.5
          ],
          [
           -4.739,
           152.548,
           0.5
          ],
          [
           null,
           null,
           0.5
          ],
          [
           10.46,
           -67.77,
           0.5
          ],
          [
           -7.0,
           116.0,
           0.5
          ],
          [
           24.47,
           118.08,
           0.5
          ],
          [
           56.5,
           163.0,
           0.5
          ],
          [
           6.0,
           125.0,
           0.5
          ],
          [
           -3.705,
           141.729,
           0.5
          ],
          [
           -29.0,
           -177.5,
           0.5
          ],
          [
           -28.5,
           -71.5,
           0.5
          ],
          [
           26.9,
           103.0,
           0.5
          ],
          [
           18.441,
           -67.214,
           0.5
          ],
          [
           8.0,
           126.0,
           0.5
          ],
          [
           -19.6,
           -176.6,
           0.5
          ],
          [
           -4.806,
           153.859,
           0.5
          ],
          [
           12.33,
           -88.291,
           0.5
          ],
          [
           10.6,
           -71.6,
           0.5
          ],
          [
           -2.55,
           140.75,
           0.5
          ],
          [
           44.0,
           33.0,
           0.5
          ],
          [
           0.87,
           122.92,
           0.5
          ],
          [
           -6.5,
           150.0,
           0.5
          ],
          [
           -38.0,
           -73.5,
           0.5
          ],
          [
           -19.919,
           168.53,
           0.5
          ],
          [
           36.601,
           105.317,
           0.5
          ],
          [
           40.5,
           19.5,
           0.5
          ],
          [
           0.7,
           117.9,
           0.5
          ],
          [
           40.13,
           124.38,
           0.5
          ],
          [
           8.0,
           127.0,
           0.5
          ],
          [
           -16.5,
           -73.0,
           0.5
          ],
          [
           -7.111,
           143.53,
           0.5
          ],
          [
           -3.3,
           128.9,
           0.5
          ],
          [
           10.2,
           124.1,
           0.5
          ],
          [
           9.0,
           123.25,
           0.5
          ],
          [
           -1.0,
           100.35,
           0.5
          ],
          [
           5.5,
           95.2,
           0.5
          ],
          [
           37.5,
           23.2,
           0.5
          ],
          [
           24.5,
           122.0,
           0.5
          ],
          [
           -28.0,
           -72.0,
           0.5
          ],
          [
           -43.0,
           173.0,
           0.5
          ],
          [
           40.482,
           -125.034,
           0.5
          ],
          [
           6.5,
           124.0,
           0.5
          ],
          [
           9.3,
           125.0,
           0.5
          ],
          [
           -18.5,
           -70.3,
           0.5
          ],
          [
           -4.653,
           154.232,
           0.5
          ],
          [
           -4.539,
           153.107,
           0.5
          ],
          [
           9.587,
           -84.515,
           0.5
          ],
          [
           49.179,
           142.436,
           0.5
          ],
          [
           -56.0,
           157.5,
           0.5
          ],
          [
           64.15,
           -21.95,
           0.5
          ],
          [
           8.5,
           126.5,
           0.5
          ],
          [
           -8.0,
           115.0,
           0.5
          ],
          [
           9.3,
           122.7,
           0.5
          ],
          [
           -26.0,
           -71.5,
           0.5
          ],
          [
           12.2,
           122.1,
           0.5
          ],
          [
           13.0,
           125.0,
           0.5
          ],
          [
           18.5,
           -107.0,
           0.5
          ],
          [
           -10.061,
           159.215,
           0.5
          ],
          [
           20.5,
           -155.5,
           0.5
          ],
          [
           -0.7,
           100.6,
           0.5
          ],
          [
           49.21,
           -2.131,
           0.5
          ],
          [
           36.5,
           23.3,
           0.5
          ],
          [
           37.973,
           -28.59,
           0.5
          ],
          [
           -28.0,
           -71.0,
           0.5
          ],
          [
           59.0,
           3.0,
           0.5
          ],
          [
           32.0,
           35.5,
           0.5
          ],
          [
           44.3,
           34.0,
           0.5
          ],
          [
           -44.6,
           -73.0,
           0.5
          ],
          [
           -0.7,
           119.7,
           0.5
          ],
          [
           49.0,
           -125.0,
           0.5
          ],
          [
           38.1,
           27.4,
           0.5
          ],
          [
           -13.0,
           -69.6,
           0.5
          ],
          [
           38.0,
           23.0,
           0.5
          ],
          [
           38.0,
           23.5,
           0.5
          ],
          [
           38.0,
           23.0,
           0.5
          ],
          [
           -13.0,
           -69.5,
           0.5
          ],
          [
           39.6,
           29.1,
           0.5
          ],
          [
           40.8,
           26.8,
           0.5
          ],
          [
           -19.83,
           -174.36,
           0.5
          ],
          [
           12.4,
           120.9,
           0.5
          ],
          [
           -5.5,
           -79.0,
           0.5
          ],
          [
           -22.5,
           -70.5,
           0.5
          ],
          [
           -35.0,
           -72.0,
           0.5
          ],
          [
           7.0,
           124.0,
           0.5
          ],
          [
           51.0,
           -131.0,
           0.5
          ],
          [
           8.5,
           127.0,
           0.5
          ],
          [
           42.9,
           -78.3,
           0.5
          ],
          [
           32.2,
           119.4,
           0.5
          ],
          [
           36.0,
           -3.0,
           0.5
          ],
          [
           -5.6,
           105.3,
           0.5
          ],
          [
           -9.3,
           114.3,
           0.5
          ],
          [
           1.2,
           124.57,
           0.5
          ],
          [
           -4.423,
           145.46,
           0.5
          ],
          [
           -4.05,
           39.667,
           0.5
          ],
          [
           -28.5,
           -71.0,
           0.5
          ],
          [
           -39.5,
           177.0,
           0.5
          ],
          [
           -39.5,
           177.0,
           0.5
          ],
          [
           -32.5,
           -72.0,
           0.5
          ],
          [
           54.0,
           1.067,
           0.5
          ],
          [
           -3.417,
           142.077,
           0.5
          ],
          [
           -5.0,
           102.75,
           0.5
          ],
          [
           19.706,
           -75.691,
           0.5
          ],
          [
           null,
           null,
           0.5
          ],
          [
           -3.57,
           128.35,
           0.5
          ],
          [
           -39.0,
           177.5,
           0.5
          ],
          [
           40.5,
           23.9,
           0.5
          ],
          [
           10.5,
           -64.2,
           0.5
          ],
          [
           -20.0,
           -71.0,
           0.5
          ],
          [
           36.759,
           27.299,
           0.5
          ],
          [
           6.9,
           0.6,
           0.5
          ],
          [
           -2.0,
           -81.0,
           0.5
          ],
          [
           -5.0,
           151.0,
           0.5
          ],
          [
           26.773,
           86.76,
           0.5
          ],
          [
           66.0,
           -18.25,
           0.5
          ],
          [
           8.0,
           -82.5,
           0.5
          ],
          [
           -11.907,
           166.731,
           0.5
          ],
          [
           -11.139,
           165.503,
           0.5
          ],
          [
           -19.5,
           -69.5,
           0.5
          ],
          [
           -4.2,
           152.2,
           0.5
          ],
          [
           29.5,
           66.8,
           0.5
          ],
          [
           -3.824,
           141.416,
           0.5
          ],
          [
           5.5,
           94.0,
           0.5
          ],
          [
           28.7,
           103.6,
           0.5
          ],
          [
           0.001,
           98.25,
           0.5
          ],
          [
           6.1,
           94.7,
           0.5
          ],
          [
           55.2,
           164.0,
           0.5
          ],
          [
           14.5,
           121.5,
           0.5
          ],
          [
           56.0,
           162.5,
           0.5
          ],
          [
           -3.0,
           132.3,
           0.5
          ],
          [
           -3.0,
           132.3,
           0.5
          ],
          [
           -5.1,
           153.1,
           0.5
          ],
          [
           -6.0,
           147.8,
           0.5
          ],
          [
           -36.25,
           -72.25,
           0.5
          ],
          [
           38.5,
           14.7,
           0.5
          ],
          [
           -7.08,
           155.386,
           0.5
          ],
          [
           -27.0,
           -70.5,
           0.5
          ],
          [
           -9.295,
           159.234,
           0.5
          ],
          [
           13.5,
           121.25,
           0.5
          ],
          [
           5.568,
           -0.625,
           0.5
          ],
          [
           22.2,
           -79.1,
           0.5
          ],
          [
           0.0,
           123.0,
           0.5
          ],
          [
           38.067,
           13.467,
           0.5
          ],
          [
           -10.5,
           -77.0,
           0.5
          ],
          [
           -22.0,
           -71.0,
           0.5
          ],
          [
           -41.5,
           -74.5,
           0.5
          ],
          [
           35.221,
           33.751,
           0.5
          ],
          [
           40.5,
           -125.25,
           0.5
          ],
          [
           38.3,
           12.2,
           0.5
          ],
          [
           4.6,
           -74.5,
           0.5
          ],
          [
           39.509,
           26.587,
           0.5
          ],
          [
           -26.5,
           -70.5,
           0.5
          ],
          [
           -14.0,
           -76.25,
           0.5
          ],
          [
           51.5,
           -174.5,
           0.5
          ],
          [
           10.714,
           122.235,
           0.5
          ],
          [
           37.2,
           121.8,
           0.5
          ],
          [
           6.0,
           95.0,
           0.5
          ],
          [
           22.0,
           -106.0,
           0.5
          ],
          [
           -22.5,
           -69.0,
           0.5
          ],
          [
           38.2,
           20.0,
           0.5
          ],
          [
           -38.0,
           -73.5,
           0.5
          ],
          [
           5.0,
           95.0,
           0.5
          ],
          [
           38.718,
           26.482,
           0.5
          ],
          [
           17.0,
           121.5,
           0.5
          ],
          [
           -54.0,
           -71.0,
           0.5
          ],
          [
           -54.0,
           -71.0,
           0.5
          ],
          [
           17.0,
           121.63,
           0.5
          ],
          [
           -53.5,
           -71.5,
           0.5
          ],
          [
           -37.8,
           177.2,
           0.5
          ],
          [
           6.5,
           -83.0,
           0.5
          ],
          [
           9.71,
           -69.819,
           0.5
          ],
          [
           28.5,
           96.5,
           0.5
          ],
          [
           -3.8,
           128.3,
           0.5
          ],
          [
           -10.0,
           159.5,
           0.5
          ],
          [
           -18.25,
           167.5,
           0.5
          ],
          [
           -14.25,
           -77.75,
           0.5
          ],
          [
           -3.252,
           142.238,
           0.5
          ],
          [
           26.7,
           100.0,
           0.5
          ],
          [
           10.088,
           -85.211,
           0.5
          ],
          [
           -18.5,
           169.25,
           0.5
          ],
          [
           -12.0,
           -77.5,
           0.5
          ],
          [
           50.0,
           156.5,
           0.5
          ],
          [
           -4.449,
           152.868,
           0.5
          ],
          [
           -36.5,
           -72.5,
           0.5
          ],
          [
           19.8,
           -70.7,
           0.5
          ],
          [
           38.1,
           20.6,
           0.5
          ],
          [
           38.3,
           20.8,
           0.5
          ],
          [
           34.741,
           32.335,
           0.5
          ],
          [
           null,
           null,
           0.5
          ],
          [
           11.46,
           -69.57,
           0.5
          ],
          [
           39.4,
           23.1,
           0.5
          ],
          [
           6.5,
           94.0,
           0.5
          ],
          [
           -6.9,
           155.7,
           0.5
          ],
          [
           26.6,
           101.8,
           0.5
          ],
          [
           -5.1,
           152.924,
           0.5
          ],
          [
           -19.0,
           -70.0,
           0.5
          ],
          [
           -38.9,
           175.8,
           0.5
          ],
          [
           36.8,
           25.5,
           0.5
          ],
          [
           39.5,
           23.0,
           0.5
          ],
          [
           -25.5,
           -71.0,
           0.5
          ],
          [
           -1.5,
           137.0,
           0.5
          ],
          [
           -23.5,
           -71.5,
           0.5
          ],
          [
           -8.2,
           107.3,
           0.5
          ],
          [
           -2.0,
           116.0,
           0.5
          ],
          [
           31.5,
           105.0,
           0.5
          ],
          [
           -4.5,
           104.0,
           0.5
          ],
          [
           48.6,
           156.1,
           0.5
          ],
          [
           -50.0,
           -115.0,
           0.5
          ],
          [
           44.2,
           148.8,
           0.5
          ],
          [
           -4.0,
           -81.5,
           0.5
          ],
          [
           44.3,
           149.0,
           0.5
          ],
          [
           52.0,
           106.5,
           0.5
          ],
          [
           -15.75,
           -72.75,
           0.5
          ],
          [
           30.5,
           -9.5,
           0.5
          ],
          [
           -9.4,
           152.3,
           0.5
          ],
          [
           -38.5,
           -75.1,
           0.5
          ],
          [
           -6.8,
           -80.7,
           0.5
          ],
          [
           -9.43,
           159.95,
           0.5
          ],
          [
           36.693,
           28.594,
           0.5
          ],
          [
           -18.421,
           168.411,
           0.5
          ],
          [
           -9.849,
           160.614,
           0.5
          ],
          [
           -36.7,
           -73.0,
           0.5
          ],
          [
           -36.7,
           -73.0,
           0.5
          ],
          [
           43.3,
           17.1,
           0.5
          ],
          [
           8.008,
           -82.757,
           0.5
          ],
          [
           17.2,
           -99.5,
           0.5
          ],
          [
           41.8,
           142.4,
           0.5
          ],
          [
           39.8,
           25.0,
           0.5
          ],
          [
           52.47,
           -168.54,
           0.5
          ],
          [
           -10.385,
           -78.022,
           0.5
          ],
          [
           -6.4,
           105.4,
           0.5
          ],
          [
           -24.8,
           -176.6,
           0.5
          ],
          [
           40.4,
           139.0,
           0.5
          ],
          [
           -5.7,
           150.7,
           0.5
          ],
          [
           -25.67,
           -70.63,
           0.5
          ],
          [
           39.4,
           24.0,
           0.5
          ],
          [
           -31.81,
           -71.26,
           0.5
          ],
          [
           -15.9,
           166.8,
           0.5
          ],
          [
           -42.9,
           -75.13,
           0.5
          ],
          [
           24.1,
           122.6,
           0.5
          ],
          [
           -10.343,
           160.883,
           0.5
          ],
          [
           45.53,
           151.11,
           0.5
          ],
          [
           -3.7,
           119.3,
           0.5
          ],
          [
           5.5,
           97.3,
           0.5
          ],
          [
           -10.6,
           -79.8,
           0.5
          ],
          [
           -28.78,
           -71.19,
           0.5
          ],
          [
           -21.7,
           -69.5,
           0.5
          ],
          [
           44.08,
           8.0,
           0.5
          ],
          [
           -30.8,
           -178.4,
           0.5
          ],
          [
           16.519,
           -97.739,
           0.5
          ],
          [
           33.3,
           132.2,
           0.5
          ],
          [
           10.697,
           -62.748,
           0.5
          ],
          [
           15.573,
           -92.536,
           0.5
          ],
          [
           27.7,
           34.0,
           0.5
          ],
          [
           15.78,
           121.71,
           0.5
          ],
          [
           43.0,
           47.1,
           0.5
          ],
          [
           -52.0,
           -73.8,
           0.5
          ],
          [
           -22.28,
           -70.55,
           0.5
          ],
          [
           -44.64,
           173.62,
           0.5
          ],
          [
           20.6,
           122.0,
           0.5
          ],
          [
           -20.94,
           -69.81,
           0.5
          ],
          [
           51.5,
           179.1,
           0.5
          ],
          [
           -30.5,
           -71.8,
           0.5
          ],
          [
           6.5,
           126.6,
           0.5
          ],
          [
           -30.6,
           -71.0,
           0.5
          ],
          [
           -38.5,
           -73.4,
           0.5
          ],
          [
           35.1,
           72.9,
           0.5
          ],
          [
           -5.0,
           130.0,
           0.5
          ],
          [
           -29.9,
           -71.3,
           0.5
          ],
          [
           7.4,
           -78.1,
           0.5
          ],
          [
           -1.081,
           146.23,
           0.5
          ],
          [
           -25.856,
           -175.406,
           0.5
          ],
          [
           8.249,
           122.403,
           0.5
          ],
          [
           40.739,
           23.229,
           0.5
          ],
          [
           22.282,
           121.512,
           0.5
          ],
          [
           16.01,
           -96.591,
           0.5
          ],
          [
           41.956,
           19.023,
           0.5
          ],
          [
           34.53,
           24.437,
           0.5
          ],
          [
           -16.76,
           179.984,
           0.5
          ],
          [
           38.209,
           23.288,
           0.5
          ],
          [
           13.752,
           124.358,
           0.5
          ],
          [
           4.374,
           97.755,
           0.5
          ],
          [
           -9.265,
           118.479,
           0.5
          ],
          [
           38.026,
           20.228,
           0.5
          ],
          [
           8.677,
           -83.098,
           0.5
          ],
          [
           40.142,
           24.766,
           0.5
          ],
          [
           -2.823,
           118.806,
           0.5
          ],
          [
           -9.245,
           114.185,
           0.5
          ],
          [
           52.327,
           -174.504,
           0.5
          ],
          [
           -10.717,
           162.33,
           0.5
          ],
          [
           -14.074,
           167.828,
           0.5
          ],
          [
           25.149,
           95.127,
           0.5
          ],
          [
           26.755,
           86.616,
           0.5
          ],
          [
           36.788,
           2.448,
           0.5
          ],
          [
           18.986,
           -68.833,
           0.5
          ],
          [
           39.837,
           142.76,
           0.5
          ],
          [
           45.533,
           151.021,
           0.5
          ],
          [
           32.536,
           141.641,
           0.5
          ],
          [
           -14.385,
           -178.252,
           0.5
          ],
          [
           -28.886,
           -176.819,
           0.5
          ],
          [
           34.213,
           -118.537,
           0.5
          ],
          [
           23.959,
           122.448,
           0.5
          ],
          [
           -10.777,
           113.366,
           0.5
          ],
          [
           16.779,
           -98.597,
           0.5
          ],
          [
           10.598,
           -63.486,
           0.5
          ],
          [
           -62.877,
           149.527,
           0.5
          ],
          [
           -2.071,
           124.891,
           0.5
          ],
          [
           13.049,
           -88.66,
           0.5
          ],
          [
           23.346,
           124.09,
           0.5
          ],
          [
           -1.757,
           134.297,
           0.5
          ],
          [
           39.16,
           20.605,
           0.5
          ],
          [
           15.775,
           -61.744,
           0.5
          ],
          [
           31.394,
           140.131,
           0.5
          ],
          [
           14.944,
           -61.274,
           0.5
          ],
          [
           -19.941,
           168.953,
           0.5
          ],
          [
           30.98,
           103.396,
           0.5
          ],
          [
           -0.691,
           133.305,
           0.5
          ],
          [
           14.099,
           92.888,
           0.5
          ],
          [
           25.93,
           128.425,
           0.5
          ],
          [
           46.221,
           150.788,
           0.5
          ],
          [
           18.081,
           -102.182,
           0.5
          ],
          [
           34.4,
           25.02,
           0.5
          ],
          [
           1.893,
           126.522,
           0.5
          ],
          [
           31.529,
           140.213,
           0.5
          ],
          [
           -5.462,
           151.875,
           0.5
          ],
          [
           -16.043,
           167.379,
           0.5
          ],
          [
           -55.285,
           -31.877,
           0.5
          ],
          [
           -8.24,
           116.508,
           0.5
          ],
          [
           -8.337,
           116.599,
           0.5
          ],
          [
           10.773,
           -62.902,
           0.5
          ],
          [
           -4.051,
           152.597,
           0.5
          ],
          [
           -7.282,
           104.791,
           0.5
          ],
          [
           35.193,
           26.256,
           0.5
          ],
          [
           16.325,
           -95.856,
           0.5
          ],
          [
           18.308,
           -102.923,
           0.5
          ],
          [
           -38.808,
           175.906,
           0.5
          ],
          [
           36.0,
           -120.5,
           0.5
          ],
          [
           40.092,
           24.627,
           0.5
          ],
          [
           59.5,
           -135.5,
           0.5
          ],
          [
           61.0,
           -146.2,
           0.5
          ],
          [
           60.5,
           -149.0,
           0.5
          ],
          [
           7.1,
           -80.6,
           0.5
          ],
          [
           38.582,
           20.587,
           0.5
          ],
          [
           23.5,
           117.2,
           0.5
          ],
          [
           60.0,
           -146.0,
           0.5
          ],
          [
           38.567,
           14.833,
           0.5
          ],
          [
           38.7,
           -9.2,
           0.5
          ],
          [
           57.69,
           -136.07,
           0.5
          ],
          [
           -41.75,
           172.25,
           0.5
          ],
          [
           34.03,
           -118.643,
           0.5
          ],
          [
           40.62,
           27.451,
           0.5
          ],
          [
           -38.85,
           178.87,
           0.5
          ],
          [
           36.808,
           21.916,
           0.5
          ],
          [
           47.167,
           -122.617,
           0.5
          ],
          [
           13.0,
           -87.5,
           0.5
          ],
          [
           44.712,
           -111.215,
           0.5
          ],
          [
           5.8,
           95.4,
           0.5
          ],
          [
           38.384,
           22.545,
           0.5
          ],
          [
           -6.5,
           146.6,
           0.5
          ],
          [
           -18.672,
           178.464,
           0.5
          ],
          [
           36.957,
           49.409,
           0.5
          ],
          [
           -43.583,
           172.68,
           0.5
          ],
          [
           14.71,
           -91.59,
           0.5
          ],
          [
           14.0,
           -91.0,
           0.5
          ],
          [
           -39.12,
           177.2,
           0.5
          ],
          [
           -40.5,
           175.0,
           0.5
          ],
          [
           10.6,
           -66.95,
           0.5
          ],
          [
           -14.0,
           -78.0,
           0.5
          ],
          [
           null,
           null,
           0.5
          ],
          [
           8.9,
           -73.4,
           0.5
          ],
          [
           -41.755,
           -72.396,
           0.5
          ],
          [
           -6.102,
           105.423,
           0.5
          ],
          [
           -5.52,
           148.121,
           0.5
          ],
          [
           14.82,
           -61.17,
           0.5
          ],
          [
           14.82,
           -61.17,
           0.5
          ],
          [
           null,
           null,
           0.5
          ],
          [
           -13.612,
           -172.525,
           0.5
          ],
          [
           -13.612,
           -172.525,
           0.5
          ],
          [
           -13.612,
           -172.525,
           0.5
          ],
          [
           -13.612,
           -172.525,
           0.5
          ],
          [
           -13.612,
           -172.525,
           0.5
          ],
          [
           -13.612,
           -172.525,
           0.5
          ],
          [
           -13.612,
           -172.525,
           0.5
          ],
          [
           -21.38,
           -175.65,
           0.5
          ],
          [
           3.138,
           125.491,
           0.5
          ],
          [
           63.63,
           -19.05,
           0.5
          ],
          [
           3.138,
           125.491,
           0.5
          ],
          [
           -6.102,
           105.423,
           0.5
          ],
          [
           -6.102,
           105.423,
           0.5
          ],
          [
           12.77,
           124.05,
           0.5
          ],
          [
           -1.408,
           29.2,
           0.5
          ],
          [
           12.3,
           -61.63,
           0.5
          ],
          [
           48.092,
           153.2,
           0.5
          ],
          [
           -9.02,
           157.95,
           0.5
          ],
          [
           -2.4,
           147.4,
           0.5
          ],
          [
           55.978,
           160.587,
           0.5
          ],
          [
           -16.829,
           168.536,
           0.5
          ],
          [
           -8.342,
           115.508,
           0.5
          ],
          [
           12.3,
           -61.63,
           0.5
          ],
          [
           -10.38,
           165.8,
           0.5
          ],
          [
           -63.0,
           -60.5,
           0.5
          ],
          [
           19.077,
           122.202,
           0.5
          ],
          [
           -5.52,
           148.121,
           0.5
          ],
          [
           -8.54,
           123.59,
           0.5
          ],
          [
           46.2,
           -122.18,
           0.5
          ],
          [
           -8.54,
           123.59,
           0.5
          ],
          [
           38.789,
           15.213,
           0.5
          ],
          [
           null,
           null,
           0.5
          ],
          [
           null,
           null,
           0.5
          ],
          [
           null,
           null,
           0.5
          ],
          [
           -14.18,
           -169.66,
           0.5
          ],
          [
           null,
           null,
           0.5
          ],
          [
           10.0,
           138.0,
           0.5
          ],
          [
           32.5,
           -115.5,
           0.5
          ],
          [
           17.0,
           -104.0,
           0.5
          ],
          [
           null,
           null,
           0.5
          ],
          [
           -23.7,
           -70.4,
           0.5
          ],
          [
           39.35,
           -74.417,
           0.5
          ],
          [
           33.616,
           -117.966,
           0.5
          ],
          [
           33.7,
           -118.2,
           0.5
          ],
          [
           null,
           null,
           0.5
          ],
          [
           19.5,
           -155.5,
           0.5
          ],
          [
           null,
           null,
           0.5
          ],
          [
           null,
           null,
           0.5
          ],
          [
           39.95,
           -74.12,
           0.5
          ],
          [
           38.933,
           -74.9,
           0.5
          ],
          [
           43.1,
           -82.4,
           0.5
          ],
          [
           -38.0,
           -57.0,
           0.5
          ],
          [
           41.7,
           -86.883,
           0.5
          ],
          [
           null,
           null,
           0.5
          ],
          [
           null,
           null,
           0.5
          ],
          [
           null,
           null,
           0.5
          ],
          [
           null,
           null,
           0.5
          ],
          [
           null,
           null,
           0.5
          ],
          [
           37.133,
           26.833,
           0.5
          ],
          [
           null,
           null,
           0.5
          ],
          [
           44.4,
           -67.97,
           0.5
          ],
          [
           null,
           null,
           0.5
          ],
          [
           null,
           null,
           0.5
          ],
          [
           null,
           null,
           0.5
          ],
          [
           null,
           null,
           0.5
          ],
          [
           43.8,
           -69.7,
           0.5
          ],
          [
           null,
           null,
           0.5
          ],
          [
           50.5,
           -3.0,
           0.5
          ],
          [
           null,
           null,
           0.5
          ],
          [
           null,
           null,
           0.5
          ],
          [
           null,
           null,
           0.5
          ],
          [
           null,
           null,
           0.5
          ],
          [
           61.866,
           6.85,
           0.5
          ],
          [
           50.42,
           -121.35,
           0.5
          ],
          [
           45.77,
           -75.6,
           0.5
          ],
          [
           null,
           null,
           0.5
          ],
          [
           10.5,
           -61.2,
           0.5
          ],
          [
           42.0,
           -81.0,
           0.5
          ],
          [
           39.314,
           -74.525,
           0.5
          ],
          [
           58.204,
           -134.147,
           0.5
          ],
          [
           44.233,
           -68.35,
           0.5
          ],
          [
           null,
           null,
           0.5
          ],
          [
           62.267,
           7.4,
           0.5
          ],
          [
           62.333,
           6.967,
           0.5
          ],
          [
           28.48,
           -16.25,
           0.5
          ],
          [
           null,
           null,
           0.5
          ],
          [
           null,
           null,
           0.5
          ],
          [
           63.433,
           10.383,
           0.5
          ],
          [
           null,
           null,
           0.5
          ],
          [
           null,
           null,
           0.5
          ],
          [
           null,
           null,
           0.5
          ],
          [
           null,
           null,
           0.5
          ],
          [
           null,
           null,
           0.5
          ],
          [
           null,
           null,
           0.5
          ],
          [
           40.8,
           -73.1,
           0.5
          ],
          [
           null,
           null,
           0.5
          ],
          [
           59.621,
           -151.106,
           0.5
          ],
          [
           59.4,
           13.5,
           0.5
          ],
          [
           -6.7,
           147.0,
           0.5
          ],
          [
           63.56,
           9.94,
           0.5
          ],
          [
           11.517,
           -69.5,
           0.5
          ],
          [
           39.374,
           -31.229,
           0.5
          ],
          [
           -35.616,
           20.267,
           0.5
          ],
          [
           29.95,
           122.14,
           0.5
          ],
          [
           45.22,
           36.72,
           0.5
          ],
          [
           54.841,
           162.035,
           0.5
          ],
          [
           45.12,
           36.7,
           0.5
          ],
          [
           34.5,
           -120.65,
           0.5
          ],
          [
           -44.7,
           169.2,
           0.5
          ],
          [
           43.3,
           5.37,
           0.5
          ],
          [
           43.0,
           29.0,
           0.5
          ],
          [
           30.394,
           110.16,
           0.5
          ],
          [
           31.065,
           109.92,
           0.5
          ],
          [
           null,
           null,
           0.5
          ],
          [
           null,
           null,
           0.5
          ],
          [
           -9.282,
           -77.645,
           0.5
          ],
          [
           59.05,
           6.64,
           0.5
          ],
          [
           59.05,
           6.64,
           0.5
          ],
          [
           31.256,
           110.733,
           0.5
          ],
          [
           65.02,
           -16.7,
           0.5
          ],
          [
           31.077,
           109.896,
           0.5
          ],
          [
           15.317,
           108.249,
           0.5
          ],
          [
           50.559,
           131.472,
           0.5
          ],
          [
           50.97,
           -124.6,
           0.5
          ],
          [
           -41.142,
           -72.396,
           0.5
          ],
          [
           10.158,
           109.014,
           0.5
          ],
          [
           -8.058,
           114.242,
           0.5
          ],
          [
           6.25,
           10.5,
           0.5
          ]
         ],
         "hovertemplate": "<b>%{hovertext}</b><br><br>Number of Deaths=Less than 100<extra></extra>",
         "hovertext": [
          "INDONESIA",
          "PAPUA NEW GUINEA",
          "INDONESIA",
          "VENEZUELA",
          "BULGARIA",
          "PHILIPPINES",
          "NICARAGUA",
          "USA",
          "GUATEMALA",
          "GREECE",
          "MEXICO",
          "PHILIPPINES",
          "USA TERRITORY",
          "INDONESIA",
          "ITALY",
          "MEXICO",
          "TAIWAN",
          "CHILE",
          "CHILE",
          "COLOMBIA",
          "RUSSIA",
          "INDONESIA",
          "NEW ZEALAND",
          "INDONESIA",
          "PANAMA",
          "GREECE",
          "COSTA RICA",
          "MEXICO",
          "VANUATU",
          "INDIA",
          "JAPAN",
          "GEORGIA",
          "VANUATU",
          "VANUATU",
          "PHILIPPINES",
          "TUNISIA",
          "COLOMBIA",
          "CHILE",
          "CHILE",
          "PAPUA NEW GUINEA",
          "GHANA",
          "PERU",
          "INDONESIA",
          "MEXICO",
          "PAPUA NEW GUINEA",
          "INDONESIA",
          "UKRAINE",
          "COOK ISLANDS",
          "INDONESIA",
          "CHILE",
          "VANUATU",
          "MEXICO",
          "USA",
          "PAPUA NEW GUINEA",
          "VANUATU",
          "INDONESIA",
          "PHILIPPINES",
          "ALBANIA",
          "PAPUA NEW GUINEA",
          "PHILIPPINES",
          "CHILE",
          "GREECE",
          "JAPAN",
          "MICRONESIA, FED. STATES OF",
          "MICRONESIA, FED. STATES OF",
          "NEW ZEALAND",
          "PERU",
          "PERU",
          "PERU",
          "ITALY",
          "PERU",
          "INDONESIA",
          "GREECE",
          "INDONESIA",
          "GREECE",
          "PAPUA NEW GUINEA",
          "EL SALVADOR",
          "INDONESIA",
          "PHILIPPINES",
          "PAPUA NEW GUINEA",
          "COSTA RICA",
          "VENEZUELA",
          "INDONESIA",
          "CHINA",
          "RUSSIA",
          "PHILIPPINES",
          "PAPUA NEW GUINEA",
          "NEW ZEALAND",
          "CHILE",
          "CHINA",
          "USA TERRITORY",
          "PHILIPPINES",
          "TONGA",
          "PAPUA NEW GUINEA",
          "NICARAGUA",
          "VENEZUELA",
          "INDONESIA",
          "UKRAINE",
          "INDONESIA",
          "PAPUA NEW GUINEA",
          "CHILE",
          "VANUATU",
          "CHINA",
          "ALBANIA",
          "INDONESIA",
          "CHINA",
          "PHILIPPINES",
          "PERU",
          "PAPUA NEW GUINEA",
          "INDONESIA",
          "PHILIPPINES",
          "PHILIPPINES",
          "INDONESIA",
          "INDONESIA",
          "GREECE",
          "TAIWAN",
          "CHILE",
          "NEW ZEALAND",
          "USA",
          "PHILIPPINES",
          "PHILIPPINES",
          "CHILE",
          "PAPUA NEW GUINEA",
          "PAPUA NEW GUINEA",
          "COSTA RICA",
          "RUSSIA",
          "AUSTRALIA",
          "ICELAND",
          "PHILIPPINES",
          "INDONESIA",
          "PHILIPPINES",
          "CHILE",
          "PHILIPPINES",
          "PHILIPPINES",
          "MEXICO",
          "SOLOMON ISLANDS",
          "USA",
          "INDONESIA",
          "UK",
          "GREECE",
          "PORTUGAL",
          "CHILE",
          "NORWAY",
          "ISRAEL",
          "UKRAINE",
          "CHILE",
          "INDONESIA",
          "CANADA",
          "GREECE",
          "PERU",
          "GREECE",
          "GREECE",
          "GREECE",
          "PERU",
          "GREECE",
          "TURKEY",
          "TONGA",
          "PHILIPPINES",
          "PERU",
          "CHILE",
          "CHILE",
          "PHILIPPINES",
          "CANADA",
          "PHILIPPINES",
          "USA",
          "CHINA",
          "SPAIN",
          "INDONESIA",
          "INDONESIA",
          "INDONESIA",
          "PAPUA NEW GUINEA",
          "KENYA",
          "CHILE",
          "NEW ZEALAND",
          "NEW ZEALAND",
          "CHILE",
          "UK",
          "PAPUA NEW GUINEA",
          "INDONESIA",
          "CUBA",
          "MEXICO",
          "INDONESIA",
          "NEW ZEALAND",
          "GREECE",
          "VENEZUELA",
          "CHILE",
          "GREECE",
          "TOGO",
          "ECUADOR",
          "PAPUA NEW GUINEA",
          "NEPAL",
          "ICELAND",
          "PANAMA",
          "SOLOMON ISLANDS",
          "SOLOMON ISLANDS",
          "CHILE",
          "PAPUA NEW GUINEA",
          "PAKISTAN",
          "PAPUA NEW GUINEA",
          "INDONESIA",
          "CHINA",
          "INDONESIA",
          "INDONESIA",
          "RUSSIA",
          "PHILIPPINES",
          "RUSSIA",
          "INDONESIA",
          "INDONESIA",
          "PAPUA NEW GUINEA",
          "PAPUA NEW GUINEA",
          "CHILE",
          "ITALY",
          "PAPUA NEW GUINEA",
          "CHILE",
          "SOLOMON ISLANDS",
          "PHILIPPINES",
          "GHANA",
          "CUBA",
          "INDONESIA",
          "ITALY",
          "PERU",
          "CHILE",
          "CHILE",
          "CYPRUS",
          "USA",
          "ITALY",
          "COLOMBIA",
          "TURKEY",
          "CHILE",
          "PERU",
          "USA",
          "PHILIPPINES",
          "CHINA",
          "INDONESIA",
          "MEXICO",
          "CHILE",
          "GREECE",
          "CHILE",
          "INDONESIA",
          "GREECE",
          "PHILIPPINES",
          "CHILE",
          "CHILE",
          "PHILIPPINES",
          "CHILE",
          "NEW ZEALAND",
          "PANAMA",
          "VENEZUELA",
          "INDIA",
          "INDONESIA",
          "SOLOMON ISLANDS",
          "VANUATU",
          "PERU",
          "PAPUA NEW GUINEA",
          "CHINA",
          "COSTA RICA",
          "VANUATU",
          "PERU",
          "RUSSIA",
          "PAPUA NEW GUINEA",
          "CHILE",
          "DOMINICAN REPUBLIC",
          "GREECE",
          "GREECE",
          "CYPRUS",
          "CHINA",
          "VENEZUELA",
          "GREECE",
          "INDIA",
          "PAPUA NEW GUINEA",
          "CHINA",
          "PAPUA NEW GUINEA",
          "CHILE",
          "NEW ZEALAND",
          "GREECE",
          "GREECE",
          "CHILE",
          "INDONESIA",
          "CHILE",
          "INDONESIA",
          "INDONESIA",
          "CHINA",
          "INDONESIA",
          "RUSSIA",
          "PACIFIC OCEAN",
          "RUSSIA",
          "PERU",
          "RUSSIA",
          "RUSSIA",
          "PERU",
          "MOROCCO",
          "PAPUA NEW GUINEA",
          "CHILE",
          "PERU",
          "SOLOMON ISLANDS",
          "TURKEY",
          "VANUATU",
          "SOLOMON ISLANDS",
          "CHILE",
          "CHILE",
          "CROATIA",
          "PANAMA",
          "MEXICO",
          "JAPAN",
          "GREECE",
          "USA",
          "PERU",
          "INDONESIA",
          "TONGA",
          "JAPAN",
          "PAPUA NEW GUINEA",
          "CHILE",
          "GREECE",
          "CHILE",
          "VANUATU",
          "CHILE",
          "TAIWAN",
          "SOLOMON ISLANDS",
          "RUSSIA",
          "INDONESIA",
          "INDONESIA",
          "PERU",
          "CHILE",
          "CHILE",
          "ITALY",
          "NEW ZEALAND",
          "MEXICO",
          "JAPAN",
          "VENEZUELA",
          "MEXICO",
          "EGYPT",
          "PHILIPPINES",
          "RUSSIA",
          "CHILE",
          "CHILE",
          "NEW ZEALAND",
          "PHILIPPINES",
          "CHILE",
          "USA",
          "CHILE",
          "PHILIPPINES",
          "CHILE",
          "CHILE",
          "PAKISTAN",
          "INDONESIA",
          "CHILE",
          "PANAMA",
          "PAPUA NEW GUINEA",
          "TONGA",
          "PHILIPPINES",
          "GREECE",
          "TAIWAN",
          "MEXICO",
          "MONTENEGRO",
          "GREECE",
          "FIJI",
          "GREECE",
          "PHILIPPINES",
          "INDONESIA",
          "INDONESIA",
          "GREECE",
          "COSTA RICA",
          "GREECE",
          "INDONESIA",
          "INDONESIA",
          "USA",
          "SOLOMON ISLANDS",
          "VANUATU",
          "BANGLADESH",
          "BANGLADESH",
          "ALGERIA",
          "USA TERRITORY",
          "JAPAN",
          "RUSSIA",
          "JAPAN",
          "WALLIS AND FUTUNA (FRENCH TERRITORY)",
          "NEW ZEALAND",
          "USA",
          "TAIWAN",
          "INDONESIA",
          "MEXICO",
          "VENEZUELA",
          "ANTARCTICA",
          "INDONESIA",
          "EL SALVADOR",
          "JAPAN",
          "INDONESIA",
          "GREECE",
          "GUADELOUPE (FRENCH TERRITORY)",
          "JAPAN",
          "MARTINIQUE (FRENCH TERRITORY)",
          "VANUATU",
          "CHINA",
          "INDONESIA",
          "INDIA",
          "JAPAN",
          "RUSSIA",
          "MEXICO",
          "GREECE",
          "INDONESIA",
          "JAPAN",
          "PAPUA NEW GUINEA",
          "VANUATU",
          "UK TERRITORY",
          "INDONESIA",
          "INDONESIA",
          "VENEZUELA",
          "PAPUA NEW GUINEA",
          "INDONESIA",
          "GREECE",
          "MEXICO",
          "MEXICO",
          "NEW ZEALAND",
          "USA",
          "GREECE",
          "USA",
          "USA",
          "USA",
          "PANAMA",
          "GREECE",
          "CHINA",
          "USA",
          "ITALY",
          "PORTUGAL",
          "USA",
          "NEW ZEALAND",
          "USA",
          "TURKEY",
          "NEW ZEALAND",
          "GREECE",
          "USA",
          "NICARAGUA",
          "USA",
          "INDONESIA",
          "GREECE",
          "PAPUA NEW GUINEA",
          "FIJI",
          "IRAN",
          "NEW ZEALAND",
          "GUATEMALA",
          "GUATEMALA",
          "NEW ZEALAND",
          "NEW ZEALAND",
          "VENEZUELA",
          "PERU",
          "GREECE",
          "COLOMBIA",
          "CHILE",
          "INDONESIA",
          "PAPUA NEW GUINEA",
          "MARTINIQUE (FRENCH TERRITORY)",
          "MARTINIQUE (FRENCH TERRITORY)",
          "USA",
          "SAMOA",
          "SAMOA",
          "SAMOA",
          "SAMOA",
          "SAMOA",
          "SAMOA",
          "SAMOA",
          "TONGA",
          "INDONESIA",
          "ICELAND",
          "INDONESIA",
          "INDONESIA",
          "INDONESIA",
          "PHILIPPINES",
          "CONGO",
          "GRENADA",
          "RUSSIA",
          "SOLOMON ISLANDS",
          "PAPUA NEW GUINEA",
          "RUSSIA",
          "VANUATU",
          "INDONESIA",
          "GRENADA",
          "SOLOMON ISLANDS",
          "ANTARCTICA",
          "PHILIPPINES",
          "PAPUA NEW GUINEA",
          "INDONESIA",
          "USA",
          "INDONESIA",
          "ITALY",
          "USA",
          "USA",
          "USA",
          "USA TERRITORY",
          "DOMINICAN REPUBLIC",
          "MICRONESIA, FED. STATES OF",
          "USA",
          "MEXICO",
          "USA",
          "CHILE",
          "USA",
          "USA",
          "USA",
          "PORTUGAL",
          "USA",
          "NEW ZEALAND",
          "USA",
          "USA",
          "USA",
          "USA",
          "ARGENTINA",
          "USA",
          "ITALY",
          "USA TERRITORY",
          "SOUTH AFRICA",
          "ITALY",
          "JAPAN",
          "GREECE",
          "USA",
          "USA",
          "USA",
          "SOUTH KOREA",
          "SOUTH KOREA",
          "SOUTH KOREA",
          "USA",
          "SOUTH KOREA",
          "UK",
          "SCOTLAND",
          "NETHERLANDS",
          "SPAIN",
          "JAPAN",
          "NORWAY",
          "CANADA",
          "CANADA",
          "NEW ZEALAND",
          "TRINIDAD AND TOBAGO",
          "USA",
          "USA",
          "USA",
          "USA",
          "USA",
          "NORWAY",
          "NORWAY",
          "SPAIN",
          "USA",
          "USA",
          "NORWAY",
          "USA",
          "USA",
          "USA",
          "USA",
          "USA",
          "USA",
          "USA",
          "USA",
          "USA",
          "SWEDEN",
          "PAPUA NEW GUINEA",
          "NORWAY",
          "VENEZUELA",
          "PORTUGAL",
          "SOUTH AFRICA",
          "CHINA",
          "RUSSIA",
          "RUSSIA",
          "RUSSIA",
          "USA",
          "NEW ZEALAND",
          "FRANCE",
          "BULGARIA",
          "CHINA",
          "CHINA",
          "USA",
          "USA",
          "PERU",
          "NORWAY",
          "NORWAY",
          "CHINA",
          "ICELAND",
          "CHINA",
          "VIETNAM",
          "RUSSIA",
          "CANADA",
          "CHILE",
          "VIETNAM",
          "INDONESIA",
          "CAMEROON"
         ],
         "lat": [
          1.82,
          -5.0,
          -4.0,
          11.0,
          43.4,
          14.0,
          11.0,
          51.45,
          14.0,
          40.75,
          24.6,
          7.5,
          14.0,
          -3.0,
          38.1,
          16.7,
          null,
          -20.2,
          -28.5,
          7.0,
          52.0,
          -3.6,
          -40.4,
          -7.7,
          9.2,
          39.66,
          9.85,
          19.0,
          null,
          33.0,
          37.4,
          42.0,
          -17.7,
          -17.7,
          11.0,
          37.3,
          3.9,
          -18.5,
          -33.0,
          -4.0,
          6.5,
          -18.0,
          3.0,
          17.0,
          -3.1,
          -2.0,
          44.0,
          -21.0,
          -2.0,
          -26.5,
          -15.5,
          16.8,
          41.8,
          -4.25,
          -14.0,
          4.0,
          9.0,
          40.9,
          -4.25,
          9.0,
          -20.0,
          37.928,
          40.5,
          7.0,
          null,
          -41.8,
          -16.6,
          -17.0,
          -12.0,
          43.5,
          -17.0,
          -3.924,
          38.4,
          -3.644,
          38.5,
          null,
          14.0,
          -1.0,
          18.0,
          -4.739,
          null,
          10.46,
          -7.0,
          24.47,
          56.5,
          6.0,
          -3.705,
          -29.0,
          -28.5,
          26.9,
          18.441,
          8.0,
          -19.6,
          -4.806,
          12.33,
          10.6,
          -2.55,
          44.0,
          0.87,
          -6.5,
          -38.0,
          -19.919,
          36.601,
          40.5,
          0.7,
          40.13,
          8.0,
          -16.5,
          -7.111,
          -3.3,
          10.2,
          9.0,
          -1.0,
          5.5,
          37.5,
          24.5,
          -28.0,
          -43.0,
          40.482,
          6.5,
          9.3,
          -18.5,
          -4.653,
          -4.539,
          9.587,
          49.179,
          -56.0,
          64.15,
          8.5,
          -8.0,
          9.3,
          -26.0,
          12.2,
          13.0,
          18.5,
          -10.061,
          20.5,
          -0.7,
          49.21,
          36.5,
          37.973,
          -28.0,
          59.0,
          32.0,
          44.3,
          -44.6,
          -0.7,
          49.0,
          38.1,
          -13.0,
          38.0,
          38.0,
          38.0,
          -13.0,
          39.6,
          40.8,
          -19.83,
          12.4,
          -5.5,
          -22.5,
          -35.0,
          7.0,
          51.0,
          8.5,
          42.9,
          32.2,
          36.0,
          -5.6,
          -9.3,
          1.2,
          -4.423,
          -4.05,
          -28.5,
          -39.5,
          -39.5,
          -32.5,
          54.0,
          -3.417,
          -5.0,
          19.706,
          null,
          -3.57,
          -39.0,
          40.5,
          10.5,
          -20.0,
          36.759,
          6.9,
          -2.0,
          -5.0,
          26.773,
          66.0,
          8.0,
          -11.907,
          -11.139,
          -19.5,
          -4.2,
          29.5,
          -3.824,
          5.5,
          28.7,
          0.001,
          6.1,
          55.2,
          14.5,
          56.0,
          -3.0,
          -3.0,
          -5.1,
          -6.0,
          -36.25,
          38.5,
          -7.08,
          -27.0,
          -9.295,
          13.5,
          5.568,
          22.2,
          0.0,
          38.067,
          -10.5,
          -22.0,
          -41.5,
          35.221,
          40.5,
          38.3,
          4.6,
          39.509,
          -26.5,
          -14.0,
          51.5,
          10.714,
          37.2,
          6.0,
          22.0,
          -22.5,
          38.2,
          -38.0,
          5.0,
          38.718,
          17.0,
          -54.0,
          -54.0,
          17.0,
          -53.5,
          -37.8,
          6.5,
          9.71,
          28.5,
          -3.8,
          -10.0,
          -18.25,
          -14.25,
          -3.252,
          26.7,
          10.088,
          -18.5,
          -12.0,
          50.0,
          -4.449,
          -36.5,
          19.8,
          38.1,
          38.3,
          34.741,
          null,
          11.46,
          39.4,
          6.5,
          -6.9,
          26.6,
          -5.1,
          -19.0,
          -38.9,
          36.8,
          39.5,
          -25.5,
          -1.5,
          -23.5,
          -8.2,
          -2.0,
          31.5,
          -4.5,
          48.6,
          -50.0,
          44.2,
          -4.0,
          44.3,
          52.0,
          -15.75,
          30.5,
          -9.4,
          -38.5,
          -6.8,
          -9.43,
          36.693,
          -18.421,
          -9.849,
          -36.7,
          -36.7,
          43.3,
          8.008,
          17.2,
          41.8,
          39.8,
          52.47,
          -10.385,
          -6.4,
          -24.8,
          40.4,
          -5.7,
          -25.67,
          39.4,
          -31.81,
          -15.9,
          -42.9,
          24.1,
          -10.343,
          45.53,
          -3.7,
          5.5,
          -10.6,
          -28.78,
          -21.7,
          44.08,
          -30.8,
          16.519,
          33.3,
          10.697,
          15.573,
          27.7,
          15.78,
          43.0,
          -52.0,
          -22.28,
          -44.64,
          20.6,
          -20.94,
          51.5,
          -30.5,
          6.5,
          -30.6,
          -38.5,
          35.1,
          -5.0,
          -29.9,
          7.4,
          -1.081,
          -25.856,
          8.249,
          40.739,
          22.282,
          16.01,
          41.956,
          34.53,
          -16.76,
          38.209,
          13.752,
          4.374,
          -9.265,
          38.026,
          8.677,
          40.142,
          -2.823,
          -9.245,
          52.327,
          -10.717,
          -14.074,
          25.149,
          26.755,
          36.788,
          18.986,
          39.837,
          45.533,
          32.536,
          -14.385,
          -28.886,
          34.213,
          23.959,
          -10.777,
          16.779,
          10.598,
          -62.877,
          -2.071,
          13.049,
          23.346,
          -1.757,
          39.16,
          15.775,
          31.394,
          14.944,
          -19.941,
          30.98,
          -0.691,
          14.099,
          25.93,
          46.221,
          18.081,
          34.4,
          1.893,
          31.529,
          -5.462,
          -16.043,
          -55.285,
          -8.24,
          -8.337,
          10.773,
          -4.051,
          -7.282,
          35.193,
          16.325,
          18.308,
          -38.808,
          36.0,
          40.092,
          59.5,
          61.0,
          60.5,
          7.1,
          38.582,
          23.5,
          60.0,
          38.567,
          38.7,
          57.69,
          -41.75,
          34.03,
          40.62,
          -38.85,
          36.808,
          47.167,
          13.0,
          44.712,
          5.8,
          38.384,
          -6.5,
          -18.672,
          36.957,
          -43.583,
          14.71,
          14.0,
          -39.12,
          -40.5,
          10.6,
          -14.0,
          null,
          8.9,
          -41.755,
          -6.102,
          -5.52,
          14.82,
          14.82,
          null,
          -13.612,
          -13.612,
          -13.612,
          -13.612,
          -13.612,
          -13.612,
          -13.612,
          -21.38,
          3.138,
          63.63,
          3.138,
          -6.102,
          -6.102,
          12.77,
          -1.408,
          12.3,
          48.092,
          -9.02,
          -2.4,
          55.978,
          -16.829,
          -8.342,
          12.3,
          -10.38,
          -63.0,
          19.077,
          -5.52,
          -8.54,
          46.2,
          -8.54,
          38.789,
          null,
          null,
          null,
          -14.18,
          null,
          10.0,
          32.5,
          17.0,
          null,
          -23.7,
          39.35,
          33.616,
          33.7,
          null,
          19.5,
          null,
          null,
          39.95,
          38.933,
          43.1,
          -38.0,
          41.7,
          null,
          null,
          null,
          null,
          null,
          37.133,
          null,
          44.4,
          null,
          null,
          null,
          null,
          43.8,
          null,
          50.5,
          null,
          null,
          null,
          null,
          61.866,
          50.42,
          45.77,
          null,
          10.5,
          42.0,
          39.314,
          58.204,
          44.233,
          null,
          62.267,
          62.333,
          28.48,
          null,
          null,
          63.433,
          null,
          null,
          null,
          null,
          null,
          null,
          40.8,
          null,
          59.621,
          59.4,
          -6.7,
          63.56,
          11.517,
          39.374,
          -35.616,
          29.95,
          45.22,
          54.841,
          45.12,
          34.5,
          -44.7,
          43.3,
          43.0,
          30.394,
          31.065,
          null,
          null,
          -9.282,
          59.05,
          59.05,
          31.256,
          65.02,
          31.077,
          15.317,
          50.559,
          50.97,
          -41.142,
          10.158,
          -8.058,
          6.25
         ],
         "legendgroup": "Less than 100",
         "lon": [
          127.85,
          148.0,
          140.0,
          -66.0,
          28.5,
          121.6,
          -86.5,
          -171.02,
          -91.0,
          23.25,
          -107.9,
          123.5,
          143.3,
          127.5,
          13.4,
          -99.2,
          null,
          -70.15,
          -71.0,
          -79.0,
          159.0,
          128.7,
          176.4,
          109.0,
          -82.8,
          22.83,
          -84.68,
          -113.0,
          null,
          76.0,
          142.6,
          42.0,
          168.3,
          168.3,
          123.5,
          9.9,
          -77.033,
          -70.3,
          -72.0,
          149.0,
          0.3,
          -71.0,
          122.0,
          -100.0,
          142.5,
          100.0,
          34.0,
          -159.0,
          101.0,
          -70.5,
          167.2,
          -99.8,
          -112.7,
          152.25,
          166.5,
          127.0,
          125.5,
          20.8,
          152.25,
          126.0,
          -72.0,
          21.013,
          142.0,
          138.0,
          null,
          171.5,
          -73.3,
          -74.0,
          -76.6,
          10.2,
          -72.0,
          101.82,
          20.6,
          133.695,
          20.7,
          null,
          -89.0,
          136.0,
          119.5,
          152.548,
          null,
          -67.77,
          116.0,
          118.08,
          163.0,
          125.0,
          141.729,
          -177.5,
          -71.5,
          103.0,
          -67.214,
          126.0,
          -176.6,
          153.859,
          -88.291,
          -71.6,
          140.75,
          33.0,
          122.92,
          150.0,
          -73.5,
          168.53,
          105.317,
          19.5,
          117.9,
          124.38,
          127.0,
          -73.0,
          143.53,
          128.9,
          124.1,
          123.25,
          100.35,
          95.2,
          23.2,
          122.0,
          -72.0,
          173.0,
          -125.034,
          124.0,
          125.0,
          -70.3,
          154.232,
          153.107,
          -84.515,
          142.436,
          157.5,
          -21.95,
          126.5,
          115.0,
          122.7,
          -71.5,
          122.1,
          125.0,
          -107.0,
          159.215,
          -155.5,
          100.6,
          -2.131,
          23.3,
          -28.59,
          -71.0,
          3.0,
          35.5,
          34.0,
          -73.0,
          119.7,
          -125.0,
          27.4,
          -69.6,
          23.0,
          23.5,
          23.0,
          -69.5,
          29.1,
          26.8,
          -174.36,
          120.9,
          -79.0,
          -70.5,
          -72.0,
          124.0,
          -131.0,
          127.0,
          -78.3,
          119.4,
          -3.0,
          105.3,
          114.3,
          124.57,
          145.46,
          39.667,
          -71.0,
          177.0,
          177.0,
          -72.0,
          1.067,
          142.077,
          102.75,
          -75.691,
          null,
          128.35,
          177.5,
          23.9,
          -64.2,
          -71.0,
          27.299,
          0.6,
          -81.0,
          151.0,
          86.76,
          -18.25,
          -82.5,
          166.731,
          165.503,
          -69.5,
          152.2,
          66.8,
          141.416,
          94.0,
          103.6,
          98.25,
          94.7,
          164.0,
          121.5,
          162.5,
          132.3,
          132.3,
          153.1,
          147.8,
          -72.25,
          14.7,
          155.386,
          -70.5,
          159.234,
          121.25,
          -0.625,
          -79.1,
          123.0,
          13.467,
          -77.0,
          -71.0,
          -74.5,
          33.751,
          -125.25,
          12.2,
          -74.5,
          26.587,
          -70.5,
          -76.25,
          -174.5,
          122.235,
          121.8,
          95.0,
          -106.0,
          -69.0,
          20.0,
          -73.5,
          95.0,
          26.482,
          121.5,
          -71.0,
          -71.0,
          121.63,
          -71.5,
          177.2,
          -83.0,
          -69.819,
          96.5,
          128.3,
          159.5,
          167.5,
          -77.75,
          142.238,
          100.0,
          -85.211,
          169.25,
          -77.5,
          156.5,
          152.868,
          -72.5,
          -70.7,
          20.6,
          20.8,
          32.335,
          null,
          -69.57,
          23.1,
          94.0,
          155.7,
          101.8,
          152.924,
          -70.0,
          175.8,
          25.5,
          23.0,
          -71.0,
          137.0,
          -71.5,
          107.3,
          116.0,
          105.0,
          104.0,
          156.1,
          -115.0,
          148.8,
          -81.5,
          149.0,
          106.5,
          -72.75,
          -9.5,
          152.3,
          -75.1,
          -80.7,
          159.95,
          28.594,
          168.411,
          160.614,
          -73.0,
          -73.0,
          17.1,
          -82.757,
          -99.5,
          142.4,
          25.0,
          -168.54,
          -78.022,
          105.4,
          -176.6,
          139.0,
          150.7,
          -70.63,
          24.0,
          -71.26,
          166.8,
          -75.13,
          122.6,
          160.883,
          151.11,
          119.3,
          97.3,
          -79.8,
          -71.19,
          -69.5,
          8.0,
          -178.4,
          -97.739,
          132.2,
          -62.748,
          -92.536,
          34.0,
          121.71,
          47.1,
          -73.8,
          -70.55,
          173.62,
          122.0,
          -69.81,
          179.1,
          -71.8,
          126.6,
          -71.0,
          -73.4,
          72.9,
          130.0,
          -71.3,
          -78.1,
          146.23,
          -175.406,
          122.403,
          23.229,
          121.512,
          -96.591,
          19.023,
          24.437,
          179.984,
          23.288,
          124.358,
          97.755,
          118.479,
          20.228,
          -83.098,
          24.766,
          118.806,
          114.185,
          -174.504,
          162.33,
          167.828,
          95.127,
          86.616,
          2.448,
          -68.833,
          142.76,
          151.021,
          141.641,
          -178.252,
          -176.819,
          -118.537,
          122.448,
          113.366,
          -98.597,
          -63.486,
          149.527,
          124.891,
          -88.66,
          124.09,
          134.297,
          20.605,
          -61.744,
          140.131,
          -61.274,
          168.953,
          103.396,
          133.305,
          92.888,
          128.425,
          150.788,
          -102.182,
          25.02,
          126.522,
          140.213,
          151.875,
          167.379,
          -31.877,
          116.508,
          116.599,
          -62.902,
          152.597,
          104.791,
          26.256,
          -95.856,
          -102.923,
          175.906,
          -120.5,
          24.627,
          -135.5,
          -146.2,
          -149.0,
          -80.6,
          20.587,
          117.2,
          -146.0,
          14.833,
          -9.2,
          -136.07,
          172.25,
          -118.643,
          27.451,
          178.87,
          21.916,
          -122.617,
          -87.5,
          -111.215,
          95.4,
          22.545,
          146.6,
          178.464,
          49.409,
          172.68,
          -91.59,
          -91.0,
          177.2,
          175.0,
          -66.95,
          -78.0,
          null,
          -73.4,
          -72.396,
          105.423,
          148.121,
          -61.17,
          -61.17,
          null,
          -172.525,
          -172.525,
          -172.525,
          -172.525,
          -172.525,
          -172.525,
          -172.525,
          -175.65,
          125.491,
          -19.05,
          125.491,
          105.423,
          105.423,
          124.05,
          29.2,
          -61.63,
          153.2,
          157.95,
          147.4,
          160.587,
          168.536,
          115.508,
          -61.63,
          165.8,
          -60.5,
          122.202,
          148.121,
          123.59,
          -122.18,
          123.59,
          15.213,
          null,
          null,
          null,
          -169.66,
          null,
          138.0,
          -115.5,
          -104.0,
          null,
          -70.4,
          -74.417,
          -117.966,
          -118.2,
          null,
          -155.5,
          null,
          null,
          -74.12,
          -74.9,
          -82.4,
          -57.0,
          -86.883,
          null,
          null,
          null,
          null,
          null,
          26.833,
          null,
          -67.97,
          null,
          null,
          null,
          null,
          -69.7,
          null,
          -3.0,
          null,
          null,
          null,
          null,
          6.85,
          -121.35,
          -75.6,
          null,
          -61.2,
          -81.0,
          -74.525,
          -134.147,
          -68.35,
          null,
          7.4,
          6.967,
          -16.25,
          null,
          null,
          10.383,
          null,
          null,
          null,
          null,
          null,
          null,
          -73.1,
          null,
          -151.106,
          13.5,
          147.0,
          9.94,
          -69.5,
          -31.229,
          20.267,
          122.14,
          36.72,
          162.035,
          36.7,
          -120.65,
          169.2,
          5.37,
          29.0,
          110.16,
          109.92,
          null,
          null,
          -77.645,
          6.64,
          6.64,
          110.733,
          -16.7,
          109.896,
          108.249,
          131.472,
          -124.6,
          -72.396,
          109.014,
          114.242,
          10.5
         ],
         "marker": {
          "color": "#636efa",
          "size": [
           0.5,
           0.5,
           0.5,
           0.5,
           0.5,
           0.5,
           0.5,
           0.5,
           0.5,
           0.5,
           0.5,
           0.5,
           0.5,
           0.5,
           0.5,
           0.5,
           0.5,
           0.5,
           0.5,
           0.5,
           0.5,
           0.5,
           0.5,
           0.5,
           0.5,
           0.5,
           0.5,
           0.5,
           0.5,
           0.5,
           0.5,
           0.5,
           0.5,
           0.5,
           0.5,
           0.5,
           0.5,
           0.5,
           0.5,
           0.5,
           0.5,
           0.5,
           0.5,
           0.5,
           0.5,
           0.5,
           0.5,
           0.5,
           0.5,
           0.5,
           0.5,
           0.5,
           0.5,
           0.5,
           0.5,
           0.5,
           0.5,
           0.5,
           0.5,
           0.5,
           0.5,
           0.5,
           0.5,
           0.5,
           0.5,
           0.5,
           0.5,
           0.5,
           0.5,
           0.5,
           0.5,
           0.5,
           0.5,
           0.5,
           0.5,
           0.5,
           0.5,
           0.5,
           0.5,
           0.5,
           0.5,
           0.5,
           0.5,
           0.5,
           0.5,
           0.5,
           0.5,
           0.5,
           0.5,
           0.5,
           0.5,
           0.5,
           0.5,
           0.5,
           0.5,
           0.5,
           0.5,
           0.5,
           0.5,
           0.5,
           0.5,
           0.5,
           0.5,
           0.5,
           0.5,
           0.5,
           0.5,
           0.5,
           0.5,
           0.5,
           0.5,
           0.5,
           0.5,
           0.5,
           0.5,
           0.5,
           0.5,
           0.5,
           0.5,
           0.5,
           0.5,
           0.5,
           0.5,
           0.5,
           0.5,
           0.5,
           0.5,
           0.5,
           0.5,
           0.5,
           0.5,
           0.5,
           0.5,
           0.5,
           0.5,
           0.5,
           0.5,
           0.5,
           0.5,
           0.5,
           0.5,
           0.5,
           0.5,
           0.5,
           0.5,
           0.5,
           0.5,
           0.5,
           0.5,
           0.5,
           0.5,
           0.5,
           0.5,
           0.5,
           0.5,
           0.5,
           0.5,
           0.5,
           0.5,
           0.5,
           0.5,
           0.5,
           0.5,
           0.5,
           0.5,
           0.5,
           0.5,
           0.5,
           0.5,
           0.5,
           0.5,
           0.5,
           0.5,
           0.5,
           0.5,
           0.5,
           0.5,
           0.5,
           0.5,
           0.5,
           0.5,
           0.5,
           0.5,
           0.5,
           0.5,
           0.5,
           0.5,
           0.5,
           0.5,
           0.5,
           0.5,
           0.5,
           0.5,
           0.5,
           0.5,
           0.5,
           0.5,
           0.5,
           0.5,
           0.5,
           0.5,
           0.5,
           0.5,
           0.5,
           0.5,
           0.5,
           0.5,
           0.5,
           0.5,
           0.5,
           0.5,
           0.5,
           0.5,
           0.5,
           0.5,
           0.5,
           0.5,
           0.5,
           0.5,
           0.5,
           0.5,
           0.5,
           0.5,
           0.5,
           0.5,
           0.5,
           0.5,
           0.5,
           0.5,
           0.5,
           0.5,
           0.5,
           0.5,
           0.5,
           0.5,
           0.5,
           0.5,
           0.5,
           0.5,
           0.5,
           0.5,
           0.5,
           0.5,
           0.5,
           0.5,
           0.5,
           0.5,
           0.5,
           0.5,
           0.5,
           0.5,
           0.5,
           0.5,
           0.5,
           0.5,
           0.5,
           0.5,
           0.5,
           0.5,
           0.5,
           0.5,
           0.5,
           0.5,
           0.5,
           0.5,
           0.5,
           0.5,
           0.5,
           0.5,
           0.5,
           0.5,
           0.5,
           0.5,
           0.5,
           0.5,
           0.5,
           0.5,
           0.5,
           0.5,
           0.5,
           0.5,
           0.5,
           0.5,
           0.5,
           0.5,
           0.5,
           0.5,
           0.5,
           0.5,
           0.5,
           0.5,
           0.5,
           0.5,
           0.5,
           0.5,
           0.5,
           0.5,
           0.5,
           0.5,
           0.5,
           0.5,
           0.5,
           0.5,
           0.5,
           0.5,
           0.5,
           0.5,
           0.5,
           0.5,
           0.5,
           0.5,
           0.5,
           0.5,
           0.5,
           0.5,
           0.5,
           0.5,
           0.5,
           0.5,
           0.5,
           0.5,
           0.5,
           0.5,
           0.5,
           0.5,
           0.5,
           0.5,
           0.5,
           0.5,
           0.5,
           0.5,
           0.5,
           0.5,
           0.5,
           0.5,
           0.5,
           0.5,
           0.5,
           0.5,
           0.5,
           0.5,
           0.5,
           0.5,
           0.5,
           0.5,
           0.5,
           0.5,
           0.5,
           0.5,
           0.5,
           0.5,
           0.5,
           0.5,
           0.5,
           0.5,
           0.5,
           0.5,
           0.5,
           0.5,
           0.5,
           0.5,
           0.5,
           0.5,
           0.5,
           0.5,
           0.5,
           0.5,
           0.5,
           0.5,
           0.5,
           0.5,
           0.5,
           0.5,
           0.5,
           0.5,
           0.5,
           0.5,
           0.5,
           0.5,
           0.5,
           0.5,
           0.5,
           0.5,
           0.5,
           0.5,
           0.5,
           0.5,
           0.5,
           0.5,
           0.5,
           0.5,
           0.5,
           0.5,
           0.5,
           0.5,
           0.5,
           0.5,
           0.5,
           0.5,
           0.5,
           0.5,
           0.5,
           0.5,
           0.5,
           0.5,
           0.5,
           0.5,
           0.5,
           0.5,
           0.5,
           0.5,
           0.5,
           0.5,
           0.5,
           0.5,
           0.5,
           0.5,
           0.5,
           0.5,
           0.5,
           0.5,
           0.5,
           0.5,
           0.5,
           0.5,
           0.5,
           0.5,
           0.5,
           0.5,
           0.5,
           0.5,
           0.5,
           0.5,
           0.5,
           0.5,
           0.5,
           0.5,
           0.5,
           0.5,
           0.5,
           0.5,
           0.5,
           0.5,
           0.5,
           0.5,
           0.5,
           0.5,
           0.5,
           0.5,
           0.5,
           0.5,
           0.5,
           0.5,
           0.5,
           0.5,
           0.5,
           0.5,
           0.5,
           0.5,
           0.5,
           0.5,
           0.5,
           0.5,
           0.5,
           0.5,
           0.5,
           0.5,
           0.5,
           0.5,
           0.5,
           0.5,
           0.5,
           0.5,
           0.5,
           0.5,
           0.5,
           0.5,
           0.5,
           0.5,
           0.5,
           0.5,
           0.5,
           0.5,
           0.5,
           0.5,
           0.5,
           0.5,
           0.5,
           0.5,
           0.5,
           0.5,
           0.5,
           0.5,
           0.5,
           0.5,
           0.5,
           0.5,
           0.5,
           0.5,
           0.5,
           0.5,
           0.5,
           0.5,
           0.5,
           0.5,
           0.5,
           0.5,
           0.5,
           0.5,
           0.5,
           0.5,
           0.5,
           0.5,
           0.5,
           0.5,
           0.5,
           0.5,
           0.5,
           0.5,
           0.5,
           0.5,
           0.5,
           0.5,
           0.5,
           0.5,
           0.5,
           0.5,
           0.5,
           0.5,
           0.5,
           0.5,
           0.5,
           0.5,
           0.5,
           0.5,
           0.5,
           0.5,
           0.5,
           0.5,
           0.5,
           0.5,
           0.5,
           0.5,
           0.5,
           0.5,
           0.5,
           0.5,
           0.5,
           0.5,
           0.5,
           0.5,
           0.5,
           0.5,
           0.5,
           0.5,
           0.5,
           0.5,
           0.5,
           0.5,
           0.5,
           0.5,
           0.5,
           0.5,
           0.5,
           0.5,
           0.5,
           0.5,
           0.5,
           0.5,
           0.5,
           0.5,
           0.5,
           0.5,
           0.5,
           0.5,
           0.5,
           0.5,
           0.5,
           0.5,
           0.5,
           0.5
          ],
          "sizemode": "area",
          "sizeref": 0.015
         },
         "mode": "markers",
         "name": "Less than 100",
         "showlegend": true,
         "subplot": "mapbox",
         "type": "scattermapbox"
        },
        {
         "customdata": [
          [
           13.5,
           -89.5,
           1.5
          ]
         ],
         "hovertemplate": "<b>%{hovertext}</b><br><br>Number of Deaths=Between 500 and 100<extra></extra>",
         "hovertext": [
          "EL SALVADOR"
         ],
         "lat": [
          13.5
         ],
         "legendgroup": "Between 500 and 100",
         "lon": [
          -89.5
         ],
         "marker": {
          "color": "#EF553B",
          "size": [
           1.5
          ],
          "sizemode": "area",
          "sizeref": 0.015
         },
         "mode": "markers",
         "name": "Between 500 and 100",
         "showlegend": true,
         "subplot": "mapbox",
         "type": "scattermapbox"
        },
        {
         "customdata": [
          [
           46.267,
           12.329,
           6.0
          ]
         ],
         "hovertemplate": "<b>%{hovertext}</b><br><br>Number of Deaths=Over 1000<extra></extra>",
         "hovertext": [
          "ITALY"
         ],
         "lat": [
          46.267
         ],
         "legendgroup": "Over 1000",
         "lon": [
          12.329
         ],
         "marker": {
          "color": "#00cc96",
          "size": [
           6.0
          ],
          "sizemode": "area",
          "sizeref": 0.015
         },
         "mode": "markers",
         "name": "Over 1000",
         "showlegend": true,
         "subplot": "mapbox",
         "type": "scattermapbox"
        },
        {
         "customdata": [
          [
           -11.116,
           -76.5,
           3.5
          ]
         ],
         "hovertemplate": "<b>%{hovertext}</b><br><br>Number of Deaths=Between 1000 and 500<extra></extra>",
         "hovertext": [
          "PERU"
         ],
         "lat": [
          -11.116
         ],
         "legendgroup": "Between 1000 and 500",
         "lon": [
          -76.5
         ],
         "marker": {
          "color": "#ab63fa",
          "size": [
           3.5
          ],
          "sizemode": "area",
          "sizeref": 0.015
         },
         "mode": "markers",
         "name": "Between 1000 and 500",
         "showlegend": true,
         "subplot": "mapbox",
         "type": "scattermapbox"
        }
       ],
       "layout": {
        "template": {
         "data": {
          "histogram2dcontour": [
           {
            "type": "histogram2dcontour",
            "colorbar": {
             "outlinewidth": 0,
             "ticks": ""
            },
            "colorscale": [
             [
              0.0,
              "#0d0887"
             ],
             [
              0.1111111111111111,
              "#46039f"
             ],
             [
              0.2222222222222222,
              "#7201a8"
             ],
             [
              0.3333333333333333,
              "#9c179e"
             ],
             [
              0.4444444444444444,
              "#bd3786"
             ],
             [
              0.5555555555555556,
              "#d8576b"
             ],
             [
              0.6666666666666666,
              "#ed7953"
             ],
             [
              0.7777777777777778,
              "#fb9f3a"
             ],
             [
              0.8888888888888888,
              "#fdca26"
             ],
             [
              1.0,
              "#f0f921"
             ]
            ]
           }
          ],
          "choropleth": [
           {
            "type": "choropleth",
            "colorbar": {
             "outlinewidth": 0,
             "ticks": ""
            }
           }
          ],
          "histogram2d": [
           {
            "type": "histogram2d",
            "colorbar": {
             "outlinewidth": 0,
             "ticks": ""
            },
            "colorscale": [
             [
              0.0,
              "#0d0887"
             ],
             [
              0.1111111111111111,
              "#46039f"
             ],
             [
              0.2222222222222222,
              "#7201a8"
             ],
             [
              0.3333333333333333,
              "#9c179e"
             ],
             [
              0.4444444444444444,
              "#bd3786"
             ],
             [
              0.5555555555555556,
              "#d8576b"
             ],
             [
              0.6666666666666666,
              "#ed7953"
             ],
             [
              0.7777777777777778,
              "#fb9f3a"
             ],
             [
              0.8888888888888888,
              "#fdca26"
             ],
             [
              1.0,
              "#f0f921"
             ]
            ]
           }
          ],
          "heatmap": [
           {
            "type": "heatmap",
            "colorbar": {
             "outlinewidth": 0,
             "ticks": ""
            },
            "colorscale": [
             [
              0.0,
              "#0d0887"
             ],
             [
              0.1111111111111111,
              "#46039f"
             ],
             [
              0.2222222222222222,
              "#7201a8"
             ],
             [
              0.3333333333333333,
              "#9c179e"
             ],
             [
              0.4444444444444444,
              "#bd3786"
             ],
             [
              0.5555555555555556,
              "#d8576b"
             ],
             [
              0.6666666666666666,
              "#ed7953"
             ],
             [
              0.7777777777777778,
              "#fb9f3a"
             ],
             [
              0.8888888888888888,
              "#fdca26"
             ],
             [
              1.0,
              "#f0f921"
             ]
            ]
           }
          ],
          "heatmapgl": [
           {
            "type": "heatmapgl",
            "colorbar": {
             "outlinewidth": 0,
             "ticks": ""
            },
            "colorscale": [
             [
              0.0,
              "#0d0887"
             ],
             [
              0.1111111111111111,
              "#46039f"
             ],
             [
              0.2222222222222222,
              "#7201a8"
             ],
             [
              0.3333333333333333,
              "#9c179e"
             ],
             [
              0.4444444444444444,
              "#bd3786"
             ],
             [
              0.5555555555555556,
              "#d8576b"
             ],
             [
              0.6666666666666666,
              "#ed7953"
             ],
             [
              0.7777777777777778,
              "#fb9f3a"
             ],
             [
              0.8888888888888888,
              "#fdca26"
             ],
             [
              1.0,
              "#f0f921"
             ]
            ]
           }
          ],
          "contourcarpet": [
           {
            "type": "contourcarpet",
            "colorbar": {
             "outlinewidth": 0,
             "ticks": ""
            }
           }
          ],
          "contour": [
           {
            "type": "contour",
            "colorbar": {
             "outlinewidth": 0,
             "ticks": ""
            },
            "colorscale": [
             [
              0.0,
              "#0d0887"
             ],
             [
              0.1111111111111111,
              "#46039f"
             ],
             [
              0.2222222222222222,
              "#7201a8"
             ],
             [
              0.3333333333333333,
              "#9c179e"
             ],
             [
              0.4444444444444444,
              "#bd3786"
             ],
             [
              0.5555555555555556,
              "#d8576b"
             ],
             [
              0.6666666666666666,
              "#ed7953"
             ],
             [
              0.7777777777777778,
              "#fb9f3a"
             ],
             [
              0.8888888888888888,
              "#fdca26"
             ],
             [
              1.0,
              "#f0f921"
             ]
            ]
           }
          ],
          "surface": [
           {
            "type": "surface",
            "colorbar": {
             "outlinewidth": 0,
             "ticks": ""
            },
            "colorscale": [
             [
              0.0,
              "#0d0887"
             ],
             [
              0.1111111111111111,
              "#46039f"
             ],
             [
              0.2222222222222222,
              "#7201a8"
             ],
             [
              0.3333333333333333,
              "#9c179e"
             ],
             [
              0.4444444444444444,
              "#bd3786"
             ],
             [
              0.5555555555555556,
              "#d8576b"
             ],
             [
              0.6666666666666666,
              "#ed7953"
             ],
             [
              0.7777777777777778,
              "#fb9f3a"
             ],
             [
              0.8888888888888888,
              "#fdca26"
             ],
             [
              1.0,
              "#f0f921"
             ]
            ]
           }
          ],
          "mesh3d": [
           {
            "type": "mesh3d",
            "colorbar": {
             "outlinewidth": 0,
             "ticks": ""
            }
           }
          ],
          "scatter": [
           {
            "marker": {
             "line": {
              "color": "#283442"
             }
            },
            "type": "scatter"
           }
          ],
          "parcoords": [
           {
            "type": "parcoords",
            "line": {
             "colorbar": {
              "outlinewidth": 0,
              "ticks": ""
             }
            }
           }
          ],
          "scatterpolargl": [
           {
            "type": "scatterpolargl",
            "marker": {
             "colorbar": {
              "outlinewidth": 0,
              "ticks": ""
             }
            }
           }
          ],
          "bar": [
           {
            "error_x": {
             "color": "#f2f5fa"
            },
            "error_y": {
             "color": "#f2f5fa"
            },
            "marker": {
             "line": {
              "color": "rgb(17,17,17)",
              "width": 0.5
             },
             "pattern": {
              "fillmode": "overlay",
              "size": 10,
              "solidity": 0.2
             }
            },
            "type": "bar"
           }
          ],
          "scattergeo": [
           {
            "type": "scattergeo",
            "marker": {
             "colorbar": {
              "outlinewidth": 0,
              "ticks": ""
             }
            }
           }
          ],
          "scatterpolar": [
           {
            "type": "scatterpolar",
            "marker": {
             "colorbar": {
              "outlinewidth": 0,
              "ticks": ""
             }
            }
           }
          ],
          "histogram": [
           {
            "marker": {
             "pattern": {
              "fillmode": "overlay",
              "size": 10,
              "solidity": 0.2
             }
            },
            "type": "histogram"
           }
          ],
          "scattergl": [
           {
            "marker": {
             "line": {
              "color": "#283442"
             }
            },
            "type": "scattergl"
           }
          ],
          "scatter3d": [
           {
            "type": "scatter3d",
            "line": {
             "colorbar": {
              "outlinewidth": 0,
              "ticks": ""
             }
            },
            "marker": {
             "colorbar": {
              "outlinewidth": 0,
              "ticks": ""
             }
            }
           }
          ],
          "scattermapbox": [
           {
            "type": "scattermapbox",
            "marker": {
             "colorbar": {
              "outlinewidth": 0,
              "ticks": ""
             }
            }
           }
          ],
          "scatterternary": [
           {
            "type": "scatterternary",
            "marker": {
             "colorbar": {
              "outlinewidth": 0,
              "ticks": ""
             }
            }
           }
          ],
          "scattercarpet": [
           {
            "type": "scattercarpet",
            "marker": {
             "colorbar": {
              "outlinewidth": 0,
              "ticks": ""
             }
            }
           }
          ],
          "carpet": [
           {
            "aaxis": {
             "endlinecolor": "#A2B1C6",
             "gridcolor": "#506784",
             "linecolor": "#506784",
             "minorgridcolor": "#506784",
             "startlinecolor": "#A2B1C6"
            },
            "baxis": {
             "endlinecolor": "#A2B1C6",
             "gridcolor": "#506784",
             "linecolor": "#506784",
             "minorgridcolor": "#506784",
             "startlinecolor": "#A2B1C6"
            },
            "type": "carpet"
           }
          ],
          "table": [
           {
            "cells": {
             "fill": {
              "color": "#506784"
             },
             "line": {
              "color": "rgb(17,17,17)"
             }
            },
            "header": {
             "fill": {
              "color": "#2a3f5f"
             },
             "line": {
              "color": "rgb(17,17,17)"
             }
            },
            "type": "table"
           }
          ],
          "barpolar": [
           {
            "marker": {
             "line": {
              "color": "rgb(17,17,17)",
              "width": 0.5
             },
             "pattern": {
              "fillmode": "overlay",
              "size": 10,
              "solidity": 0.2
             }
            },
            "type": "barpolar"
           }
          ],
          "pie": [
           {
            "automargin": true,
            "type": "pie"
           }
          ]
         },
         "layout": {
          "autotypenumbers": "strict",
          "colorway": [
           "#636efa",
           "#EF553B",
           "#00cc96",
           "#ab63fa",
           "#FFA15A",
           "#19d3f3",
           "#FF6692",
           "#B6E880",
           "#FF97FF",
           "#FECB52"
          ],
          "font": {
           "color": "#f2f5fa"
          },
          "hovermode": "closest",
          "hoverlabel": {
           "align": "left"
          },
          "paper_bgcolor": "rgb(17,17,17)",
          "plot_bgcolor": "rgb(17,17,17)",
          "polar": {
           "bgcolor": "rgb(17,17,17)",
           "angularaxis": {
            "gridcolor": "#506784",
            "linecolor": "#506784",
            "ticks": ""
           },
           "radialaxis": {
            "gridcolor": "#506784",
            "linecolor": "#506784",
            "ticks": ""
           }
          },
          "ternary": {
           "bgcolor": "rgb(17,17,17)",
           "aaxis": {
            "gridcolor": "#506784",
            "linecolor": "#506784",
            "ticks": ""
           },
           "baxis": {
            "gridcolor": "#506784",
            "linecolor": "#506784",
            "ticks": ""
           },
           "caxis": {
            "gridcolor": "#506784",
            "linecolor": "#506784",
            "ticks": ""
           }
          },
          "coloraxis": {
           "colorbar": {
            "outlinewidth": 0,
            "ticks": ""
           }
          },
          "colorscale": {
           "sequential": [
            [
             0.0,
             "#0d0887"
            ],
            [
             0.1111111111111111,
             "#46039f"
            ],
            [
             0.2222222222222222,
             "#7201a8"
            ],
            [
             0.3333333333333333,
             "#9c179e"
            ],
            [
             0.4444444444444444,
             "#bd3786"
            ],
            [
             0.5555555555555556,
             "#d8576b"
            ],
            [
             0.6666666666666666,
             "#ed7953"
            ],
            [
             0.7777777777777778,
             "#fb9f3a"
            ],
            [
             0.8888888888888888,
             "#fdca26"
            ],
            [
             1.0,
             "#f0f921"
            ]
           ],
           "sequentialminus": [
            [
             0.0,
             "#0d0887"
            ],
            [
             0.1111111111111111,
             "#46039f"
            ],
            [
             0.2222222222222222,
             "#7201a8"
            ],
            [
             0.3333333333333333,
             "#9c179e"
            ],
            [
             0.4444444444444444,
             "#bd3786"
            ],
            [
             0.5555555555555556,
             "#d8576b"
            ],
            [
             0.6666666666666666,
             "#ed7953"
            ],
            [
             0.7777777777777778,
             "#fb9f3a"
            ],
            [
             0.8888888888888888,
             "#fdca26"
            ],
            [
             1.0,
             "#f0f921"
            ]
           ],
           "diverging": [
            [
             0,
             "#8e0152"
            ],
            [
             0.1,
             "#c51b7d"
            ],
            [
             0.2,
             "#de77ae"
            ],
            [
             0.3,
             "#f1b6da"
            ],
            [
             0.4,
             "#fde0ef"
            ],
            [
             0.5,
             "#f7f7f7"
            ],
            [
             0.6,
             "#e6f5d0"
            ],
            [
             0.7,
             "#b8e186"
            ],
            [
             0.8,
             "#7fbc41"
            ],
            [
             0.9,
             "#4d9221"
            ],
            [
             1,
             "#276419"
            ]
           ]
          },
          "xaxis": {
           "gridcolor": "#283442",
           "linecolor": "#506784",
           "ticks": "",
           "title": {
            "standoff": 15
           },
           "zerolinecolor": "#283442",
           "automargin": true,
           "zerolinewidth": 2
          },
          "yaxis": {
           "gridcolor": "#283442",
           "linecolor": "#506784",
           "ticks": "",
           "title": {
            "standoff": 15
           },
           "zerolinecolor": "#283442",
           "automargin": true,
           "zerolinewidth": 2
          },
          "scene": {
           "xaxis": {
            "backgroundcolor": "rgb(17,17,17)",
            "gridcolor": "#506784",
            "linecolor": "#506784",
            "showbackground": true,
            "ticks": "",
            "zerolinecolor": "#C8D4E3",
            "gridwidth": 2
           },
           "yaxis": {
            "backgroundcolor": "rgb(17,17,17)",
            "gridcolor": "#506784",
            "linecolor": "#506784",
            "showbackground": true,
            "ticks": "",
            "zerolinecolor": "#C8D4E3",
            "gridwidth": 2
           },
           "zaxis": {
            "backgroundcolor": "rgb(17,17,17)",
            "gridcolor": "#506784",
            "linecolor": "#506784",
            "showbackground": true,
            "ticks": "",
            "zerolinecolor": "#C8D4E3",
            "gridwidth": 2
           }
          },
          "shapedefaults": {
           "line": {
            "color": "#f2f5fa"
           }
          },
          "annotationdefaults": {
           "arrowcolor": "#f2f5fa",
           "arrowhead": 0,
           "arrowwidth": 1
          },
          "geo": {
           "bgcolor": "rgb(17,17,17)",
           "landcolor": "rgb(17,17,17)",
           "subunitcolor": "#506784",
           "showland": true,
           "showlakes": true,
           "lakecolor": "rgb(17,17,17)"
          },
          "title": {
           "x": 0.05
          },
          "updatemenudefaults": {
           "bgcolor": "#506784",
           "borderwidth": 0
          },
          "sliderdefaults": {
           "bgcolor": "#C8D4E3",
           "borderwidth": 1,
           "bordercolor": "rgb(17,17,17)",
           "tickwidth": 0
          },
          "mapbox": {
           "style": "dark"
          }
         }
        },
        "mapbox": {
         "domain": {
          "x": [
           0.0,
           1.0
          ],
          "y": [
           0.0,
           1.0
          ]
         },
         "center": {
          "lat": 0,
          "lon": 210
         },
         "zoom": 0.5,
         "style": "carto-positron"
        },
        "legend": {
         "title": {
          "text": "Number of Deaths"
         },
         "tracegroupgap": 0,
         "itemsizing": "constant"
        },
        "margin": {
         "t": 60
        },
        "title": {
         "text": "<b>World Tsunami's locations",
         "x": 0.5
        },
        "width": 1000,
        "height": 500
       },
       "config": {
        "plotlyServerURL": "https://plot.ly"
       }
      },
      "text/html": "<div>                            <div id=\"f42c38d5-7d7a-480c-a556-050f336b941c\" class=\"plotly-graph-div\" style=\"height:500px; width:1000px;\"></div>            <script type=\"text/javascript\">                require([\"plotly\"], function(Plotly) {                    window.PLOTLYENV=window.PLOTLYENV || {};                                    if (document.getElementById(\"f42c38d5-7d7a-480c-a556-050f336b941c\")) {                    Plotly.newPlot(                        \"f42c38d5-7d7a-480c-a556-050f336b941c\",                        [{\"customdata\":[[1.82,127.85,0.5],[-5.0,148.0,0.5],[-4.0,140.0,0.5],[11.0,-66.0,0.5],[43.4,28.5,0.5],[14.0,121.6,0.5],[11.0,-86.5,0.5],[51.45,-171.02,0.5],[14.0,-91.0,0.5],[40.75,23.25,0.5],[24.6,-107.9,0.5],[7.5,123.5,0.5],[14.0,143.3,0.5],[-3.0,127.5,0.5],[38.1,13.4,0.5],[16.7,-99.2,0.5],[null,null,0.5],[-20.2,-70.15,0.5],[-28.5,-71.0,0.5],[7.0,-79.0,0.5],[52.0,159.0,0.5],[-3.6,128.7,0.5],[-40.4,176.4,0.5],[-7.7,109.0,0.5],[9.2,-82.8,0.5],[39.66,22.83,0.5],[9.85,-84.68,0.5],[19.0,-113.0,0.5],[null,null,0.5],[33.0,76.0,0.5],[37.4,142.6,0.5],[42.0,42.0,0.5],[-17.7,168.3,0.5],[-17.7,168.3,0.5],[11.0,123.5,0.5],[37.3,9.9,0.5],[3.9,-77.033,0.5],[-18.5,-70.3,0.5],[-33.0,-72.0,0.5],[-4.0,149.0,0.5],[6.5,0.3,0.5],[-18.0,-71.0,0.5],[3.0,122.0,0.5],[17.0,-100.0,0.5],[-3.1,142.5,0.5],[-2.0,100.0,0.5],[44.0,34.0,0.5],[-21.0,-159.0,0.5],[-2.0,101.0,0.5],[-26.5,-70.5,0.5],[-15.5,167.2,0.5],[16.8,-99.8,0.5],[41.8,-112.7,0.5],[-4.25,152.25,0.5],[-14.0,166.5,0.5],[4.0,127.0,0.5],[9.0,125.5,0.5],[40.9,20.8,0.5],[-4.25,152.25,0.5],[9.0,126.0,0.5],[-20.0,-72.0,0.5],[37.928,21.013,0.5],[40.5,142.0,0.5],[7.0,138.0,0.5],[null,null,0.5],[-41.8,171.5,0.5],[-16.6,-73.3,0.5],[-17.0,-74.0,0.5],[-12.0,-76.6,0.5],[43.5,10.2,0.5],[-17.0,-72.0,0.5],[-3.924,101.82,0.5],[38.4,20.6,0.5],[-3.644,133.695,0.5],[38.5,20.7,0.5],[null,null,0.5],[14.0,-89.0,0.5],[-1.0,136.0,0.5],[18.0,119.5,0.5],[-4.739,152.548,0.5],[null,null,0.5],[10.46,-67.77,0.5],[-7.0,116.0,0.5],[24.47,118.08,0.5],[56.5,163.0,0.5],[6.0,125.0,0.5],[-3.705,141.729,0.5],[-29.0,-177.5,0.5],[-28.5,-71.5,0.5],[26.9,103.0,0.5],[18.441,-67.214,0.5],[8.0,126.0,0.5],[-19.6,-176.6,0.5],[-4.806,153.859,0.5],[12.33,-88.291,0.5],[10.6,-71.6,0.5],[-2.55,140.75,0.5],[44.0,33.0,0.5],[0.87,122.92,0.5],[-6.5,150.0,0.5],[-38.0,-73.5,0.5],[-19.919,168.53,0.5],[36.601,105.317,0.5],[40.5,19.5,0.5],[0.7,117.9,0.5],[40.13,124.38,0.5],[8.0,127.0,0.5],[-16.5,-73.0,0.5],[-7.111,143.53,0.5],[-3.3,128.9,0.5],[10.2,124.1,0.5],[9.0,123.25,0.5],[-1.0,100.35,0.5],[5.5,95.2,0.5],[37.5,23.2,0.5],[24.5,122.0,0.5],[-28.0,-72.0,0.5],[-43.0,173.0,0.5],[40.482,-125.034,0.5],[6.5,124.0,0.5],[9.3,125.0,0.5],[-18.5,-70.3,0.5],[-4.653,154.232,0.5],[-4.539,153.107,0.5],[9.587,-84.515,0.5],[49.179,142.436,0.5],[-56.0,157.5,0.5],[64.15,-21.95,0.5],[8.5,126.5,0.5],[-8.0,115.0,0.5],[9.3,122.7,0.5],[-26.0,-71.5,0.5],[12.2,122.1,0.5],[13.0,125.0,0.5],[18.5,-107.0,0.5],[-10.061,159.215,0.5],[20.5,-155.5,0.5],[-0.7,100.6,0.5],[49.21,-2.131,0.5],[36.5,23.3,0.5],[37.973,-28.59,0.5],[-28.0,-71.0,0.5],[59.0,3.0,0.5],[32.0,35.5,0.5],[44.3,34.0,0.5],[-44.6,-73.0,0.5],[-0.7,119.7,0.5],[49.0,-125.0,0.5],[38.1,27.4,0.5],[-13.0,-69.6,0.5],[38.0,23.0,0.5],[38.0,23.5,0.5],[38.0,23.0,0.5],[-13.0,-69.5,0.5],[39.6,29.1,0.5],[40.8,26.8,0.5],[-19.83,-174.36,0.5],[12.4,120.9,0.5],[-5.5,-79.0,0.5],[-22.5,-70.5,0.5],[-35.0,-72.0,0.5],[7.0,124.0,0.5],[51.0,-131.0,0.5],[8.5,127.0,0.5],[42.9,-78.3,0.5],[32.2,119.4,0.5],[36.0,-3.0,0.5],[-5.6,105.3,0.5],[-9.3,114.3,0.5],[1.2,124.57,0.5],[-4.423,145.46,0.5],[-4.05,39.667,0.5],[-28.5,-71.0,0.5],[-39.5,177.0,0.5],[-39.5,177.0,0.5],[-32.5,-72.0,0.5],[54.0,1.067,0.5],[-3.417,142.077,0.5],[-5.0,102.75,0.5],[19.706,-75.691,0.5],[null,null,0.5],[-3.57,128.35,0.5],[-39.0,177.5,0.5],[40.5,23.9,0.5],[10.5,-64.2,0.5],[-20.0,-71.0,0.5],[36.759,27.299,0.5],[6.9,0.6,0.5],[-2.0,-81.0,0.5],[-5.0,151.0,0.5],[26.773,86.76,0.5],[66.0,-18.25,0.5],[8.0,-82.5,0.5],[-11.907,166.731,0.5],[-11.139,165.503,0.5],[-19.5,-69.5,0.5],[-4.2,152.2,0.5],[29.5,66.8,0.5],[-3.824,141.416,0.5],[5.5,94.0,0.5],[28.7,103.6,0.5],[0.001,98.25,0.5],[6.1,94.7,0.5],[55.2,164.0,0.5],[14.5,121.5,0.5],[56.0,162.5,0.5],[-3.0,132.3,0.5],[-3.0,132.3,0.5],[-5.1,153.1,0.5],[-6.0,147.8,0.5],[-36.25,-72.25,0.5],[38.5,14.7,0.5],[-7.08,155.386,0.5],[-27.0,-70.5,0.5],[-9.295,159.234,0.5],[13.5,121.25,0.5],[5.568,-0.625,0.5],[22.2,-79.1,0.5],[0.0,123.0,0.5],[38.067,13.467,0.5],[-10.5,-77.0,0.5],[-22.0,-71.0,0.5],[-41.5,-74.5,0.5],[35.221,33.751,0.5],[40.5,-125.25,0.5],[38.3,12.2,0.5],[4.6,-74.5,0.5],[39.509,26.587,0.5],[-26.5,-70.5,0.5],[-14.0,-76.25,0.5],[51.5,-174.5,0.5],[10.714,122.235,0.5],[37.2,121.8,0.5],[6.0,95.0,0.5],[22.0,-106.0,0.5],[-22.5,-69.0,0.5],[38.2,20.0,0.5],[-38.0,-73.5,0.5],[5.0,95.0,0.5],[38.718,26.482,0.5],[17.0,121.5,0.5],[-54.0,-71.0,0.5],[-54.0,-71.0,0.5],[17.0,121.63,0.5],[-53.5,-71.5,0.5],[-37.8,177.2,0.5],[6.5,-83.0,0.5],[9.71,-69.819,0.5],[28.5,96.5,0.5],[-3.8,128.3,0.5],[-10.0,159.5,0.5],[-18.25,167.5,0.5],[-14.25,-77.75,0.5],[-3.252,142.238,0.5],[26.7,100.0,0.5],[10.088,-85.211,0.5],[-18.5,169.25,0.5],[-12.0,-77.5,0.5],[50.0,156.5,0.5],[-4.449,152.868,0.5],[-36.5,-72.5,0.5],[19.8,-70.7,0.5],[38.1,20.6,0.5],[38.3,20.8,0.5],[34.741,32.335,0.5],[null,null,0.5],[11.46,-69.57,0.5],[39.4,23.1,0.5],[6.5,94.0,0.5],[-6.9,155.7,0.5],[26.6,101.8,0.5],[-5.1,152.924,0.5],[-19.0,-70.0,0.5],[-38.9,175.8,0.5],[36.8,25.5,0.5],[39.5,23.0,0.5],[-25.5,-71.0,0.5],[-1.5,137.0,0.5],[-23.5,-71.5,0.5],[-8.2,107.3,0.5],[-2.0,116.0,0.5],[31.5,105.0,0.5],[-4.5,104.0,0.5],[48.6,156.1,0.5],[-50.0,-115.0,0.5],[44.2,148.8,0.5],[-4.0,-81.5,0.5],[44.3,149.0,0.5],[52.0,106.5,0.5],[-15.75,-72.75,0.5],[30.5,-9.5,0.5],[-9.4,152.3,0.5],[-38.5,-75.1,0.5],[-6.8,-80.7,0.5],[-9.43,159.95,0.5],[36.693,28.594,0.5],[-18.421,168.411,0.5],[-9.849,160.614,0.5],[-36.7,-73.0,0.5],[-36.7,-73.0,0.5],[43.3,17.1,0.5],[8.008,-82.757,0.5],[17.2,-99.5,0.5],[41.8,142.4,0.5],[39.8,25.0,0.5],[52.47,-168.54,0.5],[-10.385,-78.022,0.5],[-6.4,105.4,0.5],[-24.8,-176.6,0.5],[40.4,139.0,0.5],[-5.7,150.7,0.5],[-25.67,-70.63,0.5],[39.4,24.0,0.5],[-31.81,-71.26,0.5],[-15.9,166.8,0.5],[-42.9,-75.13,0.5],[24.1,122.6,0.5],[-10.343,160.883,0.5],[45.53,151.11,0.5],[-3.7,119.3,0.5],[5.5,97.3,0.5],[-10.6,-79.8,0.5],[-28.78,-71.19,0.5],[-21.7,-69.5,0.5],[44.08,8.0,0.5],[-30.8,-178.4,0.5],[16.519,-97.739,0.5],[33.3,132.2,0.5],[10.697,-62.748,0.5],[15.573,-92.536,0.5],[27.7,34.0,0.5],[15.78,121.71,0.5],[43.0,47.1,0.5],[-52.0,-73.8,0.5],[-22.28,-70.55,0.5],[-44.64,173.62,0.5],[20.6,122.0,0.5],[-20.94,-69.81,0.5],[51.5,179.1,0.5],[-30.5,-71.8,0.5],[6.5,126.6,0.5],[-30.6,-71.0,0.5],[-38.5,-73.4,0.5],[35.1,72.9,0.5],[-5.0,130.0,0.5],[-29.9,-71.3,0.5],[7.4,-78.1,0.5],[-1.081,146.23,0.5],[-25.856,-175.406,0.5],[8.249,122.403,0.5],[40.739,23.229,0.5],[22.282,121.512,0.5],[16.01,-96.591,0.5],[41.956,19.023,0.5],[34.53,24.437,0.5],[-16.76,179.984,0.5],[38.209,23.288,0.5],[13.752,124.358,0.5],[4.374,97.755,0.5],[-9.265,118.479,0.5],[38.026,20.228,0.5],[8.677,-83.098,0.5],[40.142,24.766,0.5],[-2.823,118.806,0.5],[-9.245,114.185,0.5],[52.327,-174.504,0.5],[-10.717,162.33,0.5],[-14.074,167.828,0.5],[25.149,95.127,0.5],[26.755,86.616,0.5],[36.788,2.448,0.5],[18.986,-68.833,0.5],[39.837,142.76,0.5],[45.533,151.021,0.5],[32.536,141.641,0.5],[-14.385,-178.252,0.5],[-28.886,-176.819,0.5],[34.213,-118.537,0.5],[23.959,122.448,0.5],[-10.777,113.366,0.5],[16.779,-98.597,0.5],[10.598,-63.486,0.5],[-62.877,149.527,0.5],[-2.071,124.891,0.5],[13.049,-88.66,0.5],[23.346,124.09,0.5],[-1.757,134.297,0.5],[39.16,20.605,0.5],[15.775,-61.744,0.5],[31.394,140.131,0.5],[14.944,-61.274,0.5],[-19.941,168.953,0.5],[30.98,103.396,0.5],[-0.691,133.305,0.5],[14.099,92.888,0.5],[25.93,128.425,0.5],[46.221,150.788,0.5],[18.081,-102.182,0.5],[34.4,25.02,0.5],[1.893,126.522,0.5],[31.529,140.213,0.5],[-5.462,151.875,0.5],[-16.043,167.379,0.5],[-55.285,-31.877,0.5],[-8.24,116.508,0.5],[-8.337,116.599,0.5],[10.773,-62.902,0.5],[-4.051,152.597,0.5],[-7.282,104.791,0.5],[35.193,26.256,0.5],[16.325,-95.856,0.5],[18.308,-102.923,0.5],[-38.808,175.906,0.5],[36.0,-120.5,0.5],[40.092,24.627,0.5],[59.5,-135.5,0.5],[61.0,-146.2,0.5],[60.5,-149.0,0.5],[7.1,-80.6,0.5],[38.582,20.587,0.5],[23.5,117.2,0.5],[60.0,-146.0,0.5],[38.567,14.833,0.5],[38.7,-9.2,0.5],[57.69,-136.07,0.5],[-41.75,172.25,0.5],[34.03,-118.643,0.5],[40.62,27.451,0.5],[-38.85,178.87,0.5],[36.808,21.916,0.5],[47.167,-122.617,0.5],[13.0,-87.5,0.5],[44.712,-111.215,0.5],[5.8,95.4,0.5],[38.384,22.545,0.5],[-6.5,146.6,0.5],[-18.672,178.464,0.5],[36.957,49.409,0.5],[-43.583,172.68,0.5],[14.71,-91.59,0.5],[14.0,-91.0,0.5],[-39.12,177.2,0.5],[-40.5,175.0,0.5],[10.6,-66.95,0.5],[-14.0,-78.0,0.5],[null,null,0.5],[8.9,-73.4,0.5],[-41.755,-72.396,0.5],[-6.102,105.423,0.5],[-5.52,148.121,0.5],[14.82,-61.17,0.5],[14.82,-61.17,0.5],[null,null,0.5],[-13.612,-172.525,0.5],[-13.612,-172.525,0.5],[-13.612,-172.525,0.5],[-13.612,-172.525,0.5],[-13.612,-172.525,0.5],[-13.612,-172.525,0.5],[-13.612,-172.525,0.5],[-21.38,-175.65,0.5],[3.138,125.491,0.5],[63.63,-19.05,0.5],[3.138,125.491,0.5],[-6.102,105.423,0.5],[-6.102,105.423,0.5],[12.77,124.05,0.5],[-1.408,29.2,0.5],[12.3,-61.63,0.5],[48.092,153.2,0.5],[-9.02,157.95,0.5],[-2.4,147.4,0.5],[55.978,160.587,0.5],[-16.829,168.536,0.5],[-8.342,115.508,0.5],[12.3,-61.63,0.5],[-10.38,165.8,0.5],[-63.0,-60.5,0.5],[19.077,122.202,0.5],[-5.52,148.121,0.5],[-8.54,123.59,0.5],[46.2,-122.18,0.5],[-8.54,123.59,0.5],[38.789,15.213,0.5],[null,null,0.5],[null,null,0.5],[null,null,0.5],[-14.18,-169.66,0.5],[null,null,0.5],[10.0,138.0,0.5],[32.5,-115.5,0.5],[17.0,-104.0,0.5],[null,null,0.5],[-23.7,-70.4,0.5],[39.35,-74.417,0.5],[33.616,-117.966,0.5],[33.7,-118.2,0.5],[null,null,0.5],[19.5,-155.5,0.5],[null,null,0.5],[null,null,0.5],[39.95,-74.12,0.5],[38.933,-74.9,0.5],[43.1,-82.4,0.5],[-38.0,-57.0,0.5],[41.7,-86.883,0.5],[null,null,0.5],[null,null,0.5],[null,null,0.5],[null,null,0.5],[null,null,0.5],[37.133,26.833,0.5],[null,null,0.5],[44.4,-67.97,0.5],[null,null,0.5],[null,null,0.5],[null,null,0.5],[null,null,0.5],[43.8,-69.7,0.5],[null,null,0.5],[50.5,-3.0,0.5],[null,null,0.5],[null,null,0.5],[null,null,0.5],[null,null,0.5],[61.866,6.85,0.5],[50.42,-121.35,0.5],[45.77,-75.6,0.5],[null,null,0.5],[10.5,-61.2,0.5],[42.0,-81.0,0.5],[39.314,-74.525,0.5],[58.204,-134.147,0.5],[44.233,-68.35,0.5],[null,null,0.5],[62.267,7.4,0.5],[62.333,6.967,0.5],[28.48,-16.25,0.5],[null,null,0.5],[null,null,0.5],[63.433,10.383,0.5],[null,null,0.5],[null,null,0.5],[null,null,0.5],[null,null,0.5],[null,null,0.5],[null,null,0.5],[40.8,-73.1,0.5],[null,null,0.5],[59.621,-151.106,0.5],[59.4,13.5,0.5],[-6.7,147.0,0.5],[63.56,9.94,0.5],[11.517,-69.5,0.5],[39.374,-31.229,0.5],[-35.616,20.267,0.5],[29.95,122.14,0.5],[45.22,36.72,0.5],[54.841,162.035,0.5],[45.12,36.7,0.5],[34.5,-120.65,0.5],[-44.7,169.2,0.5],[43.3,5.37,0.5],[43.0,29.0,0.5],[30.394,110.16,0.5],[31.065,109.92,0.5],[null,null,0.5],[null,null,0.5],[-9.282,-77.645,0.5],[59.05,6.64,0.5],[59.05,6.64,0.5],[31.256,110.733,0.5],[65.02,-16.7,0.5],[31.077,109.896,0.5],[15.317,108.249,0.5],[50.559,131.472,0.5],[50.97,-124.6,0.5],[-41.142,-72.396,0.5],[10.158,109.014,0.5],[-8.058,114.242,0.5],[6.25,10.5,0.5]],\"hovertemplate\":\"\\u003cb\\u003e%{hovertext}\\u003c\\u002fb\\u003e\\u003cbr\\u003e\\u003cbr\\u003eNumber of Deaths=Less than 100\\u003cextra\\u003e\\u003c\\u002fextra\\u003e\",\"hovertext\":[\"INDONESIA\",\"PAPUA NEW GUINEA\",\"INDONESIA\",\"VENEZUELA\",\"BULGARIA\",\"PHILIPPINES\",\"NICARAGUA\",\"USA\",\"GUATEMALA\",\"GREECE\",\"MEXICO\",\"PHILIPPINES\",\"USA TERRITORY\",\"INDONESIA\",\"ITALY\",\"MEXICO\",\"TAIWAN\",\"CHILE\",\"CHILE\",\"COLOMBIA\",\"RUSSIA\",\"INDONESIA\",\"NEW ZEALAND\",\"INDONESIA\",\"PANAMA\",\"GREECE\",\"COSTA RICA\",\"MEXICO\",\"VANUATU\",\"INDIA\",\"JAPAN\",\"GEORGIA\",\"VANUATU\",\"VANUATU\",\"PHILIPPINES\",\"TUNISIA\",\"COLOMBIA\",\"CHILE\",\"CHILE\",\"PAPUA NEW GUINEA\",\"GHANA\",\"PERU\",\"INDONESIA\",\"MEXICO\",\"PAPUA NEW GUINEA\",\"INDONESIA\",\"UKRAINE\",\"COOK ISLANDS\",\"INDONESIA\",\"CHILE\",\"VANUATU\",\"MEXICO\",\"USA\",\"PAPUA NEW GUINEA\",\"VANUATU\",\"INDONESIA\",\"PHILIPPINES\",\"ALBANIA\",\"PAPUA NEW GUINEA\",\"PHILIPPINES\",\"CHILE\",\"GREECE\",\"JAPAN\",\"MICRONESIA, FED. STATES OF\",\"MICRONESIA, FED. STATES OF\",\"NEW ZEALAND\",\"PERU\",\"PERU\",\"PERU\",\"ITALY\",\"PERU\",\"INDONESIA\",\"GREECE\",\"INDONESIA\",\"GREECE\",\"PAPUA NEW GUINEA\",\"EL SALVADOR\",\"INDONESIA\",\"PHILIPPINES\",\"PAPUA NEW GUINEA\",\"COSTA RICA\",\"VENEZUELA\",\"INDONESIA\",\"CHINA\",\"RUSSIA\",\"PHILIPPINES\",\"PAPUA NEW GUINEA\",\"NEW ZEALAND\",\"CHILE\",\"CHINA\",\"USA TERRITORY\",\"PHILIPPINES\",\"TONGA\",\"PAPUA NEW GUINEA\",\"NICARAGUA\",\"VENEZUELA\",\"INDONESIA\",\"UKRAINE\",\"INDONESIA\",\"PAPUA NEW GUINEA\",\"CHILE\",\"VANUATU\",\"CHINA\",\"ALBANIA\",\"INDONESIA\",\"CHINA\",\"PHILIPPINES\",\"PERU\",\"PAPUA NEW GUINEA\",\"INDONESIA\",\"PHILIPPINES\",\"PHILIPPINES\",\"INDONESIA\",\"INDONESIA\",\"GREECE\",\"TAIWAN\",\"CHILE\",\"NEW ZEALAND\",\"USA\",\"PHILIPPINES\",\"PHILIPPINES\",\"CHILE\",\"PAPUA NEW GUINEA\",\"PAPUA NEW GUINEA\",\"COSTA RICA\",\"RUSSIA\",\"AUSTRALIA\",\"ICELAND\",\"PHILIPPINES\",\"INDONESIA\",\"PHILIPPINES\",\"CHILE\",\"PHILIPPINES\",\"PHILIPPINES\",\"MEXICO\",\"SOLOMON ISLANDS\",\"USA\",\"INDONESIA\",\"UK\",\"GREECE\",\"PORTUGAL\",\"CHILE\",\"NORWAY\",\"ISRAEL\",\"UKRAINE\",\"CHILE\",\"INDONESIA\",\"CANADA\",\"GREECE\",\"PERU\",\"GREECE\",\"GREECE\",\"GREECE\",\"PERU\",\"GREECE\",\"TURKEY\",\"TONGA\",\"PHILIPPINES\",\"PERU\",\"CHILE\",\"CHILE\",\"PHILIPPINES\",\"CANADA\",\"PHILIPPINES\",\"USA\",\"CHINA\",\"SPAIN\",\"INDONESIA\",\"INDONESIA\",\"INDONESIA\",\"PAPUA NEW GUINEA\",\"KENYA\",\"CHILE\",\"NEW ZEALAND\",\"NEW ZEALAND\",\"CHILE\",\"UK\",\"PAPUA NEW GUINEA\",\"INDONESIA\",\"CUBA\",\"MEXICO\",\"INDONESIA\",\"NEW ZEALAND\",\"GREECE\",\"VENEZUELA\",\"CHILE\",\"GREECE\",\"TOGO\",\"ECUADOR\",\"PAPUA NEW GUINEA\",\"NEPAL\",\"ICELAND\",\"PANAMA\",\"SOLOMON ISLANDS\",\"SOLOMON ISLANDS\",\"CHILE\",\"PAPUA NEW GUINEA\",\"PAKISTAN\",\"PAPUA NEW GUINEA\",\"INDONESIA\",\"CHINA\",\"INDONESIA\",\"INDONESIA\",\"RUSSIA\",\"PHILIPPINES\",\"RUSSIA\",\"INDONESIA\",\"INDONESIA\",\"PAPUA NEW GUINEA\",\"PAPUA NEW GUINEA\",\"CHILE\",\"ITALY\",\"PAPUA NEW GUINEA\",\"CHILE\",\"SOLOMON ISLANDS\",\"PHILIPPINES\",\"GHANA\",\"CUBA\",\"INDONESIA\",\"ITALY\",\"PERU\",\"CHILE\",\"CHILE\",\"CYPRUS\",\"USA\",\"ITALY\",\"COLOMBIA\",\"TURKEY\",\"CHILE\",\"PERU\",\"USA\",\"PHILIPPINES\",\"CHINA\",\"INDONESIA\",\"MEXICO\",\"CHILE\",\"GREECE\",\"CHILE\",\"INDONESIA\",\"GREECE\",\"PHILIPPINES\",\"CHILE\",\"CHILE\",\"PHILIPPINES\",\"CHILE\",\"NEW ZEALAND\",\"PANAMA\",\"VENEZUELA\",\"INDIA\",\"INDONESIA\",\"SOLOMON ISLANDS\",\"VANUATU\",\"PERU\",\"PAPUA NEW GUINEA\",\"CHINA\",\"COSTA RICA\",\"VANUATU\",\"PERU\",\"RUSSIA\",\"PAPUA NEW GUINEA\",\"CHILE\",\"DOMINICAN REPUBLIC\",\"GREECE\",\"GREECE\",\"CYPRUS\",\"CHINA\",\"VENEZUELA\",\"GREECE\",\"INDIA\",\"PAPUA NEW GUINEA\",\"CHINA\",\"PAPUA NEW GUINEA\",\"CHILE\",\"NEW ZEALAND\",\"GREECE\",\"GREECE\",\"CHILE\",\"INDONESIA\",\"CHILE\",\"INDONESIA\",\"INDONESIA\",\"CHINA\",\"INDONESIA\",\"RUSSIA\",\"PACIFIC OCEAN\",\"RUSSIA\",\"PERU\",\"RUSSIA\",\"RUSSIA\",\"PERU\",\"MOROCCO\",\"PAPUA NEW GUINEA\",\"CHILE\",\"PERU\",\"SOLOMON ISLANDS\",\"TURKEY\",\"VANUATU\",\"SOLOMON ISLANDS\",\"CHILE\",\"CHILE\",\"CROATIA\",\"PANAMA\",\"MEXICO\",\"JAPAN\",\"GREECE\",\"USA\",\"PERU\",\"INDONESIA\",\"TONGA\",\"JAPAN\",\"PAPUA NEW GUINEA\",\"CHILE\",\"GREECE\",\"CHILE\",\"VANUATU\",\"CHILE\",\"TAIWAN\",\"SOLOMON ISLANDS\",\"RUSSIA\",\"INDONESIA\",\"INDONESIA\",\"PERU\",\"CHILE\",\"CHILE\",\"ITALY\",\"NEW ZEALAND\",\"MEXICO\",\"JAPAN\",\"VENEZUELA\",\"MEXICO\",\"EGYPT\",\"PHILIPPINES\",\"RUSSIA\",\"CHILE\",\"CHILE\",\"NEW ZEALAND\",\"PHILIPPINES\",\"CHILE\",\"USA\",\"CHILE\",\"PHILIPPINES\",\"CHILE\",\"CHILE\",\"PAKISTAN\",\"INDONESIA\",\"CHILE\",\"PANAMA\",\"PAPUA NEW GUINEA\",\"TONGA\",\"PHILIPPINES\",\"GREECE\",\"TAIWAN\",\"MEXICO\",\"MONTENEGRO\",\"GREECE\",\"FIJI\",\"GREECE\",\"PHILIPPINES\",\"INDONESIA\",\"INDONESIA\",\"GREECE\",\"COSTA RICA\",\"GREECE\",\"INDONESIA\",\"INDONESIA\",\"USA\",\"SOLOMON ISLANDS\",\"VANUATU\",\"BANGLADESH\",\"BANGLADESH\",\"ALGERIA\",\"USA TERRITORY\",\"JAPAN\",\"RUSSIA\",\"JAPAN\",\"WALLIS AND FUTUNA (FRENCH TERRITORY)\",\"NEW ZEALAND\",\"USA\",\"TAIWAN\",\"INDONESIA\",\"MEXICO\",\"VENEZUELA\",\"ANTARCTICA\",\"INDONESIA\",\"EL SALVADOR\",\"JAPAN\",\"INDONESIA\",\"GREECE\",\"GUADELOUPE (FRENCH TERRITORY)\",\"JAPAN\",\"MARTINIQUE (FRENCH TERRITORY)\",\"VANUATU\",\"CHINA\",\"INDONESIA\",\"INDIA\",\"JAPAN\",\"RUSSIA\",\"MEXICO\",\"GREECE\",\"INDONESIA\",\"JAPAN\",\"PAPUA NEW GUINEA\",\"VANUATU\",\"UK TERRITORY\",\"INDONESIA\",\"INDONESIA\",\"VENEZUELA\",\"PAPUA NEW GUINEA\",\"INDONESIA\",\"GREECE\",\"MEXICO\",\"MEXICO\",\"NEW ZEALAND\",\"USA\",\"GREECE\",\"USA\",\"USA\",\"USA\",\"PANAMA\",\"GREECE\",\"CHINA\",\"USA\",\"ITALY\",\"PORTUGAL\",\"USA\",\"NEW ZEALAND\",\"USA\",\"TURKEY\",\"NEW ZEALAND\",\"GREECE\",\"USA\",\"NICARAGUA\",\"USA\",\"INDONESIA\",\"GREECE\",\"PAPUA NEW GUINEA\",\"FIJI\",\"IRAN\",\"NEW ZEALAND\",\"GUATEMALA\",\"GUATEMALA\",\"NEW ZEALAND\",\"NEW ZEALAND\",\"VENEZUELA\",\"PERU\",\"GREECE\",\"COLOMBIA\",\"CHILE\",\"INDONESIA\",\"PAPUA NEW GUINEA\",\"MARTINIQUE (FRENCH TERRITORY)\",\"MARTINIQUE (FRENCH TERRITORY)\",\"USA\",\"SAMOA\",\"SAMOA\",\"SAMOA\",\"SAMOA\",\"SAMOA\",\"SAMOA\",\"SAMOA\",\"TONGA\",\"INDONESIA\",\"ICELAND\",\"INDONESIA\",\"INDONESIA\",\"INDONESIA\",\"PHILIPPINES\",\"CONGO\",\"GRENADA\",\"RUSSIA\",\"SOLOMON ISLANDS\",\"PAPUA NEW GUINEA\",\"RUSSIA\",\"VANUATU\",\"INDONESIA\",\"GRENADA\",\"SOLOMON ISLANDS\",\"ANTARCTICA\",\"PHILIPPINES\",\"PAPUA NEW GUINEA\",\"INDONESIA\",\"USA\",\"INDONESIA\",\"ITALY\",\"USA\",\"USA\",\"USA\",\"USA TERRITORY\",\"DOMINICAN REPUBLIC\",\"MICRONESIA, FED. STATES OF\",\"USA\",\"MEXICO\",\"USA\",\"CHILE\",\"USA\",\"USA\",\"USA\",\"PORTUGAL\",\"USA\",\"NEW ZEALAND\",\"USA\",\"USA\",\"USA\",\"USA\",\"ARGENTINA\",\"USA\",\"ITALY\",\"USA TERRITORY\",\"SOUTH AFRICA\",\"ITALY\",\"JAPAN\",\"GREECE\",\"USA\",\"USA\",\"USA\",\"SOUTH KOREA\",\"SOUTH KOREA\",\"SOUTH KOREA\",\"USA\",\"SOUTH KOREA\",\"UK\",\"SCOTLAND\",\"NETHERLANDS\",\"SPAIN\",\"JAPAN\",\"NORWAY\",\"CANADA\",\"CANADA\",\"NEW ZEALAND\",\"TRINIDAD AND TOBAGO\",\"USA\",\"USA\",\"USA\",\"USA\",\"USA\",\"NORWAY\",\"NORWAY\",\"SPAIN\",\"USA\",\"USA\",\"NORWAY\",\"USA\",\"USA\",\"USA\",\"USA\",\"USA\",\"USA\",\"USA\",\"USA\",\"USA\",\"SWEDEN\",\"PAPUA NEW GUINEA\",\"NORWAY\",\"VENEZUELA\",\"PORTUGAL\",\"SOUTH AFRICA\",\"CHINA\",\"RUSSIA\",\"RUSSIA\",\"RUSSIA\",\"USA\",\"NEW ZEALAND\",\"FRANCE\",\"BULGARIA\",\"CHINA\",\"CHINA\",\"USA\",\"USA\",\"PERU\",\"NORWAY\",\"NORWAY\",\"CHINA\",\"ICELAND\",\"CHINA\",\"VIETNAM\",\"RUSSIA\",\"CANADA\",\"CHILE\",\"VIETNAM\",\"INDONESIA\",\"CAMEROON\"],\"lat\":[1.82,-5.0,-4.0,11.0,43.4,14.0,11.0,51.45,14.0,40.75,24.6,7.5,14.0,-3.0,38.1,16.7,null,-20.2,-28.5,7.0,52.0,-3.6,-40.4,-7.7,9.2,39.66,9.85,19.0,null,33.0,37.4,42.0,-17.7,-17.7,11.0,37.3,3.9,-18.5,-33.0,-4.0,6.5,-18.0,3.0,17.0,-3.1,-2.0,44.0,-21.0,-2.0,-26.5,-15.5,16.8,41.8,-4.25,-14.0,4.0,9.0,40.9,-4.25,9.0,-20.0,37.928,40.5,7.0,null,-41.8,-16.6,-17.0,-12.0,43.5,-17.0,-3.924,38.4,-3.644,38.5,null,14.0,-1.0,18.0,-4.739,null,10.46,-7.0,24.47,56.5,6.0,-3.705,-29.0,-28.5,26.9,18.441,8.0,-19.6,-4.806,12.33,10.6,-2.55,44.0,0.87,-6.5,-38.0,-19.919,36.601,40.5,0.7,40.13,8.0,-16.5,-7.111,-3.3,10.2,9.0,-1.0,5.5,37.5,24.5,-28.0,-43.0,40.482,6.5,9.3,-18.5,-4.653,-4.539,9.587,49.179,-56.0,64.15,8.5,-8.0,9.3,-26.0,12.2,13.0,18.5,-10.061,20.5,-0.7,49.21,36.5,37.973,-28.0,59.0,32.0,44.3,-44.6,-0.7,49.0,38.1,-13.0,38.0,38.0,38.0,-13.0,39.6,40.8,-19.83,12.4,-5.5,-22.5,-35.0,7.0,51.0,8.5,42.9,32.2,36.0,-5.6,-9.3,1.2,-4.423,-4.05,-28.5,-39.5,-39.5,-32.5,54.0,-3.417,-5.0,19.706,null,-3.57,-39.0,40.5,10.5,-20.0,36.759,6.9,-2.0,-5.0,26.773,66.0,8.0,-11.907,-11.139,-19.5,-4.2,29.5,-3.824,5.5,28.7,0.001,6.1,55.2,14.5,56.0,-3.0,-3.0,-5.1,-6.0,-36.25,38.5,-7.08,-27.0,-9.295,13.5,5.568,22.2,0.0,38.067,-10.5,-22.0,-41.5,35.221,40.5,38.3,4.6,39.509,-26.5,-14.0,51.5,10.714,37.2,6.0,22.0,-22.5,38.2,-38.0,5.0,38.718,17.0,-54.0,-54.0,17.0,-53.5,-37.8,6.5,9.71,28.5,-3.8,-10.0,-18.25,-14.25,-3.252,26.7,10.088,-18.5,-12.0,50.0,-4.449,-36.5,19.8,38.1,38.3,34.741,null,11.46,39.4,6.5,-6.9,26.6,-5.1,-19.0,-38.9,36.8,39.5,-25.5,-1.5,-23.5,-8.2,-2.0,31.5,-4.5,48.6,-50.0,44.2,-4.0,44.3,52.0,-15.75,30.5,-9.4,-38.5,-6.8,-9.43,36.693,-18.421,-9.849,-36.7,-36.7,43.3,8.008,17.2,41.8,39.8,52.47,-10.385,-6.4,-24.8,40.4,-5.7,-25.67,39.4,-31.81,-15.9,-42.9,24.1,-10.343,45.53,-3.7,5.5,-10.6,-28.78,-21.7,44.08,-30.8,16.519,33.3,10.697,15.573,27.7,15.78,43.0,-52.0,-22.28,-44.64,20.6,-20.94,51.5,-30.5,6.5,-30.6,-38.5,35.1,-5.0,-29.9,7.4,-1.081,-25.856,8.249,40.739,22.282,16.01,41.956,34.53,-16.76,38.209,13.752,4.374,-9.265,38.026,8.677,40.142,-2.823,-9.245,52.327,-10.717,-14.074,25.149,26.755,36.788,18.986,39.837,45.533,32.536,-14.385,-28.886,34.213,23.959,-10.777,16.779,10.598,-62.877,-2.071,13.049,23.346,-1.757,39.16,15.775,31.394,14.944,-19.941,30.98,-0.691,14.099,25.93,46.221,18.081,34.4,1.893,31.529,-5.462,-16.043,-55.285,-8.24,-8.337,10.773,-4.051,-7.282,35.193,16.325,18.308,-38.808,36.0,40.092,59.5,61.0,60.5,7.1,38.582,23.5,60.0,38.567,38.7,57.69,-41.75,34.03,40.62,-38.85,36.808,47.167,13.0,44.712,5.8,38.384,-6.5,-18.672,36.957,-43.583,14.71,14.0,-39.12,-40.5,10.6,-14.0,null,8.9,-41.755,-6.102,-5.52,14.82,14.82,null,-13.612,-13.612,-13.612,-13.612,-13.612,-13.612,-13.612,-21.38,3.138,63.63,3.138,-6.102,-6.102,12.77,-1.408,12.3,48.092,-9.02,-2.4,55.978,-16.829,-8.342,12.3,-10.38,-63.0,19.077,-5.52,-8.54,46.2,-8.54,38.789,null,null,null,-14.18,null,10.0,32.5,17.0,null,-23.7,39.35,33.616,33.7,null,19.5,null,null,39.95,38.933,43.1,-38.0,41.7,null,null,null,null,null,37.133,null,44.4,null,null,null,null,43.8,null,50.5,null,null,null,null,61.866,50.42,45.77,null,10.5,42.0,39.314,58.204,44.233,null,62.267,62.333,28.48,null,null,63.433,null,null,null,null,null,null,40.8,null,59.621,59.4,-6.7,63.56,11.517,39.374,-35.616,29.95,45.22,54.841,45.12,34.5,-44.7,43.3,43.0,30.394,31.065,null,null,-9.282,59.05,59.05,31.256,65.02,31.077,15.317,50.559,50.97,-41.142,10.158,-8.058,6.25],\"legendgroup\":\"Less than 100\",\"lon\":[127.85,148.0,140.0,-66.0,28.5,121.6,-86.5,-171.02,-91.0,23.25,-107.9,123.5,143.3,127.5,13.4,-99.2,null,-70.15,-71.0,-79.0,159.0,128.7,176.4,109.0,-82.8,22.83,-84.68,-113.0,null,76.0,142.6,42.0,168.3,168.3,123.5,9.9,-77.033,-70.3,-72.0,149.0,0.3,-71.0,122.0,-100.0,142.5,100.0,34.0,-159.0,101.0,-70.5,167.2,-99.8,-112.7,152.25,166.5,127.0,125.5,20.8,152.25,126.0,-72.0,21.013,142.0,138.0,null,171.5,-73.3,-74.0,-76.6,10.2,-72.0,101.82,20.6,133.695,20.7,null,-89.0,136.0,119.5,152.548,null,-67.77,116.0,118.08,163.0,125.0,141.729,-177.5,-71.5,103.0,-67.214,126.0,-176.6,153.859,-88.291,-71.6,140.75,33.0,122.92,150.0,-73.5,168.53,105.317,19.5,117.9,124.38,127.0,-73.0,143.53,128.9,124.1,123.25,100.35,95.2,23.2,122.0,-72.0,173.0,-125.034,124.0,125.0,-70.3,154.232,153.107,-84.515,142.436,157.5,-21.95,126.5,115.0,122.7,-71.5,122.1,125.0,-107.0,159.215,-155.5,100.6,-2.131,23.3,-28.59,-71.0,3.0,35.5,34.0,-73.0,119.7,-125.0,27.4,-69.6,23.0,23.5,23.0,-69.5,29.1,26.8,-174.36,120.9,-79.0,-70.5,-72.0,124.0,-131.0,127.0,-78.3,119.4,-3.0,105.3,114.3,124.57,145.46,39.667,-71.0,177.0,177.0,-72.0,1.067,142.077,102.75,-75.691,null,128.35,177.5,23.9,-64.2,-71.0,27.299,0.6,-81.0,151.0,86.76,-18.25,-82.5,166.731,165.503,-69.5,152.2,66.8,141.416,94.0,103.6,98.25,94.7,164.0,121.5,162.5,132.3,132.3,153.1,147.8,-72.25,14.7,155.386,-70.5,159.234,121.25,-0.625,-79.1,123.0,13.467,-77.0,-71.0,-74.5,33.751,-125.25,12.2,-74.5,26.587,-70.5,-76.25,-174.5,122.235,121.8,95.0,-106.0,-69.0,20.0,-73.5,95.0,26.482,121.5,-71.0,-71.0,121.63,-71.5,177.2,-83.0,-69.819,96.5,128.3,159.5,167.5,-77.75,142.238,100.0,-85.211,169.25,-77.5,156.5,152.868,-72.5,-70.7,20.6,20.8,32.335,null,-69.57,23.1,94.0,155.7,101.8,152.924,-70.0,175.8,25.5,23.0,-71.0,137.0,-71.5,107.3,116.0,105.0,104.0,156.1,-115.0,148.8,-81.5,149.0,106.5,-72.75,-9.5,152.3,-75.1,-80.7,159.95,28.594,168.411,160.614,-73.0,-73.0,17.1,-82.757,-99.5,142.4,25.0,-168.54,-78.022,105.4,-176.6,139.0,150.7,-70.63,24.0,-71.26,166.8,-75.13,122.6,160.883,151.11,119.3,97.3,-79.8,-71.19,-69.5,8.0,-178.4,-97.739,132.2,-62.748,-92.536,34.0,121.71,47.1,-73.8,-70.55,173.62,122.0,-69.81,179.1,-71.8,126.6,-71.0,-73.4,72.9,130.0,-71.3,-78.1,146.23,-175.406,122.403,23.229,121.512,-96.591,19.023,24.437,179.984,23.288,124.358,97.755,118.479,20.228,-83.098,24.766,118.806,114.185,-174.504,162.33,167.828,95.127,86.616,2.448,-68.833,142.76,151.021,141.641,-178.252,-176.819,-118.537,122.448,113.366,-98.597,-63.486,149.527,124.891,-88.66,124.09,134.297,20.605,-61.744,140.131,-61.274,168.953,103.396,133.305,92.888,128.425,150.788,-102.182,25.02,126.522,140.213,151.875,167.379,-31.877,116.508,116.599,-62.902,152.597,104.791,26.256,-95.856,-102.923,175.906,-120.5,24.627,-135.5,-146.2,-149.0,-80.6,20.587,117.2,-146.0,14.833,-9.2,-136.07,172.25,-118.643,27.451,178.87,21.916,-122.617,-87.5,-111.215,95.4,22.545,146.6,178.464,49.409,172.68,-91.59,-91.0,177.2,175.0,-66.95,-78.0,null,-73.4,-72.396,105.423,148.121,-61.17,-61.17,null,-172.525,-172.525,-172.525,-172.525,-172.525,-172.525,-172.525,-175.65,125.491,-19.05,125.491,105.423,105.423,124.05,29.2,-61.63,153.2,157.95,147.4,160.587,168.536,115.508,-61.63,165.8,-60.5,122.202,148.121,123.59,-122.18,123.59,15.213,null,null,null,-169.66,null,138.0,-115.5,-104.0,null,-70.4,-74.417,-117.966,-118.2,null,-155.5,null,null,-74.12,-74.9,-82.4,-57.0,-86.883,null,null,null,null,null,26.833,null,-67.97,null,null,null,null,-69.7,null,-3.0,null,null,null,null,6.85,-121.35,-75.6,null,-61.2,-81.0,-74.525,-134.147,-68.35,null,7.4,6.967,-16.25,null,null,10.383,null,null,null,null,null,null,-73.1,null,-151.106,13.5,147.0,9.94,-69.5,-31.229,20.267,122.14,36.72,162.035,36.7,-120.65,169.2,5.37,29.0,110.16,109.92,null,null,-77.645,6.64,6.64,110.733,-16.7,109.896,108.249,131.472,-124.6,-72.396,109.014,114.242,10.5],\"marker\":{\"color\":\"#636efa\",\"size\":[0.5,0.5,0.5,0.5,0.5,0.5,0.5,0.5,0.5,0.5,0.5,0.5,0.5,0.5,0.5,0.5,0.5,0.5,0.5,0.5,0.5,0.5,0.5,0.5,0.5,0.5,0.5,0.5,0.5,0.5,0.5,0.5,0.5,0.5,0.5,0.5,0.5,0.5,0.5,0.5,0.5,0.5,0.5,0.5,0.5,0.5,0.5,0.5,0.5,0.5,0.5,0.5,0.5,0.5,0.5,0.5,0.5,0.5,0.5,0.5,0.5,0.5,0.5,0.5,0.5,0.5,0.5,0.5,0.5,0.5,0.5,0.5,0.5,0.5,0.5,0.5,0.5,0.5,0.5,0.5,0.5,0.5,0.5,0.5,0.5,0.5,0.5,0.5,0.5,0.5,0.5,0.5,0.5,0.5,0.5,0.5,0.5,0.5,0.5,0.5,0.5,0.5,0.5,0.5,0.5,0.5,0.5,0.5,0.5,0.5,0.5,0.5,0.5,0.5,0.5,0.5,0.5,0.5,0.5,0.5,0.5,0.5,0.5,0.5,0.5,0.5,0.5,0.5,0.5,0.5,0.5,0.5,0.5,0.5,0.5,0.5,0.5,0.5,0.5,0.5,0.5,0.5,0.5,0.5,0.5,0.5,0.5,0.5,0.5,0.5,0.5,0.5,0.5,0.5,0.5,0.5,0.5,0.5,0.5,0.5,0.5,0.5,0.5,0.5,0.5,0.5,0.5,0.5,0.5,0.5,0.5,0.5,0.5,0.5,0.5,0.5,0.5,0.5,0.5,0.5,0.5,0.5,0.5,0.5,0.5,0.5,0.5,0.5,0.5,0.5,0.5,0.5,0.5,0.5,0.5,0.5,0.5,0.5,0.5,0.5,0.5,0.5,0.5,0.5,0.5,0.5,0.5,0.5,0.5,0.5,0.5,0.5,0.5,0.5,0.5,0.5,0.5,0.5,0.5,0.5,0.5,0.5,0.5,0.5,0.5,0.5,0.5,0.5,0.5,0.5,0.5,0.5,0.5,0.5,0.5,0.5,0.5,0.5,0.5,0.5,0.5,0.5,0.5,0.5,0.5,0.5,0.5,0.5,0.5,0.5,0.5,0.5,0.5,0.5,0.5,0.5,0.5,0.5,0.5,0.5,0.5,0.5,0.5,0.5,0.5,0.5,0.5,0.5,0.5,0.5,0.5,0.5,0.5,0.5,0.5,0.5,0.5,0.5,0.5,0.5,0.5,0.5,0.5,0.5,0.5,0.5,0.5,0.5,0.5,0.5,0.5,0.5,0.5,0.5,0.5,0.5,0.5,0.5,0.5,0.5,0.5,0.5,0.5,0.5,0.5,0.5,0.5,0.5,0.5,0.5,0.5,0.5,0.5,0.5,0.5,0.5,0.5,0.5,0.5,0.5,0.5,0.5,0.5,0.5,0.5,0.5,0.5,0.5,0.5,0.5,0.5,0.5,0.5,0.5,0.5,0.5,0.5,0.5,0.5,0.5,0.5,0.5,0.5,0.5,0.5,0.5,0.5,0.5,0.5,0.5,0.5,0.5,0.5,0.5,0.5,0.5,0.5,0.5,0.5,0.5,0.5,0.5,0.5,0.5,0.5,0.5,0.5,0.5,0.5,0.5,0.5,0.5,0.5,0.5,0.5,0.5,0.5,0.5,0.5,0.5,0.5,0.5,0.5,0.5,0.5,0.5,0.5,0.5,0.5,0.5,0.5,0.5,0.5,0.5,0.5,0.5,0.5,0.5,0.5,0.5,0.5,0.5,0.5,0.5,0.5,0.5,0.5,0.5,0.5,0.5,0.5,0.5,0.5,0.5,0.5,0.5,0.5,0.5,0.5,0.5,0.5,0.5,0.5,0.5,0.5,0.5,0.5,0.5,0.5,0.5,0.5,0.5,0.5,0.5,0.5,0.5,0.5,0.5,0.5,0.5,0.5,0.5,0.5,0.5,0.5,0.5,0.5,0.5,0.5,0.5,0.5,0.5,0.5,0.5,0.5,0.5,0.5,0.5,0.5,0.5,0.5,0.5,0.5,0.5,0.5,0.5,0.5,0.5,0.5,0.5,0.5,0.5,0.5,0.5,0.5,0.5,0.5,0.5,0.5,0.5,0.5,0.5,0.5,0.5,0.5,0.5,0.5,0.5,0.5,0.5,0.5,0.5,0.5,0.5,0.5,0.5,0.5,0.5,0.5,0.5,0.5,0.5,0.5,0.5,0.5,0.5,0.5,0.5,0.5,0.5,0.5,0.5,0.5,0.5,0.5,0.5,0.5,0.5,0.5,0.5,0.5,0.5,0.5,0.5,0.5,0.5,0.5,0.5,0.5,0.5,0.5,0.5,0.5,0.5,0.5,0.5,0.5,0.5,0.5,0.5,0.5,0.5,0.5,0.5,0.5,0.5,0.5,0.5,0.5,0.5,0.5,0.5,0.5,0.5,0.5,0.5,0.5,0.5,0.5,0.5,0.5,0.5,0.5,0.5,0.5,0.5,0.5,0.5,0.5,0.5,0.5,0.5,0.5,0.5,0.5,0.5,0.5,0.5,0.5,0.5,0.5],\"sizemode\":\"area\",\"sizeref\":0.015},\"mode\":\"markers\",\"name\":\"Less than 100\",\"showlegend\":true,\"subplot\":\"mapbox\",\"type\":\"scattermapbox\"},{\"customdata\":[[13.5,-89.5,1.5]],\"hovertemplate\":\"\\u003cb\\u003e%{hovertext}\\u003c\\u002fb\\u003e\\u003cbr\\u003e\\u003cbr\\u003eNumber of Deaths=Between 500 and 100\\u003cextra\\u003e\\u003c\\u002fextra\\u003e\",\"hovertext\":[\"EL SALVADOR\"],\"lat\":[13.5],\"legendgroup\":\"Between 500 and 100\",\"lon\":[-89.5],\"marker\":{\"color\":\"#EF553B\",\"size\":[1.5],\"sizemode\":\"area\",\"sizeref\":0.015},\"mode\":\"markers\",\"name\":\"Between 500 and 100\",\"showlegend\":true,\"subplot\":\"mapbox\",\"type\":\"scattermapbox\"},{\"customdata\":[[46.267,12.329,6.0]],\"hovertemplate\":\"\\u003cb\\u003e%{hovertext}\\u003c\\u002fb\\u003e\\u003cbr\\u003e\\u003cbr\\u003eNumber of Deaths=Over 1000\\u003cextra\\u003e\\u003c\\u002fextra\\u003e\",\"hovertext\":[\"ITALY\"],\"lat\":[46.267],\"legendgroup\":\"Over 1000\",\"lon\":[12.329],\"marker\":{\"color\":\"#00cc96\",\"size\":[6.0],\"sizemode\":\"area\",\"sizeref\":0.015},\"mode\":\"markers\",\"name\":\"Over 1000\",\"showlegend\":true,\"subplot\":\"mapbox\",\"type\":\"scattermapbox\"},{\"customdata\":[[-11.116,-76.5,3.5]],\"hovertemplate\":\"\\u003cb\\u003e%{hovertext}\\u003c\\u002fb\\u003e\\u003cbr\\u003e\\u003cbr\\u003eNumber of Deaths=Between 1000 and 500\\u003cextra\\u003e\\u003c\\u002fextra\\u003e\",\"hovertext\":[\"PERU\"],\"lat\":[-11.116],\"legendgroup\":\"Between 1000 and 500\",\"lon\":[-76.5],\"marker\":{\"color\":\"#ab63fa\",\"size\":[3.5],\"sizemode\":\"area\",\"sizeref\":0.015},\"mode\":\"markers\",\"name\":\"Between 1000 and 500\",\"showlegend\":true,\"subplot\":\"mapbox\",\"type\":\"scattermapbox\"}],                        {\"template\":{\"data\":{\"histogram2dcontour\":[{\"type\":\"histogram2dcontour\",\"colorbar\":{\"outlinewidth\":0,\"ticks\":\"\"},\"colorscale\":[[0.0,\"#0d0887\"],[0.1111111111111111,\"#46039f\"],[0.2222222222222222,\"#7201a8\"],[0.3333333333333333,\"#9c179e\"],[0.4444444444444444,\"#bd3786\"],[0.5555555555555556,\"#d8576b\"],[0.6666666666666666,\"#ed7953\"],[0.7777777777777778,\"#fb9f3a\"],[0.8888888888888888,\"#fdca26\"],[1.0,\"#f0f921\"]]}],\"choropleth\":[{\"type\":\"choropleth\",\"colorbar\":{\"outlinewidth\":0,\"ticks\":\"\"}}],\"histogram2d\":[{\"type\":\"histogram2d\",\"colorbar\":{\"outlinewidth\":0,\"ticks\":\"\"},\"colorscale\":[[0.0,\"#0d0887\"],[0.1111111111111111,\"#46039f\"],[0.2222222222222222,\"#7201a8\"],[0.3333333333333333,\"#9c179e\"],[0.4444444444444444,\"#bd3786\"],[0.5555555555555556,\"#d8576b\"],[0.6666666666666666,\"#ed7953\"],[0.7777777777777778,\"#fb9f3a\"],[0.8888888888888888,\"#fdca26\"],[1.0,\"#f0f921\"]]}],\"heatmap\":[{\"type\":\"heatmap\",\"colorbar\":{\"outlinewidth\":0,\"ticks\":\"\"},\"colorscale\":[[0.0,\"#0d0887\"],[0.1111111111111111,\"#46039f\"],[0.2222222222222222,\"#7201a8\"],[0.3333333333333333,\"#9c179e\"],[0.4444444444444444,\"#bd3786\"],[0.5555555555555556,\"#d8576b\"],[0.6666666666666666,\"#ed7953\"],[0.7777777777777778,\"#fb9f3a\"],[0.8888888888888888,\"#fdca26\"],[1.0,\"#f0f921\"]]}],\"heatmapgl\":[{\"type\":\"heatmapgl\",\"colorbar\":{\"outlinewidth\":0,\"ticks\":\"\"},\"colorscale\":[[0.0,\"#0d0887\"],[0.1111111111111111,\"#46039f\"],[0.2222222222222222,\"#7201a8\"],[0.3333333333333333,\"#9c179e\"],[0.4444444444444444,\"#bd3786\"],[0.5555555555555556,\"#d8576b\"],[0.6666666666666666,\"#ed7953\"],[0.7777777777777778,\"#fb9f3a\"],[0.8888888888888888,\"#fdca26\"],[1.0,\"#f0f921\"]]}],\"contourcarpet\":[{\"type\":\"contourcarpet\",\"colorbar\":{\"outlinewidth\":0,\"ticks\":\"\"}}],\"contour\":[{\"type\":\"contour\",\"colorbar\":{\"outlinewidth\":0,\"ticks\":\"\"},\"colorscale\":[[0.0,\"#0d0887\"],[0.1111111111111111,\"#46039f\"],[0.2222222222222222,\"#7201a8\"],[0.3333333333333333,\"#9c179e\"],[0.4444444444444444,\"#bd3786\"],[0.5555555555555556,\"#d8576b\"],[0.6666666666666666,\"#ed7953\"],[0.7777777777777778,\"#fb9f3a\"],[0.8888888888888888,\"#fdca26\"],[1.0,\"#f0f921\"]]}],\"surface\":[{\"type\":\"surface\",\"colorbar\":{\"outlinewidth\":0,\"ticks\":\"\"},\"colorscale\":[[0.0,\"#0d0887\"],[0.1111111111111111,\"#46039f\"],[0.2222222222222222,\"#7201a8\"],[0.3333333333333333,\"#9c179e\"],[0.4444444444444444,\"#bd3786\"],[0.5555555555555556,\"#d8576b\"],[0.6666666666666666,\"#ed7953\"],[0.7777777777777778,\"#fb9f3a\"],[0.8888888888888888,\"#fdca26\"],[1.0,\"#f0f921\"]]}],\"mesh3d\":[{\"type\":\"mesh3d\",\"colorbar\":{\"outlinewidth\":0,\"ticks\":\"\"}}],\"scatter\":[{\"marker\":{\"line\":{\"color\":\"#283442\"}},\"type\":\"scatter\"}],\"parcoords\":[{\"type\":\"parcoords\",\"line\":{\"colorbar\":{\"outlinewidth\":0,\"ticks\":\"\"}}}],\"scatterpolargl\":[{\"type\":\"scatterpolargl\",\"marker\":{\"colorbar\":{\"outlinewidth\":0,\"ticks\":\"\"}}}],\"bar\":[{\"error_x\":{\"color\":\"#f2f5fa\"},\"error_y\":{\"color\":\"#f2f5fa\"},\"marker\":{\"line\":{\"color\":\"rgb(17,17,17)\",\"width\":0.5},\"pattern\":{\"fillmode\":\"overlay\",\"size\":10,\"solidity\":0.2}},\"type\":\"bar\"}],\"scattergeo\":[{\"type\":\"scattergeo\",\"marker\":{\"colorbar\":{\"outlinewidth\":0,\"ticks\":\"\"}}}],\"scatterpolar\":[{\"type\":\"scatterpolar\",\"marker\":{\"colorbar\":{\"outlinewidth\":0,\"ticks\":\"\"}}}],\"histogram\":[{\"marker\":{\"pattern\":{\"fillmode\":\"overlay\",\"size\":10,\"solidity\":0.2}},\"type\":\"histogram\"}],\"scattergl\":[{\"marker\":{\"line\":{\"color\":\"#283442\"}},\"type\":\"scattergl\"}],\"scatter3d\":[{\"type\":\"scatter3d\",\"line\":{\"colorbar\":{\"outlinewidth\":0,\"ticks\":\"\"}},\"marker\":{\"colorbar\":{\"outlinewidth\":0,\"ticks\":\"\"}}}],\"scattermapbox\":[{\"type\":\"scattermapbox\",\"marker\":{\"colorbar\":{\"outlinewidth\":0,\"ticks\":\"\"}}}],\"scatterternary\":[{\"type\":\"scatterternary\",\"marker\":{\"colorbar\":{\"outlinewidth\":0,\"ticks\":\"\"}}}],\"scattercarpet\":[{\"type\":\"scattercarpet\",\"marker\":{\"colorbar\":{\"outlinewidth\":0,\"ticks\":\"\"}}}],\"carpet\":[{\"aaxis\":{\"endlinecolor\":\"#A2B1C6\",\"gridcolor\":\"#506784\",\"linecolor\":\"#506784\",\"minorgridcolor\":\"#506784\",\"startlinecolor\":\"#A2B1C6\"},\"baxis\":{\"endlinecolor\":\"#A2B1C6\",\"gridcolor\":\"#506784\",\"linecolor\":\"#506784\",\"minorgridcolor\":\"#506784\",\"startlinecolor\":\"#A2B1C6\"},\"type\":\"carpet\"}],\"table\":[{\"cells\":{\"fill\":{\"color\":\"#506784\"},\"line\":{\"color\":\"rgb(17,17,17)\"}},\"header\":{\"fill\":{\"color\":\"#2a3f5f\"},\"line\":{\"color\":\"rgb(17,17,17)\"}},\"type\":\"table\"}],\"barpolar\":[{\"marker\":{\"line\":{\"color\":\"rgb(17,17,17)\",\"width\":0.5},\"pattern\":{\"fillmode\":\"overlay\",\"size\":10,\"solidity\":0.2}},\"type\":\"barpolar\"}],\"pie\":[{\"automargin\":true,\"type\":\"pie\"}]},\"layout\":{\"autotypenumbers\":\"strict\",\"colorway\":[\"#636efa\",\"#EF553B\",\"#00cc96\",\"#ab63fa\",\"#FFA15A\",\"#19d3f3\",\"#FF6692\",\"#B6E880\",\"#FF97FF\",\"#FECB52\"],\"font\":{\"color\":\"#f2f5fa\"},\"hovermode\":\"closest\",\"hoverlabel\":{\"align\":\"left\"},\"paper_bgcolor\":\"rgb(17,17,17)\",\"plot_bgcolor\":\"rgb(17,17,17)\",\"polar\":{\"bgcolor\":\"rgb(17,17,17)\",\"angularaxis\":{\"gridcolor\":\"#506784\",\"linecolor\":\"#506784\",\"ticks\":\"\"},\"radialaxis\":{\"gridcolor\":\"#506784\",\"linecolor\":\"#506784\",\"ticks\":\"\"}},\"ternary\":{\"bgcolor\":\"rgb(17,17,17)\",\"aaxis\":{\"gridcolor\":\"#506784\",\"linecolor\":\"#506784\",\"ticks\":\"\"},\"baxis\":{\"gridcolor\":\"#506784\",\"linecolor\":\"#506784\",\"ticks\":\"\"},\"caxis\":{\"gridcolor\":\"#506784\",\"linecolor\":\"#506784\",\"ticks\":\"\"}},\"coloraxis\":{\"colorbar\":{\"outlinewidth\":0,\"ticks\":\"\"}},\"colorscale\":{\"sequential\":[[0.0,\"#0d0887\"],[0.1111111111111111,\"#46039f\"],[0.2222222222222222,\"#7201a8\"],[0.3333333333333333,\"#9c179e\"],[0.4444444444444444,\"#bd3786\"],[0.5555555555555556,\"#d8576b\"],[0.6666666666666666,\"#ed7953\"],[0.7777777777777778,\"#fb9f3a\"],[0.8888888888888888,\"#fdca26\"],[1.0,\"#f0f921\"]],\"sequentialminus\":[[0.0,\"#0d0887\"],[0.1111111111111111,\"#46039f\"],[0.2222222222222222,\"#7201a8\"],[0.3333333333333333,\"#9c179e\"],[0.4444444444444444,\"#bd3786\"],[0.5555555555555556,\"#d8576b\"],[0.6666666666666666,\"#ed7953\"],[0.7777777777777778,\"#fb9f3a\"],[0.8888888888888888,\"#fdca26\"],[1.0,\"#f0f921\"]],\"diverging\":[[0,\"#8e0152\"],[0.1,\"#c51b7d\"],[0.2,\"#de77ae\"],[0.3,\"#f1b6da\"],[0.4,\"#fde0ef\"],[0.5,\"#f7f7f7\"],[0.6,\"#e6f5d0\"],[0.7,\"#b8e186\"],[0.8,\"#7fbc41\"],[0.9,\"#4d9221\"],[1,\"#276419\"]]},\"xaxis\":{\"gridcolor\":\"#283442\",\"linecolor\":\"#506784\",\"ticks\":\"\",\"title\":{\"standoff\":15},\"zerolinecolor\":\"#283442\",\"automargin\":true,\"zerolinewidth\":2},\"yaxis\":{\"gridcolor\":\"#283442\",\"linecolor\":\"#506784\",\"ticks\":\"\",\"title\":{\"standoff\":15},\"zerolinecolor\":\"#283442\",\"automargin\":true,\"zerolinewidth\":2},\"scene\":{\"xaxis\":{\"backgroundcolor\":\"rgb(17,17,17)\",\"gridcolor\":\"#506784\",\"linecolor\":\"#506784\",\"showbackground\":true,\"ticks\":\"\",\"zerolinecolor\":\"#C8D4E3\",\"gridwidth\":2},\"yaxis\":{\"backgroundcolor\":\"rgb(17,17,17)\",\"gridcolor\":\"#506784\",\"linecolor\":\"#506784\",\"showbackground\":true,\"ticks\":\"\",\"zerolinecolor\":\"#C8D4E3\",\"gridwidth\":2},\"zaxis\":{\"backgroundcolor\":\"rgb(17,17,17)\",\"gridcolor\":\"#506784\",\"linecolor\":\"#506784\",\"showbackground\":true,\"ticks\":\"\",\"zerolinecolor\":\"#C8D4E3\",\"gridwidth\":2}},\"shapedefaults\":{\"line\":{\"color\":\"#f2f5fa\"}},\"annotationdefaults\":{\"arrowcolor\":\"#f2f5fa\",\"arrowhead\":0,\"arrowwidth\":1},\"geo\":{\"bgcolor\":\"rgb(17,17,17)\",\"landcolor\":\"rgb(17,17,17)\",\"subunitcolor\":\"#506784\",\"showland\":true,\"showlakes\":true,\"lakecolor\":\"rgb(17,17,17)\"},\"title\":{\"x\":0.05},\"updatemenudefaults\":{\"bgcolor\":\"#506784\",\"borderwidth\":0},\"sliderdefaults\":{\"bgcolor\":\"#C8D4E3\",\"borderwidth\":1,\"bordercolor\":\"rgb(17,17,17)\",\"tickwidth\":0},\"mapbox\":{\"style\":\"dark\"}}},\"mapbox\":{\"domain\":{\"x\":[0.0,1.0],\"y\":[0.0,1.0]},\"center\":{\"lat\":0,\"lon\":210},\"zoom\":0.5,\"style\":\"carto-positron\"},\"legend\":{\"title\":{\"text\":\"Number of Deaths\"},\"tracegroupgap\":0,\"itemsizing\":\"constant\"},\"margin\":{\"t\":60},\"title\":{\"text\":\"\\u003cb\\u003eWorld Tsunami's locations\",\"x\":0.5},\"width\":1000,\"height\":500},                        {\"responsive\": true}                    ).then(function(){\n                            \nvar gd = document.getElementById('f42c38d5-7d7a-480c-a556-050f336b941c');\nvar x = new MutationObserver(function (mutations, observer) {{\n        var display = window.getComputedStyle(gd).display;\n        if (!display || display === 'none') {{\n            console.log([gd, 'removed!']);\n            Plotly.purge(gd);\n            observer.disconnect();\n        }}\n}});\n\n// Listen for the removal of the full notebook cells\nvar notebookContainer = gd.closest('#notebook-container');\nif (notebookContainer) {{\n    x.observe(notebookContainer, {childList: true});\n}}\n\n// Listen for the clearing of the current output cell\nvar outputEl = gd.closest('.output');\nif (outputEl) {{\n    x.observe(outputEl, {childList: true});\n}}\n\n                        })                };                });            </script>        </div>"
     },
     "metadata": {},
     "output_type": "display_data"
    }
   ],
   "source": [
    "def cat_Deaths_size(Deaths):\n",
    "    if Deaths < 100:\n",
    "        return 0.5\n",
    "    elif Deaths >= 100 and Deaths < 500:\n",
    "        return 1.5\n",
    "    elif Deaths >= 500 and Deaths < 1000:\n",
    "        return 3.5\n",
    "    else:\n",
    "        return 6\n",
    "\n",
    "# Apply the function to the Age column using the apply() function\n",
    "df['Deaths_grp_size'] = df['Deaths'].apply(cat_Deaths_size)\n",
    "\n",
    "\n",
    "fig = px.scatter_mapbox(\n",
    "                        df[(df.Tsunami_Event_Validity<4) & (df.Tsunami_Event_Validity!=-1)],\n",
    "                        lat='Latitude',\n",
    "                        lon='Longitude',\n",
    "                        hover_name='Country',\n",
    "                        color='Deaths_grp',\n",
    "                        size='Deaths_grp_size',\n",
    "                        labels={\"Deaths_grp\": \"Number of Deaths\"},\n",
    "                        hover_data = {'Latitude':False,'Longitude':False,'Deaths_grp_size':False},\n",
    "                        #color_continuous_scale = px.colors.diverging.Geyser,\n",
    "                        center=dict(lat=0, lon=210), zoom=0.5,\n",
    "                        )\n",
    "\n",
    "fig.update_layout(\n",
    "                  mapbox_style=\"carto-positron\",\n",
    "                  width=1000, \n",
    "                  height=500,\n",
    "                  title_text=\"<b>World Tsunami's locations\",\n",
    "                  title_x=0.5\n",
    "                 )\n",
    "\n",
    "\n",
    "\n",
    "fig.show()"
   ]
  },
  {
   "cell_type": "markdown",
   "id": "f51dac42",
   "metadata": {},
   "source": [
    "* The majority of tsunamis occured around Pacific Ocean and Mediterranean Sea.  \n",
    "* The most fatal tsunamis occured at the east and southeast of asia.    \n",
    "* Interestingly, a significant number of tsunamis were recorded in the western part of North America, although most of them did not result in any fatalities."
   ]
  }
 ],
 "metadata": {
  "kernelspec": {
   "display_name": "Python 3 (ipykernel)",
   "language": "python",
   "name": "python3"
  },
  "language_info": {
   "codemirror_mode": {
    "name": "ipython",
    "version": 3
   },
   "file_extension": ".py",
   "mimetype": "text/x-python",
   "name": "python",
   "nbconvert_exporter": "python",
   "pygments_lexer": "ipython3",
   "version": "3.9.7"
  }
 },
 "nbformat": 4,
 "nbformat_minor": 5
}
